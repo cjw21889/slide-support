{
 "cells": [
  {
   "cell_type": "markdown",
   "id": "c7fefe09-a367-4633-a001-fb28881fa05c",
   "metadata": {},
   "source": [
    "# Data Sourcing With Pandas"
   ]
  },
  {
   "cell_type": "code",
   "execution_count": 1,
   "id": "99210ec5-3df8-4f9c-989a-44ef5bcd81c4",
   "metadata": {},
   "outputs": [],
   "source": [
    "%load_ext autoreload\n",
    "%autoreload 2"
   ]
  },
  {
   "cell_type": "code",
   "execution_count": 2,
   "id": "19ba5120-63ea-46f9-b38c-b1b12d0d4c95",
   "metadata": {},
   "outputs": [],
   "source": [
    "import matplotlib\n",
    "import numpy as np\n",
    "import pandas as pd"
   ]
  },
  {
   "cell_type": "markdown",
   "id": "3047d346-f440-4c81-9024-29c50044beea",
   "metadata": {},
   "source": [
    "## Reading CSV's - The Easy Way"
   ]
  },
  {
   "cell_type": "code",
   "execution_count": 3,
   "id": "4f204e0e-6687-4ab9-93e4-02c0538c4779",
   "metadata": {},
   "outputs": [
    {
     "name": "stdout",
     "output_type": "stream",
     "text": [
      "\u001b[01;34m.\u001b[00m\n",
      "├── Data\\ Sourcing\\ PT.ipynb\n",
      "└── \u001b[01;34mdata\u001b[00m\n",
      "    ├── soccer.sqlite\n",
      "    └── spotify_2017.csv\n",
      "\n",
      "1 directory, 3 files\n"
     ]
    }
   ],
   "source": [
    "!tree"
   ]
  },
  {
   "cell_type": "code",
   "execution_count": 4,
   "id": "2fbf20b5-4030-4704-bff8-abc8cc0591f2",
   "metadata": {},
   "outputs": [],
   "source": [
    "tracks_df = pd.read_csv('data/spotify_2017.csv')"
   ]
  },
  {
   "cell_type": "code",
   "execution_count": 5,
   "id": "f9664a8e-6548-42a2-ab5c-6f5a4bb719cb",
   "metadata": {},
   "outputs": [
    {
     "data": {
      "text/html": [
       "<div>\n",
       "<style scoped>\n",
       "    .dataframe tbody tr th:only-of-type {\n",
       "        vertical-align: middle;\n",
       "    }\n",
       "\n",
       "    .dataframe tbody tr th {\n",
       "        vertical-align: top;\n",
       "    }\n",
       "\n",
       "    .dataframe thead th {\n",
       "        text-align: right;\n",
       "    }\n",
       "</style>\n",
       "<table border=\"1\" class=\"dataframe\">\n",
       "  <thead>\n",
       "    <tr style=\"text-align: right;\">\n",
       "      <th></th>\n",
       "      <th>id</th>\n",
       "      <th>name</th>\n",
       "      <th>artists</th>\n",
       "      <th>danceability</th>\n",
       "      <th>energy</th>\n",
       "      <th>key</th>\n",
       "      <th>loudness</th>\n",
       "      <th>mode</th>\n",
       "      <th>speechiness</th>\n",
       "      <th>acousticness</th>\n",
       "      <th>instrumentalness</th>\n",
       "      <th>liveness</th>\n",
       "      <th>valence</th>\n",
       "      <th>tempo</th>\n",
       "      <th>duration_ms</th>\n",
       "      <th>time_signature</th>\n",
       "    </tr>\n",
       "  </thead>\n",
       "  <tbody>\n",
       "    <tr>\n",
       "      <th>0</th>\n",
       "      <td>7qiZfU4dY1lWllzX7mPBI</td>\n",
       "      <td>Shape of You</td>\n",
       "      <td>Ed Sheeran</td>\n",
       "      <td>0.825</td>\n",
       "      <td>0.652</td>\n",
       "      <td>1.0</td>\n",
       "      <td>-3.183</td>\n",
       "      <td>0.0</td>\n",
       "      <td>0.0802</td>\n",
       "      <td>0.5810</td>\n",
       "      <td>0.000000</td>\n",
       "      <td>0.0931</td>\n",
       "      <td>0.931</td>\n",
       "      <td>95.977</td>\n",
       "      <td>233713.0</td>\n",
       "      <td>4.0</td>\n",
       "    </tr>\n",
       "    <tr>\n",
       "      <th>1</th>\n",
       "      <td>5CtI0qwDJkDQGwXD1H1cL</td>\n",
       "      <td>Despacito - Remix</td>\n",
       "      <td>Luis Fonsi</td>\n",
       "      <td>0.694</td>\n",
       "      <td>0.815</td>\n",
       "      <td>2.0</td>\n",
       "      <td>-4.328</td>\n",
       "      <td>1.0</td>\n",
       "      <td>0.1200</td>\n",
       "      <td>0.2290</td>\n",
       "      <td>0.000000</td>\n",
       "      <td>0.0924</td>\n",
       "      <td>0.813</td>\n",
       "      <td>88.931</td>\n",
       "      <td>228827.0</td>\n",
       "      <td>4.0</td>\n",
       "    </tr>\n",
       "    <tr>\n",
       "      <th>2</th>\n",
       "      <td>4aWmUDTfIPGksMNLV2rQP</td>\n",
       "      <td>Despacito (Featuring Daddy Yankee)</td>\n",
       "      <td>Luis Fonsi</td>\n",
       "      <td>0.660</td>\n",
       "      <td>0.786</td>\n",
       "      <td>2.0</td>\n",
       "      <td>-4.757</td>\n",
       "      <td>1.0</td>\n",
       "      <td>0.1700</td>\n",
       "      <td>0.2090</td>\n",
       "      <td>0.000000</td>\n",
       "      <td>0.1120</td>\n",
       "      <td>0.846</td>\n",
       "      <td>177.833</td>\n",
       "      <td>228200.0</td>\n",
       "      <td>4.0</td>\n",
       "    </tr>\n",
       "    <tr>\n",
       "      <th>3</th>\n",
       "      <td>6RUKPb4LETWmmr3iAEQkt</td>\n",
       "      <td>Something Just Like This</td>\n",
       "      <td>The Chainsmokers</td>\n",
       "      <td>0.617</td>\n",
       "      <td>0.635</td>\n",
       "      <td>11.0</td>\n",
       "      <td>-6.769</td>\n",
       "      <td>0.0</td>\n",
       "      <td>0.0317</td>\n",
       "      <td>0.0498</td>\n",
       "      <td>0.000014</td>\n",
       "      <td>0.1640</td>\n",
       "      <td>0.446</td>\n",
       "      <td>103.019</td>\n",
       "      <td>247160.0</td>\n",
       "      <td>4.0</td>\n",
       "    </tr>\n",
       "    <tr>\n",
       "      <th>4</th>\n",
       "      <td>3DXncPQOG4VBw3QHh3S81</td>\n",
       "      <td>I'm the One</td>\n",
       "      <td>DJ Khaled</td>\n",
       "      <td>0.609</td>\n",
       "      <td>0.668</td>\n",
       "      <td>7.0</td>\n",
       "      <td>-4.284</td>\n",
       "      <td>1.0</td>\n",
       "      <td>0.0367</td>\n",
       "      <td>0.0552</td>\n",
       "      <td>0.000000</td>\n",
       "      <td>0.1670</td>\n",
       "      <td>0.811</td>\n",
       "      <td>80.924</td>\n",
       "      <td>288600.0</td>\n",
       "      <td>4.0</td>\n",
       "    </tr>\n",
       "  </tbody>\n",
       "</table>\n",
       "</div>"
      ],
      "text/plain": [
       "                      id                                name  \\\n",
       "0  7qiZfU4dY1lWllzX7mPBI                        Shape of You   \n",
       "1  5CtI0qwDJkDQGwXD1H1cL                   Despacito - Remix   \n",
       "2  4aWmUDTfIPGksMNLV2rQP  Despacito (Featuring Daddy Yankee)   \n",
       "3  6RUKPb4LETWmmr3iAEQkt            Something Just Like This   \n",
       "4  3DXncPQOG4VBw3QHh3S81                         I'm the One   \n",
       "\n",
       "            artists  danceability  energy   key  loudness  mode  speechiness  \\\n",
       "0        Ed Sheeran         0.825   0.652   1.0    -3.183   0.0       0.0802   \n",
       "1        Luis Fonsi         0.694   0.815   2.0    -4.328   1.0       0.1200   \n",
       "2        Luis Fonsi         0.660   0.786   2.0    -4.757   1.0       0.1700   \n",
       "3  The Chainsmokers         0.617   0.635  11.0    -6.769   0.0       0.0317   \n",
       "4         DJ Khaled         0.609   0.668   7.0    -4.284   1.0       0.0367   \n",
       "\n",
       "   acousticness  instrumentalness  liveness  valence    tempo  duration_ms  \\\n",
       "0        0.5810          0.000000    0.0931    0.931   95.977     233713.0   \n",
       "1        0.2290          0.000000    0.0924    0.813   88.931     228827.0   \n",
       "2        0.2090          0.000000    0.1120    0.846  177.833     228200.0   \n",
       "3        0.0498          0.000014    0.1640    0.446  103.019     247160.0   \n",
       "4        0.0552          0.000000    0.1670    0.811   80.924     288600.0   \n",
       "\n",
       "   time_signature  \n",
       "0             4.0  \n",
       "1             4.0  \n",
       "2             4.0  \n",
       "3             4.0  \n",
       "4             4.0  "
      ]
     },
     "execution_count": 5,
     "metadata": {},
     "output_type": "execute_result"
    }
   ],
   "source": [
    "tracks_df.head()"
   ]
  },
  {
   "cell_type": "code",
   "execution_count": 6,
   "id": "e5e3f280-2eed-48d6-aaba-2f6b8e567404",
   "metadata": {},
   "outputs": [],
   "source": [
    "# Saving a csv is just as easy\n",
    "tracks_df.to_csv('data/new_spotify.csv')"
   ]
  },
  {
   "cell_type": "code",
   "execution_count": 7,
   "id": "a8ec7626-3077-4832-9f13-261cfa099367",
   "metadata": {},
   "outputs": [
    {
     "name": "stdout",
     "output_type": "stream",
     "text": [
      "\u001b[01;34m.\u001b[00m\n",
      "├── Data\\ Sourcing\\ PT.ipynb\n",
      "└── \u001b[01;34mdata\u001b[00m\n",
      "    ├── new_spotify.csv\n",
      "    ├── soccer.sqlite\n",
      "    └── spotify_2017.csv\n",
      "\n",
      "1 directory, 4 files\n"
     ]
    }
   ],
   "source": [
    "!tree"
   ]
  },
  {
   "cell_type": "markdown",
   "id": "7df1f2ba-06ab-4748-ba7e-b3de68fc46a7",
   "metadata": {},
   "source": [
    "## API's - again"
   ]
  },
  {
   "cell_type": "code",
   "execution_count": 8,
   "id": "dc588e02-3472-4062-b69a-43cd30af9c28",
   "metadata": {},
   "outputs": [],
   "source": [
    "import requests"
   ]
  },
  {
   "cell_type": "code",
   "execution_count": 9,
   "id": "c075c535-61b4-48eb-9ec3-24837acfbc8f",
   "metadata": {},
   "outputs": [],
   "source": [
    "artist = 'Ed Sheeran'\n",
    "title = 'Shape of You'\n",
    "url = 'https://lyrics.lewagon.ai/search?'\n",
    "params_dict = {'artist': artist, 'title':title}\n",
    "response = requests.get(url, params=params_dict)"
   ]
  },
  {
   "cell_type": "code",
   "execution_count": 13,
   "id": "705d2cca-a105-4eb2-a6e0-6743d301aee5",
   "metadata": {},
   "outputs": [
    {
     "data": {
      "text/plain": [
       "<Response [200]>"
      ]
     },
     "execution_count": 13,
     "metadata": {},
     "output_type": "execute_result"
    }
   ],
   "source": [
    "# What is response?\n",
    "response"
   ]
  },
  {
   "cell_type": "code",
   "execution_count": 14,
   "id": "2ecae04c-ed63-441c-8502-3b36d2e8cf7d",
   "metadata": {},
   "outputs": [
    {
     "data": {
      "text/plain": [
       "'https://lyrics.lewagon.ai/search?artist=Ed+Sheeran&title=Shape+of+You'"
      ]
     },
     "execution_count": 14,
     "metadata": {},
     "output_type": "execute_result"
    }
   ],
   "source": [
    "# How can I check my repsonse in the browser?\n",
    "response.url"
   ]
  },
  {
   "cell_type": "code",
   "execution_count": 18,
   "id": "bd8d1440-f785-42fe-a40f-8278ae10ed47",
   "metadata": {},
   "outputs": [
    {
     "name": "stdout",
     "output_type": "stream",
     "text": [
      "<Response [200]>\n"
     ]
    }
   ],
   "source": [
    "# What are some ways to protect for a bad response?\n",
    "# if response.status_code == 200:\n",
    "#     print(response)\n",
    "\n",
    "if response.ok:\n",
    "    print(response)\n",
    "    "
   ]
  },
  {
   "cell_type": "code",
   "execution_count": 23,
   "id": "8623a1b5-98b6-44e9-8885-132610e2231b",
   "metadata": {},
   "outputs": [
    {
     "data": {
      "text/plain": [
       "{'lyrics': \"The club isn't the best place to find a lover\\nSo the bar is where I go (mmmm)\\nMe and my friends at the table doing shots\\nDrinking fast and then we talk slow (mmmm)\\nAnd you come over and start up a conversation with just me\\nAnd trust me I'll give it a chance now (mmmm)\\nTake my hand, stop, put Van The Man on the jukebox\\nAnd then we start to dance\\nAnd now I'm singing like\\n\\nGirl, you know I want your love\\nYour love was handmade for somebody like me\\nCome on now, follow my lead\\nI may be crazy, don't mind me\\nSay, boy, let's not talk too much\\nGrab on my waist and put that body on me\\nCome on now, follow my lead\\nCome, come on now, follow my lead (mmmm)\\n\\nI'm in love with the shape of you\\nWe push and pull like a magnet do\\nAlthough my heart is falling too\\nI'm in love with your body\\nLast night you were in my room\\nAnd now my bedsheets smell like you\\nEvery day discovering something brand new\\nI'm in love with your body\\n\\nOh I oh I oh I oh I\\nI'm in love with your body\\nOh I oh I oh I oh I\\nI'm in love with your body\\nOh I oh I oh I oh I\\nI'm in love with your body\\nEvery day discovering something brand new\\nI'm in love with the shape of you\\n\\nOne week in we let the story begin\\nWe're going out on our first date (mmmm)\\nYou and me are thrifty, so go all you can eat\\nFill up your bag and I fill up a plate (mmmm)\\nWe talk for hours and hours about the sweet and the sour\\nAnd how your family is doing okay (mmmm)\\nAnd leave and get in a taxi, then kiss in the backseat\\nTell the driver make the radio play\\nAnd I'm singing like\\n\\nGirl, you know I want your love\\nYour love was handmade for somebody like me\\nCome on now, follow my lead\\nI may be crazy, don't mind me\\nSay, boy, let's not talk too much\\nGrab on my waist and put that body on me\\nCome on now, follow my lead\\nCome, come on now, follow my lead (mmmm)\\n\\nI'm in love with the shape of you\\nWe push and pull like a magnet do\\nAlthough my heart is falling too\\nI'm in love with your body\\nLast night you were in my room\\nAnd now my bedsheets smell like you\\nEvery day discovering something brand new\\nI'm in love with your body\\n\\nOh I oh I oh I oh I\\nI'm in love with your body\\nOh I oh I oh I oh I\\nI'm in love with your body\\nOh I oh I oh I oh I\\nI'm in love with your body\\nEvery day discovering something brand new\\nI'm in love with the shape of you\\n\\nCome on, be my baby, come on\\nCome on, be my baby, come on\\nCome on, be my baby, come on\\nCome on, be my baby, come on\\nCome on, be my baby, come on\\nCome on, be my baby, come on\\nCome on, be my baby, come on\\nCome on, be my baby, come on\\n\\nI'm in love with the shape of you\\nWe push and pull like a magnet do\\nAlthough my heart is falling too\\nI'm in love with your body\\nLast night you were in my room\\nAnd now my bedsheets smell like you\\nEvery day discovering something brand new\\nI'm in love with your body\\n\\nCome on, be my baby, come on\\nCome on, be my baby, come on\\nI'm in love with your body\\nCome on, be my baby, come on\\nCome on, be my baby, come on\\nI'm in love with your body\\nCome on, be my baby, come on\\nCome on, be my baby, come on\\nI'm in love with your body\\nEvery day discovering something brand new\\nI'm in love with the shape of you\"}"
      ]
     },
     "execution_count": 23,
     "metadata": {},
     "output_type": "execute_result"
    }
   ],
   "source": [
    "# How do we convert our object into useable code?\n",
    "response.json()"
   ]
  },
  {
   "cell_type": "markdown",
   "id": "da4ecfdb-a70b-494e-9a5a-6c087bfbe2b0",
   "metadata": {},
   "source": [
    "## SQL again "
   ]
  },
  {
   "cell_type": "code",
   "execution_count": 24,
   "id": "ce868827-b8a4-4296-8b17-92396b513474",
   "metadata": {},
   "outputs": [],
   "source": [
    "import pandas as pd\n",
    "import sqlite3\n",
    "conn = sqlite3.connect(\"data/soccer.sqlite\")"
   ]
  },
  {
   "cell_type": "code",
   "execution_count": 25,
   "id": "a3716dda-7579-4044-9448-cd7a44cb5c3a",
   "metadata": {},
   "outputs": [],
   "source": [
    "query =  '''\n",
    "    SELECT l.id, l.name, c.name as country_name\n",
    "    FROM League l\n",
    "    JOIN Country c ON c.id = l.country_id\n",
    "    '''"
   ]
  },
  {
   "cell_type": "code",
   "execution_count": 26,
   "id": "c319ea91-183d-4080-b7ba-0c5d515b71cf",
   "metadata": {},
   "outputs": [
    {
     "name": "stdout",
     "output_type": "stream",
     "text": [
      "[(1, 'Belgium Jupiler League', 'Belgium'), (1729, 'England Premier League', 'England'), (4769, 'France Ligue 1', 'France'), (7809, 'Germany 1. Bundesliga', 'Germany'), (10257, 'Italy Serie A', 'Italy'), (13274, 'Netherlands Eredivisie', 'Netherlands'), (15722, 'Poland Ekstraklasa', 'Poland'), (17642, 'Portugal Liga ZON Sagres', 'Portugal'), (19694, 'Scotland Premier League', 'Scotland'), (21518, 'Spain LIGA BBVA', 'Spain'), (24558, 'Switzerland Super League', 'Switzerland')]\n"
     ]
    }
   ],
   "source": [
    "# LONG Python with annoying result\n",
    "cursor = conn.cursor()\n",
    "cursor.execute(query)\n",
    "result = cursor.fetchall()\n",
    "print(result)"
   ]
  },
  {
   "cell_type": "code",
   "execution_count": 27,
   "id": "87aa2218-4ae1-4c54-8dd5-fa54643ed4d8",
   "metadata": {},
   "outputs": [
    {
     "data": {
      "text/html": [
       "<div>\n",
       "<style scoped>\n",
       "    .dataframe tbody tr th:only-of-type {\n",
       "        vertical-align: middle;\n",
       "    }\n",
       "\n",
       "    .dataframe tbody tr th {\n",
       "        vertical-align: top;\n",
       "    }\n",
       "\n",
       "    .dataframe thead th {\n",
       "        text-align: right;\n",
       "    }\n",
       "</style>\n",
       "<table border=\"1\" class=\"dataframe\">\n",
       "  <thead>\n",
       "    <tr style=\"text-align: right;\">\n",
       "      <th></th>\n",
       "      <th>id</th>\n",
       "      <th>name</th>\n",
       "      <th>country_name</th>\n",
       "    </tr>\n",
       "  </thead>\n",
       "  <tbody>\n",
       "    <tr>\n",
       "      <th>0</th>\n",
       "      <td>1</td>\n",
       "      <td>Belgium Jupiler League</td>\n",
       "      <td>Belgium</td>\n",
       "    </tr>\n",
       "    <tr>\n",
       "      <th>1</th>\n",
       "      <td>1729</td>\n",
       "      <td>England Premier League</td>\n",
       "      <td>England</td>\n",
       "    </tr>\n",
       "    <tr>\n",
       "      <th>2</th>\n",
       "      <td>4769</td>\n",
       "      <td>France Ligue 1</td>\n",
       "      <td>France</td>\n",
       "    </tr>\n",
       "    <tr>\n",
       "      <th>3</th>\n",
       "      <td>7809</td>\n",
       "      <td>Germany 1. Bundesliga</td>\n",
       "      <td>Germany</td>\n",
       "    </tr>\n",
       "    <tr>\n",
       "      <th>4</th>\n",
       "      <td>10257</td>\n",
       "      <td>Italy Serie A</td>\n",
       "      <td>Italy</td>\n",
       "    </tr>\n",
       "  </tbody>\n",
       "</table>\n",
       "</div>"
      ],
      "text/plain": [
       "      id                    name country_name\n",
       "0      1  Belgium Jupiler League      Belgium\n",
       "1   1729  England Premier League      England\n",
       "2   4769          France Ligue 1       France\n",
       "3   7809   Germany 1. Bundesliga      Germany\n",
       "4  10257           Italy Serie A        Italy"
      ]
     },
     "execution_count": 27,
     "metadata": {},
     "output_type": "execute_result"
    }
   ],
   "source": [
    "# SHORT Pandas with beautiful result\n",
    "league_df = pd.read_sql(query, conn)\n",
    "league_df.head()"
   ]
  },
  {
   "cell_type": "markdown",
   "id": "1f5bd1d3-cde3-407a-b33c-150fd2d95b2c",
   "metadata": {},
   "source": [
    "## Scraping"
   ]
  },
  {
   "cell_type": "code",
   "execution_count": 1,
   "id": "5353b1b9-28c7-43df-abc2-74428884ccfc",
   "metadata": {},
   "outputs": [],
   "source": [
    "from bs4 import BeautifulSoup\n",
    "import requests\n",
    "import re"
   ]
  },
  {
   "cell_type": "code",
   "execution_count": 2,
   "id": "1ddf6c07-ac75-4c80-96e9-7fbc380a87fb",
   "metadata": {},
   "outputs": [],
   "source": [
    "url = 'https://www.imdb.com/list/ls055386972/'\n",
    "response = requests.get(url)"
   ]
  },
  {
   "cell_type": "code",
   "execution_count": 3,
   "id": "a2e1b2e4-5a87-41d3-ad9a-a81ed0a63874",
   "metadata": {},
   "outputs": [
    {
     "data": {
      "text/plain": [
       "<Response [200]>"
      ]
     },
     "execution_count": 3,
     "metadata": {},
     "output_type": "execute_result"
    }
   ],
   "source": [
    "# what is our response?\n",
    "response"
   ]
  },
  {
   "cell_type": "code",
   "execution_count": 41,
   "id": "0db537aa-74df-449f-9993-0cd1e7b09820",
   "metadata": {},
   "outputs": [],
   "source": [
    "# how can we see the raw results from the response?\n",
    "# LONG printout\n",
    "# response.content"
   ]
  },
  {
   "cell_type": "code",
   "execution_count": 4,
   "id": "5ffdbae8-7456-4308-bc85-b4c500e9ab23",
   "metadata": {},
   "outputs": [],
   "source": [
    "# how do we turn this into useable code?\n",
    "soup = BeautifulSoup(response.content, 'html.parser')"
   ]
  },
  {
   "cell_type": "code",
   "execution_count": 6,
   "id": "a8736a35-e042-4cff-bf8c-11ac05fe4b69",
   "metadata": {},
   "outputs": [],
   "source": [
    "# soup"
   ]
  },
  {
   "cell_type": "code",
   "execution_count": 7,
   "id": "ef85ce2e-4e55-4083-866f-7447849fe269",
   "metadata": {},
   "outputs": [
    {
     "data": {
      "text/plain": [
       "<div class=\"lister-item-content\">\n",
       "<h3 class=\"lister-item-header\">\n",
       "<span class=\"lister-item-index unbold text-primary\">2.</span>\n",
       "<a href=\"/title/tt0108052/\">Schindler's List</a>\n",
       "<span class=\"lister-item-year text-muted unbold\">(1993)</span>\n",
       "</h3>\n",
       "<p class=\"text-muted text-small\">\n",
       "<span class=\"certificate\">15</span>\n",
       "<span class=\"ghost\">|</span>\n",
       "<span class=\"runtime\">195 min</span>\n",
       "<span class=\"ghost\">|</span>\n",
       "<span class=\"genre\">\n",
       "Biography, Drama, History            </span>\n",
       "</p>\n",
       "<div class=\"ipl-rating-widget\">\n",
       "<div class=\"ipl-rating-star small\">\n",
       "<span class=\"ipl-rating-star__star\">\n",
       "<svg class=\"ipl-icon ipl-star-icon\" fill=\"#000000\" height=\"24\" viewbox=\"0 0 24 24\" width=\"24\" xmlns=\"http://www.w3.org/2000/svg\">\n",
       "<path d=\"M0 0h24v24H0z\" fill=\"none\"></path>\n",
       "<path d=\"M12 17.27L18.18 21l-1.64-7.03L22 9.24l-7.19-.61L12 2 9.19 8.63 2 9.24l5.46 4.73L5.82 21z\"></path>\n",
       "<path d=\"M0 0h24v24H0z\" fill=\"none\"></path>\n",
       "</svg>\n",
       "</span>\n",
       "<span class=\"ipl-rating-star__rating\">8.9</span>\n",
       "</div>\n",
       "<div class=\"ipl-rating-interactive small ipl-rating-interactive--no-rating\">\n",
       "<input class=\"ipl-rating-interactive__state\" data-reftag=\"ur_rt\" data-tconst=\"tt0108052\" id=\"checkbox-tt0108052\" type=\"checkbox\"/>\n",
       "<label class=\"ipl-rating-interactive__star-container\" for=\"checkbox-tt0108052\">\n",
       "<div class=\"ipl-rating-star ipl-rating-interactive__star\">\n",
       "<span class=\"ipl-rating-star__star\">\n",
       "<svg class=\"ipl-icon ipl-star-icon\" fill=\"#000000\" height=\"24\" viewbox=\"0 0 24 24\" width=\"24\" xmlns=\"http://www.w3.org/2000/svg\">\n",
       "<path d=\"M0 0h24v24H0z\" fill=\"none\"></path>\n",
       "<path d=\"M12 17.27L18.18 21l-1.64-7.03L22 9.24l-7.19-.61L12 2 9.19 8.63 2 9.24l5.46 4.73L5.82 21z\"></path>\n",
       "<path d=\"M0 0h24v24H0z\" fill=\"none\"></path>\n",
       "</svg>\n",
       "</span>\n",
       "<span class=\"ipl-rating-star__rating\">0</span>\n",
       "</div>\n",
       "<div class=\"ipl-rating-star ipl-rating-interactive__star--empty\">\n",
       "<span class=\"ipl-rating-star__star\">\n",
       "<svg class=\"ipl-icon ipl-star-border-icon\" fill=\"#000000\" height=\"24\" viewbox=\"0 0 24 24\" width=\"24\" xmlns=\"http://www.w3.org/2000/svg\">\n",
       "<path d=\"M22 9.24l-7.19-.62L12 2 9.19 8.63 2 9.24l5.46 4.73L5.82 21 12 17.27 18.18 21l-1.63-7.03L22 9.24zM12 15.4l-3.76 2.27 1-4.28-3.32-2.88 4.38-.38L12 6.1l1.71 4.04 4.38.38-3.32 2.88 1 4.28L12 15.4z\"></path>\n",
       "<path d=\"M0 0h24v24H0z\" fill=\"none\"></path>\n",
       "</svg>\n",
       "</span>\n",
       "<span class=\"ipl-rating-star__rating\">Rate</span>\n",
       "</div>\n",
       "</label>\n",
       "<div class=\"ipl-rating-selector\" data-value=\"0\" id=\"ipl-rating-selector-tt0108052\">\n",
       "<div class=\"ipl-rating-selector__selector ipl-rating-selector__wrapper\">\n",
       "<div class=\"ipl-rating-selector__reset\">\n",
       "<a href=\"#void\"> <svg class=\"ipl-icon ipl-cancel-icon\" fill=\"#000000\" height=\"24\" viewbox=\"0 0 24 24\" width=\"24\" xmlns=\"http://www.w3.org/2000/svg\">\n",
       "<path d=\"M12 2C6.47 2 2 6.47 2 12s4.47 10 10 10 10-4.47 10-10S17.53 2 12 2zm5 13.59L15.59 17 12 13.41 8.41 17 7 15.59 10.59 12 7 8.41 8.41 7 12 10.59 15.59 7 17 8.41 13.41 12 17 15.59z\"></path>\n",
       "<path d=\"M0 0h24v24H0z\" fill=\"none\"></path>\n",
       "</svg>\n",
       "</a>\n",
       "</div>\n",
       "<span class=\"ipl-rating-selector__divider\"></span>\n",
       "<form action=\"/ratings/_ajax/title\" class=\"ipl-rating-selector__star-list\" method=\"post\">\n",
       "<a class=\"ipl-rating-selector__star-link\" data-value=\"1\" href=\"#void\">\n",
       "<div class=\"ipl-rating-star ipl-rating-interactive__star\">\n",
       "<span class=\"ipl-rating-star__star\">\n",
       "<svg class=\"ipl-icon ipl-star-icon\" fill=\"#000000\" height=\"24\" viewbox=\"0 0 24 24\" width=\"24\" xmlns=\"http://www.w3.org/2000/svg\">\n",
       "<path d=\"M0 0h24v24H0z\" fill=\"none\"></path>\n",
       "<path d=\"M12 17.27L18.18 21l-1.64-7.03L22 9.24l-7.19-.61L12 2 9.19 8.63 2 9.24l5.46 4.73L5.82 21z\"></path>\n",
       "<path d=\"M0 0h24v24H0z\" fill=\"none\"></path>\n",
       "</svg>\n",
       "</span>\n",
       "<span class=\"ipl-rating-star__rating\">1</span>\n",
       "</div>\n",
       "<div class=\"ipl-rating-star ipl-rating-interactive__star--empty\">\n",
       "<span class=\"ipl-rating-star__star\">\n",
       "<svg class=\"ipl-icon ipl-star-border-icon\" fill=\"#000000\" height=\"24\" viewbox=\"0 0 24 24\" width=\"24\" xmlns=\"http://www.w3.org/2000/svg\">\n",
       "<path d=\"M22 9.24l-7.19-.62L12 2 9.19 8.63 2 9.24l5.46 4.73L5.82 21 12 17.27 18.18 21l-1.63-7.03L22 9.24zM12 15.4l-3.76 2.27 1-4.28-3.32-2.88 4.38-.38L12 6.1l1.71 4.04 4.38.38-3.32 2.88 1 4.28L12 15.4z\"></path>\n",
       "<path d=\"M0 0h24v24H0z\" fill=\"none\"></path>\n",
       "</svg>\n",
       "</span>\n",
       "<span class=\"ipl-rating-star__rating\">Rate</span>\n",
       "</div>\n",
       "</a>\n",
       "<a class=\"ipl-rating-selector__star-link\" data-value=\"2\" href=\"#void\">\n",
       "<div class=\"ipl-rating-star ipl-rating-interactive__star\">\n",
       "<span class=\"ipl-rating-star__star\">\n",
       "<svg class=\"ipl-icon ipl-star-icon\" fill=\"#000000\" height=\"24\" viewbox=\"0 0 24 24\" width=\"24\" xmlns=\"http://www.w3.org/2000/svg\">\n",
       "<path d=\"M0 0h24v24H0z\" fill=\"none\"></path>\n",
       "<path d=\"M12 17.27L18.18 21l-1.64-7.03L22 9.24l-7.19-.61L12 2 9.19 8.63 2 9.24l5.46 4.73L5.82 21z\"></path>\n",
       "<path d=\"M0 0h24v24H0z\" fill=\"none\"></path>\n",
       "</svg>\n",
       "</span>\n",
       "<span class=\"ipl-rating-star__rating\">2</span>\n",
       "</div>\n",
       "<div class=\"ipl-rating-star ipl-rating-interactive__star--empty\">\n",
       "<span class=\"ipl-rating-star__star\">\n",
       "<svg class=\"ipl-icon ipl-star-border-icon\" fill=\"#000000\" height=\"24\" viewbox=\"0 0 24 24\" width=\"24\" xmlns=\"http://www.w3.org/2000/svg\">\n",
       "<path d=\"M22 9.24l-7.19-.62L12 2 9.19 8.63 2 9.24l5.46 4.73L5.82 21 12 17.27 18.18 21l-1.63-7.03L22 9.24zM12 15.4l-3.76 2.27 1-4.28-3.32-2.88 4.38-.38L12 6.1l1.71 4.04 4.38.38-3.32 2.88 1 4.28L12 15.4z\"></path>\n",
       "<path d=\"M0 0h24v24H0z\" fill=\"none\"></path>\n",
       "</svg>\n",
       "</span>\n",
       "<span class=\"ipl-rating-star__rating\">Rate</span>\n",
       "</div>\n",
       "</a>\n",
       "<a class=\"ipl-rating-selector__star-link\" data-value=\"3\" href=\"#void\">\n",
       "<div class=\"ipl-rating-star ipl-rating-interactive__star\">\n",
       "<span class=\"ipl-rating-star__star\">\n",
       "<svg class=\"ipl-icon ipl-star-icon\" fill=\"#000000\" height=\"24\" viewbox=\"0 0 24 24\" width=\"24\" xmlns=\"http://www.w3.org/2000/svg\">\n",
       "<path d=\"M0 0h24v24H0z\" fill=\"none\"></path>\n",
       "<path d=\"M12 17.27L18.18 21l-1.64-7.03L22 9.24l-7.19-.61L12 2 9.19 8.63 2 9.24l5.46 4.73L5.82 21z\"></path>\n",
       "<path d=\"M0 0h24v24H0z\" fill=\"none\"></path>\n",
       "</svg>\n",
       "</span>\n",
       "<span class=\"ipl-rating-star__rating\">3</span>\n",
       "</div>\n",
       "<div class=\"ipl-rating-star ipl-rating-interactive__star--empty\">\n",
       "<span class=\"ipl-rating-star__star\">\n",
       "<svg class=\"ipl-icon ipl-star-border-icon\" fill=\"#000000\" height=\"24\" viewbox=\"0 0 24 24\" width=\"24\" xmlns=\"http://www.w3.org/2000/svg\">\n",
       "<path d=\"M22 9.24l-7.19-.62L12 2 9.19 8.63 2 9.24l5.46 4.73L5.82 21 12 17.27 18.18 21l-1.63-7.03L22 9.24zM12 15.4l-3.76 2.27 1-4.28-3.32-2.88 4.38-.38L12 6.1l1.71 4.04 4.38.38-3.32 2.88 1 4.28L12 15.4z\"></path>\n",
       "<path d=\"M0 0h24v24H0z\" fill=\"none\"></path>\n",
       "</svg>\n",
       "</span>\n",
       "<span class=\"ipl-rating-star__rating\">Rate</span>\n",
       "</div>\n",
       "</a>\n",
       "<a class=\"ipl-rating-selector__star-link\" data-value=\"4\" href=\"#void\">\n",
       "<div class=\"ipl-rating-star ipl-rating-interactive__star\">\n",
       "<span class=\"ipl-rating-star__star\">\n",
       "<svg class=\"ipl-icon ipl-star-icon\" fill=\"#000000\" height=\"24\" viewbox=\"0 0 24 24\" width=\"24\" xmlns=\"http://www.w3.org/2000/svg\">\n",
       "<path d=\"M0 0h24v24H0z\" fill=\"none\"></path>\n",
       "<path d=\"M12 17.27L18.18 21l-1.64-7.03L22 9.24l-7.19-.61L12 2 9.19 8.63 2 9.24l5.46 4.73L5.82 21z\"></path>\n",
       "<path d=\"M0 0h24v24H0z\" fill=\"none\"></path>\n",
       "</svg>\n",
       "</span>\n",
       "<span class=\"ipl-rating-star__rating\">4</span>\n",
       "</div>\n",
       "<div class=\"ipl-rating-star ipl-rating-interactive__star--empty\">\n",
       "<span class=\"ipl-rating-star__star\">\n",
       "<svg class=\"ipl-icon ipl-star-border-icon\" fill=\"#000000\" height=\"24\" viewbox=\"0 0 24 24\" width=\"24\" xmlns=\"http://www.w3.org/2000/svg\">\n",
       "<path d=\"M22 9.24l-7.19-.62L12 2 9.19 8.63 2 9.24l5.46 4.73L5.82 21 12 17.27 18.18 21l-1.63-7.03L22 9.24zM12 15.4l-3.76 2.27 1-4.28-3.32-2.88 4.38-.38L12 6.1l1.71 4.04 4.38.38-3.32 2.88 1 4.28L12 15.4z\"></path>\n",
       "<path d=\"M0 0h24v24H0z\" fill=\"none\"></path>\n",
       "</svg>\n",
       "</span>\n",
       "<span class=\"ipl-rating-star__rating\">Rate</span>\n",
       "</div>\n",
       "</a>\n",
       "<a class=\"ipl-rating-selector__star-link\" data-value=\"5\" href=\"#void\">\n",
       "<div class=\"ipl-rating-star ipl-rating-interactive__star\">\n",
       "<span class=\"ipl-rating-star__star\">\n",
       "<svg class=\"ipl-icon ipl-star-icon\" fill=\"#000000\" height=\"24\" viewbox=\"0 0 24 24\" width=\"24\" xmlns=\"http://www.w3.org/2000/svg\">\n",
       "<path d=\"M0 0h24v24H0z\" fill=\"none\"></path>\n",
       "<path d=\"M12 17.27L18.18 21l-1.64-7.03L22 9.24l-7.19-.61L12 2 9.19 8.63 2 9.24l5.46 4.73L5.82 21z\"></path>\n",
       "<path d=\"M0 0h24v24H0z\" fill=\"none\"></path>\n",
       "</svg>\n",
       "</span>\n",
       "<span class=\"ipl-rating-star__rating\">5</span>\n",
       "</div>\n",
       "<div class=\"ipl-rating-star ipl-rating-interactive__star--empty\">\n",
       "<span class=\"ipl-rating-star__star\">\n",
       "<svg class=\"ipl-icon ipl-star-border-icon\" fill=\"#000000\" height=\"24\" viewbox=\"0 0 24 24\" width=\"24\" xmlns=\"http://www.w3.org/2000/svg\">\n",
       "<path d=\"M22 9.24l-7.19-.62L12 2 9.19 8.63 2 9.24l5.46 4.73L5.82 21 12 17.27 18.18 21l-1.63-7.03L22 9.24zM12 15.4l-3.76 2.27 1-4.28-3.32-2.88 4.38-.38L12 6.1l1.71 4.04 4.38.38-3.32 2.88 1 4.28L12 15.4z\"></path>\n",
       "<path d=\"M0 0h24v24H0z\" fill=\"none\"></path>\n",
       "</svg>\n",
       "</span>\n",
       "<span class=\"ipl-rating-star__rating\">Rate</span>\n",
       "</div>\n",
       "</a>\n",
       "<a class=\"ipl-rating-selector__star-link\" data-value=\"6\" href=\"#void\">\n",
       "<div class=\"ipl-rating-star ipl-rating-interactive__star\">\n",
       "<span class=\"ipl-rating-star__star\">\n",
       "<svg class=\"ipl-icon ipl-star-icon\" fill=\"#000000\" height=\"24\" viewbox=\"0 0 24 24\" width=\"24\" xmlns=\"http://www.w3.org/2000/svg\">\n",
       "<path d=\"M0 0h24v24H0z\" fill=\"none\"></path>\n",
       "<path d=\"M12 17.27L18.18 21l-1.64-7.03L22 9.24l-7.19-.61L12 2 9.19 8.63 2 9.24l5.46 4.73L5.82 21z\"></path>\n",
       "<path d=\"M0 0h24v24H0z\" fill=\"none\"></path>\n",
       "</svg>\n",
       "</span>\n",
       "<span class=\"ipl-rating-star__rating\">6</span>\n",
       "</div>\n",
       "<div class=\"ipl-rating-star ipl-rating-interactive__star--empty\">\n",
       "<span class=\"ipl-rating-star__star\">\n",
       "<svg class=\"ipl-icon ipl-star-border-icon\" fill=\"#000000\" height=\"24\" viewbox=\"0 0 24 24\" width=\"24\" xmlns=\"http://www.w3.org/2000/svg\">\n",
       "<path d=\"M22 9.24l-7.19-.62L12 2 9.19 8.63 2 9.24l5.46 4.73L5.82 21 12 17.27 18.18 21l-1.63-7.03L22 9.24zM12 15.4l-3.76 2.27 1-4.28-3.32-2.88 4.38-.38L12 6.1l1.71 4.04 4.38.38-3.32 2.88 1 4.28L12 15.4z\"></path>\n",
       "<path d=\"M0 0h24v24H0z\" fill=\"none\"></path>\n",
       "</svg>\n",
       "</span>\n",
       "<span class=\"ipl-rating-star__rating\">Rate</span>\n",
       "</div>\n",
       "</a>\n",
       "<a class=\"ipl-rating-selector__star-link\" data-value=\"7\" href=\"#void\">\n",
       "<div class=\"ipl-rating-star ipl-rating-interactive__star\">\n",
       "<span class=\"ipl-rating-star__star\">\n",
       "<svg class=\"ipl-icon ipl-star-icon\" fill=\"#000000\" height=\"24\" viewbox=\"0 0 24 24\" width=\"24\" xmlns=\"http://www.w3.org/2000/svg\">\n",
       "<path d=\"M0 0h24v24H0z\" fill=\"none\"></path>\n",
       "<path d=\"M12 17.27L18.18 21l-1.64-7.03L22 9.24l-7.19-.61L12 2 9.19 8.63 2 9.24l5.46 4.73L5.82 21z\"></path>\n",
       "<path d=\"M0 0h24v24H0z\" fill=\"none\"></path>\n",
       "</svg>\n",
       "</span>\n",
       "<span class=\"ipl-rating-star__rating\">7</span>\n",
       "</div>\n",
       "<div class=\"ipl-rating-star ipl-rating-interactive__star--empty\">\n",
       "<span class=\"ipl-rating-star__star\">\n",
       "<svg class=\"ipl-icon ipl-star-border-icon\" fill=\"#000000\" height=\"24\" viewbox=\"0 0 24 24\" width=\"24\" xmlns=\"http://www.w3.org/2000/svg\">\n",
       "<path d=\"M22 9.24l-7.19-.62L12 2 9.19 8.63 2 9.24l5.46 4.73L5.82 21 12 17.27 18.18 21l-1.63-7.03L22 9.24zM12 15.4l-3.76 2.27 1-4.28-3.32-2.88 4.38-.38L12 6.1l1.71 4.04 4.38.38-3.32 2.88 1 4.28L12 15.4z\"></path>\n",
       "<path d=\"M0 0h24v24H0z\" fill=\"none\"></path>\n",
       "</svg>\n",
       "</span>\n",
       "<span class=\"ipl-rating-star__rating\">Rate</span>\n",
       "</div>\n",
       "</a>\n",
       "<a class=\"ipl-rating-selector__star-link\" data-value=\"8\" href=\"#void\">\n",
       "<div class=\"ipl-rating-star ipl-rating-interactive__star\">\n",
       "<span class=\"ipl-rating-star__star\">\n",
       "<svg class=\"ipl-icon ipl-star-icon\" fill=\"#000000\" height=\"24\" viewbox=\"0 0 24 24\" width=\"24\" xmlns=\"http://www.w3.org/2000/svg\">\n",
       "<path d=\"M0 0h24v24H0z\" fill=\"none\"></path>\n",
       "<path d=\"M12 17.27L18.18 21l-1.64-7.03L22 9.24l-7.19-.61L12 2 9.19 8.63 2 9.24l5.46 4.73L5.82 21z\"></path>\n",
       "<path d=\"M0 0h24v24H0z\" fill=\"none\"></path>\n",
       "</svg>\n",
       "</span>\n",
       "<span class=\"ipl-rating-star__rating\">8</span>\n",
       "</div>\n",
       "<div class=\"ipl-rating-star ipl-rating-interactive__star--empty\">\n",
       "<span class=\"ipl-rating-star__star\">\n",
       "<svg class=\"ipl-icon ipl-star-border-icon\" fill=\"#000000\" height=\"24\" viewbox=\"0 0 24 24\" width=\"24\" xmlns=\"http://www.w3.org/2000/svg\">\n",
       "<path d=\"M22 9.24l-7.19-.62L12 2 9.19 8.63 2 9.24l5.46 4.73L5.82 21 12 17.27 18.18 21l-1.63-7.03L22 9.24zM12 15.4l-3.76 2.27 1-4.28-3.32-2.88 4.38-.38L12 6.1l1.71 4.04 4.38.38-3.32 2.88 1 4.28L12 15.4z\"></path>\n",
       "<path d=\"M0 0h24v24H0z\" fill=\"none\"></path>\n",
       "</svg>\n",
       "</span>\n",
       "<span class=\"ipl-rating-star__rating\">Rate</span>\n",
       "</div>\n",
       "</a>\n",
       "<a class=\"ipl-rating-selector__star-link\" data-value=\"9\" href=\"#void\">\n",
       "<div class=\"ipl-rating-star ipl-rating-interactive__star\">\n",
       "<span class=\"ipl-rating-star__star\">\n",
       "<svg class=\"ipl-icon ipl-star-icon\" fill=\"#000000\" height=\"24\" viewbox=\"0 0 24 24\" width=\"24\" xmlns=\"http://www.w3.org/2000/svg\">\n",
       "<path d=\"M0 0h24v24H0z\" fill=\"none\"></path>\n",
       "<path d=\"M12 17.27L18.18 21l-1.64-7.03L22 9.24l-7.19-.61L12 2 9.19 8.63 2 9.24l5.46 4.73L5.82 21z\"></path>\n",
       "<path d=\"M0 0h24v24H0z\" fill=\"none\"></path>\n",
       "</svg>\n",
       "</span>\n",
       "<span class=\"ipl-rating-star__rating\">9</span>\n",
       "</div>\n",
       "<div class=\"ipl-rating-star ipl-rating-interactive__star--empty\">\n",
       "<span class=\"ipl-rating-star__star\">\n",
       "<svg class=\"ipl-icon ipl-star-border-icon\" fill=\"#000000\" height=\"24\" viewbox=\"0 0 24 24\" width=\"24\" xmlns=\"http://www.w3.org/2000/svg\">\n",
       "<path d=\"M22 9.24l-7.19-.62L12 2 9.19 8.63 2 9.24l5.46 4.73L5.82 21 12 17.27 18.18 21l-1.63-7.03L22 9.24zM12 15.4l-3.76 2.27 1-4.28-3.32-2.88 4.38-.38L12 6.1l1.71 4.04 4.38.38-3.32 2.88 1 4.28L12 15.4z\"></path>\n",
       "<path d=\"M0 0h24v24H0z\" fill=\"none\"></path>\n",
       "</svg>\n",
       "</span>\n",
       "<span class=\"ipl-rating-star__rating\">Rate</span>\n",
       "</div>\n",
       "</a>\n",
       "<a class=\"ipl-rating-selector__star-link\" data-value=\"10\" href=\"#void\">\n",
       "<div class=\"ipl-rating-star ipl-rating-interactive__star\">\n",
       "<span class=\"ipl-rating-star__star\">\n",
       "<svg class=\"ipl-icon ipl-star-icon\" fill=\"#000000\" height=\"24\" viewbox=\"0 0 24 24\" width=\"24\" xmlns=\"http://www.w3.org/2000/svg\">\n",
       "<path d=\"M0 0h24v24H0z\" fill=\"none\"></path>\n",
       "<path d=\"M12 17.27L18.18 21l-1.64-7.03L22 9.24l-7.19-.61L12 2 9.19 8.63 2 9.24l5.46 4.73L5.82 21z\"></path>\n",
       "<path d=\"M0 0h24v24H0z\" fill=\"none\"></path>\n",
       "</svg>\n",
       "</span>\n",
       "<span class=\"ipl-rating-star__rating\">10</span>\n",
       "</div>\n",
       "<div class=\"ipl-rating-star ipl-rating-interactive__star--empty\">\n",
       "<span class=\"ipl-rating-star__star\">\n",
       "<svg class=\"ipl-icon ipl-star-border-icon\" fill=\"#000000\" height=\"24\" viewbox=\"0 0 24 24\" width=\"24\" xmlns=\"http://www.w3.org/2000/svg\">\n",
       "<path d=\"M22 9.24l-7.19-.62L12 2 9.19 8.63 2 9.24l5.46 4.73L5.82 21 12 17.27 18.18 21l-1.63-7.03L22 9.24zM12 15.4l-3.76 2.27 1-4.28-3.32-2.88 4.38-.38L12 6.1l1.71 4.04 4.38.38-3.32 2.88 1 4.28L12 15.4z\"></path>\n",
       "<path d=\"M0 0h24v24H0z\" fill=\"none\"></path>\n",
       "</svg>\n",
       "</span>\n",
       "<span class=\"ipl-rating-star__rating\">Rate</span>\n",
       "</div>\n",
       "</a>\n",
       "<fieldset class=\"ipl-rating-selector__fieldset\">\n",
       "<input name=\"tconst\" type=\"hidden\" value=\"tt0108052\">\n",
       "<input name=\"rating\" type=\"text\" value=\"0\"/>\n",
       "<input name=\"csrfToken\" type=\"hidden\" value=\"\"/>\n",
       "<input name=\"tracking_tag\" type=\"hidden\" value=\"ur_rt\"/>\n",
       "<input name=\"pageType\" type=\"hidden\" value=\"list\"/>\n",
       "<input name=\"subpageType\" type=\"hidden\" value=\"title\"/>\n",
       "</input></fieldset>\n",
       "<noscript>\n",
       "<input class=\"ipl-rating-selector__rating-submit\" type=\"submit\" value=\"Vote\"/>\n",
       "</noscript>\n",
       "</form>\n",
       "<span class=\"ipl-rating-selector__rating-value\">0</span>\n",
       "</div>\n",
       "<div class=\"ipl-rating-selector__error ipl-rating-selector__wrapper\">\n",
       "<span>Error: please try again.</span>\n",
       "</div>\n",
       "</div>\n",
       "<div class=\"ipl-rating-interactive__loader\">\n",
       "<img alt=\"loading\" src=\"https://m.media-amazon.com/images/G/01/IMDb/spinning-progress.gif\"/>\n",
       "</div>\n",
       "</div>\n",
       "</div>\n",
       "<div class=\"inline-block ratings-metascore\">\n",
       "<span class=\"metascore favorable\">94        </span>\n",
       "        Metascore\n",
       "        </div>\n",
       "<p class=\"\">\n",
       "In German-occupied Poland during World War II, industrialist <a href=\"/name/nm0771861\">Oskar Schindler</a> gradually becomes concerned for his Jewish workforce after witnessing their persecution by the Nazis.</p>\n",
       "<p class=\"text-muted text-small\">\n",
       "    Director:\n",
       "<a href=\"/name/nm0000229/\">Steven Spielberg</a>\n",
       "<span class=\"ghost\">|</span> \n",
       "    Stars:\n",
       "<a href=\"/name/nm0000553/\">Liam Neeson</a>, \n",
       "<a href=\"/name/nm0000146/\">Ralph Fiennes</a>, \n",
       "<a href=\"/name/nm0001426/\">Ben Kingsley</a>, \n",
       "<a href=\"/name/nm0328751/\">Caroline Goodall</a>\n",
       "</p>\n",
       "<p class=\"text-muted text-small\">\n",
       "<span class=\"text-muted\">Votes:</span>\n",
       "<span data-value=\"1271437\" name=\"nv\">1,271,437</span>\n",
       "<span class=\"ghost\">|</span> <span class=\"text-muted\">Gross:</span>\n",
       "<span data-value=\"96,898,818\" name=\"nv\">$96.90M</span>\n",
       "</p>\n",
       "<div class=\"wtw-option-standalone\" data-baseref=\"wl_li\" data-tconst=\"tt0108052\" data-watchtype=\"minibar\"></div>\n",
       "</div>"
      ]
     },
     "execution_count": 7,
     "metadata": {},
     "output_type": "execute_result"
    }
   ],
   "source": [
    "# find_all returns a list of soup objects that we can loop through and continue to query the inner objects\n",
    "soup.find_all('div', 'lister-item-content')[1]"
   ]
  },
  {
   "cell_type": "markdown",
   "id": "eb210ebe-abd5-497f-8bbf-66cce4eeb5be",
   "metadata": {},
   "source": [
    "## Regex"
   ]
  },
  {
   "cell_type": "markdown",
   "id": "00abed2b-3f33-4495-8905-19ad867f942e",
   "metadata": {},
   "source": [
    "https://rubular.com/"
   ]
  },
  {
   "cell_type": "markdown",
   "id": "c475c3f8-e928-42ef-b57d-287717648828",
   "metadata": {},
   "source": [
    "https://regex101.com/"
   ]
  },
  {
   "cell_type": "markdown",
   "id": "8b683899-e396-4f90-b1b7-6ac699e43965",
   "metadata": {},
   "source": [
    "https://jex.im/regulex/#!flags=&re=.*%40.*%5B.%5D%5Cw*%7B2%2C%7D"
   ]
  },
  {
   "cell_type": "code",
   "execution_count": null,
   "id": "73bdd3d0-0bd4-43b0-99e9-e9a22f6b631f",
   "metadata": {},
   "outputs": [],
   "source": []
  }
 ],
 "metadata": {
  "kernelspec": {
   "display_name": "lewagon",
   "language": "python",
   "name": "lewagon"
  },
  "language_info": {
   "codemirror_mode": {
    "name": "ipython",
    "version": 3
   },
   "file_extension": ".py",
   "mimetype": "text/x-python",
   "name": "python",
   "nbconvert_exporter": "python",
   "pygments_lexer": "ipython3",
   "version": "3.7.7"
  }
 },
 "nbformat": 4,
 "nbformat_minor": 5
}
