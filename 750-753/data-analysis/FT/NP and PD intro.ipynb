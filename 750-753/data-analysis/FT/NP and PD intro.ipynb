{
 "cells": [
  {
   "cell_type": "markdown",
   "id": "dbca9e53",
   "metadata": {},
   "source": [
    "# Data Analysis"
   ]
  },
  {
   "cell_type": "markdown",
   "id": "d8a95b36",
   "metadata": {},
   "source": [
    "## Notebook intro"
   ]
  },
  {
   "cell_type": "code",
   "execution_count": 1,
   "id": "d6fec475",
   "metadata": {
    "ExecuteTime": {
     "end_time": "2021-10-11T08:05:59.200862Z",
     "start_time": "2021-10-11T08:05:59.191425Z"
    }
   },
   "outputs": [
    {
     "data": {
      "text/plain": [
       "2"
      ]
     },
     "execution_count": 1,
     "metadata": {},
     "output_type": "execute_result"
    }
   ],
   "source": [
    "1 + 1"
   ]
  },
  {
   "cell_type": "code",
   "execution_count": 2,
   "id": "3176e785",
   "metadata": {
    "ExecuteTime": {
     "end_time": "2021-10-11T08:06:51.109770Z",
     "start_time": "2021-10-11T08:06:51.107622Z"
    }
   },
   "outputs": [],
   "source": [
    "my_string = \"Chris' string\""
   ]
  },
  {
   "cell_type": "code",
   "execution_count": 5,
   "id": "7a8c9e3d",
   "metadata": {
    "ExecuteTime": {
     "end_time": "2021-10-11T08:07:13.871147Z",
     "start_time": "2021-10-11T08:07:13.866771Z"
    }
   },
   "outputs": [
    {
     "name": "stdout",
     "output_type": "stream",
     "text": [
      "Chris' string\n"
     ]
    },
    {
     "data": {
      "text/plain": [
       "2"
      ]
     },
     "execution_count": 5,
     "metadata": {},
     "output_type": "execute_result"
    }
   ],
   "source": [
    "print(my_string)\n",
    "1+1"
   ]
  },
  {
   "cell_type": "markdown",
   "id": "4c7d2dbf",
   "metadata": {},
   "source": [
    "Now I no longer need quotes"
   ]
  },
  {
   "cell_type": "markdown",
   "id": "9e5911ee",
   "metadata": {},
   "source": [
    "It's very easy to make some words **bold** and other words *italic* with Markdown. You can even [link to Google!](http://google.com)"
   ]
  },
  {
   "cell_type": "markdown",
   "id": "21556c71",
   "metadata": {},
   "source": [
    "## Numpy"
   ]
  },
  {
   "cell_type": "code",
   "execution_count": 6,
   "id": "412826df",
   "metadata": {
    "ExecuteTime": {
     "end_time": "2021-10-11T08:15:45.126940Z",
     "start_time": "2021-10-11T08:15:45.124599Z"
    }
   },
   "outputs": [],
   "source": [
    "import numpy as np # Canonical import"
   ]
  },
  {
   "cell_type": "code",
   "execution_count": 7,
   "id": "dc37f7f7",
   "metadata": {
    "ExecuteTime": {
     "end_time": "2021-10-11T08:15:59.296370Z",
     "start_time": "2021-10-11T08:15:59.291362Z"
    }
   },
   "outputs": [
    {
     "name": "stdout",
     "output_type": "stream",
     "text": [
      "<class 'list'>\n"
     ]
    },
    {
     "data": {
      "text/plain": [
       "[[1, 2, 3], [4, 5, 6]]"
      ]
     },
     "execution_count": 7,
     "metadata": {},
     "output_type": "execute_result"
    }
   ],
   "source": [
    "l = [[1,2,3], [4,5,6]]\n",
    "print(type(l))\n",
    "l # list of list"
   ]
  },
  {
   "cell_type": "code",
   "execution_count": 14,
   "id": "f8ffe5b9",
   "metadata": {
    "ExecuteTime": {
     "end_time": "2021-10-11T08:19:50.038153Z",
     "start_time": "2021-10-11T08:19:50.033714Z"
    }
   },
   "outputs": [
    {
     "name": "stdout",
     "output_type": "stream",
     "text": [
      "<class 'numpy.ndarray'>\n"
     ]
    },
    {
     "data": {
      "text/plain": [
       "array([[1., 2., 3.],\n",
       "       [4., 5., 6.]])"
      ]
     },
     "execution_count": 14,
     "metadata": {},
     "output_type": "execute_result"
    }
   ],
   "source": [
    "A = np.array([[1,2,3.0], [4,5,6]]) \n",
    "print(type(A))\n",
    "A # ndarray"
   ]
  },
  {
   "cell_type": "code",
   "execution_count": 15,
   "id": "2343a7be",
   "metadata": {
    "ExecuteTime": {
     "end_time": "2021-10-11T08:19:56.298433Z",
     "start_time": "2021-10-11T08:19:56.294747Z"
    }
   },
   "outputs": [
    {
     "name": "stdout",
     "output_type": "stream",
     "text": [
      "A.ndim:  2\n",
      "A.shape: (2, 3)\n",
      "A.size:  6\n",
      "A.dtype: float64\n"
     ]
    }
   ],
   "source": [
    "# key Attributes of ndarrays\n",
    "print('A.ndim: ', A.ndim)\n",
    "print('A.shape:', A.shape)\n",
    "print('A.size: ', A.size)\n",
    "print('A.dtype:', A.dtype)"
   ]
  },
  {
   "cell_type": "markdown",
   "id": "13ed553c",
   "metadata": {},
   "source": [
    "### Data selection"
   ]
  },
  {
   "cell_type": "code",
   "execution_count": 16,
   "id": "04b028ea",
   "metadata": {
    "ExecuteTime": {
     "end_time": "2021-10-11T08:21:12.325322Z",
     "start_time": "2021-10-11T08:21:12.320036Z"
    }
   },
   "outputs": [
    {
     "data": {
      "text/plain": [
       "array([[ 0,  1,  2,  3,  4],\n",
       "       [10, 11, 12, 13, 14],\n",
       "       [20, 21, 22, 23, 24],\n",
       "       [30, 31, 32, 33, 34],\n",
       "       [40, 41, 42, 43, 44]])"
      ]
     },
     "execution_count": 16,
     "metadata": {},
     "output_type": "execute_result"
    }
   ],
   "source": [
    "data_list = [\n",
    "    [ 0,  1,  2,  3,  4],\n",
    "    [10, 11, 12, 13, 14],\n",
    "    [20, 21, 22, 23, 24],\n",
    "    [30, 31, 32, 33, 34],\n",
    "    [40, 41, 42, 43, 44],\n",
    "]\n",
    "data_np = np.array(data_list)\n",
    "data_np"
   ]
  },
  {
   "cell_type": "code",
   "execution_count": 18,
   "id": "ba15fdc0",
   "metadata": {
    "ExecuteTime": {
     "end_time": "2021-10-11T08:22:15.134667Z",
     "start_time": "2021-10-11T08:22:15.130371Z"
    }
   },
   "outputs": [
    {
     "data": {
      "text/plain": [
       "[21, 22, 23]"
      ]
     },
     "execution_count": 18,
     "metadata": {},
     "output_type": "execute_result"
    }
   ],
   "source": [
    "data_list[2][1:4]"
   ]
  },
  {
   "cell_type": "code",
   "execution_count": 19,
   "id": "7230d951",
   "metadata": {
    "ExecuteTime": {
     "end_time": "2021-10-11T08:22:47.120647Z",
     "start_time": "2021-10-11T08:22:47.116466Z"
    }
   },
   "outputs": [
    {
     "data": {
      "text/plain": [
       "array([21, 22, 23])"
      ]
     },
     "execution_count": 19,
     "metadata": {},
     "output_type": "execute_result"
    }
   ],
   "source": [
    "data_np[2, 1:4]"
   ]
  },
  {
   "cell_type": "code",
   "execution_count": 24,
   "id": "aa34aca0",
   "metadata": {
    "ExecuteTime": {
     "end_time": "2021-10-11T08:26:00.205622Z",
     "start_time": "2021-10-11T08:26:00.201355Z"
    }
   },
   "outputs": [
    {
     "data": {
      "text/plain": [
       "array([14, 24, 34, 44])"
      ]
     },
     "execution_count": 24,
     "metadata": {},
     "output_type": "execute_result"
    }
   ],
   "source": [
    "# NumPy\n",
    "data_np[1:, 4] # `1:` means from line 1 until the end."
   ]
  },
  {
   "cell_type": "code",
   "execution_count": 25,
   "id": "9c046a19",
   "metadata": {
    "ExecuteTime": {
     "end_time": "2021-10-11T08:26:41.258926Z",
     "start_time": "2021-10-11T08:26:41.255048Z"
    }
   },
   "outputs": [
    {
     "data": {
      "text/plain": [
       "array([0, 1, 2, 3, 4, 5, 6, 7, 8, 9])"
      ]
     },
     "execution_count": 25,
     "metadata": {},
     "output_type": "execute_result"
    }
   ],
   "source": [
    "A = np.arange(0, 10)\n",
    "A"
   ]
  },
  {
   "cell_type": "code",
   "execution_count": 26,
   "id": "c3725e85",
   "metadata": {
    "ExecuteTime": {
     "end_time": "2021-10-11T08:27:00.976036Z",
     "start_time": "2021-10-11T08:27:00.972189Z"
    }
   },
   "outputs": [
    {
     "data": {
      "text/plain": [
       "array([1, 3, 5])"
      ]
     },
     "execution_count": 26,
     "metadata": {},
     "output_type": "execute_result"
    }
   ],
   "source": [
    "A[1:7:2]"
   ]
  },
  {
   "cell_type": "code",
   "execution_count": 27,
   "id": "65355af4",
   "metadata": {
    "ExecuteTime": {
     "end_time": "2021-10-11T08:27:50.679117Z",
     "start_time": "2021-10-11T08:27:50.675393Z"
    }
   },
   "outputs": [
    {
     "data": {
      "text/plain": [
       "array([0, 1, 2, 3, 4, 5, 6, 7, 8, 9])"
      ]
     },
     "execution_count": 27,
     "metadata": {},
     "output_type": "execute_result"
    }
   ],
   "source": [
    "A"
   ]
  },
  {
   "cell_type": "markdown",
   "id": "6f83b4d4",
   "metadata": {},
   "source": [
    "### Operations"
   ]
  },
  {
   "cell_type": "code",
   "execution_count": 28,
   "id": "ba7474dc",
   "metadata": {
    "ExecuteTime": {
     "end_time": "2021-10-11T08:28:29.581968Z",
     "start_time": "2021-10-11T08:28:29.579050Z"
    }
   },
   "outputs": [],
   "source": [
    "my_list = [\n",
    "    [6, 5],\n",
    "    [1, 3],\n",
    "    [5, 6],\n",
    "    [1, 4],\n",
    "    [3, 7],\n",
    "    [5, 8],\n",
    "    [3, 5],\n",
    "    [8, 4],\n",
    "]"
   ]
  },
  {
   "cell_type": "code",
   "execution_count": 29,
   "id": "e85aae91",
   "metadata": {
    "ExecuteTime": {
     "end_time": "2021-10-11T08:29:07.334276Z",
     "start_time": "2021-10-11T08:29:07.329348Z"
    }
   },
   "outputs": [
    {
     "data": {
      "text/plain": [
       "[11, 4, 11, 5, 10, 13, 8, 12]"
      ]
     },
     "execution_count": 29,
     "metadata": {},
     "output_type": "execute_result"
    }
   ],
   "source": [
    "# Python way\n",
    "sums = []\n",
    "for row in my_list:\n",
    "    sums.append(row[0] + row[1]) # standard integer \"+\" operator\n",
    "sums"
   ]
  },
  {
   "cell_type": "code",
   "execution_count": 30,
   "id": "1311db5c",
   "metadata": {
    "ExecuteTime": {
     "end_time": "2021-10-11T08:30:42.789879Z",
     "start_time": "2021-10-11T08:30:42.785392Z"
    }
   },
   "outputs": [
    {
     "data": {
      "text/plain": [
       "array([11,  4, 11,  5, 10, 13,  8, 12])"
      ]
     },
     "execution_count": 30,
     "metadata": {},
     "output_type": "execute_result"
    }
   ],
   "source": [
    "A = np.array(my_list)\n",
    "my_sum = A[:,0] + A[:,1] # Vectorial \"+\" operator\n",
    "my_sum\n"
   ]
  },
  {
   "cell_type": "code",
   "execution_count": 33,
   "id": "57ea9f21",
   "metadata": {
    "ExecuteTime": {
     "end_time": "2021-10-11T08:35:59.702562Z",
     "start_time": "2021-10-11T08:35:59.698326Z"
    }
   },
   "outputs": [
    {
     "data": {
      "text/plain": [
       "array([11,  4, 11,  5, 10, 13,  8, 12])"
      ]
     },
     "execution_count": 33,
     "metadata": {},
     "output_type": "execute_result"
    }
   ],
   "source": [
    "# np.sum(A, axis=0)  # eq. to A[0,:] + A[1,:] + A[2,:] + ...\n",
    "np.sum(A, axis=1)"
   ]
  },
  {
   "cell_type": "code",
   "execution_count": 34,
   "id": "1861bd82",
   "metadata": {
    "ExecuteTime": {
     "end_time": "2021-10-11T08:36:08.057656Z",
     "start_time": "2021-10-11T08:36:08.053730Z"
    }
   },
   "outputs": [
    {
     "data": {
      "text/plain": [
       "74"
      ]
     },
     "execution_count": 34,
     "metadata": {},
     "output_type": "execute_result"
    }
   ],
   "source": [
    "np.sum(A)"
   ]
  },
  {
   "cell_type": "markdown",
   "id": "77640cd0",
   "metadata": {},
   "source": [
    "### Boolean Indexing"
   ]
  },
  {
   "cell_type": "code",
   "execution_count": 36,
   "id": "a602e3d3",
   "metadata": {
    "ExecuteTime": {
     "end_time": "2021-10-11T08:40:42.540174Z",
     "start_time": "2021-10-11T08:40:42.536291Z"
    }
   },
   "outputs": [
    {
     "data": {
      "text/plain": [
       "array([[6, 5],\n",
       "       [1, 3],\n",
       "       [5, 6],\n",
       "       [1, 4],\n",
       "       [3, 7],\n",
       "       [5, 8],\n",
       "       [3, 5],\n",
       "       [8, 4]])"
      ]
     },
     "execution_count": 36,
     "metadata": {},
     "output_type": "execute_result"
    }
   ],
   "source": [
    "A"
   ]
  },
  {
   "cell_type": "code",
   "execution_count": 39,
   "id": "bcd9e927",
   "metadata": {
    "ExecuteTime": {
     "end_time": "2021-10-11T08:42:29.355377Z",
     "start_time": "2021-10-11T08:42:29.352733Z"
    }
   },
   "outputs": [],
   "source": [
    "A[A<=3] = 99"
   ]
  },
  {
   "cell_type": "code",
   "execution_count": 40,
   "id": "92b17359",
   "metadata": {
    "ExecuteTime": {
     "end_time": "2021-10-11T08:42:35.944128Z",
     "start_time": "2021-10-11T08:42:35.939571Z"
    }
   },
   "outputs": [
    {
     "data": {
      "text/plain": [
       "array([[ 6,  5],\n",
       "       [99, 99],\n",
       "       [ 5,  6],\n",
       "       [99,  4],\n",
       "       [99,  7],\n",
       "       [ 5,  8],\n",
       "       [99,  5],\n",
       "       [ 8,  4]])"
      ]
     },
     "execution_count": 40,
     "metadata": {},
     "output_type": "execute_result"
    }
   ],
   "source": [
    "A"
   ]
  },
  {
   "cell_type": "markdown",
   "id": "d560d179",
   "metadata": {},
   "source": [
    "## Pandas"
   ]
  },
  {
   "cell_type": "code",
   "execution_count": 41,
   "id": "1305b2fb",
   "metadata": {
    "ExecuteTime": {
     "end_time": "2021-10-11T08:52:26.339723Z",
     "start_time": "2021-10-11T08:52:25.961530Z"
    }
   },
   "outputs": [],
   "source": [
    "import pandas as pd\n"
   ]
  },
  {
   "cell_type": "code",
   "execution_count": 43,
   "id": "58020f85",
   "metadata": {
    "ExecuteTime": {
     "end_time": "2021-10-11T08:53:30.646708Z",
     "start_time": "2021-10-11T08:53:30.641237Z"
    }
   },
   "outputs": [
    {
     "data": {
      "text/plain": [
       "id1        1\n",
       "id2        2\n",
       "id3    three\n",
       "dtype: object"
      ]
     },
     "execution_count": 43,
     "metadata": {},
     "output_type": "execute_result"
    }
   ],
   "source": [
    "# s = pd.Series(data=[1,2,'three'], index=['id1', 'id2', 'id3'])\n",
    "s = pd.Series({'id1': 1, 'id2': 2, 'id3': 'three'})\n",
    "s"
   ]
  },
  {
   "cell_type": "code",
   "execution_count": 45,
   "id": "cbad1868",
   "metadata": {
    "ExecuteTime": {
     "end_time": "2021-10-11T08:54:12.449495Z",
     "start_time": "2021-10-11T08:54:12.445844Z"
    }
   },
   "outputs": [
    {
     "data": {
      "text/plain": [
       "2"
      ]
     },
     "execution_count": 45,
     "metadata": {},
     "output_type": "execute_result"
    }
   ],
   "source": [
    "s[1]"
   ]
  },
  {
   "cell_type": "code",
   "execution_count": 46,
   "id": "5cb0a686",
   "metadata": {
    "ExecuteTime": {
     "end_time": "2021-10-11T08:56:07.044737Z",
     "start_time": "2021-10-11T08:56:07.033107Z"
    }
   },
   "outputs": [
    {
     "data": {
      "text/html": [
       "<div>\n",
       "<style scoped>\n",
       "    .dataframe tbody tr th:only-of-type {\n",
       "        vertical-align: middle;\n",
       "    }\n",
       "\n",
       "    .dataframe tbody tr th {\n",
       "        vertical-align: top;\n",
       "    }\n",
       "\n",
       "    .dataframe thead th {\n",
       "        text-align: right;\n",
       "    }\n",
       "</style>\n",
       "<table border=\"1\" class=\"dataframe\">\n",
       "  <thead>\n",
       "    <tr style=\"text-align: right;\">\n",
       "      <th></th>\n",
       "      <th>col_a</th>\n",
       "      <th>col_b</th>\n",
       "      <th>col_c</th>\n",
       "    </tr>\n",
       "  </thead>\n",
       "  <tbody>\n",
       "    <tr>\n",
       "      <th>row_1</th>\n",
       "      <td>4</td>\n",
       "      <td>7</td>\n",
       "      <td>10</td>\n",
       "    </tr>\n",
       "    <tr>\n",
       "      <th>row_2</th>\n",
       "      <td>5</td>\n",
       "      <td>8</td>\n",
       "      <td>11</td>\n",
       "    </tr>\n",
       "    <tr>\n",
       "      <th>row_3</th>\n",
       "      <td>6</td>\n",
       "      <td>9</td>\n",
       "      <td>12</td>\n",
       "    </tr>\n",
       "  </tbody>\n",
       "</table>\n",
       "</div>"
      ],
      "text/plain": [
       "       col_a  col_b  col_c\n",
       "row_1      4      7     10\n",
       "row_2      5      8     11\n",
       "row_3      6      9     12"
      ]
     },
     "execution_count": 46,
     "metadata": {},
     "output_type": "execute_result"
    }
   ],
   "source": [
    "df = pd.DataFrame(\n",
    "    [[4, 7, 10],\n",
    "     [5, 8, 11],\n",
    "     [6, 9, 12]],\n",
    "    index=['row_1', 'row_2', 'row_3'],\n",
    "    columns=[\"col_a\", \"col_b\", \"col_c\"]\n",
    ")\n",
    "df"
   ]
  },
  {
   "cell_type": "code",
   "execution_count": 48,
   "id": "92877067",
   "metadata": {
    "ExecuteTime": {
     "end_time": "2021-10-11T08:57:41.922501Z",
     "start_time": "2021-10-11T08:57:41.918066Z"
    }
   },
   "outputs": [
    {
     "data": {
      "text/plain": [
       "{'apples': [1, 2, 3], 'oranges': [4, 5, 6]}"
      ]
     },
     "execution_count": 48,
     "metadata": {},
     "output_type": "execute_result"
    }
   ],
   "source": [
    "apples  = [1, 2, 3]\n",
    "oranges = [4, 5, 6]\n",
    "d = {\n",
    "    \"apples\": apples,\n",
    "    \"oranges\": oranges,\n",
    "}\n",
    "d\n",
    "# pd.DataFrame(d)"
   ]
  },
  {
   "cell_type": "code",
   "execution_count": null,
   "id": "0b50fe7e",
   "metadata": {},
   "outputs": [],
   "source": []
  }
 ],
 "metadata": {
  "kernelspec": {
   "display_name": "Python 3 (ipykernel)",
   "language": "python",
   "name": "python3"
  },
  "language_info": {
   "codemirror_mode": {
    "name": "ipython",
    "version": 3
   },
   "file_extension": ".py",
   "mimetype": "text/x-python",
   "name": "python",
   "nbconvert_exporter": "python",
   "pygments_lexer": "ipython3",
   "version": "3.8.12"
  },
  "toc": {
   "base_numbering": 1,
   "nav_menu": {},
   "number_sections": true,
   "sideBar": true,
   "skip_h1_title": false,
   "title_cell": "Table of Contents",
   "title_sidebar": "Contents",
   "toc_cell": false,
   "toc_position": {},
   "toc_section_display": true,
   "toc_window_display": true
  },
  "varInspector": {
   "cols": {
    "lenName": 16,
    "lenType": 16,
    "lenVar": 40
   },
   "kernels_config": {
    "python": {
     "delete_cmd_postfix": "",
     "delete_cmd_prefix": "del ",
     "library": "var_list.py",
     "varRefreshCmd": "print(var_dic_list())"
    },
    "r": {
     "delete_cmd_postfix": ") ",
     "delete_cmd_prefix": "rm(",
     "library": "var_list.r",
     "varRefreshCmd": "cat(var_dic_list()) "
    }
   },
   "types_to_exclude": [
    "module",
    "function",
    "builtin_function_or_method",
    "instance",
    "_Feature"
   ],
   "window_display": false
  }
 },
 "nbformat": 4,
 "nbformat_minor": 5
}
