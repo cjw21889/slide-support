{
 "cells": [
  {
   "cell_type": "markdown",
   "id": "a1fa436b",
   "metadata": {},
   "source": [
    "# NumPy"
   ]
  },
  {
   "cell_type": "code",
   "execution_count": 1,
   "id": "1d73d43d",
   "metadata": {
    "ExecuteTime": {
     "end_time": "2021-10-19T17:31:25.922646Z",
     "start_time": "2021-10-19T17:31:25.920452Z"
    }
   },
   "outputs": [],
   "source": [
    "import numpy as np # Canonical import"
   ]
  },
  {
   "cell_type": "markdown",
   "id": "796dda52",
   "metadata": {},
   "source": [
    "## Types"
   ]
  },
  {
   "cell_type": "code",
   "execution_count": 2,
   "id": "31d8112b",
   "metadata": {
    "ExecuteTime": {
     "end_time": "2021-10-19T17:31:39.285357Z",
     "start_time": "2021-10-19T17:31:39.269958Z"
    }
   },
   "outputs": [
    {
     "data": {
      "text/plain": [
       "array([[1, 2, 3],\n",
       "       [4, 5, 6]])"
      ]
     },
     "metadata": {},
     "output_type": "display_data"
    },
    {
     "data": {
      "text/plain": [
       "numpy.int64"
      ]
     },
     "metadata": {},
     "output_type": "display_data"
    },
    {
     "data": {
      "text/plain": [
       "array([[1., 2., 3.],\n",
       "       [4., 5., 6.]])"
      ]
     },
     "metadata": {},
     "output_type": "display_data"
    },
    {
     "data": {
      "text/plain": [
       "numpy.float64"
      ]
     },
     "metadata": {},
     "output_type": "display_data"
    },
    {
     "data": {
      "text/plain": [
       "array([['1', '2', '3'],\n",
       "       ['4', '5', '6']], dtype='<U21')"
      ]
     },
     "metadata": {},
     "output_type": "display_data"
    },
    {
     "data": {
      "text/plain": [
       "numpy.str_"
      ]
     },
     "metadata": {},
     "output_type": "display_data"
    }
   ],
   "source": [
    "# 1 type per array\n",
    "I = np.array([[1,2,3], [4,5,6]])\n",
    "display(I)\n",
    "display(type(I[0,0]))\n",
    "\n",
    "F = np.array([[1,2,3.0], [4,5,6]]) \n",
    "display(F)\n",
    "display(type(F[0,0]))\n",
    "\n",
    "S = np.array([[1,2,'3'], [4,5,6]]) \n",
    "display(S)\n",
    "display(type(S[0,0]))"
   ]
  },
  {
   "cell_type": "code",
   "execution_count": 3,
   "id": "414429b1",
   "metadata": {
    "ExecuteTime": {
     "end_time": "2021-10-19T17:32:37.140043Z",
     "start_time": "2021-10-19T17:32:37.135375Z"
    }
   },
   "outputs": [
    {
     "data": {
      "text/plain": [
       "array([[ 0,  1,  2,  3,  4],\n",
       "       [10, 11, 12, 13, 14],\n",
       "       [20, 21, 22, 23, 24],\n",
       "       [30, 31, 32, 33, 34],\n",
       "       [40, 41, 42, 43, 44]])"
      ]
     },
     "execution_count": 3,
     "metadata": {},
     "output_type": "execute_result"
    }
   ],
   "source": [
    "data_list = [\n",
    "    [ 0,  1,  2,  3,  4],\n",
    "    [10, 11, 12, 13, 14],\n",
    "    [20, 21, 22, 23, 24],\n",
    "    [30, 31, 32, 33, 34],\n",
    "    [40, 41, 42, 43, 44],\n",
    "]\n",
    "data_np = np.array(data_list)\n",
    "data_np"
   ]
  },
  {
   "cell_type": "markdown",
   "id": "2e12c0e2",
   "metadata": {},
   "source": [
    "## Slicing and Operations"
   ]
  },
  {
   "cell_type": "code",
   "execution_count": 4,
   "id": "4c936158",
   "metadata": {
    "ExecuteTime": {
     "end_time": "2021-10-19T17:33:23.722513Z",
     "start_time": "2021-10-19T17:33:23.717805Z"
    }
   },
   "outputs": [
    {
     "data": {
      "text/plain": [
       "array([[10, 11, 12, 13, 14],\n",
       "       [20, 21, 22, 23, 24]])"
      ]
     },
     "metadata": {},
     "output_type": "display_data"
    },
    {
     "data": {
      "text/plain": [
       "array([ 2, 12, 22, 32, 42])"
      ]
     },
     "execution_count": 4,
     "metadata": {},
     "output_type": "execute_result"
    }
   ],
   "source": [
    "# Rows - 1 and 2, all columns\n",
    "display(data_np[1:3,:])\n",
    "\n",
    "# Columns - 2, all rows\n",
    "data_np[:,2]"
   ]
  },
  {
   "cell_type": "code",
   "execution_count": 38,
   "id": "52006f3c",
   "metadata": {
    "ExecuteTime": {
     "end_time": "2021-10-19T11:33:51.679334Z",
     "start_time": "2021-10-19T11:33:51.672523Z"
    }
   },
   "outputs": [
    {
     "data": {
      "text/plain": [
       "array([100, 105, 110, 115, 120])"
      ]
     },
     "metadata": {},
     "output_type": "display_data"
    },
    {
     "data": {
      "text/plain": [
       "array([ 10,  60, 110, 160, 210])"
      ]
     },
     "metadata": {},
     "output_type": "display_data"
    },
    {
     "data": {
      "text/plain": [
       "550"
      ]
     },
     "execution_count": 38,
     "metadata": {},
     "output_type": "execute_result"
    }
   ],
   "source": [
    "# sum for each column\n",
    "display(data_np.sum(axis=0))\n",
    "\n",
    "# sum for each row\n",
    "display(data_np.sum(axis=1))\n",
    "\n",
    "# sum for our whole array\n",
    "data_np.sum()"
   ]
  },
  {
   "cell_type": "markdown",
   "id": "091ff702",
   "metadata": {},
   "source": [
    "## Indexing"
   ]
  },
  {
   "cell_type": "code",
   "execution_count": 39,
   "id": "6515263f",
   "metadata": {
    "ExecuteTime": {
     "end_time": "2021-10-19T11:33:51.959487Z",
     "start_time": "2021-10-19T11:33:51.956108Z"
    }
   },
   "outputs": [
    {
     "data": {
      "text/plain": [
       "array([[ True, False, False, False, False],\n",
       "       [False, False, False, False, False],\n",
       "       [False, False, False, False, False],\n",
       "       [False, False, False, False, False],\n",
       "       [False, False, False, False, False]])"
      ]
     },
     "execution_count": 39,
     "metadata": {},
     "output_type": "execute_result"
    }
   ],
   "source": [
    "# Can check for an individual value by calling it on the whole array\n",
    "data_np == 0"
   ]
  },
  {
   "cell_type": "code",
   "execution_count": 40,
   "id": "d8ab7633",
   "metadata": {
    "ExecuteTime": {
     "end_time": "2021-10-19T11:33:52.105095Z",
     "start_time": "2021-10-19T11:33:52.101151Z"
    }
   },
   "outputs": [
    {
     "data": {
      "text/plain": [
       "array([[ True, False,  True, False,  True],\n",
       "       [ True, False,  True, False,  True],\n",
       "       [ True, False,  True, False,  True],\n",
       "       [ True, False,  True, False,  True],\n",
       "       [ True, False,  True, False,  True]])"
      ]
     },
     "execution_count": 40,
     "metadata": {},
     "output_type": "execute_result"
    }
   ],
   "source": [
    "# Or something more complex like Odd vs even\n",
    "data_np % 2 == 0"
   ]
  },
  {
   "cell_type": "code",
   "execution_count": 41,
   "id": "dfa131e7",
   "metadata": {
    "ExecuteTime": {
     "end_time": "2021-10-19T11:33:52.264179Z",
     "start_time": "2021-10-19T11:33:52.259273Z"
    }
   },
   "outputs": [
    {
     "data": {
      "text/plain": [
       "array([ 0,  2,  4, 10, 12, 14, 20, 22, 24, 30, 32, 34, 40, 42, 44])"
      ]
     },
     "execution_count": 41,
     "metadata": {},
     "output_type": "execute_result"
    }
   ],
   "source": [
    "# We can assign the comparison to a variable and use that to index\n",
    "even_mask = data_np % 2 == 0\n",
    "data_np[even_mask]"
   ]
  },
  {
   "cell_type": "code",
   "execution_count": 42,
   "id": "83e95bf4",
   "metadata": {
    "ExecuteTime": {
     "end_time": "2021-10-19T11:33:52.416003Z",
     "start_time": "2021-10-19T11:33:52.411282Z"
    }
   },
   "outputs": [
    {
     "data": {
      "text/plain": [
       "array([ 0,  2,  4, 10, 12, 14, 20, 22, 24, 30, 32, 34, 40, 42, 44])"
      ]
     },
     "execution_count": 42,
     "metadata": {},
     "output_type": "execute_result"
    }
   ],
   "source": [
    "# or wrap the comparison directly in [] to apply on the array\n",
    "data_np[data_np % 2 == 0]"
   ]
  },
  {
   "cell_type": "markdown",
   "id": "df8b263a",
   "metadata": {},
   "source": [
    "# Pandas"
   ]
  },
  {
   "cell_type": "code",
   "execution_count": 5,
   "id": "add73557",
   "metadata": {
    "ExecuteTime": {
     "end_time": "2021-10-19T17:38:51.698542Z",
     "start_time": "2021-10-19T17:38:51.404199Z"
    }
   },
   "outputs": [],
   "source": [
    "import pandas as pd"
   ]
  },
  {
   "cell_type": "markdown",
   "id": "004f3f58",
   "metadata": {},
   "source": [
    "## Series"
   ]
  },
  {
   "cell_type": "code",
   "execution_count": 6,
   "id": "48ab9443",
   "metadata": {
    "ExecuteTime": {
     "end_time": "2021-10-19T17:39:01.968636Z",
     "start_time": "2021-10-19T17:39:01.962709Z"
    }
   },
   "outputs": [
    {
     "data": {
      "text/plain": [
       "id1        1\n",
       "id2        2\n",
       "id3    three\n",
       "dtype: object"
      ]
     },
     "execution_count": 6,
     "metadata": {},
     "output_type": "execute_result"
    }
   ],
   "source": [
    "# A series is just a 1 dimensional - if you use a dictionary keys will become indexs\n",
    "s = pd.Series({'id1': 1, 'id2': 2, 'id3': 'three'})\n",
    "s"
   ]
  },
  {
   "cell_type": "code",
   "execution_count": 45,
   "id": "912d4849",
   "metadata": {
    "ExecuteTime": {
     "end_time": "2021-10-19T11:33:53.471681Z",
     "start_time": "2021-10-19T11:33:53.468170Z"
    }
   },
   "outputs": [
    {
     "data": {
      "text/plain": [
       "(3,)"
      ]
     },
     "execution_count": 45,
     "metadata": {},
     "output_type": "execute_result"
    }
   ],
   "source": [
    "# Indexes are not a column - this series has 3 rows and 0 columns\n",
    "s.shape"
   ]
  },
  {
   "cell_type": "code",
   "execution_count": 9,
   "id": "03a813c4",
   "metadata": {
    "ExecuteTime": {
     "end_time": "2021-10-19T17:40:29.657153Z",
     "start_time": "2021-10-19T17:40:29.653885Z"
    }
   },
   "outputs": [
    {
     "data": {
      "text/plain": [
       "int"
      ]
     },
     "execution_count": 9,
     "metadata": {},
     "output_type": "execute_result"
    }
   ],
   "source": [
    "# They just take the place of the purely numerical index we are used to\n",
    "type(s['id1'])"
   ]
  },
  {
   "cell_type": "code",
   "execution_count": 10,
   "id": "66b3e763",
   "metadata": {
    "ExecuteTime": {
     "end_time": "2021-10-19T17:41:02.378644Z",
     "start_time": "2021-10-19T17:41:02.374130Z"
    }
   },
   "outputs": [
    {
     "data": {
      "text/plain": [
       "0    1\n",
       "1    2\n",
       "2    3\n",
       "dtype: int64"
      ]
     },
     "execution_count": 10,
     "metadata": {},
     "output_type": "execute_result"
    }
   ],
   "source": [
    "# If you pass a single list, numerical indexs will be assigned\n",
    "pd.Series([1,2,3])"
   ]
  },
  {
   "cell_type": "markdown",
   "id": "9d824927",
   "metadata": {},
   "source": [
    "## Dataframes"
   ]
  },
  {
   "cell_type": "code",
   "execution_count": 48,
   "id": "d3afa7ba",
   "metadata": {
    "ExecuteTime": {
     "end_time": "2021-10-19T11:33:54.810168Z",
     "start_time": "2021-10-19T11:33:54.801606Z"
    }
   },
   "outputs": [
    {
     "data": {
      "text/plain": [
       "{'apples': [1, 2, 3], 'oranges': [4, 5, 6]}"
      ]
     },
     "metadata": {},
     "output_type": "display_data"
    },
    {
     "data": {
      "text/html": [
       "<div>\n",
       "<style scoped>\n",
       "    .dataframe tbody tr th:only-of-type {\n",
       "        vertical-align: middle;\n",
       "    }\n",
       "\n",
       "    .dataframe tbody tr th {\n",
       "        vertical-align: top;\n",
       "    }\n",
       "\n",
       "    .dataframe thead th {\n",
       "        text-align: right;\n",
       "    }\n",
       "</style>\n",
       "<table border=\"1\" class=\"dataframe\">\n",
       "  <thead>\n",
       "    <tr style=\"text-align: right;\">\n",
       "      <th></th>\n",
       "      <th>apples</th>\n",
       "      <th>oranges</th>\n",
       "    </tr>\n",
       "  </thead>\n",
       "  <tbody>\n",
       "    <tr>\n",
       "      <th>0</th>\n",
       "      <td>1</td>\n",
       "      <td>4</td>\n",
       "    </tr>\n",
       "    <tr>\n",
       "      <th>1</th>\n",
       "      <td>2</td>\n",
       "      <td>5</td>\n",
       "    </tr>\n",
       "    <tr>\n",
       "      <th>2</th>\n",
       "      <td>3</td>\n",
       "      <td>6</td>\n",
       "    </tr>\n",
       "  </tbody>\n",
       "</table>\n",
       "</div>"
      ],
      "text/plain": [
       "   apples  oranges\n",
       "0       1        4\n",
       "1       2        5\n",
       "2       3        6"
      ]
     },
     "execution_count": 48,
     "metadata": {},
     "output_type": "execute_result"
    }
   ],
   "source": [
    "# We can make dataframes from a dictionary whose values are identical size lists:\n",
    "d = {\n",
    "    \"apples\": [1, 2, 3],\n",
    "    \"oranges\": [4, 5, 6],\n",
    "}\n",
    "display(d)\n",
    "pd.DataFrame(d)"
   ]
  },
  {
   "cell_type": "code",
   "execution_count": 49,
   "id": "8fa8473b",
   "metadata": {
    "ExecuteTime": {
     "end_time": "2021-10-19T11:33:55.240854Z",
     "start_time": "2021-10-19T11:33:55.231794Z"
    }
   },
   "outputs": [
    {
     "data": {
      "text/plain": [
       "[{'apples': 1, 'oranges': 4},\n",
       " {'apples': 2, 'oranges': 5},\n",
       " {'apples': 3, 'oranges': 6}]"
      ]
     },
     "metadata": {},
     "output_type": "display_data"
    },
    {
     "data": {
      "text/html": [
       "<div>\n",
       "<style scoped>\n",
       "    .dataframe tbody tr th:only-of-type {\n",
       "        vertical-align: middle;\n",
       "    }\n",
       "\n",
       "    .dataframe tbody tr th {\n",
       "        vertical-align: top;\n",
       "    }\n",
       "\n",
       "    .dataframe thead th {\n",
       "        text-align: right;\n",
       "    }\n",
       "</style>\n",
       "<table border=\"1\" class=\"dataframe\">\n",
       "  <thead>\n",
       "    <tr style=\"text-align: right;\">\n",
       "      <th></th>\n",
       "      <th>apples</th>\n",
       "      <th>oranges</th>\n",
       "    </tr>\n",
       "  </thead>\n",
       "  <tbody>\n",
       "    <tr>\n",
       "      <th>0</th>\n",
       "      <td>1</td>\n",
       "      <td>4</td>\n",
       "    </tr>\n",
       "    <tr>\n",
       "      <th>1</th>\n",
       "      <td>2</td>\n",
       "      <td>5</td>\n",
       "    </tr>\n",
       "    <tr>\n",
       "      <th>2</th>\n",
       "      <td>3</td>\n",
       "      <td>6</td>\n",
       "    </tr>\n",
       "  </tbody>\n",
       "</table>\n",
       "</div>"
      ],
      "text/plain": [
       "   apples  oranges\n",
       "0       1        4\n",
       "1       2        5\n",
       "2       3        6"
      ]
     },
     "execution_count": 49,
     "metadata": {},
     "output_type": "execute_result"
    }
   ],
   "source": [
    "# or a list full of dictionaries with identical keys\n",
    "l = [{'apples': i, 'oranges':i+3} for i in range(1,4)]\n",
    "display(l)\n",
    "pd.DataFrame(l)"
   ]
  },
  {
   "cell_type": "markdown",
   "id": "0d6e3294",
   "metadata": {},
   "source": [
    "## DF Manipulation"
   ]
  },
  {
   "cell_type": "code",
   "execution_count": 45,
   "id": "c23dd3b0",
   "metadata": {
    "ExecuteTime": {
     "end_time": "2021-10-19T18:08:14.591133Z",
     "start_time": "2021-10-19T18:08:14.585261Z"
    }
   },
   "outputs": [],
   "source": [
    "file = \"countries.csv\" # Path relative to your notebook\n",
    "countries_df = pd.read_csv(file, decimal=',')"
   ]
  },
  {
   "cell_type": "code",
   "execution_count": 12,
   "id": "f3019c06",
   "metadata": {
    "ExecuteTime": {
     "end_time": "2021-10-19T17:45:12.828673Z",
     "start_time": "2021-10-19T17:45:12.807007Z"
    }
   },
   "outputs": [
    {
     "data": {
      "text/html": [
       "<div>\n",
       "<style scoped>\n",
       "    .dataframe tbody tr th:only-of-type {\n",
       "        vertical-align: middle;\n",
       "    }\n",
       "\n",
       "    .dataframe tbody tr th {\n",
       "        vertical-align: top;\n",
       "    }\n",
       "\n",
       "    .dataframe thead th {\n",
       "        text-align: right;\n",
       "    }\n",
       "</style>\n",
       "<table border=\"1\" class=\"dataframe\">\n",
       "  <thead>\n",
       "    <tr style=\"text-align: right;\">\n",
       "      <th></th>\n",
       "      <th>Country</th>\n",
       "      <th>Region</th>\n",
       "      <th>Population</th>\n",
       "      <th>Area (sq. mi.)</th>\n",
       "      <th>Pop. Density (per sq. mi.)</th>\n",
       "      <th>Coastline (coast/area ratio)</th>\n",
       "      <th>Net migration</th>\n",
       "      <th>Infant mortality (per 1000 births)</th>\n",
       "      <th>GDP ($ per capita)</th>\n",
       "      <th>Literacy (%)</th>\n",
       "      <th>Phones (per 1000)</th>\n",
       "      <th>Arable (%)</th>\n",
       "      <th>Crops (%)</th>\n",
       "      <th>Other (%)</th>\n",
       "      <th>Climate</th>\n",
       "      <th>Birthrate</th>\n",
       "      <th>Deathrate</th>\n",
       "      <th>Agriculture</th>\n",
       "      <th>Industry</th>\n",
       "      <th>Service</th>\n",
       "    </tr>\n",
       "  </thead>\n",
       "  <tbody>\n",
       "    <tr>\n",
       "      <th>0</th>\n",
       "      <td>Afghanistan</td>\n",
       "      <td>ASIA (EX. NEAR EAST)</td>\n",
       "      <td>31056997</td>\n",
       "      <td>647500</td>\n",
       "      <td>48.0</td>\n",
       "      <td>0.00</td>\n",
       "      <td>23.06</td>\n",
       "      <td>163.07</td>\n",
       "      <td>700.0</td>\n",
       "      <td>36.0</td>\n",
       "      <td>3.2</td>\n",
       "      <td>12.13</td>\n",
       "      <td>0.22</td>\n",
       "      <td>87.65</td>\n",
       "      <td>1.0</td>\n",
       "      <td>46.60</td>\n",
       "      <td>20.34</td>\n",
       "      <td>0.380</td>\n",
       "      <td>0.240</td>\n",
       "      <td>0.380</td>\n",
       "    </tr>\n",
       "    <tr>\n",
       "      <th>1</th>\n",
       "      <td>Albania</td>\n",
       "      <td>EASTERN EUROPE</td>\n",
       "      <td>3581655</td>\n",
       "      <td>28748</td>\n",
       "      <td>124.6</td>\n",
       "      <td>1.26</td>\n",
       "      <td>-4.93</td>\n",
       "      <td>21.52</td>\n",
       "      <td>4500.0</td>\n",
       "      <td>86.5</td>\n",
       "      <td>71.2</td>\n",
       "      <td>21.09</td>\n",
       "      <td>4.42</td>\n",
       "      <td>74.49</td>\n",
       "      <td>3.0</td>\n",
       "      <td>15.11</td>\n",
       "      <td>5.22</td>\n",
       "      <td>0.232</td>\n",
       "      <td>0.188</td>\n",
       "      <td>0.579</td>\n",
       "    </tr>\n",
       "    <tr>\n",
       "      <th>2</th>\n",
       "      <td>Algeria</td>\n",
       "      <td>NORTHERN AFRICA</td>\n",
       "      <td>32930091</td>\n",
       "      <td>2381740</td>\n",
       "      <td>13.8</td>\n",
       "      <td>0.04</td>\n",
       "      <td>-0.39</td>\n",
       "      <td>31.00</td>\n",
       "      <td>6000.0</td>\n",
       "      <td>70.0</td>\n",
       "      <td>78.1</td>\n",
       "      <td>3.22</td>\n",
       "      <td>0.25</td>\n",
       "      <td>96.53</td>\n",
       "      <td>1.0</td>\n",
       "      <td>17.14</td>\n",
       "      <td>4.61</td>\n",
       "      <td>0.101</td>\n",
       "      <td>0.600</td>\n",
       "      <td>0.298</td>\n",
       "    </tr>\n",
       "    <tr>\n",
       "      <th>3</th>\n",
       "      <td>American Samoa</td>\n",
       "      <td>OCEANIA</td>\n",
       "      <td>57794</td>\n",
       "      <td>199</td>\n",
       "      <td>290.4</td>\n",
       "      <td>58.29</td>\n",
       "      <td>-20.71</td>\n",
       "      <td>9.27</td>\n",
       "      <td>8000.0</td>\n",
       "      <td>97.0</td>\n",
       "      <td>259.5</td>\n",
       "      <td>10.00</td>\n",
       "      <td>15.00</td>\n",
       "      <td>75.00</td>\n",
       "      <td>2.0</td>\n",
       "      <td>22.46</td>\n",
       "      <td>3.27</td>\n",
       "      <td>NaN</td>\n",
       "      <td>NaN</td>\n",
       "      <td>NaN</td>\n",
       "    </tr>\n",
       "    <tr>\n",
       "      <th>4</th>\n",
       "      <td>Andorra</td>\n",
       "      <td>WESTERN EUROPE</td>\n",
       "      <td>71201</td>\n",
       "      <td>468</td>\n",
       "      <td>152.1</td>\n",
       "      <td>0.00</td>\n",
       "      <td>6.60</td>\n",
       "      <td>4.05</td>\n",
       "      <td>19000.0</td>\n",
       "      <td>100.0</td>\n",
       "      <td>497.2</td>\n",
       "      <td>2.22</td>\n",
       "      <td>0.00</td>\n",
       "      <td>97.78</td>\n",
       "      <td>3.0</td>\n",
       "      <td>8.71</td>\n",
       "      <td>6.25</td>\n",
       "      <td>NaN</td>\n",
       "      <td>NaN</td>\n",
       "      <td>NaN</td>\n",
       "    </tr>\n",
       "  </tbody>\n",
       "</table>\n",
       "</div>"
      ],
      "text/plain": [
       "           Country                               Region  Population  \\\n",
       "0     Afghanistan         ASIA (EX. NEAR EAST)             31056997   \n",
       "1         Albania   EASTERN EUROPE                          3581655   \n",
       "2         Algeria   NORTHERN AFRICA                        32930091   \n",
       "3  American Samoa   OCEANIA                                   57794   \n",
       "4         Andorra   WESTERN EUROPE                            71201   \n",
       "\n",
       "   Area (sq. mi.)  Pop. Density (per sq. mi.)  Coastline (coast/area ratio)  \\\n",
       "0          647500                        48.0                          0.00   \n",
       "1           28748                       124.6                          1.26   \n",
       "2         2381740                        13.8                          0.04   \n",
       "3             199                       290.4                         58.29   \n",
       "4             468                       152.1                          0.00   \n",
       "\n",
       "   Net migration  Infant mortality (per 1000 births)  GDP ($ per capita)  \\\n",
       "0          23.06                              163.07               700.0   \n",
       "1          -4.93                               21.52              4500.0   \n",
       "2          -0.39                               31.00              6000.0   \n",
       "3         -20.71                                9.27              8000.0   \n",
       "4           6.60                                4.05             19000.0   \n",
       "\n",
       "   Literacy (%)  Phones (per 1000)  Arable (%)  Crops (%)  Other (%)  Climate  \\\n",
       "0          36.0                3.2       12.13       0.22      87.65      1.0   \n",
       "1          86.5               71.2       21.09       4.42      74.49      3.0   \n",
       "2          70.0               78.1        3.22       0.25      96.53      1.0   \n",
       "3          97.0              259.5       10.00      15.00      75.00      2.0   \n",
       "4         100.0              497.2        2.22       0.00      97.78      3.0   \n",
       "\n",
       "   Birthrate  Deathrate  Agriculture  Industry  Service  \n",
       "0      46.60      20.34        0.380     0.240    0.380  \n",
       "1      15.11       5.22        0.232     0.188    0.579  \n",
       "2      17.14       4.61        0.101     0.600    0.298  \n",
       "3      22.46       3.27          NaN       NaN      NaN  \n",
       "4       8.71       6.25          NaN       NaN      NaN  "
      ]
     },
     "execution_count": 12,
     "metadata": {},
     "output_type": "execute_result"
    }
   ],
   "source": [
    "countries_df.head()"
   ]
  },
  {
   "cell_type": "markdown",
   "id": "f409ee26",
   "metadata": {},
   "source": [
    "### Selecting columns"
   ]
  },
  {
   "cell_type": "code",
   "execution_count": 13,
   "id": "8ddd8dac",
   "metadata": {
    "ExecuteTime": {
     "end_time": "2021-10-19T17:46:03.491924Z",
     "start_time": "2021-10-19T17:46:03.486078Z"
    }
   },
   "outputs": [
    {
     "data": {
      "text/plain": [
       "pandas.core.series.Series"
      ]
     },
     "metadata": {},
     "output_type": "display_data"
    },
    {
     "data": {
      "text/plain": [
       "(227,)"
      ]
     },
     "metadata": {},
     "output_type": "display_data"
    },
    {
     "data": {
      "text/plain": [
       "0       Afghanistan \n",
       "1           Albania \n",
       "2           Algeria \n",
       "3    American Samoa \n",
       "4           Andorra \n",
       "Name: Country, dtype: object"
      ]
     },
     "execution_count": 13,
     "metadata": {},
     "output_type": "execute_result"
    }
   ],
   "source": [
    "# Using just one square bracket returns a SERIES\n",
    "s = countries_df['Country']\n",
    "\n",
    "display(type(s))\n",
    "display(s.shape)\n",
    "s.head()"
   ]
  },
  {
   "cell_type": "code",
   "execution_count": 14,
   "id": "2d07f5c9",
   "metadata": {
    "ExecuteTime": {
     "end_time": "2021-10-19T17:46:08.693609Z",
     "start_time": "2021-10-19T17:46:08.685008Z"
    }
   },
   "outputs": [
    {
     "data": {
      "text/plain": [
       "pandas.core.frame.DataFrame"
      ]
     },
     "metadata": {},
     "output_type": "display_data"
    },
    {
     "data": {
      "text/plain": [
       "(227, 1)"
      ]
     },
     "metadata": {},
     "output_type": "display_data"
    },
    {
     "data": {
      "text/html": [
       "<div>\n",
       "<style scoped>\n",
       "    .dataframe tbody tr th:only-of-type {\n",
       "        vertical-align: middle;\n",
       "    }\n",
       "\n",
       "    .dataframe tbody tr th {\n",
       "        vertical-align: top;\n",
       "    }\n",
       "\n",
       "    .dataframe thead th {\n",
       "        text-align: right;\n",
       "    }\n",
       "</style>\n",
       "<table border=\"1\" class=\"dataframe\">\n",
       "  <thead>\n",
       "    <tr style=\"text-align: right;\">\n",
       "      <th></th>\n",
       "      <th>Country</th>\n",
       "    </tr>\n",
       "  </thead>\n",
       "  <tbody>\n",
       "    <tr>\n",
       "      <th>0</th>\n",
       "      <td>Afghanistan</td>\n",
       "    </tr>\n",
       "    <tr>\n",
       "      <th>1</th>\n",
       "      <td>Albania</td>\n",
       "    </tr>\n",
       "    <tr>\n",
       "      <th>2</th>\n",
       "      <td>Algeria</td>\n",
       "    </tr>\n",
       "    <tr>\n",
       "      <th>3</th>\n",
       "      <td>American Samoa</td>\n",
       "    </tr>\n",
       "    <tr>\n",
       "      <th>4</th>\n",
       "      <td>Andorra</td>\n",
       "    </tr>\n",
       "  </tbody>\n",
       "</table>\n",
       "</div>"
      ],
      "text/plain": [
       "           Country\n",
       "0     Afghanistan \n",
       "1         Albania \n",
       "2         Algeria \n",
       "3  American Samoa \n",
       "4         Andorra "
      ]
     },
     "execution_count": 14,
     "metadata": {},
     "output_type": "execute_result"
    }
   ],
   "source": [
    "# Using two square brackets keeps it as a 2D dataframe\n",
    "d = countries_df[['Country']]\n",
    "\n",
    "display(type(d))\n",
    "display(d.shape)\n",
    "d.head()"
   ]
  },
  {
   "cell_type": "code",
   "execution_count": 15,
   "id": "7be95324",
   "metadata": {
    "ExecuteTime": {
     "end_time": "2021-10-19T17:46:23.540074Z",
     "start_time": "2021-10-19T17:46:23.536275Z"
    }
   },
   "outputs": [
    {
     "name": "stdout",
     "output_type": "stream",
     "text": [
      "# of series options:  433\n",
      "# of dataframe options:  442\n"
     ]
    }
   ],
   "source": [
    "# Methods / attributes will be different based on what type of object you return\n",
    "print('# of series options: ', len(dir(s)))\n",
    "print('# of dataframe options: ', len(dir(d)))"
   ]
  },
  {
   "cell_type": "code",
   "execution_count": 17,
   "id": "72673fab",
   "metadata": {
    "ExecuteTime": {
     "end_time": "2021-10-19T17:48:12.947044Z",
     "start_time": "2021-10-19T17:48:12.942632Z"
    }
   },
   "outputs": [
    {
     "data": {
      "text/plain": [
       "0         Afghanistan \n",
       "1             Albania \n",
       "2             Algeria \n",
       "3      American Samoa \n",
       "4             Andorra \n",
       "            ...       \n",
       "222         West Bank \n",
       "223    Western Sahara \n",
       "224             Yemen \n",
       "225            Zambia \n",
       "226          Zimbabwe \n",
       "Name: Country, Length: 227, dtype: object"
      ]
     },
     "execution_count": 17,
     "metadata": {},
     "output_type": "execute_result"
    }
   ],
   "source": [
    "# BONUS - single \".\" notation for quickly returning series from column\n",
    "countries_df.Country"
   ]
  },
  {
   "cell_type": "markdown",
   "id": "05af9d72",
   "metadata": {},
   "source": [
    "### loc vs iloc"
   ]
  },
  {
   "cell_type": "markdown",
   "id": "e62f38e5",
   "metadata": {
    "ExecuteTime": {
     "end_time": "2021-10-19T13:16:40.100553Z",
     "start_time": "2021-10-19T13:16:40.098482Z"
    }
   },
   "source": [
    "Now that we are no longer in standard python lists or numpy arrays we can be very specific with naming our row and column indexes"
   ]
  },
  {
   "cell_type": "code",
   "execution_count": 97,
   "id": "47b2fc06",
   "metadata": {
    "ExecuteTime": {
     "end_time": "2021-10-19T13:16:58.331657Z",
     "start_time": "2021-10-19T13:16:58.312447Z"
    }
   },
   "outputs": [
    {
     "data": {
      "text/html": [
       "<div>\n",
       "<style scoped>\n",
       "    .dataframe tbody tr th:only-of-type {\n",
       "        vertical-align: middle;\n",
       "    }\n",
       "\n",
       "    .dataframe tbody tr th {\n",
       "        vertical-align: top;\n",
       "    }\n",
       "\n",
       "    .dataframe thead th {\n",
       "        text-align: right;\n",
       "    }\n",
       "</style>\n",
       "<table border=\"1\" class=\"dataframe\">\n",
       "  <thead>\n",
       "    <tr style=\"text-align: right;\">\n",
       "      <th></th>\n",
       "      <th>Country</th>\n",
       "      <th>Region</th>\n",
       "      <th>Population</th>\n",
       "      <th>Area (sq. mi.)</th>\n",
       "      <th>Pop. Density (per sq. mi.)</th>\n",
       "      <th>Coastline (coast/area ratio)</th>\n",
       "      <th>Net migration</th>\n",
       "      <th>Infant mortality (per 1000 births)</th>\n",
       "      <th>GDP ($ per capita)</th>\n",
       "      <th>Literacy (%)</th>\n",
       "      <th>Phones (per 1000)</th>\n",
       "      <th>Arable (%)</th>\n",
       "      <th>Crops (%)</th>\n",
       "      <th>Other (%)</th>\n",
       "      <th>Climate</th>\n",
       "      <th>Birthrate</th>\n",
       "      <th>Deathrate</th>\n",
       "      <th>Agriculture</th>\n",
       "      <th>Industry</th>\n",
       "      <th>Service</th>\n",
       "    </tr>\n",
       "  </thead>\n",
       "  <tbody>\n",
       "    <tr>\n",
       "      <th>0</th>\n",
       "      <td>Afghanistan</td>\n",
       "      <td>ASIA (EX. NEAR EAST)</td>\n",
       "      <td>31056997</td>\n",
       "      <td>647500</td>\n",
       "      <td>48.0</td>\n",
       "      <td>0.00</td>\n",
       "      <td>23.06</td>\n",
       "      <td>163.07</td>\n",
       "      <td>700.0</td>\n",
       "      <td>36.0</td>\n",
       "      <td>3.2</td>\n",
       "      <td>12.13</td>\n",
       "      <td>0.22</td>\n",
       "      <td>87.65</td>\n",
       "      <td>1.0</td>\n",
       "      <td>46.60</td>\n",
       "      <td>20.34</td>\n",
       "      <td>0.380</td>\n",
       "      <td>0.240</td>\n",
       "      <td>0.380</td>\n",
       "    </tr>\n",
       "    <tr>\n",
       "      <th>1</th>\n",
       "      <td>Albania</td>\n",
       "      <td>EASTERN EUROPE</td>\n",
       "      <td>3581655</td>\n",
       "      <td>28748</td>\n",
       "      <td>124.6</td>\n",
       "      <td>1.26</td>\n",
       "      <td>-4.93</td>\n",
       "      <td>21.52</td>\n",
       "      <td>4500.0</td>\n",
       "      <td>86.5</td>\n",
       "      <td>71.2</td>\n",
       "      <td>21.09</td>\n",
       "      <td>4.42</td>\n",
       "      <td>74.49</td>\n",
       "      <td>3.0</td>\n",
       "      <td>15.11</td>\n",
       "      <td>5.22</td>\n",
       "      <td>0.232</td>\n",
       "      <td>0.188</td>\n",
       "      <td>0.579</td>\n",
       "    </tr>\n",
       "  </tbody>\n",
       "</table>\n",
       "</div>"
      ],
      "text/plain": [
       "        Country                               Region  Population  \\\n",
       "0  Afghanistan         ASIA (EX. NEAR EAST)             31056997   \n",
       "1      Albania   EASTERN EUROPE                          3581655   \n",
       "\n",
       "   Area (sq. mi.)  Pop. Density (per sq. mi.)  Coastline (coast/area ratio)  \\\n",
       "0          647500                        48.0                          0.00   \n",
       "1           28748                       124.6                          1.26   \n",
       "\n",
       "   Net migration  Infant mortality (per 1000 births)  GDP ($ per capita)  \\\n",
       "0          23.06                              163.07               700.0   \n",
       "1          -4.93                               21.52              4500.0   \n",
       "\n",
       "   Literacy (%)  Phones (per 1000)  Arable (%)  Crops (%)  Other (%)  Climate  \\\n",
       "0          36.0                3.2       12.13       0.22      87.65      1.0   \n",
       "1          86.5               71.2       21.09       4.42      74.49      3.0   \n",
       "\n",
       "   Birthrate  Deathrate  Agriculture  Industry  Service  \n",
       "0      46.60      20.34        0.380     0.240    0.380  \n",
       "1      15.11       5.22        0.232     0.188    0.579  "
      ]
     },
     "execution_count": 97,
     "metadata": {},
     "output_type": "execute_result"
    }
   ],
   "source": [
    "countries_df.head(2)"
   ]
  },
  {
   "cell_type": "markdown",
   "id": "4ba1c502",
   "metadata": {},
   "source": [
    "Right now our dataframe is using numerical indexes for rows (0,1 above) and string indexes for the columns (\"Country\", \"Region\", \"Population\")."
   ]
  },
  {
   "cell_type": "code",
   "execution_count": 18,
   "id": "5eb5813d",
   "metadata": {
    "ExecuteTime": {
     "end_time": "2021-10-19T17:49:19.331659Z",
     "start_time": "2021-10-19T17:49:19.324225Z"
    }
   },
   "outputs": [
    {
     "data": {
      "text/html": [
       "<div>\n",
       "<style scoped>\n",
       "    .dataframe tbody tr th:only-of-type {\n",
       "        vertical-align: middle;\n",
       "    }\n",
       "\n",
       "    .dataframe tbody tr th {\n",
       "        vertical-align: top;\n",
       "    }\n",
       "\n",
       "    .dataframe thead th {\n",
       "        text-align: right;\n",
       "    }\n",
       "</style>\n",
       "<table border=\"1\" class=\"dataframe\">\n",
       "  <thead>\n",
       "    <tr style=\"text-align: right;\">\n",
       "      <th></th>\n",
       "      <th>Country</th>\n",
       "      <th>Region</th>\n",
       "      <th>Population</th>\n",
       "    </tr>\n",
       "  </thead>\n",
       "  <tbody>\n",
       "    <tr>\n",
       "      <th>0</th>\n",
       "      <td>Afghanistan</td>\n",
       "      <td>ASIA (EX. NEAR EAST)</td>\n",
       "      <td>31056997</td>\n",
       "    </tr>\n",
       "    <tr>\n",
       "      <th>1</th>\n",
       "      <td>Albania</td>\n",
       "      <td>EASTERN EUROPE</td>\n",
       "      <td>3581655</td>\n",
       "    </tr>\n",
       "  </tbody>\n",
       "</table>\n",
       "</div>"
      ],
      "text/plain": [
       "        Country                               Region  Population\n",
       "0  Afghanistan         ASIA (EX. NEAR EAST)             31056997\n",
       "1      Albania   EASTERN EUROPE                          3581655"
      ]
     },
     "execution_count": 18,
     "metadata": {},
     "output_type": "execute_result"
    }
   ],
   "source": [
    "# Indexing specific rows / columns with loc LOCATION, stop is included\n",
    "# row indexs are still numerics at this point\n",
    "countries_df.loc[0:1, 'Country':'Population']"
   ]
  },
  {
   "cell_type": "code",
   "execution_count": 19,
   "id": "97f2fd29",
   "metadata": {
    "ExecuteTime": {
     "end_time": "2021-10-19T17:49:35.015589Z",
     "start_time": "2021-10-19T17:49:35.009063Z"
    }
   },
   "outputs": [
    {
     "data": {
      "text/html": [
       "<div>\n",
       "<style scoped>\n",
       "    .dataframe tbody tr th:only-of-type {\n",
       "        vertical-align: middle;\n",
       "    }\n",
       "\n",
       "    .dataframe tbody tr th {\n",
       "        vertical-align: top;\n",
       "    }\n",
       "\n",
       "    .dataframe thead th {\n",
       "        text-align: right;\n",
       "    }\n",
       "</style>\n",
       "<table border=\"1\" class=\"dataframe\">\n",
       "  <thead>\n",
       "    <tr style=\"text-align: right;\">\n",
       "      <th></th>\n",
       "      <th>Country</th>\n",
       "      <th>Region</th>\n",
       "      <th>Population</th>\n",
       "    </tr>\n",
       "  </thead>\n",
       "  <tbody>\n",
       "    <tr>\n",
       "      <th>0</th>\n",
       "      <td>Afghanistan</td>\n",
       "      <td>ASIA (EX. NEAR EAST)</td>\n",
       "      <td>31056997</td>\n",
       "    </tr>\n",
       "    <tr>\n",
       "      <th>1</th>\n",
       "      <td>Albania</td>\n",
       "      <td>EASTERN EUROPE</td>\n",
       "      <td>3581655</td>\n",
       "    </tr>\n",
       "  </tbody>\n",
       "</table>\n",
       "</div>"
      ],
      "text/plain": [
       "        Country                               Region  Population\n",
       "0  Afghanistan         ASIA (EX. NEAR EAST)             31056997\n",
       "1      Albania   EASTERN EUROPE                          3581655"
      ]
     },
     "execution_count": 19,
     "metadata": {},
     "output_type": "execute_result"
    }
   ],
   "source": [
    "# Indexing with iloc INDEX LOCATION is exclusive of the stop\n",
    "# returns first row and first 2 columns\n",
    "countries_df.iloc[0:2, 0:3]"
   ]
  },
  {
   "cell_type": "markdown",
   "id": "45631f75",
   "metadata": {},
   "source": [
    "So what's really happening?  First let's update the df with row indexes which aren't numerical"
   ]
  },
  {
   "cell_type": "code",
   "execution_count": 20,
   "id": "02ff33d4",
   "metadata": {
    "ExecuteTime": {
     "end_time": "2021-10-19T17:50:34.104200Z",
     "start_time": "2021-10-19T17:50:34.085311Z"
    }
   },
   "outputs": [
    {
     "data": {
      "text/html": [
       "<div>\n",
       "<style scoped>\n",
       "    .dataframe tbody tr th:only-of-type {\n",
       "        vertical-align: middle;\n",
       "    }\n",
       "\n",
       "    .dataframe tbody tr th {\n",
       "        vertical-align: top;\n",
       "    }\n",
       "\n",
       "    .dataframe thead th {\n",
       "        text-align: right;\n",
       "    }\n",
       "</style>\n",
       "<table border=\"1\" class=\"dataframe\">\n",
       "  <thead>\n",
       "    <tr style=\"text-align: right;\">\n",
       "      <th></th>\n",
       "      <th>Region</th>\n",
       "      <th>Population</th>\n",
       "      <th>Area (sq. mi.)</th>\n",
       "      <th>Pop. Density (per sq. mi.)</th>\n",
       "      <th>Coastline (coast/area ratio)</th>\n",
       "      <th>Net migration</th>\n",
       "      <th>Infant mortality (per 1000 births)</th>\n",
       "      <th>GDP ($ per capita)</th>\n",
       "      <th>Literacy (%)</th>\n",
       "      <th>Phones (per 1000)</th>\n",
       "      <th>Arable (%)</th>\n",
       "      <th>Crops (%)</th>\n",
       "      <th>Other (%)</th>\n",
       "      <th>Climate</th>\n",
       "      <th>Birthrate</th>\n",
       "      <th>Deathrate</th>\n",
       "      <th>Agriculture</th>\n",
       "      <th>Industry</th>\n",
       "      <th>Service</th>\n",
       "    </tr>\n",
       "    <tr>\n",
       "      <th>Country</th>\n",
       "      <th></th>\n",
       "      <th></th>\n",
       "      <th></th>\n",
       "      <th></th>\n",
       "      <th></th>\n",
       "      <th></th>\n",
       "      <th></th>\n",
       "      <th></th>\n",
       "      <th></th>\n",
       "      <th></th>\n",
       "      <th></th>\n",
       "      <th></th>\n",
       "      <th></th>\n",
       "      <th></th>\n",
       "      <th></th>\n",
       "      <th></th>\n",
       "      <th></th>\n",
       "      <th></th>\n",
       "      <th></th>\n",
       "    </tr>\n",
       "  </thead>\n",
       "  <tbody>\n",
       "    <tr>\n",
       "      <th>Afghanistan</th>\n",
       "      <td>ASIA (EX. NEAR EAST)</td>\n",
       "      <td>31056997</td>\n",
       "      <td>647500</td>\n",
       "      <td>48.0</td>\n",
       "      <td>0.00</td>\n",
       "      <td>23.06</td>\n",
       "      <td>163.07</td>\n",
       "      <td>700.0</td>\n",
       "      <td>36.0</td>\n",
       "      <td>3.2</td>\n",
       "      <td>12.13</td>\n",
       "      <td>0.22</td>\n",
       "      <td>87.65</td>\n",
       "      <td>1.0</td>\n",
       "      <td>46.60</td>\n",
       "      <td>20.34</td>\n",
       "      <td>0.380</td>\n",
       "      <td>0.240</td>\n",
       "      <td>0.380</td>\n",
       "    </tr>\n",
       "    <tr>\n",
       "      <th>Albania</th>\n",
       "      <td>EASTERN EUROPE</td>\n",
       "      <td>3581655</td>\n",
       "      <td>28748</td>\n",
       "      <td>124.6</td>\n",
       "      <td>1.26</td>\n",
       "      <td>-4.93</td>\n",
       "      <td>21.52</td>\n",
       "      <td>4500.0</td>\n",
       "      <td>86.5</td>\n",
       "      <td>71.2</td>\n",
       "      <td>21.09</td>\n",
       "      <td>4.42</td>\n",
       "      <td>74.49</td>\n",
       "      <td>3.0</td>\n",
       "      <td>15.11</td>\n",
       "      <td>5.22</td>\n",
       "      <td>0.232</td>\n",
       "      <td>0.188</td>\n",
       "      <td>0.579</td>\n",
       "    </tr>\n",
       "    <tr>\n",
       "      <th>Algeria</th>\n",
       "      <td>NORTHERN AFRICA</td>\n",
       "      <td>32930091</td>\n",
       "      <td>2381740</td>\n",
       "      <td>13.8</td>\n",
       "      <td>0.04</td>\n",
       "      <td>-0.39</td>\n",
       "      <td>31.00</td>\n",
       "      <td>6000.0</td>\n",
       "      <td>70.0</td>\n",
       "      <td>78.1</td>\n",
       "      <td>3.22</td>\n",
       "      <td>0.25</td>\n",
       "      <td>96.53</td>\n",
       "      <td>1.0</td>\n",
       "      <td>17.14</td>\n",
       "      <td>4.61</td>\n",
       "      <td>0.101</td>\n",
       "      <td>0.600</td>\n",
       "      <td>0.298</td>\n",
       "    </tr>\n",
       "  </tbody>\n",
       "</table>\n",
       "</div>"
      ],
      "text/plain": [
       "                                           Region  Population  Area (sq. mi.)  \\\n",
       "Country                                                                         \n",
       "Afghanistan         ASIA (EX. NEAR EAST)             31056997          647500   \n",
       "Albania       EASTERN EUROPE                          3581655           28748   \n",
       "Algeria       NORTHERN AFRICA                        32930091         2381740   \n",
       "\n",
       "              Pop. Density (per sq. mi.)  Coastline (coast/area ratio)  \\\n",
       "Country                                                                  \n",
       "Afghanistan                         48.0                          0.00   \n",
       "Albania                            124.6                          1.26   \n",
       "Algeria                             13.8                          0.04   \n",
       "\n",
       "              Net migration  Infant mortality (per 1000 births)  \\\n",
       "Country                                                           \n",
       "Afghanistan           23.06                              163.07   \n",
       "Albania               -4.93                               21.52   \n",
       "Algeria               -0.39                               31.00   \n",
       "\n",
       "              GDP ($ per capita)  Literacy (%)  Phones (per 1000)  Arable (%)  \\\n",
       "Country                                                                         \n",
       "Afghanistan                700.0          36.0                3.2       12.13   \n",
       "Albania                   4500.0          86.5               71.2       21.09   \n",
       "Algeria                   6000.0          70.0               78.1        3.22   \n",
       "\n",
       "              Crops (%)  Other (%)  Climate  Birthrate  Deathrate  \\\n",
       "Country                                                             \n",
       "Afghanistan        0.22      87.65      1.0      46.60      20.34   \n",
       "Albania            4.42      74.49      3.0      15.11       5.22   \n",
       "Algeria            0.25      96.53      1.0      17.14       4.61   \n",
       "\n",
       "              Agriculture  Industry  Service  \n",
       "Country                                       \n",
       "Afghanistan         0.380     0.240    0.380  \n",
       "Albania             0.232     0.188    0.579  \n",
       "Algeria             0.101     0.600    0.298  "
      ]
     },
     "execution_count": 20,
     "metadata": {},
     "output_type": "execute_result"
    }
   ],
   "source": [
    "# Notice the column name dropped and the values are bold, these are now the indexes for our row\n",
    "indexed_countries = countries_df.set_index('Country')\n",
    "indexed_countries.head(3)"
   ]
  },
  {
   "cell_type": "code",
   "execution_count": 21,
   "id": "e921336d",
   "metadata": {
    "ExecuteTime": {
     "end_time": "2021-10-19T17:50:59.017757Z",
     "start_time": "2021-10-19T17:50:59.014781Z"
    },
    "scrolled": true
   },
   "outputs": [
    {
     "name": "stdout",
     "output_type": "stream",
     "text": [
      "Key Error\n"
     ]
    }
   ],
   "source": [
    "# Notice our .loc will no longer work if we pass an integer for the row - our new indexs are the country names\n",
    "try:\n",
    "    display(indexed_countries.loc[0:1, 'Country':'Population'])\n",
    "except:\n",
    "    print('Key Error')"
   ]
  },
  {
   "cell_type": "code",
   "execution_count": 24,
   "id": "c206562e",
   "metadata": {
    "ExecuteTime": {
     "end_time": "2021-10-19T17:51:57.275715Z",
     "start_time": "2021-10-19T17:51:57.269344Z"
    }
   },
   "outputs": [
    {
     "data": {
      "text/html": [
       "<div>\n",
       "<style scoped>\n",
       "    .dataframe tbody tr th:only-of-type {\n",
       "        vertical-align: middle;\n",
       "    }\n",
       "\n",
       "    .dataframe tbody tr th {\n",
       "        vertical-align: top;\n",
       "    }\n",
       "\n",
       "    .dataframe thead th {\n",
       "        text-align: right;\n",
       "    }\n",
       "</style>\n",
       "<table border=\"1\" class=\"dataframe\">\n",
       "  <thead>\n",
       "    <tr style=\"text-align: right;\">\n",
       "      <th></th>\n",
       "      <th>Region</th>\n",
       "      <th>Population</th>\n",
       "    </tr>\n",
       "    <tr>\n",
       "      <th>Country</th>\n",
       "      <th></th>\n",
       "      <th></th>\n",
       "    </tr>\n",
       "  </thead>\n",
       "  <tbody>\n",
       "    <tr>\n",
       "      <th>Afghanistan</th>\n",
       "      <td>ASIA (EX. NEAR EAST)</td>\n",
       "      <td>31056997</td>\n",
       "    </tr>\n",
       "    <tr>\n",
       "      <th>Albania</th>\n",
       "      <td>EASTERN EUROPE</td>\n",
       "      <td>3581655</td>\n",
       "    </tr>\n",
       "  </tbody>\n",
       "</table>\n",
       "</div>"
      ],
      "text/plain": [
       "                                           Region  Population\n",
       "Country                                                      \n",
       "Afghanistan         ASIA (EX. NEAR EAST)             31056997\n",
       "Albania       EASTERN EUROPE                          3581655"
      ]
     },
     "metadata": {},
     "output_type": "display_data"
    }
   ],
   "source": [
    "# We need to pass the string index for our row and remove country from our column selection\n",
    "try:\n",
    "    display(indexed_countries.loc['Afghanistan ': 'Albania ', 'Region':'Population'])\n",
    "except:\n",
    "    print('Key Error')"
   ]
  },
  {
   "cell_type": "code",
   "execution_count": 25,
   "id": "c3f13ae7",
   "metadata": {
    "ExecuteTime": {
     "end_time": "2021-10-19T17:52:23.618821Z",
     "start_time": "2021-10-19T17:52:23.612796Z"
    }
   },
   "outputs": [
    {
     "data": {
      "text/html": [
       "<div>\n",
       "<style scoped>\n",
       "    .dataframe tbody tr th:only-of-type {\n",
       "        vertical-align: middle;\n",
       "    }\n",
       "\n",
       "    .dataframe tbody tr th {\n",
       "        vertical-align: top;\n",
       "    }\n",
       "\n",
       "    .dataframe thead th {\n",
       "        text-align: right;\n",
       "    }\n",
       "</style>\n",
       "<table border=\"1\" class=\"dataframe\">\n",
       "  <thead>\n",
       "    <tr style=\"text-align: right;\">\n",
       "      <th></th>\n",
       "      <th>Region</th>\n",
       "      <th>Population</th>\n",
       "    </tr>\n",
       "    <tr>\n",
       "      <th>Country</th>\n",
       "      <th></th>\n",
       "      <th></th>\n",
       "    </tr>\n",
       "  </thead>\n",
       "  <tbody>\n",
       "    <tr>\n",
       "      <th>Afghanistan</th>\n",
       "      <td>ASIA (EX. NEAR EAST)</td>\n",
       "      <td>31056997</td>\n",
       "    </tr>\n",
       "    <tr>\n",
       "      <th>Albania</th>\n",
       "      <td>EASTERN EUROPE</td>\n",
       "      <td>3581655</td>\n",
       "    </tr>\n",
       "  </tbody>\n",
       "</table>\n",
       "</div>"
      ],
      "text/plain": [
       "                                           Region  Population\n",
       "Country                                                      \n",
       "Afghanistan         ASIA (EX. NEAR EAST)             31056997\n",
       "Albania       EASTERN EUROPE                          3581655"
      ]
     },
     "metadata": {},
     "output_type": "display_data"
    }
   ],
   "source": [
    "# If we still want to use a numeric location we switch over to iloc and stop becomes exclusive\n",
    "display(indexed_countries.iloc[0:2, 0:2])"
   ]
  },
  {
   "cell_type": "markdown",
   "id": "7ee29b69",
   "metadata": {},
   "source": [
    "### Map function vs. calling function"
   ]
  },
  {
   "cell_type": "code",
   "execution_count": 26,
   "id": "0b1d1a7e",
   "metadata": {
    "ExecuteTime": {
     "end_time": "2021-10-19T17:56:14.282672Z",
     "start_time": "2021-10-19T17:56:14.278041Z"
    }
   },
   "outputs": [
    {
     "data": {
      "text/plain": [
       "0         AFGHANISTAN \n",
       "1             ALBANIA \n",
       "2             ALGERIA \n",
       "3      AMERICAN SAMOA \n",
       "4             ANDORRA \n",
       "            ...       \n",
       "222         WEST BANK \n",
       "223    WESTERN SAHARA \n",
       "224             YEMEN \n",
       "225            ZAMBIA \n",
       "226          ZIMBABWE \n",
       "Name: Country, Length: 227, dtype: object"
      ]
     },
     "execution_count": 26,
     "metadata": {},
     "output_type": "execute_result"
    }
   ],
   "source": [
    "# We can call methods () directly on a series\n",
    "countries_df['Country'].str.upper()"
   ]
  },
  {
   "cell_type": "code",
   "execution_count": 27,
   "id": "cab9df4c",
   "metadata": {
    "ExecuteTime": {
     "end_time": "2021-10-19T17:56:16.353204Z",
     "start_time": "2021-10-19T17:56:16.348596Z"
    }
   },
   "outputs": [
    {
     "data": {
      "text/plain": [
       "0         AFGHANISTAN \n",
       "1             ALBANIA \n",
       "2             ALGERIA \n",
       "3      AMERICAN SAMOA \n",
       "4             ANDORRA \n",
       "            ...       \n",
       "222         WEST BANK \n",
       "223    WESTERN SAHARA \n",
       "224             YEMEN \n",
       "225            ZAMBIA \n",
       "226          ZIMBABWE \n",
       "Name: Country, Length: 227, dtype: object"
      ]
     },
     "execution_count": 27,
     "metadata": {},
     "output_type": "execute_result"
    }
   ],
   "source": [
    "# Or map an uncalled function **notice - no ()** to the series\n",
    "countries_df['Country'].map(str.upper)"
   ]
  },
  {
   "cell_type": "code",
   "execution_count": 76,
   "id": "78f5e9a4",
   "metadata": {
    "ExecuteTime": {
     "end_time": "2021-10-19T13:06:50.466402Z",
     "start_time": "2021-10-19T13:06:50.460679Z"
    }
   },
   "outputs": [
    {
     "data": {
      "text/plain": [
       "0      5572.880494\n",
       "1      1892.526090\n",
       "2      5738.474623\n",
       "3       240.403827\n",
       "4       266.835155\n",
       "          ...     \n",
       "222    1568.595550\n",
       "223     522.501675\n",
       "224    4632.082469\n",
       "225    3391.461337\n",
       "226    3498.114492\n",
       "Name: Population, Length: 227, dtype: float64"
      ]
     },
     "execution_count": 76,
     "metadata": {},
     "output_type": "execute_result"
    }
   ],
   "source": [
    "import math\n",
    "countries_df['Population'].map(math.sqrt)"
   ]
  },
  {
   "cell_type": "markdown",
   "id": "ea96d174",
   "metadata": {},
   "source": [
    "### Group By"
   ]
  },
  {
   "cell_type": "code",
   "execution_count": 28,
   "id": "789632be",
   "metadata": {
    "ExecuteTime": {
     "end_time": "2021-10-19T17:57:12.242481Z",
     "start_time": "2021-10-19T17:57:12.239086Z"
    }
   },
   "outputs": [
    {
     "data": {
      "text/plain": [
       "<pandas.core.groupby.generic.DataFrameGroupBy object at 0x122a47550>"
      ]
     },
     "execution_count": 28,
     "metadata": {},
     "output_type": "execute_result"
    }
   ],
   "source": [
    "# Just using groupby returns an object\n",
    "grouped_object = countries_df.groupby(by='Region')\n",
    "grouped_object"
   ]
  },
  {
   "cell_type": "code",
   "execution_count": 175,
   "id": "9e881382",
   "metadata": {
    "ExecuteTime": {
     "end_time": "2021-10-19T13:43:22.206982Z",
     "start_time": "2021-10-19T13:43:22.202071Z"
    }
   },
   "outputs": [
    {
     "name": "stdout",
     "output_type": "stream",
     "text": [
      "Things to do with a dataframe:  450\n",
      "Things to do with grouped object:  173\n"
     ]
    }
   ],
   "source": [
    "print('Things to do with a dataframe: ',len(dir(countries_df)))\n",
    "print('Things to do with grouped object: ',len(dir(grouped_object)))"
   ]
  },
  {
   "cell_type": "code",
   "execution_count": 182,
   "id": "1c2d2d1d",
   "metadata": {
    "ExecuteTime": {
     "end_time": "2021-10-19T13:45:19.804920Z",
     "start_time": "2021-10-19T13:45:19.773084Z"
    }
   },
   "outputs": [
    {
     "name": "stdout",
     "output_type": "stream",
     "text": [
      "<class 'pandas.core.frame.DataFrame'>\n"
     ]
    },
    {
     "data": {
      "text/html": [
       "<div>\n",
       "<style scoped>\n",
       "    .dataframe tbody tr th:only-of-type {\n",
       "        vertical-align: middle;\n",
       "    }\n",
       "\n",
       "    .dataframe tbody tr th {\n",
       "        vertical-align: top;\n",
       "    }\n",
       "\n",
       "    .dataframe thead th {\n",
       "        text-align: right;\n",
       "    }\n",
       "</style>\n",
       "<table border=\"1\" class=\"dataframe\">\n",
       "  <thead>\n",
       "    <tr style=\"text-align: right;\">\n",
       "      <th></th>\n",
       "      <th>Population</th>\n",
       "      <th>Area (sq. mi.)</th>\n",
       "      <th>Pop. Density (per sq. mi.)</th>\n",
       "      <th>Coastline (coast/area ratio)</th>\n",
       "      <th>Net migration</th>\n",
       "      <th>Infant mortality (per 1000 births)</th>\n",
       "      <th>GDP ($ per capita)</th>\n",
       "      <th>Literacy (%)</th>\n",
       "      <th>Phones (per 1000)</th>\n",
       "      <th>Arable (%)</th>\n",
       "      <th>Crops (%)</th>\n",
       "      <th>Other (%)</th>\n",
       "      <th>Climate</th>\n",
       "      <th>Birthrate</th>\n",
       "      <th>Deathrate</th>\n",
       "      <th>Agriculture</th>\n",
       "      <th>Industry</th>\n",
       "      <th>Service</th>\n",
       "    </tr>\n",
       "    <tr>\n",
       "      <th>Region</th>\n",
       "      <th></th>\n",
       "      <th></th>\n",
       "      <th></th>\n",
       "      <th></th>\n",
       "      <th></th>\n",
       "      <th></th>\n",
       "      <th></th>\n",
       "      <th></th>\n",
       "      <th></th>\n",
       "      <th></th>\n",
       "      <th></th>\n",
       "      <th></th>\n",
       "      <th></th>\n",
       "      <th></th>\n",
       "      <th></th>\n",
       "      <th></th>\n",
       "      <th></th>\n",
       "      <th></th>\n",
       "    </tr>\n",
       "  </thead>\n",
       "  <tbody>\n",
       "    <tr>\n",
       "      <th>ASIA (EX. NEAR EAST)</th>\n",
       "      <td>3687982236</td>\n",
       "      <td>23096712</td>\n",
       "      <td>35415.1</td>\n",
       "      <td>501.95</td>\n",
       "      <td>38.43</td>\n",
       "      <td>1169.84</td>\n",
       "      <td>225500.0</td>\n",
       "      <td>2227.5</td>\n",
       "      <td>4621.3</td>\n",
       "      <td>444.49</td>\n",
       "      <td>107.77</td>\n",
       "      <td>2247.74</td>\n",
       "      <td>53.0</td>\n",
       "      <td>592.42</td>\n",
       "      <td>213.84</td>\n",
       "      <td>4.974</td>\n",
       "      <td>8.460</td>\n",
       "      <td>14.563</td>\n",
       "    </tr>\n",
       "    <tr>\n",
       "      <th>BALTICS</th>\n",
       "      <td>7184974</td>\n",
       "      <td>175015</td>\n",
       "      <td>119.5</td>\n",
       "      <td>9.35</td>\n",
       "      <td>-6.10</td>\n",
       "      <td>24.31</td>\n",
       "      <td>33900.0</td>\n",
       "      <td>299.2</td>\n",
       "      <td>878.6</td>\n",
       "      <td>90.93</td>\n",
       "      <td>1.83</td>\n",
       "      <td>207.24</td>\n",
       "      <td>6.0</td>\n",
       "      <td>28.03</td>\n",
       "      <td>37.89</td>\n",
       "      <td>0.135</td>\n",
       "      <td>0.880</td>\n",
       "      <td>1.985</td>\n",
       "    </tr>\n",
       "    <tr>\n",
       "      <th>C.W. OF IND. STATES</th>\n",
       "      <td>280081548</td>\n",
       "      <td>22100843</td>\n",
       "      <td>680.5</td>\n",
       "      <td>1.12</td>\n",
       "      <td>-24.40</td>\n",
       "      <td>532.92</td>\n",
       "      <td>48000.0</td>\n",
       "      <td>1184.7</td>\n",
       "      <td>1966.2</td>\n",
       "      <td>233.45</td>\n",
       "      <td>24.27</td>\n",
       "      <td>942.28</td>\n",
       "      <td>25.5</td>\n",
       "      <td>214.27</td>\n",
       "      <td>124.10</td>\n",
       "      <td>2.304</td>\n",
       "      <td>3.936</td>\n",
       "      <td>5.762</td>\n",
       "    </tr>\n",
       "    <tr>\n",
       "      <th>EASTERN EUROPE</th>\n",
       "      <td>119914717</td>\n",
       "      <td>1152222</td>\n",
       "      <td>1210.8</td>\n",
       "      <td>12.42</td>\n",
       "      <td>-7.77</td>\n",
       "      <td>152.24</td>\n",
       "      <td>117700.0</td>\n",
       "      <td>873.8</td>\n",
       "      <td>3369.0</td>\n",
       "      <td>371.79</td>\n",
       "      <td>29.17</td>\n",
       "      <td>799.05</td>\n",
       "      <td>28.0</td>\n",
       "      <td>114.08</td>\n",
       "      <td>113.13</td>\n",
       "      <td>1.106</td>\n",
       "      <td>3.711</td>\n",
       "      <td>7.184</td>\n",
       "    </tr>\n",
       "    <tr>\n",
       "      <th>LATIN AMER. &amp; CARIB</th>\n",
       "      <td>561824599</td>\n",
       "      <td>20544084</td>\n",
       "      <td>6129.1</td>\n",
       "      <td>718.75</td>\n",
       "      <td>-67.25</td>\n",
       "      <td>904.17</td>\n",
       "      <td>390700.0</td>\n",
       "      <td>3988.8</td>\n",
       "      <td>11953.1</td>\n",
       "      <td>485.59</td>\n",
       "      <td>221.11</td>\n",
       "      <td>3793.31</td>\n",
       "      <td>91.5</td>\n",
       "      <td>858.65</td>\n",
       "      <td>286.92</td>\n",
       "      <td>3.914</td>\n",
       "      <td>11.013</td>\n",
       "      <td>27.981</td>\n",
       "    </tr>\n",
       "    <tr>\n",
       "      <th>NEAR EAST</th>\n",
       "      <td>195068377</td>\n",
       "      <td>4355586</td>\n",
       "      <td>6833.3</td>\n",
       "      <td>57.64</td>\n",
       "      <td>42.40</td>\n",
       "      <td>374.04</td>\n",
       "      <td>167300.0</td>\n",
       "      <td>1113.3</td>\n",
       "      <td>3136.7</td>\n",
       "      <td>168.86</td>\n",
       "      <td>81.69</td>\n",
       "      <td>1349.33</td>\n",
       "      <td>25.0</td>\n",
       "      <td>400.51</td>\n",
       "      <td>76.95</td>\n",
       "      <td>1.021</td>\n",
       "      <td>6.496</td>\n",
       "      <td>8.480</td>\n",
       "    </tr>\n",
       "    <tr>\n",
       "      <th>NORTHERN AFRICA</th>\n",
       "      <td>161407133</td>\n",
       "      <td>6018890</td>\n",
       "      <td>233.6</td>\n",
       "      <td>1.91</td>\n",
       "      <td>-2.16</td>\n",
       "      <td>154.58</td>\n",
       "      <td>27300.0</td>\n",
       "      <td>336.2</td>\n",
       "      <td>501.0</td>\n",
       "      <td>44.61</td>\n",
       "      <td>16.83</td>\n",
       "      <td>538.56</td>\n",
       "      <td>6.0</td>\n",
       "      <td>104.07</td>\n",
       "      <td>24.03</td>\n",
       "      <td>0.675</td>\n",
       "      <td>2.131</td>\n",
       "      <td>2.592</td>\n",
       "    </tr>\n",
       "    <tr>\n",
       "      <th>NORTHERN AMERICA</th>\n",
       "      <td>331672307</td>\n",
       "      <td>21782471</td>\n",
       "      <td>1304.3</td>\n",
       "      <td>248.20</td>\n",
       "      <td>-1.37</td>\n",
       "      <td>43.14</td>\n",
       "      <td>130500.0</td>\n",
       "      <td>391.0</td>\n",
       "      <td>3433.7</td>\n",
       "      <td>57.13</td>\n",
       "      <td>0.24</td>\n",
       "      <td>442.63</td>\n",
       "      <td>6.0</td>\n",
       "      <td>65.77</td>\n",
       "      <td>38.47</td>\n",
       "      <td>0.042</td>\n",
       "      <td>0.598</td>\n",
       "      <td>2.361</td>\n",
       "    </tr>\n",
       "    <tr>\n",
       "      <th>OCEANIA</th>\n",
       "      <td>33131662</td>\n",
       "      <td>8519812</td>\n",
       "      <td>2754.8</td>\n",
       "      <td>2265.60</td>\n",
       "      <td>-39.15</td>\n",
       "      <td>383.87</td>\n",
       "      <td>173200.0</td>\n",
       "      <td>1510.2</td>\n",
       "      <td>3987.6</td>\n",
       "      <td>161.01</td>\n",
       "      <td>309.11</td>\n",
       "      <td>1629.88</td>\n",
       "      <td>42.0</td>\n",
       "      <td>442.16</td>\n",
       "      <td>110.40</td>\n",
       "      <td>2.802</td>\n",
       "      <td>3.444</td>\n",
       "      <td>9.743</td>\n",
       "    </tr>\n",
       "    <tr>\n",
       "      <th>SUB-SAHARAN AFRICA</th>\n",
       "      <td>749437000</td>\n",
       "      <td>24341406</td>\n",
       "      <td>4705.5</td>\n",
       "      <td>260.41</td>\n",
       "      <td>-17.09</td>\n",
       "      <td>4082.00</td>\n",
       "      <td>118500.0</td>\n",
       "      <td>3125.5</td>\n",
       "      <td>2167.9</td>\n",
       "      <td>589.29</td>\n",
       "      <td>189.44</td>\n",
       "      <td>4221.29</td>\n",
       "      <td>90.5</td>\n",
       "      <td>1838.24</td>\n",
       "      <td>773.16</td>\n",
       "      <td>13.894</td>\n",
       "      <td>13.077</td>\n",
       "      <td>22.038</td>\n",
       "    </tr>\n",
       "    <tr>\n",
       "      <th>WESTERN EUROPE</th>\n",
       "      <td>396339998</td>\n",
       "      <td>3710478</td>\n",
       "      <td>26657.2</td>\n",
       "      <td>727.18</td>\n",
       "      <td>93.00</td>\n",
       "      <td>132.45</td>\n",
       "      <td>757300.0</td>\n",
       "      <td>2263.0</td>\n",
       "      <td>16626.6</td>\n",
       "      <td>457.20</td>\n",
       "      <td>45.49</td>\n",
       "      <td>2197.31</td>\n",
       "      <td>65.0</td>\n",
       "      <td>295.50</td>\n",
       "      <td>261.93</td>\n",
       "      <td>1.112</td>\n",
       "      <td>5.906</td>\n",
       "      <td>17.151</td>\n",
       "    </tr>\n",
       "  </tbody>\n",
       "</table>\n",
       "</div>"
      ],
      "text/plain": [
       "                                     Population  Area (sq. mi.)  \\\n",
       "Region                                                            \n",
       "ASIA (EX. NEAR EAST)                 3687982236        23096712   \n",
       "BALTICS                                 7184974          175015   \n",
       "C.W. OF IND. STATES                   280081548        22100843   \n",
       "EASTERN EUROPE                        119914717         1152222   \n",
       "LATIN AMER. & CARIB                   561824599        20544084   \n",
       "NEAR EAST                             195068377         4355586   \n",
       "NORTHERN AFRICA                       161407133         6018890   \n",
       "NORTHERN AMERICA                      331672307        21782471   \n",
       "OCEANIA                                33131662         8519812   \n",
       "SUB-SAHARAN AFRICA                    749437000        24341406   \n",
       "WESTERN EUROPE                        396339998         3710478   \n",
       "\n",
       "                                     Pop. Density (per sq. mi.)  \\\n",
       "Region                                                            \n",
       "ASIA (EX. NEAR EAST)                                    35415.1   \n",
       "BALTICS                                                   119.5   \n",
       "C.W. OF IND. STATES                                       680.5   \n",
       "EASTERN EUROPE                                           1210.8   \n",
       "LATIN AMER. & CARIB                                      6129.1   \n",
       "NEAR EAST                                                6833.3   \n",
       "NORTHERN AFRICA                                           233.6   \n",
       "NORTHERN AMERICA                                         1304.3   \n",
       "OCEANIA                                                  2754.8   \n",
       "SUB-SAHARAN AFRICA                                       4705.5   \n",
       "WESTERN EUROPE                                          26657.2   \n",
       "\n",
       "                                     Coastline (coast/area ratio)  \\\n",
       "Region                                                              \n",
       "ASIA (EX. NEAR EAST)                                       501.95   \n",
       "BALTICS                                                      9.35   \n",
       "C.W. OF IND. STATES                                          1.12   \n",
       "EASTERN EUROPE                                              12.42   \n",
       "LATIN AMER. & CARIB                                        718.75   \n",
       "NEAR EAST                                                   57.64   \n",
       "NORTHERN AFRICA                                              1.91   \n",
       "NORTHERN AMERICA                                           248.20   \n",
       "OCEANIA                                                   2265.60   \n",
       "SUB-SAHARAN AFRICA                                         260.41   \n",
       "WESTERN EUROPE                                             727.18   \n",
       "\n",
       "                                     Net migration  \\\n",
       "Region                                               \n",
       "ASIA (EX. NEAR EAST)                         38.43   \n",
       "BALTICS                                      -6.10   \n",
       "C.W. OF IND. STATES                         -24.40   \n",
       "EASTERN EUROPE                               -7.77   \n",
       "LATIN AMER. & CARIB                         -67.25   \n",
       "NEAR EAST                                    42.40   \n",
       "NORTHERN AFRICA                              -2.16   \n",
       "NORTHERN AMERICA                             -1.37   \n",
       "OCEANIA                                     -39.15   \n",
       "SUB-SAHARAN AFRICA                          -17.09   \n",
       "WESTERN EUROPE                               93.00   \n",
       "\n",
       "                                     Infant mortality (per 1000 births)  \\\n",
       "Region                                                                    \n",
       "ASIA (EX. NEAR EAST)                                            1169.84   \n",
       "BALTICS                                                           24.31   \n",
       "C.W. OF IND. STATES                                              532.92   \n",
       "EASTERN EUROPE                                                   152.24   \n",
       "LATIN AMER. & CARIB                                              904.17   \n",
       "NEAR EAST                                                        374.04   \n",
       "NORTHERN AFRICA                                                  154.58   \n",
       "NORTHERN AMERICA                                                  43.14   \n",
       "OCEANIA                                                          383.87   \n",
       "SUB-SAHARAN AFRICA                                              4082.00   \n",
       "WESTERN EUROPE                                                   132.45   \n",
       "\n",
       "                                     GDP ($ per capita)  Literacy (%)  \\\n",
       "Region                                                                  \n",
       "ASIA (EX. NEAR EAST)                           225500.0        2227.5   \n",
       "BALTICS                                         33900.0         299.2   \n",
       "C.W. OF IND. STATES                             48000.0        1184.7   \n",
       "EASTERN EUROPE                                 117700.0         873.8   \n",
       "LATIN AMER. & CARIB                            390700.0        3988.8   \n",
       "NEAR EAST                                      167300.0        1113.3   \n",
       "NORTHERN AFRICA                                 27300.0         336.2   \n",
       "NORTHERN AMERICA                               130500.0         391.0   \n",
       "OCEANIA                                        173200.0        1510.2   \n",
       "SUB-SAHARAN AFRICA                             118500.0        3125.5   \n",
       "WESTERN EUROPE                                 757300.0        2263.0   \n",
       "\n",
       "                                     Phones (per 1000)  Arable (%)  Crops (%)  \\\n",
       "Region                                                                          \n",
       "ASIA (EX. NEAR EAST)                            4621.3      444.49     107.77   \n",
       "BALTICS                                          878.6       90.93       1.83   \n",
       "C.W. OF IND. STATES                             1966.2      233.45      24.27   \n",
       "EASTERN EUROPE                                  3369.0      371.79      29.17   \n",
       "LATIN AMER. & CARIB                            11953.1      485.59     221.11   \n",
       "NEAR EAST                                       3136.7      168.86      81.69   \n",
       "NORTHERN AFRICA                                  501.0       44.61      16.83   \n",
       "NORTHERN AMERICA                                3433.7       57.13       0.24   \n",
       "OCEANIA                                         3987.6      161.01     309.11   \n",
       "SUB-SAHARAN AFRICA                              2167.9      589.29     189.44   \n",
       "WESTERN EUROPE                                 16626.6      457.20      45.49   \n",
       "\n",
       "                                     Other (%)  Climate  Birthrate  Deathrate  \\\n",
       "Region                                                                          \n",
       "ASIA (EX. NEAR EAST)                   2247.74     53.0     592.42     213.84   \n",
       "BALTICS                                 207.24      6.0      28.03      37.89   \n",
       "C.W. OF IND. STATES                     942.28     25.5     214.27     124.10   \n",
       "EASTERN EUROPE                          799.05     28.0     114.08     113.13   \n",
       "LATIN AMER. & CARIB                    3793.31     91.5     858.65     286.92   \n",
       "NEAR EAST                              1349.33     25.0     400.51      76.95   \n",
       "NORTHERN AFRICA                         538.56      6.0     104.07      24.03   \n",
       "NORTHERN AMERICA                        442.63      6.0      65.77      38.47   \n",
       "OCEANIA                                1629.88     42.0     442.16     110.40   \n",
       "SUB-SAHARAN AFRICA                     4221.29     90.5    1838.24     773.16   \n",
       "WESTERN EUROPE                         2197.31     65.0     295.50     261.93   \n",
       "\n",
       "                                     Agriculture  Industry  Service  \n",
       "Region                                                               \n",
       "ASIA (EX. NEAR EAST)                       4.974     8.460   14.563  \n",
       "BALTICS                                    0.135     0.880    1.985  \n",
       "C.W. OF IND. STATES                        2.304     3.936    5.762  \n",
       "EASTERN EUROPE                             1.106     3.711    7.184  \n",
       "LATIN AMER. & CARIB                        3.914    11.013   27.981  \n",
       "NEAR EAST                                  1.021     6.496    8.480  \n",
       "NORTHERN AFRICA                            0.675     2.131    2.592  \n",
       "NORTHERN AMERICA                           0.042     0.598    2.361  \n",
       "OCEANIA                                    2.802     3.444    9.743  \n",
       "SUB-SAHARAN AFRICA                        13.894    13.077   22.038  \n",
       "WESTERN EUROPE                             1.112     5.906   17.151  "
      ]
     },
     "execution_count": 182,
     "metadata": {},
     "output_type": "execute_result"
    }
   ],
   "source": [
    "# We need to use an aggregation method to create a final df\n",
    "print(type(grouped_object.sum()))\n",
    "grouped_object.sum()"
   ]
  },
  {
   "cell_type": "code",
   "execution_count": 30,
   "id": "79d002a7",
   "metadata": {
    "ExecuteTime": {
     "end_time": "2021-10-19T17:59:52.976833Z",
     "start_time": "2021-10-19T17:59:52.969154Z"
    }
   },
   "outputs": [
    {
     "data": {
      "text/html": [
       "<div>\n",
       "<style scoped>\n",
       "    .dataframe tbody tr th:only-of-type {\n",
       "        vertical-align: middle;\n",
       "    }\n",
       "\n",
       "    .dataframe tbody tr th {\n",
       "        vertical-align: top;\n",
       "    }\n",
       "\n",
       "    .dataframe thead th {\n",
       "        text-align: right;\n",
       "    }\n",
       "</style>\n",
       "<table border=\"1\" class=\"dataframe\">\n",
       "  <thead>\n",
       "    <tr style=\"text-align: right;\">\n",
       "      <th></th>\n",
       "      <th>Population</th>\n",
       "    </tr>\n",
       "    <tr>\n",
       "      <th>Region</th>\n",
       "      <th></th>\n",
       "    </tr>\n",
       "  </thead>\n",
       "  <tbody>\n",
       "    <tr>\n",
       "      <th>ASIA (EX. NEAR EAST)</th>\n",
       "      <td>3687982236</td>\n",
       "    </tr>\n",
       "    <tr>\n",
       "      <th>BALTICS</th>\n",
       "      <td>7184974</td>\n",
       "    </tr>\n",
       "    <tr>\n",
       "      <th>C.W. OF IND. STATES</th>\n",
       "      <td>280081548</td>\n",
       "    </tr>\n",
       "    <tr>\n",
       "      <th>EASTERN EUROPE</th>\n",
       "      <td>119914717</td>\n",
       "    </tr>\n",
       "    <tr>\n",
       "      <th>LATIN AMER. &amp; CARIB</th>\n",
       "      <td>561824599</td>\n",
       "    </tr>\n",
       "    <tr>\n",
       "      <th>NEAR EAST</th>\n",
       "      <td>195068377</td>\n",
       "    </tr>\n",
       "    <tr>\n",
       "      <th>NORTHERN AFRICA</th>\n",
       "      <td>161407133</td>\n",
       "    </tr>\n",
       "    <tr>\n",
       "      <th>NORTHERN AMERICA</th>\n",
       "      <td>331672307</td>\n",
       "    </tr>\n",
       "    <tr>\n",
       "      <th>OCEANIA</th>\n",
       "      <td>33131662</td>\n",
       "    </tr>\n",
       "    <tr>\n",
       "      <th>SUB-SAHARAN AFRICA</th>\n",
       "      <td>749437000</td>\n",
       "    </tr>\n",
       "    <tr>\n",
       "      <th>WESTERN EUROPE</th>\n",
       "      <td>396339998</td>\n",
       "    </tr>\n",
       "  </tbody>\n",
       "</table>\n",
       "</div>"
      ],
      "text/plain": [
       "                                     Population\n",
       "Region                                         \n",
       "ASIA (EX. NEAR EAST)                 3687982236\n",
       "BALTICS                                 7184974\n",
       "C.W. OF IND. STATES                   280081548\n",
       "EASTERN EUROPE                        119914717\n",
       "LATIN AMER. & CARIB                   561824599\n",
       "NEAR EAST                             195068377\n",
       "NORTHERN AFRICA                       161407133\n",
       "NORTHERN AMERICA                      331672307\n",
       "OCEANIA                                33131662\n",
       "SUB-SAHARAN AFRICA                    749437000\n",
       "WESTERN EUROPE                        396339998"
      ]
     },
     "execution_count": 30,
     "metadata": {},
     "output_type": "execute_result"
    }
   ],
   "source": [
    "# If you know exactly which columns you want, its quicker to select them (by indexing) before aggregating \n",
    "grouped_object[['Population']].sum()"
   ]
  },
  {
   "cell_type": "code",
   "execution_count": 54,
   "id": "7be9b5a2",
   "metadata": {
    "ExecuteTime": {
     "end_time": "2021-10-19T18:53:42.806191Z",
     "start_time": "2021-10-19T18:53:42.783090Z"
    }
   },
   "outputs": [
    {
     "data": {
      "text/html": [
       "<div>\n",
       "<style scoped>\n",
       "    .dataframe tbody tr th:only-of-type {\n",
       "        vertical-align: middle;\n",
       "    }\n",
       "\n",
       "    .dataframe tbody tr th {\n",
       "        vertical-align: top;\n",
       "    }\n",
       "\n",
       "    .dataframe thead th {\n",
       "        text-align: right;\n",
       "    }\n",
       "</style>\n",
       "<table border=\"1\" class=\"dataframe\">\n",
       "  <thead>\n",
       "    <tr style=\"text-align: right;\">\n",
       "      <th></th>\n",
       "      <th>Population</th>\n",
       "      <th>Birthrate</th>\n",
       "    </tr>\n",
       "    <tr>\n",
       "      <th>Region</th>\n",
       "      <th></th>\n",
       "      <th></th>\n",
       "    </tr>\n",
       "  </thead>\n",
       "  <tbody>\n",
       "    <tr>\n",
       "      <th>ASIA (EX. NEAR EAST)</th>\n",
       "      <td>3687982236</td>\n",
       "      <td>21.157857</td>\n",
       "    </tr>\n",
       "    <tr>\n",
       "      <th>BALTICS</th>\n",
       "      <td>7184974</td>\n",
       "      <td>9.343333</td>\n",
       "    </tr>\n",
       "    <tr>\n",
       "      <th>C.W. OF IND. STATES</th>\n",
       "      <td>280081548</td>\n",
       "      <td>17.855833</td>\n",
       "    </tr>\n",
       "    <tr>\n",
       "      <th>EASTERN EUROPE</th>\n",
       "      <td>119914717</td>\n",
       "      <td>10.370909</td>\n",
       "    </tr>\n",
       "    <tr>\n",
       "      <th>LATIN AMER. &amp; CARIB</th>\n",
       "      <td>561824599</td>\n",
       "      <td>19.081111</td>\n",
       "    </tr>\n",
       "    <tr>\n",
       "      <th>NEAR EAST</th>\n",
       "      <td>195068377</td>\n",
       "      <td>25.031875</td>\n",
       "    </tr>\n",
       "    <tr>\n",
       "      <th>NORTHERN AFRICA</th>\n",
       "      <td>161407133</td>\n",
       "      <td>20.814000</td>\n",
       "    </tr>\n",
       "    <tr>\n",
       "      <th>NORTHERN AMERICA</th>\n",
       "      <td>331672307</td>\n",
       "      <td>13.154000</td>\n",
       "    </tr>\n",
       "    <tr>\n",
       "      <th>OCEANIA</th>\n",
       "      <td>33131662</td>\n",
       "      <td>22.108000</td>\n",
       "    </tr>\n",
       "    <tr>\n",
       "      <th>SUB-SAHARAN AFRICA</th>\n",
       "      <td>749437000</td>\n",
       "      <td>36.043922</td>\n",
       "    </tr>\n",
       "    <tr>\n",
       "      <th>WESTERN EUROPE</th>\n",
       "      <td>396339998</td>\n",
       "      <td>10.553571</td>\n",
       "    </tr>\n",
       "  </tbody>\n",
       "</table>\n",
       "</div>"
      ],
      "text/plain": [
       "                                     Population  Birthrate\n",
       "Region                                                    \n",
       "ASIA (EX. NEAR EAST)                 3687982236  21.157857\n",
       "BALTICS                                 7184974   9.343333\n",
       "C.W. OF IND. STATES                   280081548  17.855833\n",
       "EASTERN EUROPE                        119914717  10.370909\n",
       "LATIN AMER. & CARIB                   561824599  19.081111\n",
       "NEAR EAST                             195068377  25.031875\n",
       "NORTHERN AFRICA                       161407133  20.814000\n",
       "NORTHERN AMERICA                      331672307  13.154000\n",
       "OCEANIA                                33131662  22.108000\n",
       "SUB-SAHARAN AFRICA                    749437000  36.043922\n",
       "WESTERN EUROPE                        396339998  10.553571"
      ]
     },
     "metadata": {},
     "output_type": "display_data"
    },
    {
     "data": {
      "text/html": [
       "<div>\n",
       "<style scoped>\n",
       "    .dataframe tbody tr th:only-of-type {\n",
       "        vertical-align: middle;\n",
       "    }\n",
       "\n",
       "    .dataframe tbody tr th {\n",
       "        vertical-align: top;\n",
       "    }\n",
       "\n",
       "    .dataframe thead th {\n",
       "        text-align: right;\n",
       "    }\n",
       "</style>\n",
       "<table border=\"1\" class=\"dataframe\">\n",
       "  <thead>\n",
       "    <tr style=\"text-align: right;\">\n",
       "      <th></th>\n",
       "      <th>Population</th>\n",
       "      <th>Birthrate</th>\n",
       "    </tr>\n",
       "    <tr>\n",
       "      <th>Region</th>\n",
       "      <th></th>\n",
       "      <th></th>\n",
       "    </tr>\n",
       "  </thead>\n",
       "  <tbody>\n",
       "    <tr>\n",
       "      <th>ASIA (EX. NEAR EAST)</th>\n",
       "      <td>3687982236</td>\n",
       "      <td>21.157857</td>\n",
       "    </tr>\n",
       "    <tr>\n",
       "      <th>BALTICS</th>\n",
       "      <td>7184974</td>\n",
       "      <td>9.343333</td>\n",
       "    </tr>\n",
       "    <tr>\n",
       "      <th>C.W. OF IND. STATES</th>\n",
       "      <td>280081548</td>\n",
       "      <td>17.855833</td>\n",
       "    </tr>\n",
       "    <tr>\n",
       "      <th>EASTERN EUROPE</th>\n",
       "      <td>119914717</td>\n",
       "      <td>10.370909</td>\n",
       "    </tr>\n",
       "    <tr>\n",
       "      <th>LATIN AMER. &amp; CARIB</th>\n",
       "      <td>561824599</td>\n",
       "      <td>19.081111</td>\n",
       "    </tr>\n",
       "    <tr>\n",
       "      <th>NEAR EAST</th>\n",
       "      <td>195068377</td>\n",
       "      <td>25.031875</td>\n",
       "    </tr>\n",
       "    <tr>\n",
       "      <th>NORTHERN AFRICA</th>\n",
       "      <td>161407133</td>\n",
       "      <td>20.814000</td>\n",
       "    </tr>\n",
       "    <tr>\n",
       "      <th>NORTHERN AMERICA</th>\n",
       "      <td>331672307</td>\n",
       "      <td>13.154000</td>\n",
       "    </tr>\n",
       "    <tr>\n",
       "      <th>OCEANIA</th>\n",
       "      <td>33131662</td>\n",
       "      <td>22.108000</td>\n",
       "    </tr>\n",
       "    <tr>\n",
       "      <th>SUB-SAHARAN AFRICA</th>\n",
       "      <td>749437000</td>\n",
       "      <td>36.043922</td>\n",
       "    </tr>\n",
       "    <tr>\n",
       "      <th>WESTERN EUROPE</th>\n",
       "      <td>396339998</td>\n",
       "      <td>10.553571</td>\n",
       "    </tr>\n",
       "  </tbody>\n",
       "</table>\n",
       "</div>"
      ],
      "text/plain": [
       "                                     Population  Birthrate\n",
       "Region                                                    \n",
       "ASIA (EX. NEAR EAST)                 3687982236  21.157857\n",
       "BALTICS                                 7184974   9.343333\n",
       "C.W. OF IND. STATES                   280081548  17.855833\n",
       "EASTERN EUROPE                        119914717  10.370909\n",
       "LATIN AMER. & CARIB                   561824599  19.081111\n",
       "NEAR EAST                             195068377  25.031875\n",
       "NORTHERN AFRICA                       161407133  20.814000\n",
       "NORTHERN AMERICA                      331672307  13.154000\n",
       "OCEANIA                                33131662  22.108000\n",
       "SUB-SAHARAN AFRICA                    749437000  36.043922\n",
       "WESTERN EUROPE                        396339998  10.553571"
      ]
     },
     "metadata": {},
     "output_type": "display_data"
    }
   ],
   "source": [
    "# Using the agg funciton we can pass a dictionary with the different methods we want to use on different columns\n",
    "display(countries_df.groupby(by='Region').agg({'Population':'sum', 'Birthrate':'mean'}))\n",
    "\n",
    "\n",
    "# The long approach would be to run group by and aggs seperately and join them back together\n",
    "s = countries_df.groupby(by='Region')[['Population']].sum()\n",
    "m = countries_df.groupby(by='Region')[['Birthrate']].mean()\n",
    "display(s.join(m))\n"
   ]
  },
  {
   "cell_type": "code",
   "execution_count": 36,
   "id": "f1aab88a",
   "metadata": {
    "ExecuteTime": {
     "end_time": "2021-10-19T18:04:37.402481Z",
     "start_time": "2021-10-19T18:04:37.382284Z"
    }
   },
   "outputs": [
    {
     "data": {
      "text/html": [
       "<div>\n",
       "<style scoped>\n",
       "    .dataframe tbody tr th:only-of-type {\n",
       "        vertical-align: middle;\n",
       "    }\n",
       "\n",
       "    .dataframe tbody tr th {\n",
       "        vertical-align: top;\n",
       "    }\n",
       "\n",
       "    .dataframe thead th {\n",
       "        text-align: right;\n",
       "    }\n",
       "</style>\n",
       "<table border=\"1\" class=\"dataframe\">\n",
       "  <thead>\n",
       "    <tr style=\"text-align: right;\">\n",
       "      <th></th>\n",
       "      <th>Country</th>\n",
       "      <th>Region</th>\n",
       "      <th>Population</th>\n",
       "      <th>Area (sq. mi.)</th>\n",
       "      <th>Pop. Density (per sq. mi.)</th>\n",
       "      <th>Coastline (coast/area ratio)</th>\n",
       "      <th>Net migration</th>\n",
       "      <th>Infant mortality (per 1000 births)</th>\n",
       "      <th>GDP ($ per capita)</th>\n",
       "      <th>Literacy (%)</th>\n",
       "      <th>Phones (per 1000)</th>\n",
       "      <th>Arable (%)</th>\n",
       "      <th>Crops (%)</th>\n",
       "      <th>Other (%)</th>\n",
       "      <th>Climate</th>\n",
       "      <th>Birthrate</th>\n",
       "      <th>Deathrate</th>\n",
       "      <th>Agriculture</th>\n",
       "      <th>Industry</th>\n",
       "      <th>Service</th>\n",
       "    </tr>\n",
       "  </thead>\n",
       "  <tbody>\n",
       "    <tr>\n",
       "      <th>0</th>\n",
       "      <td>Afghanistan</td>\n",
       "      <td>ASIA (EX. NEAR EAST)</td>\n",
       "      <td>31056997</td>\n",
       "      <td>647500</td>\n",
       "      <td>48.0</td>\n",
       "      <td>0.00</td>\n",
       "      <td>23.06</td>\n",
       "      <td>163.07</td>\n",
       "      <td>700.0</td>\n",
       "      <td>36.0</td>\n",
       "      <td>3.2</td>\n",
       "      <td>12.13</td>\n",
       "      <td>0.22</td>\n",
       "      <td>87.65</td>\n",
       "      <td>1.0</td>\n",
       "      <td>46.60</td>\n",
       "      <td>20.34</td>\n",
       "      <td>0.380</td>\n",
       "      <td>0.240</td>\n",
       "      <td>0.380</td>\n",
       "    </tr>\n",
       "    <tr>\n",
       "      <th>1</th>\n",
       "      <td>Albania</td>\n",
       "      <td>EASTERN EUROPE</td>\n",
       "      <td>3581655</td>\n",
       "      <td>28748</td>\n",
       "      <td>124.6</td>\n",
       "      <td>1.26</td>\n",
       "      <td>-4.93</td>\n",
       "      <td>21.52</td>\n",
       "      <td>4500.0</td>\n",
       "      <td>86.5</td>\n",
       "      <td>71.2</td>\n",
       "      <td>21.09</td>\n",
       "      <td>4.42</td>\n",
       "      <td>74.49</td>\n",
       "      <td>3.0</td>\n",
       "      <td>15.11</td>\n",
       "      <td>5.22</td>\n",
       "      <td>0.232</td>\n",
       "      <td>0.188</td>\n",
       "      <td>0.579</td>\n",
       "    </tr>\n",
       "    <tr>\n",
       "      <th>2</th>\n",
       "      <td>Algeria</td>\n",
       "      <td>NORTHERN AFRICA</td>\n",
       "      <td>32930091</td>\n",
       "      <td>2381740</td>\n",
       "      <td>13.8</td>\n",
       "      <td>0.04</td>\n",
       "      <td>-0.39</td>\n",
       "      <td>31.00</td>\n",
       "      <td>6000.0</td>\n",
       "      <td>70.0</td>\n",
       "      <td>78.1</td>\n",
       "      <td>3.22</td>\n",
       "      <td>0.25</td>\n",
       "      <td>96.53</td>\n",
       "      <td>1.0</td>\n",
       "      <td>17.14</td>\n",
       "      <td>4.61</td>\n",
       "      <td>0.101</td>\n",
       "      <td>0.600</td>\n",
       "      <td>0.298</td>\n",
       "    </tr>\n",
       "    <tr>\n",
       "      <th>3</th>\n",
       "      <td>American Samoa</td>\n",
       "      <td>OCEANIA</td>\n",
       "      <td>57794</td>\n",
       "      <td>199</td>\n",
       "      <td>290.4</td>\n",
       "      <td>58.29</td>\n",
       "      <td>-20.71</td>\n",
       "      <td>9.27</td>\n",
       "      <td>8000.0</td>\n",
       "      <td>97.0</td>\n",
       "      <td>259.5</td>\n",
       "      <td>10.00</td>\n",
       "      <td>15.00</td>\n",
       "      <td>75.00</td>\n",
       "      <td>2.0</td>\n",
       "      <td>22.46</td>\n",
       "      <td>3.27</td>\n",
       "      <td>NaN</td>\n",
       "      <td>NaN</td>\n",
       "      <td>NaN</td>\n",
       "    </tr>\n",
       "    <tr>\n",
       "      <th>4</th>\n",
       "      <td>Andorra</td>\n",
       "      <td>WESTERN EUROPE</td>\n",
       "      <td>71201</td>\n",
       "      <td>468</td>\n",
       "      <td>152.1</td>\n",
       "      <td>0.00</td>\n",
       "      <td>6.60</td>\n",
       "      <td>4.05</td>\n",
       "      <td>19000.0</td>\n",
       "      <td>100.0</td>\n",
       "      <td>497.2</td>\n",
       "      <td>2.22</td>\n",
       "      <td>0.00</td>\n",
       "      <td>97.78</td>\n",
       "      <td>3.0</td>\n",
       "      <td>8.71</td>\n",
       "      <td>6.25</td>\n",
       "      <td>NaN</td>\n",
       "      <td>NaN</td>\n",
       "      <td>NaN</td>\n",
       "    </tr>\n",
       "  </tbody>\n",
       "</table>\n",
       "</div>"
      ],
      "text/plain": [
       "           Country                               Region  Population  \\\n",
       "0     Afghanistan         ASIA (EX. NEAR EAST)             31056997   \n",
       "1         Albania   EASTERN EUROPE                          3581655   \n",
       "2         Algeria   NORTHERN AFRICA                        32930091   \n",
       "3  American Samoa   OCEANIA                                   57794   \n",
       "4         Andorra   WESTERN EUROPE                            71201   \n",
       "\n",
       "   Area (sq. mi.)  Pop. Density (per sq. mi.)  Coastline (coast/area ratio)  \\\n",
       "0          647500                        48.0                          0.00   \n",
       "1           28748                       124.6                          1.26   \n",
       "2         2381740                        13.8                          0.04   \n",
       "3             199                       290.4                         58.29   \n",
       "4             468                       152.1                          0.00   \n",
       "\n",
       "   Net migration  Infant mortality (per 1000 births)  GDP ($ per capita)  \\\n",
       "0          23.06                              163.07               700.0   \n",
       "1          -4.93                               21.52              4500.0   \n",
       "2          -0.39                               31.00              6000.0   \n",
       "3         -20.71                                9.27              8000.0   \n",
       "4           6.60                                4.05             19000.0   \n",
       "\n",
       "   Literacy (%)  Phones (per 1000)  Arable (%)  Crops (%)  Other (%)  Climate  \\\n",
       "0          36.0                3.2       12.13       0.22      87.65      1.0   \n",
       "1          86.5               71.2       21.09       4.42      74.49      3.0   \n",
       "2          70.0               78.1        3.22       0.25      96.53      1.0   \n",
       "3          97.0              259.5       10.00      15.00      75.00      2.0   \n",
       "4         100.0              497.2        2.22       0.00      97.78      3.0   \n",
       "\n",
       "   Birthrate  Deathrate  Agriculture  Industry  Service  \n",
       "0      46.60      20.34        0.380     0.240    0.380  \n",
       "1      15.11       5.22        0.232     0.188    0.579  \n",
       "2      17.14       4.61        0.101     0.600    0.298  \n",
       "3      22.46       3.27          NaN       NaN      NaN  \n",
       "4       8.71       6.25          NaN       NaN      NaN  "
      ]
     },
     "execution_count": 36,
     "metadata": {},
     "output_type": "execute_result"
    }
   ],
   "source": [
    "countries_df.head()"
   ]
  },
  {
   "cell_type": "code",
   "execution_count": 51,
   "id": "2e4c4bad",
   "metadata": {
    "ExecuteTime": {
     "end_time": "2021-10-19T18:52:24.629887Z",
     "start_time": "2021-10-19T18:52:24.625711Z"
    }
   },
   "outputs": [],
   "source": [
    "# This \n",
    "countries_df = countries_df.sort_values(by='Country', ascending=False)\n",
    "# Does the same as this\n",
    "countries_df.sort_values(by='Country', ascending=False, inplace=True)\n",
    "# But never do this\n",
    "# countries_df = countries_df.sort_values(by='Country', ascending=False, inplace=True)"
   ]
  },
  {
   "cell_type": "code",
   "execution_count": null,
   "id": "b793d7dc",
   "metadata": {},
   "outputs": [],
   "source": []
  }
 ],
 "metadata": {
  "kernelspec": {
   "display_name": "lewagon",
   "language": "python",
   "name": "lewagon"
  },
  "language_info": {
   "codemirror_mode": {
    "name": "ipython",
    "version": 3
   },
   "file_extension": ".py",
   "mimetype": "text/x-python",
   "name": "python",
   "nbconvert_exporter": "python",
   "pygments_lexer": "ipython3",
   "version": "3.7.7"
  },
  "toc": {
   "base_numbering": 1,
   "nav_menu": {},
   "number_sections": true,
   "sideBar": true,
   "skip_h1_title": false,
   "title_cell": "Table of Contents",
   "title_sidebar": "Contents",
   "toc_cell": false,
   "toc_position": {},
   "toc_section_display": true,
   "toc_window_display": false
  },
  "varInspector": {
   "cols": {
    "lenName": 16,
    "lenType": 16,
    "lenVar": 40
   },
   "kernels_config": {
    "python": {
     "delete_cmd_postfix": "",
     "delete_cmd_prefix": "del ",
     "library": "var_list.py",
     "varRefreshCmd": "print(var_dic_list())"
    },
    "r": {
     "delete_cmd_postfix": ") ",
     "delete_cmd_prefix": "rm(",
     "library": "var_list.r",
     "varRefreshCmd": "cat(var_dic_list()) "
    }
   },
   "types_to_exclude": [
    "module",
    "function",
    "builtin_function_or_method",
    "instance",
    "_Feature"
   ],
   "window_display": false
  }
 },
 "nbformat": 4,
 "nbformat_minor": 5
}
