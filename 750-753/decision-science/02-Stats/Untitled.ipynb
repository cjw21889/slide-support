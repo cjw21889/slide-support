{
 "cells": [
  {
   "cell_type": "markdown",
   "id": "51b42e12",
   "metadata": {},
   "source": [
    "# Hypothesis Testing"
   ]
  },
  {
   "cell_type": "markdown",
   "id": "2d667228",
   "metadata": {},
   "source": [
    "![title](hypothesis.png)\n"
   ]
  },
  {
   "cell_type": "code",
   "execution_count": 2,
   "id": "be3cbfe1",
   "metadata": {
    "ExecuteTime": {
     "end_time": "2021-11-08T14:17:37.461065Z",
     "start_time": "2021-11-08T14:17:37.455309Z"
    }
   },
   "outputs": [
    {
     "data": {
      "text/plain": [
       "(290.2001800772997, 309.7998199227003)"
      ]
     },
     "execution_count": 2,
     "metadata": {},
     "output_type": "execute_result"
    }
   ],
   "source": [
    "from scipy.stats import norm\n",
    "\n",
    "X = norm(300, 5)\n",
    "# If we look at our confidance interval\n",
    "# it's not a clean 290 - 310 (1.96 std)\n",
    "# We say 95% confidance interval ~= 2 std\n",
    "X.interval(0.95)"
   ]
  },
  {
   "cell_type": "markdown",
   "id": "d42305a7",
   "metadata": {},
   "source": [
    "# Bayes Theory"
   ]
  },
  {
   "cell_type": "markdown",
   "id": "b6d6b273",
   "metadata": {},
   "source": [
    "![title](bayes.png)\n"
   ]
  },
  {
   "cell_type": "code",
   "execution_count": null,
   "id": "45c463da",
   "metadata": {},
   "outputs": [],
   "source": []
  }
 ],
 "metadata": {
  "kernelspec": {
   "display_name": "Python 3 (ipykernel)",
   "language": "python",
   "name": "python3"
  },
  "language_info": {
   "codemirror_mode": {
    "name": "ipython",
    "version": 3
   },
   "file_extension": ".py",
   "mimetype": "text/x-python",
   "name": "python",
   "nbconvert_exporter": "python",
   "pygments_lexer": "ipython3",
   "version": "3.8.12"
  },
  "toc": {
   "base_numbering": 1,
   "nav_menu": {},
   "number_sections": true,
   "sideBar": true,
   "skip_h1_title": false,
   "title_cell": "Table of Contents",
   "title_sidebar": "Contents",
   "toc_cell": false,
   "toc_position": {},
   "toc_section_display": true,
   "toc_window_display": false
  },
  "varInspector": {
   "cols": {
    "lenName": 16,
    "lenType": 16,
    "lenVar": 40
   },
   "kernels_config": {
    "python": {
     "delete_cmd_postfix": "",
     "delete_cmd_prefix": "del ",
     "library": "var_list.py",
     "varRefreshCmd": "print(var_dic_list())"
    },
    "r": {
     "delete_cmd_postfix": ") ",
     "delete_cmd_prefix": "rm(",
     "library": "var_list.r",
     "varRefreshCmd": "cat(var_dic_list()) "
    }
   },
   "types_to_exclude": [
    "module",
    "function",
    "builtin_function_or_method",
    "instance",
    "_Feature"
   ],
   "window_display": false
  }
 },
 "nbformat": 4,
 "nbformat_minor": 5
}
