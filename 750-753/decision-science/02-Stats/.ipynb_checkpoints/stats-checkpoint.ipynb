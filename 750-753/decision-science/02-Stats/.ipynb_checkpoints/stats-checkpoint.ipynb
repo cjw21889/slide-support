{
 "cells": [
  {
   "cell_type": "markdown",
   "id": "730afe0b",
   "metadata": {},
   "source": [
    "# Central Limit Theory"
   ]
  },
  {
   "cell_type": "markdown",
   "id": "7d835978",
   "metadata": {},
   "source": [
    "![title](clm.png)"
   ]
  },
  {
   "cell_type": "markdown",
   "id": "12c7887d",
   "metadata": {},
   "source": [
    "Engineering a population with a non-normal distribution into a normal distribution"
   ]
  },
  {
   "cell_type": "code",
   "execution_count": 2,
   "id": "a4106572",
   "metadata": {
    "ExecuteTime": {
     "end_time": "2021-11-09T11:30:01.529713Z",
     "start_time": "2021-11-09T11:30:01.502895Z"
    },
    "tags": []
   },
   "outputs": [
    {
     "data": {
      "text/html": [
       "<div>\n",
       "<style scoped>\n",
       "    .dataframe tbody tr th:only-of-type {\n",
       "        vertical-align: middle;\n",
       "    }\n",
       "\n",
       "    .dataframe tbody tr th {\n",
       "        vertical-align: top;\n",
       "    }\n",
       "\n",
       "    .dataframe thead th {\n",
       "        text-align: right;\n",
       "    }\n",
       "</style>\n",
       "<table border=\"1\" class=\"dataframe\">\n",
       "  <thead>\n",
       "    <tr style=\"text-align: right;\">\n",
       "      <th></th>\n",
       "      <th>total_bill</th>\n",
       "      <th>tip</th>\n",
       "      <th>sex</th>\n",
       "      <th>smoker</th>\n",
       "      <th>day</th>\n",
       "      <th>time</th>\n",
       "      <th>size</th>\n",
       "    </tr>\n",
       "  </thead>\n",
       "  <tbody>\n",
       "    <tr>\n",
       "      <th>0</th>\n",
       "      <td>16.99</td>\n",
       "      <td>1.01</td>\n",
       "      <td>Female</td>\n",
       "      <td>No</td>\n",
       "      <td>Sun</td>\n",
       "      <td>Dinner</td>\n",
       "      <td>2</td>\n",
       "    </tr>\n",
       "    <tr>\n",
       "      <th>1</th>\n",
       "      <td>10.34</td>\n",
       "      <td>1.66</td>\n",
       "      <td>Male</td>\n",
       "      <td>No</td>\n",
       "      <td>Sun</td>\n",
       "      <td>Dinner</td>\n",
       "      <td>3</td>\n",
       "    </tr>\n",
       "    <tr>\n",
       "      <th>2</th>\n",
       "      <td>21.01</td>\n",
       "      <td>3.50</td>\n",
       "      <td>Male</td>\n",
       "      <td>No</td>\n",
       "      <td>Sun</td>\n",
       "      <td>Dinner</td>\n",
       "      <td>3</td>\n",
       "    </tr>\n",
       "    <tr>\n",
       "      <th>3</th>\n",
       "      <td>23.68</td>\n",
       "      <td>3.31</td>\n",
       "      <td>Male</td>\n",
       "      <td>No</td>\n",
       "      <td>Sun</td>\n",
       "      <td>Dinner</td>\n",
       "      <td>2</td>\n",
       "    </tr>\n",
       "    <tr>\n",
       "      <th>4</th>\n",
       "      <td>24.59</td>\n",
       "      <td>3.61</td>\n",
       "      <td>Female</td>\n",
       "      <td>No</td>\n",
       "      <td>Sun</td>\n",
       "      <td>Dinner</td>\n",
       "      <td>4</td>\n",
       "    </tr>\n",
       "  </tbody>\n",
       "</table>\n",
       "</div>"
      ],
      "text/plain": [
       "   total_bill   tip     sex smoker  day    time  size\n",
       "0       16.99  1.01  Female     No  Sun  Dinner     2\n",
       "1       10.34  1.66    Male     No  Sun  Dinner     3\n",
       "2       21.01  3.50    Male     No  Sun  Dinner     3\n",
       "3       23.68  3.31    Male     No  Sun  Dinner     2\n",
       "4       24.59  3.61  Female     No  Sun  Dinner     4"
      ]
     },
     "execution_count": 2,
     "metadata": {},
     "output_type": "execute_result"
    }
   ],
   "source": [
    "# Loading in the tips dataset\n",
    "import seaborn as sns\n",
    "df = sns.load_dataset('tips')\n",
    "\n",
    "df.head()"
   ]
  },
  {
   "cell_type": "markdown",
   "id": "094cf9a4",
   "metadata": {},
   "source": [
    "If we look at the distribution of our `total_bill` column we see it is not a normal distribution.  Showing some right skew"
   ]
  },
  {
   "cell_type": "code",
   "execution_count": 3,
   "id": "7288dfe5",
   "metadata": {
    "ExecuteTime": {
     "end_time": "2021-11-09T11:18:39.219944Z",
     "start_time": "2021-11-09T11:18:39.007636Z"
    },
    "tags": []
   },
   "outputs": [
    {
     "name": "stdout",
     "output_type": "stream",
     "text": [
      "mean:  19.78594262295082\n",
      "median:  17.795\n",
      "std:  8.902411954856856\n",
      "skew:  1.1332130376158205\n"
     ]
    },
    {
     "data": {
      "image/png": "[encoded data removed]",
      "text/plain": [
       "<Figure size 360x360 with 1 Axes>"
      ]
     },
     "metadata": {
      "needs_background": "light"
     },
     "output_type": "display_data"
    }
   ],
   "source": [
    "sns.displot(df['total_bill']);\n",
    "print('mean: ', df.total_bill.mean())\n",
    "print('median: ', df.total_bill.median())\n",
    "print('std: ', df.total_bill.std())\n",
    "print('skew: ', df.total_bill.skew())"
   ]
  },
  {
   "cell_type": "code",
   "execution_count": 4,
   "id": "acb2f880",
   "metadata": {
    "ExecuteTime": {
     "end_time": "2021-11-09T11:19:51.506189Z",
     "start_time": "2021-11-09T11:19:51.490957Z"
    },
    "tags": []
   },
   "outputs": [
    {
     "name": "stdout",
     "output_type": "stream",
     "text": [
      "Sample mean:  20.669\n"
     ]
    },
    {
     "data": {
      "text/plain": [
       "72     26.86\n",
       "97     12.03\n",
       "90     28.97\n",
       "168    10.59\n",
       "28     21.70\n",
       "28     21.70\n",
       "9      14.78\n",
       "18     16.97\n",
       "109    14.31\n",
       "36     16.31\n",
       "Name: total_bill, dtype: float64"
      ]
     },
     "metadata": {},
     "output_type": "display_data"
    }
   ],
   "source": [
    "# We can take a sample from the population and find a sample mean\n",
    "print('Sample mean: ', df.total_bill.sample(10, replace=True).mean())\n",
    "\n",
    "display(df.total_bill.sample(10, replace=True))"
   ]
  },
  {
   "cell_type": "markdown",
   "id": "78aeda9f",
   "metadata": {},
   "source": [
    "We can repeat this process over and over, and then look at the distribution of our sample means to achieve a normal distribution"
   ]
  },
  {
   "cell_type": "code",
   "execution_count": 5,
   "id": "93d5ba48",
   "metadata": {
    "ExecuteTime": {
     "end_time": "2021-11-09T11:23:13.952796Z",
     "start_time": "2021-11-09T11:23:13.727191Z"
    },
    "code_folding": [],
    "tags": []
   },
   "outputs": [
    {
     "name": "stdout",
     "output_type": "stream",
     "text": [
      "mu:  19.89404\n",
      "median:  19.528\n",
      "sigma:  4.1260048286559465\n",
      "skew:  0.6311096402598968\n"
     ]
    },
    {
     "data": {
      "image/png": "[encoded data removed]",
      "text/plain": [
       "<Figure size 360x360 with 1 Axes>"
      ]
     },
     "metadata": {
      "needs_background": "light"
     },
     "output_type": "display_data"
    }
   ],
   "source": [
    "import pandas as pd\n",
    "# Here, 500 examples of 5 samples\n",
    "\n",
    "means = []\n",
    "for i in range(500):\n",
    "    means.append(df.total_bill.sample(5, replace=True).mean())\n",
    "\n",
    "means = pd.Series(means)\n",
    "\n",
    "sns.displot(means)\n",
    "print('mu: ', means.mean())\n",
    "print('median: ', means.median())\n",
    "print('sigma: ', means.std())\n",
    "print('skew: ', means.skew())"
   ]
  },
  {
   "cell_type": "markdown",
   "id": "c6a5ac3b",
   "metadata": {},
   "source": [
    "And the larger our sample size, the more narrow our distribution becomes (smaller our standard deviation)"
   ]
  },
  {
   "cell_type": "code",
   "execution_count": 7,
   "id": "710f5634",
   "metadata": {
    "ExecuteTime": {
     "end_time": "2021-11-09T11:26:25.806890Z",
     "start_time": "2021-11-09T11:26:25.001388Z"
    },
    "tags": []
   },
   "outputs": [
    {
     "data": {
      "image/png": "[encoded data removed]",
      "text/plain": [
       "<Figure size 1296x576 with 6 Axes>"
      ]
     },
     "metadata": {
      "needs_background": "light"
     },
     "output_type": "display_data"
    }
   ],
   "source": [
    "import matplotlib.pyplot as plt\n",
    "import numpy as np\n",
    "\n",
    "n_s = [1,5,50,100,500,1000]\n",
    "fig, axes = plt.subplots(2,3, figsize=(18,8))\n",
    "\n",
    "for n, ax in zip(n_s, axes.flat):\n",
    "    means= [(df.total_bill.sample(n, replace=True).mean()) for i in range(500)]\n",
    "    ax.set_xlim(0,40)\n",
    "    ax.set_title(f\"n={n}, mu={round(np.mean(means),3)}, sigma={round(np.std(means),3)}\")\n",
    "    sns.histplot(means, bins=10, ax=ax)\n",
    "\n"
   ]
  },
  {
   "cell_type": "markdown",
   "id": "51b42e12",
   "metadata": {},
   "source": [
    "# Hypothesis Testing"
   ]
  },
  {
   "cell_type": "markdown",
   "id": "f73b8fa2",
   "metadata": {},
   "source": [
    "Test new feature:\n",
    "\n",
    "- Users spend on average: 300 seconds per session (mu)\n",
    "- standard deviation of 50 seconds (sigma)\n",
    "\n",
    "Changing background color **will** increase the time users spend on the site per session.  Sample 100 users:\n",
    "\n",
    "*Hypothesis 0* - dark mode changes nothing\n",
    "\n",
    "*Hypothesis 1* - I was right, they will stay longer\n",
    "\n",
    "*significance level* **0.05** - p-value must fall below 5% to be considered significant.\n",
    "\n",
    "Said another way, the mean for our test sample must fall outside of the 95% confidence interval for the population mean, otherwise we consider it random chance\n",
    "\n",
    "Sample size of 100 is large enough that CLT kicks in. sample mean follows a normal distribution of the population mean, and population standard deviation divided by n:  \n",
    "\n",
    "*N* (300, 50 / $\\sqrt{100}$) => *N* (300, 50/10) => *N* (300,5)"
   ]
  },
  {
   "cell_type": "markdown",
   "id": "2d667228",
   "metadata": {},
   "source": [
    "![title](hypothesis.png)\n"
   ]
  },
  {
   "cell_type": "markdown",
   "id": "fbfdd84b",
   "metadata": {},
   "source": [
    "👆 Our sample mean is exactly 2 standard deviations away from the mean, why isn't the area underneath 0.025?!? 👆"
   ]
  },
  {
   "cell_type": "code",
   "execution_count": 8,
   "id": "be3cbfe1",
   "metadata": {
    "ExecuteTime": {
     "end_time": "2021-11-09T13:57:49.037360Z",
     "start_time": "2021-11-09T13:57:49.025200Z"
    },
    "tags": []
   },
   "outputs": [
    {
     "data": {
      "text/plain": [
       "(290.2001800772997, 309.7998199227003)"
      ]
     },
     "execution_count": 8,
     "metadata": {},
     "output_type": "execute_result"
    }
   ],
   "source": [
    "from scipy.stats import norm\n",
    "\n",
    "# lets create the distribution\n",
    "X = norm(300, 5)\n",
    "# If we look at our confidance interval\n",
    "# it's not a clean 290 - 310 (1.96 std)\n",
    "# We say 95% confidance interval ~= 2 std\n",
    "X.interval(0.95)"
   ]
  },
  {
   "cell_type": "markdown",
   "id": "d42305a7",
   "metadata": {},
   "source": [
    "# Bayes Theory"
   ]
  },
  {
   "cell_type": "markdown",
   "id": "b6d6b273",
   "metadata": {},
   "source": [
    "![title](bayes.png)\n"
   ]
  },
  {
   "cell_type": "code",
   "execution_count": null,
   "id": "45c463da",
   "metadata": {
    "collapsed": true,
    "jupyter": {
     "outputs_hidden": true
    }
   },
   "outputs": [],
   "source": []
  }
 ],
 "metadata": {
  "kernelspec": {
   "display_name": "Python 3 (ipykernel)",
   "language": "python",
   "name": "python3"
  },
  "language_info": {
   "codemirror_mode": {
    "name": "ipython",
    "version": 3
   },
   "file_extension": ".py",
   "mimetype": "text/x-python",
   "name": "python",
   "nbconvert_exporter": "python",
   "pygments_lexer": "ipython3",
   "version": "3.8.12"
  },
  "toc": {
   "base_numbering": 1,
   "nav_menu": {},
   "number_sections": true,
   "sideBar": true,
   "skip_h1_title": false,
   "title_cell": "Table of Contents",
   "title_sidebar": "Contents",
   "toc_cell": false,
   "toc_position": {},
   "toc_section_display": true,
   "toc_window_display": false
  },
  "varInspector": {
   "cols": {
    "lenName": 16,
    "lenType": 16,
    "lenVar": 40
   },
   "kernels_config": {
    "python": {
     "delete_cmd_postfix": "",
     "delete_cmd_prefix": "del ",
     "library": "var_list.py",
     "varRefreshCmd": "print(var_dic_list())"
    },
    "r": {
     "delete_cmd_postfix": ") ",
     "delete_cmd_prefix": "rm(",
     "library": "var_list.r",
     "varRefreshCmd": "cat(var_dic_list()) "
    }
   },
   "types_to_exclude": [
    "module",
    "function",
    "builtin_function_or_method",
    "instance",
    "_Feature"
   ],
   "window_display": false
  }
 },
 "nbformat": 4,
 "nbformat_minor": 5
}
