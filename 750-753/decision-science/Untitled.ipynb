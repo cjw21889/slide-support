{
 "cells": [
  {
   "cell_type": "code",
   "execution_count": 1,
   "id": "59c6b4ee",
   "metadata": {
    "ExecuteTime": {
     "end_time": "2021-11-08T23:14:35.551890Z",
     "start_time": "2021-11-08T23:14:35.546506Z"
    }
   },
   "outputs": [],
   "source": [
    "my_list = (list(range(100)))"
   ]
  },
  {
   "cell_type": "code",
   "execution_count": 20,
   "id": "fc307150",
   "metadata": {
    "ExecuteTime": {
     "end_time": "2021-11-08T23:17:42.751078Z",
     "start_time": "2021-11-08T23:17:42.604446Z"
    }
   },
   "outputs": [],
   "source": [
    "import random\n",
    "import numpy as np\n",
    "\n",
    "means = []\n",
    "for i in range(5000):\n",
    "    means.append(np.mean(random.sample(my_list, 20)))"
   ]
  },
  {
   "cell_type": "code",
   "execution_count": 21,
   "id": "9c19fdfd",
   "metadata": {
    "ExecuteTime": {
     "end_time": "2021-11-08T23:17:43.277999Z",
     "start_time": "2021-11-08T23:17:43.274498Z"
    }
   },
   "outputs": [],
   "source": [
    "import matplotlib.pyplot as plt"
   ]
  },
  {
   "cell_type": "code",
   "execution_count": 22,
   "id": "02424092",
   "metadata": {
    "ExecuteTime": {
     "end_time": "2021-11-08T23:17:43.583430Z",
     "start_time": "2021-11-08T23:17:43.436831Z"
    }
   },
   "outputs": [
    {
     "data": {
      "text/plain": [
       "(array([  16.,   77.,  339.,  820., 1240., 1245.,  801.,  338.,  102.,\n",
       "          22.]),\n",
       " array([29.8  , 33.725, 37.65 , 41.575, 45.5  , 49.425, 53.35 , 57.275,\n",
       "        61.2  , 65.125, 69.05 ]),\n",
       " <BarContainer object of 10 artists>)"
      ]
     },
     "execution_count": 22,
     "metadata": {},
     "output_type": "execute_result"
    },
    {
     "data": {
      "image/png": "[encoded data removed]",
      "text/plain": [
       "<Figure size 432x288 with 1 Axes>"
      ]
     },
     "metadata": {
      "needs_background": "light"
     },
     "output_type": "display_data"
    }
   ],
   "source": [
    "plt.hist(means)"
   ]
  },
  {
   "cell_type": "code",
   "execution_count": null,
   "id": "731a7a46",
   "metadata": {},
   "outputs": [],
   "source": []
  }
 ],
 "metadata": {
  "kernelspec": {
   "display_name": "lw3.8.12",
   "language": "python",
   "name": "lw3.8.12"
  },
  "language_info": {
   "codemirror_mode": {
    "name": "ipython",
    "version": 3
   },
   "file_extension": ".py",
   "mimetype": "text/x-python",
   "name": "python",
   "nbconvert_exporter": "python",
   "pygments_lexer": "ipython3",
   "version": "3.8.12"
  },
  "toc": {
   "base_numbering": 1,
   "nav_menu": {},
   "number_sections": true,
   "sideBar": true,
   "skip_h1_title": false,
   "title_cell": "Table of Contents",
   "title_sidebar": "Contents",
   "toc_cell": false,
   "toc_position": {},
   "toc_section_display": true,
   "toc_window_display": false
  },
  "varInspector": {
   "cols": {
    "lenName": 16,
    "lenType": 16,
    "lenVar": 40
   },
   "kernels_config": {
    "python": {
     "delete_cmd_postfix": "",
     "delete_cmd_prefix": "del ",
     "library": "var_list.py",
     "varRefreshCmd": "print(var_dic_list())"
    },
    "r": {
     "delete_cmd_postfix": ") ",
     "delete_cmd_prefix": "rm(",
     "library": "var_list.r",
     "varRefreshCmd": "cat(var_dic_list()) "
    }
   },
   "types_to_exclude": [
    "module",
    "function",
    "builtin_function_or_method",
    "instance",
    "_Feature"
   ],
   "window_display": false
  }
 },
 "nbformat": 4,
 "nbformat_minor": 5
}
