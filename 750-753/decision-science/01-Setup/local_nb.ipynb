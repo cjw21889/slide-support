{
 "cells": [
  {
   "cell_type": "code",
   "execution_count": null,
   "id": "8ae56fe4",
   "metadata": {
    "ExecuteTime": {
     "end_time": "2021-11-06T10:02:37.830088Z",
     "start_time": "2021-11-06T10:02:37.608315Z"
    }
   },
   "outputs": [],
   "source": [
    "# Normal Package imports \n",
    "import pandas as pd\n",
    "import numpy as np"
   ]
  },
  {
   "cell_type": "code",
   "execution_count": null,
   "id": "fd7b6b98",
   "metadata": {
    "ExecuteTime": {
     "end_time": "2021-11-06T10:02:38.586657Z",
     "start_time": "2021-11-06T10:02:38.577085Z"
    }
   },
   "outputs": [],
   "source": [
    "# Where are all these awesome functions and classes coming from\n",
    "display(pd.__file__)\n",
    "display(np.__file__)"
   ]
  },
  {
   "cell_type": "code",
   "execution_count": null,
   "id": "12705527",
   "metadata": {
    "ExecuteTime": {
     "end_time": "2021-11-06T10:03:01.643264Z",
     "start_time": "2021-11-06T10:03:01.517954Z"
    }
   },
   "outputs": [],
   "source": [
    "# How do we access things which AREN'T installed into the enviornment\n",
    "!tree"
   ]
  },
  {
   "cell_type": "code",
   "execution_count": null,
   "id": "484e39c1",
   "metadata": {
    "ExecuteTime": {
     "end_time": "2021-11-06T10:12:41.367301Z",
     "start_time": "2021-11-06T10:12:41.012773Z"
    }
   },
   "outputs": [],
   "source": [
    "!code ."
   ]
  },
  {
   "cell_type": "code",
   "execution_count": 1,
   "id": "040216a2",
   "metadata": {
    "ExecuteTime": {
     "end_time": "2021-11-06T10:15:51.469121Z",
     "start_time": "2021-11-06T10:15:51.464510Z"
    }
   },
   "outputs": [],
   "source": [
    "# like my local awesome function\n",
    "from mypackage.data import MyClass\n"
   ]
  },
  {
   "cell_type": "code",
   "execution_count": 2,
   "id": "fae55e32",
   "metadata": {
    "ExecuteTime": {
     "end_time": "2021-11-06T10:15:52.197539Z",
     "start_time": "2021-11-06T10:15:52.195177Z"
    }
   },
   "outputs": [],
   "source": [
    "x = MyClass()"
   ]
  },
  {
   "cell_type": "code",
   "execution_count": 3,
   "id": "777118ef",
   "metadata": {
    "ExecuteTime": {
     "end_time": "2021-11-06T10:16:02.640242Z",
     "start_time": "2021-11-06T10:16:02.631405Z"
    }
   },
   "outputs": [
    {
     "data": {
      "text/plain": [
       "'abc'"
      ]
     },
     "execution_count": 3,
     "metadata": {},
     "output_type": "execute_result"
    }
   ],
   "source": [
    "x.attribute"
   ]
  },
  {
   "cell_type": "code",
   "execution_count": 3,
   "id": "a7174d60",
   "metadata": {
    "ExecuteTime": {
     "end_time": "2021-11-06T10:14:44.256991Z",
     "start_time": "2021-11-06T10:14:44.248009Z"
    }
   },
   "outputs": [
    {
     "data": {
      "text/plain": [
       "'hello from data.py'"
      ]
     },
     "execution_count": 3,
     "metadata": {},
     "output_type": "execute_result"
    }
   ],
   "source": [
    "x.hello()"
   ]
  },
  {
   "cell_type": "code",
   "execution_count": null,
   "id": "6a17ae26",
   "metadata": {
    "ExecuteTime": {
     "end_time": "2021-11-06T10:04:23.444333Z",
     "start_time": "2021-11-06T10:04:23.440770Z"
    }
   },
   "outputs": [],
   "source": [
    "# How does python know where to find my import\n",
    "import sys\n",
    "sys.path"
   ]
  },
  {
   "cell_type": "code",
   "execution_count": null,
   "id": "27c39e42",
   "metadata": {
    "ExecuteTime": {
     "end_time": "2021-11-05T20:07:09.820786Z",
     "start_time": "2021-11-05T20:07:09.814172Z"
    }
   },
   "outputs": [],
   "source": [
    "# It goes line by line through the path until it finds \"olist\"\n",
    "import os\n",
    "os.listdir(sys.path[0])"
   ]
  },
  {
   "cell_type": "code",
   "execution_count": null,
   "id": "5c5b835d",
   "metadata": {},
   "outputs": [],
   "source": []
  }
 ],
 "metadata": {
  "kernelspec": {
   "display_name": "Python 3 (ipykernel)",
   "language": "python",
   "name": "python3"
  },
  "language_info": {
   "codemirror_mode": {
    "name": "ipython",
    "version": 3
   },
   "file_extension": ".py",
   "mimetype": "text/x-python",
   "name": "python",
   "nbconvert_exporter": "python",
   "pygments_lexer": "ipython3",
   "version": "3.8.12"
  },
  "toc": {
   "base_numbering": 1,
   "nav_menu": {},
   "number_sections": true,
   "sideBar": true,
   "skip_h1_title": false,
   "title_cell": "Table of Contents",
   "title_sidebar": "Contents",
   "toc_cell": false,
   "toc_position": {},
   "toc_section_display": true,
   "toc_window_display": false
  },
  "varInspector": {
   "cols": {
    "lenName": 16,
    "lenType": 16,
    "lenVar": 40
   },
   "kernels_config": {
    "python": {
     "delete_cmd_postfix": "",
     "delete_cmd_prefix": "del ",
     "library": "var_list.py",
     "varRefreshCmd": "print(var_dic_list())"
    },
    "r": {
     "delete_cmd_postfix": ") ",
     "delete_cmd_prefix": "rm(",
     "library": "var_list.r",
     "varRefreshCmd": "cat(var_dic_list()) "
    }
   },
   "types_to_exclude": [
    "module",
    "function",
    "builtin_function_or_method",
    "instance",
    "_Feature"
   ],
   "window_display": false
  }
 },
 "nbformat": 4,
 "nbformat_minor": 5
}
