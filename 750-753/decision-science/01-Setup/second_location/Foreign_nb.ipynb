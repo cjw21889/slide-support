{
 "cells": [
  {
   "cell_type": "code",
   "execution_count": 1,
   "id": "15132821",
   "metadata": {
    "ExecuteTime": {
     "end_time": "2021-11-06T10:06:09.487034Z",
     "start_time": "2021-11-06T10:06:09.273617Z"
    }
   },
   "outputs": [
    {
     "data": {
      "text/plain": [
       "'/Users/chriswesterman/.pyenv/versions/3.8.12/envs/lw3.8.12/lib/python3.8/site-packages/pandas/__init__.py'"
      ]
     },
     "metadata": {},
     "output_type": "display_data"
    },
    {
     "data": {
      "text/plain": [
       "'/Users/chriswesterman/.pyenv/versions/3.8.12/envs/lw3.8.12/lib/python3.8/site-packages/numpy/__init__.py'"
      ]
     },
     "metadata": {},
     "output_type": "display_data"
    }
   ],
   "source": [
    "# Normal Package imports \n",
    "import pandas as pd\n",
    "import numpy as np\n",
    "\n",
    "# Still coming from the same place\n",
    "display(pd.__file__)\n",
    "display(np.__file__)"
   ]
  },
  {
   "cell_type": "code",
   "execution_count": 2,
   "id": "b65b3d2f",
   "metadata": {
    "ExecuteTime": {
     "end_time": "2021-11-06T10:06:17.714876Z",
     "start_time": "2021-11-06T10:06:17.588649Z"
    }
   },
   "outputs": [
    {
     "name": "stdout",
     "output_type": "stream",
     "text": [
      "\u001b[01;34m.\u001b[00m\r\n",
      "└── Foreign_nb.ipynb\r\n",
      "\r\n",
      "0 directories, 1 file\r\n"
     ]
    }
   ],
   "source": [
    "!tree"
   ]
  },
  {
   "cell_type": "code",
   "execution_count": 3,
   "id": "7fca279f",
   "metadata": {
    "ExecuteTime": {
     "end_time": "2021-11-06T10:06:21.822571Z",
     "start_time": "2021-11-06T10:06:21.816048Z"
    }
   },
   "outputs": [
    {
     "data": {
      "text/plain": [
       "['/Users/chriswesterman/code/lewagon-teaching/slide-support/750-753/decision-science/01-Setup/second_location',\n",
       " '/Users/chriswesterman/.pyenv/versions/3.8.12/lib/python38.zip',\n",
       " '/Users/chriswesterman/.pyenv/versions/3.8.12/lib/python3.8',\n",
       " '/Users/chriswesterman/.pyenv/versions/3.8.12/lib/python3.8/lib-dynload',\n",
       " '',\n",
       " '/Users/chriswesterman/.pyenv/versions/3.8.12/envs/lw3.8.12/lib/python3.8/site-packages',\n",
       " '/Users/chriswesterman/Desktop/NLP_recap/olist',\n",
       " '/Users/chriswesterman/.pyenv/versions/3.8.12/envs/lw3.8.12/lib/python3.8/site-packages/IPython/extensions',\n",
       " '/Users/chriswesterman/.ipython']"
      ]
     },
     "execution_count": 3,
     "metadata": {},
     "output_type": "execute_result"
    }
   ],
   "source": [
    "# my new path from this notebooks location\n",
    "import sys\n",
    "sys.path"
   ]
  },
  {
   "cell_type": "code",
   "execution_count": 4,
   "id": "b79af705",
   "metadata": {
    "ExecuteTime": {
     "end_time": "2021-11-06T10:06:34.205843Z",
     "start_time": "2021-11-06T10:06:34.011125Z"
    }
   },
   "outputs": [
    {
     "ename": "ModuleNotFoundError",
     "evalue": "No module named 'mypackage'",
     "output_type": "error",
     "traceback": [
      "\u001b[0;31m---------------------------------------------------------------------------\u001b[0m",
      "\u001b[0;31mModuleNotFoundError\u001b[0m                       Traceback (most recent call last)",
      "\u001b[0;32m/var/folders/x4/pk0pszzd0ng385bnd9r0_qfm0000gn/T/ipykernel_91634/2849406247.py\u001b[0m in \u001b[0;36m<module>\u001b[0;34m\u001b[0m\n\u001b[1;32m      1\u001b[0m \u001b[0;31m# Am I able to find this?\u001b[0m\u001b[0;34m\u001b[0m\u001b[0;34m\u001b[0m\u001b[0;34m\u001b[0m\u001b[0m\n\u001b[0;32m----> 2\u001b[0;31m \u001b[0;32mfrom\u001b[0m \u001b[0mmypackage\u001b[0m \u001b[0;32mimport\u001b[0m \u001b[0mdata\u001b[0m\u001b[0;34m\u001b[0m\u001b[0;34m\u001b[0m\u001b[0m\n\u001b[0m",
      "\u001b[0;31mModuleNotFoundError\u001b[0m: No module named 'mypackage'"
     ]
    }
   ],
   "source": [
    "# Am I able to find this?\n",
    "from mypackage import data"
   ]
  },
  {
   "cell_type": "code",
   "execution_count": 5,
   "id": "d8695beb",
   "metadata": {
    "ExecuteTime": {
     "end_time": "2021-11-06T10:06:40.611858Z",
     "start_time": "2021-11-06T10:06:40.606481Z"
    }
   },
   "outputs": [
    {
     "data": {
      "text/plain": [
       "['Foreign_nb.ipynb', '.ipynb_checkpoints']"
      ]
     },
     "execution_count": 5,
     "metadata": {},
     "output_type": "execute_result"
    }
   ],
   "source": [
    "# our path no longer contains o-list\n",
    "import os\n",
    "os.listdir(sys.path[0])"
   ]
  },
  {
   "cell_type": "code",
   "execution_count": 6,
   "id": "ddbf4f7f",
   "metadata": {
    "ExecuteTime": {
     "end_time": "2021-11-06T10:07:22.825429Z",
     "start_time": "2021-11-06T10:07:22.703506Z"
    }
   },
   "outputs": [],
   "source": [
    "# We can add a second location to look for python packages\n",
    "!echo export PYTHONPATH=\"'/Users/chriswesterman/code/lewagon-teaching/slide-support/750-753/decision-science/01-Setup:\\$PYTHONPATH'\" >> ~/.zshrc"
   ]
  },
  {
   "cell_type": "code",
   "execution_count": 7,
   "id": "536ff098",
   "metadata": {
    "ExecuteTime": {
     "end_time": "2021-11-06T10:07:25.727452Z",
     "start_time": "2021-11-06T10:07:25.364172Z"
    }
   },
   "outputs": [],
   "source": [
    "# checkout our new zsh file\n",
    "!code ~/.zshrc"
   ]
  },
  {
   "cell_type": "code",
   "execution_count": 1,
   "id": "8c06dc0b",
   "metadata": {
    "ExecuteTime": {
     "end_time": "2021-11-06T10:08:49.095880Z",
     "start_time": "2021-11-06T10:08:48.976603Z"
    }
   },
   "outputs": [
    {
     "name": "stdout",
     "output_type": "stream",
     "text": [
      "/Users/chriswesterman/code/lewagon-teaching/slide-support/750-753/decision-science/01-Setup:$PYTHONPATH\r\n"
     ]
    }
   ],
   "source": [
    "# Lets quit our terminal and retry\n",
    "!echo $PYTHONPATH"
   ]
  },
  {
   "cell_type": "code",
   "execution_count": 2,
   "id": "9afbca0c",
   "metadata": {
    "ExecuteTime": {
     "end_time": "2021-11-06T10:09:00.276082Z",
     "start_time": "2021-11-06T10:09:00.265584Z"
    }
   },
   "outputs": [
    {
     "data": {
      "text/plain": [
       "'/Users/chriswesterman/code/lewagon-teaching/slide-support/750-753/decision-science/01-Setup/mypackage/data.py'"
      ]
     },
     "execution_count": 2,
     "metadata": {},
     "output_type": "execute_result"
    }
   ],
   "source": [
    "# Now lets see if this works\n",
    "from mypackage import data\n",
    "data.__file__"
   ]
  },
  {
   "cell_type": "code",
   "execution_count": 3,
   "id": "7a749925",
   "metadata": {
    "ExecuteTime": {
     "end_time": "2021-11-06T10:09:08.407082Z",
     "start_time": "2021-11-06T10:09:08.401945Z"
    }
   },
   "outputs": [
    {
     "data": {
      "text/plain": [
       "['/Users/chriswesterman/code/lewagon-teaching/slide-support/750-753/decision-science/01-Setup/second_location',\n",
       " '/Users/chriswesterman/code/lewagon-teaching/slide-support/750-753/decision-science/01-Setup',\n",
       " '/Users/chriswesterman/code/lewagon-teaching/slide-support/750-753/decision-science/01-Setup/second_location/$PYTHONPATH',\n",
       " '/Users/chriswesterman/.pyenv/versions/3.8.12/lib/python38.zip',\n",
       " '/Users/chriswesterman/.pyenv/versions/3.8.12/lib/python3.8',\n",
       " '/Users/chriswesterman/.pyenv/versions/3.8.12/lib/python3.8/lib-dynload',\n",
       " '',\n",
       " '/Users/chriswesterman/.pyenv/versions/3.8.12/envs/lw3.8.12/lib/python3.8/site-packages',\n",
       " '/Users/chriswesterman/Desktop/NLP_recap/olist',\n",
       " '/Users/chriswesterman/.pyenv/versions/3.8.12/envs/lw3.8.12/lib/python3.8/site-packages/IPython/extensions',\n",
       " '/Users/chriswesterman/.ipython']"
      ]
     },
     "execution_count": 3,
     "metadata": {},
     "output_type": "execute_result"
    }
   ],
   "source": [
    "# Check out the new path\n",
    "import sys\n",
    "\n",
    "sys.path"
   ]
  },
  {
   "cell_type": "code",
   "execution_count": null,
   "id": "7e565022",
   "metadata": {},
   "outputs": [],
   "source": []
  }
 ],
 "metadata": {
  "kernelspec": {
   "display_name": "Python 3 (ipykernel)",
   "language": "python",
   "name": "python3"
  },
  "language_info": {
   "codemirror_mode": {
    "name": "ipython",
    "version": 3
   },
   "file_extension": ".py",
   "mimetype": "text/x-python",
   "name": "python",
   "nbconvert_exporter": "python",
   "pygments_lexer": "ipython3",
   "version": "3.8.12"
  },
  "toc": {
   "base_numbering": 1,
   "nav_menu": {},
   "number_sections": true,
   "sideBar": true,
   "skip_h1_title": false,
   "title_cell": "Table of Contents",
   "title_sidebar": "Contents",
   "toc_cell": false,
   "toc_position": {},
   "toc_section_display": true,
   "toc_window_display": false
  },
  "varInspector": {
   "cols": {
    "lenName": 16,
    "lenType": 16,
    "lenVar": 40
   },
   "kernels_config": {
    "python": {
     "delete_cmd_postfix": "",
     "delete_cmd_prefix": "del ",
     "library": "var_list.py",
     "varRefreshCmd": "print(var_dic_list())"
    },
    "r": {
     "delete_cmd_postfix": ") ",
     "delete_cmd_prefix": "rm(",
     "library": "var_list.r",
     "varRefreshCmd": "cat(var_dic_list()) "
    }
   },
   "types_to_exclude": [
    "module",
    "function",
    "builtin_function_or_method",
    "instance",
    "_Feature"
   ],
   "window_display": false
  }
 },
 "nbformat": 4,
 "nbformat_minor": 5
}
