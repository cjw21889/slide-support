{
 "cells": [
  {
   "cell_type": "code",
   "execution_count": null,
   "id": "15132821",
   "metadata": {
    "ExecuteTime": {
     "end_time": "2021-11-05T20:07:46.000592Z",
     "start_time": "2021-11-05T20:07:45.785442Z"
    }
   },
   "outputs": [],
   "source": [
    "# Normal Package imports \n",
    "import pandas as pd\n",
    "import numpy as np\n",
    "\n",
    "# Still coming from the same place\n",
    "display(pd.__file__)\n",
    "display(np.__file__)"
   ]
  },
  {
   "cell_type": "code",
   "execution_count": null,
   "id": "b65b3d2f",
   "metadata": {
    "ExecuteTime": {
     "end_time": "2021-11-05T20:07:48.433961Z",
     "start_time": "2021-11-05T20:07:48.274010Z"
    }
   },
   "outputs": [],
   "source": [
    "!tree"
   ]
  },
  {
   "cell_type": "code",
   "execution_count": null,
   "id": "7fca279f",
   "metadata": {
    "ExecuteTime": {
     "end_time": "2021-11-05T20:07:51.224775Z",
     "start_time": "2021-11-05T20:07:51.218129Z"
    }
   },
   "outputs": [],
   "source": [
    "# my new path from this notebooks location\n",
    "import sys\n",
    "sys.path"
   ]
  },
  {
   "cell_type": "code",
   "execution_count": null,
   "id": "b79af705",
   "metadata": {
    "ExecuteTime": {
     "end_time": "2021-11-05T20:08:03.425412Z",
     "start_time": "2021-11-05T20:08:03.412511Z"
    }
   },
   "outputs": [],
   "source": [
    "# Am I able to find this?\n",
    "from mypackage import data"
   ]
  },
  {
   "cell_type": "code",
   "execution_count": null,
   "id": "d8695beb",
   "metadata": {
    "ExecuteTime": {
     "end_time": "2021-11-05T20:08:06.833127Z",
     "start_time": "2021-11-05T20:08:06.826723Z"
    }
   },
   "outputs": [],
   "source": [
    "# our path no longer contains o-list\n",
    "import os\n",
    "os.listdir(sys.path[0])"
   ]
  },
  {
   "cell_type": "code",
   "execution_count": null,
   "id": "ddbf4f7f",
   "metadata": {
    "ExecuteTime": {
     "end_time": "2021-11-05T20:08:15.772967Z",
     "start_time": "2021-11-05T20:08:15.617058Z"
    }
   },
   "outputs": [],
   "source": [
    "# We can add a second location to look for python packages\n",
    "!echo export PYTHONPATH=\"'/Users/chriswesterman/code/lewagon-teaching/slide-support/750-753/decision-science/01-Setup:\\$PYTHONPATH'\" >> ~/.zshrc"
   ]
  },
  {
   "cell_type": "code",
   "execution_count": null,
   "id": "536ff098",
   "metadata": {
    "ExecuteTime": {
     "start_time": "2021-11-05T20:08:44.864Z"
    }
   },
   "outputs": [],
   "source": [
    "!code ~/.zshrc"
   ]
  },
  {
   "cell_type": "code",
   "execution_count": null,
   "id": "8c06dc0b",
   "metadata": {
    "ExecuteTime": {
     "end_time": "2021-11-05T20:11:14.697784Z",
     "start_time": "2021-11-05T20:11:14.547764Z"
    }
   },
   "outputs": [],
   "source": [
    "# Lets quit our terminal and retry\n",
    "!echo $PYTHONPATH"
   ]
  },
  {
   "cell_type": "code",
   "execution_count": null,
   "id": "9afbca0c",
   "metadata": {
    "ExecuteTime": {
     "end_time": "2021-11-05T20:11:15.413704Z",
     "start_time": "2021-11-05T20:11:15.393915Z"
    }
   },
   "outputs": [],
   "source": [
    "# Now lets see if this works\n",
    "from mypackage import data\n",
    "data.__file__"
   ]
  },
  {
   "cell_type": "code",
   "execution_count": null,
   "id": "7a749925",
   "metadata": {
    "ExecuteTime": {
     "end_time": "2021-11-05T20:14:44.026403Z",
     "start_time": "2021-11-05T20:14:44.020592Z"
    }
   },
   "outputs": [],
   "source": [
    "# Check out the new path\n",
    "import sys\n",
    "\n",
    "sys.path"
   ]
  }
 ],
 "metadata": {
  "kernelspec": {
   "display_name": "lw3.8.12",
   "language": "python",
   "name": "lw3.8.12"
  },
  "language_info": {
   "codemirror_mode": {
    "name": "ipython",
    "version": 3
   },
   "file_extension": ".py",
   "mimetype": "text/x-python",
   "name": "python",
   "nbconvert_exporter": "python",
   "pygments_lexer": "ipython3",
   "version": "3.8.12"
  },
  "toc": {
   "base_numbering": 1,
   "nav_menu": {},
   "number_sections": true,
   "sideBar": true,
   "skip_h1_title": false,
   "title_cell": "Table of Contents",
   "title_sidebar": "Contents",
   "toc_cell": false,
   "toc_position": {},
   "toc_section_display": true,
   "toc_window_display": false
  },
  "varInspector": {
   "cols": {
    "lenName": 16,
    "lenType": 16,
    "lenVar": 40
   },
   "kernels_config": {
    "python": {
     "delete_cmd_postfix": "",
     "delete_cmd_prefix": "del ",
     "library": "var_list.py",
     "varRefreshCmd": "print(var_dic_list())"
    },
    "r": {
     "delete_cmd_postfix": ") ",
     "delete_cmd_prefix": "rm(",
     "library": "var_list.r",
     "varRefreshCmd": "cat(var_dic_list()) "
    }
   },
   "types_to_exclude": [
    "module",
    "function",
    "builtin_function_or_method",
    "instance",
    "_Feature"
   ],
   "window_display": false
  }
 },
 "nbformat": 4,
 "nbformat_minor": 5
}
