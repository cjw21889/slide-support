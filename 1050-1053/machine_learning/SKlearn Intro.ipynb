{
 "cells": [
  {
   "cell_type": "markdown",
   "id": "bb762c28",
   "metadata": {},
   "source": [
    "# Intro to ML - Batch 1050"
   ]
  },
  {
   "cell_type": "markdown",
   "id": "6af2fc1f",
   "metadata": {},
   "source": [
    "## Imports"
   ]
  },
  {
   "cell_type": "code",
   "execution_count": 1,
   "id": "3d2ec9b3",
   "metadata": {
    "ExecuteTime": {
     "end_time": "2022-10-31T09:23:55.641936Z",
     "start_time": "2022-10-31T09:23:55.392458Z"
    }
   },
   "outputs": [],
   "source": [
    "import pandas as pd"
   ]
  },
  {
   "cell_type": "code",
   "execution_count": 2,
   "id": "9e68a06d",
   "metadata": {
    "ExecuteTime": {
     "end_time": "2022-10-31T09:24:14.318133Z",
     "start_time": "2022-10-31T09:24:13.868507Z"
    }
   },
   "outputs": [
    {
     "name": "stdout",
     "output_type": "stream",
     "text": [
      "  % Total    % Received % Xferd  Average Speed   Time    Time     Time  Current\n",
      "                                 Dload  Upload   Total   Spent    Left  Speed\n",
      "100  569k  100  569k    0     0  2822k      0 --:--:-- --:--:-- --:--:-- 2966k\n"
     ]
    }
   ],
   "source": [
    "# Create a folder and save your data\n",
    "!mkdir -p data\n",
    "!curl https://wagon-public-datasets.s3.amazonaws.com/Machine%20Learning%20Datasets/ML_Houses_dataset.csv > data/houses.csv "
   ]
  },
  {
   "cell_type": "markdown",
   "id": "8a9dbae2",
   "metadata": {},
   "source": [
    "## Data Load"
   ]
  },
  {
   "cell_type": "code",
   "execution_count": 3,
   "id": "11f8091c",
   "metadata": {
    "ExecuteTime": {
     "end_time": "2022-10-31T09:24:17.740141Z",
     "start_time": "2022-10-31T09:24:17.715264Z"
    }
   },
   "outputs": [],
   "source": [
    "data = pd.read_csv('data/houses.csv')"
   ]
  },
  {
   "cell_type": "code",
   "execution_count": 6,
   "id": "06620e82",
   "metadata": {
    "ExecuteTime": {
     "end_time": "2022-10-31T09:24:59.420342Z",
     "start_time": "2022-10-31T09:24:59.398058Z"
    }
   },
   "outputs": [
    {
     "data": {
      "text/html": [
       "<div>\n",
       "<style scoped>\n",
       "    .dataframe tbody tr th:only-of-type {\n",
       "        vertical-align: middle;\n",
       "    }\n",
       "\n",
       "    .dataframe tbody tr th {\n",
       "        vertical-align: top;\n",
       "    }\n",
       "\n",
       "    .dataframe thead th {\n",
       "        text-align: right;\n",
       "    }\n",
       "</style>\n",
       "<table border=\"1\" class=\"dataframe\">\n",
       "  <thead>\n",
       "    <tr style=\"text-align: right;\">\n",
       "      <th></th>\n",
       "      <th>Id</th>\n",
       "      <th>MSSubClass</th>\n",
       "      <th>MSZoning</th>\n",
       "      <th>LotFrontage</th>\n",
       "      <th>LotArea</th>\n",
       "      <th>Street</th>\n",
       "      <th>Alley</th>\n",
       "      <th>LotShape</th>\n",
       "      <th>LandContour</th>\n",
       "      <th>Utilities</th>\n",
       "      <th>...</th>\n",
       "      <th>PoolArea</th>\n",
       "      <th>PoolQC</th>\n",
       "      <th>Fence</th>\n",
       "      <th>MiscFeature</th>\n",
       "      <th>MiscVal</th>\n",
       "      <th>MoSold</th>\n",
       "      <th>YrSold</th>\n",
       "      <th>SaleType</th>\n",
       "      <th>SaleCondition</th>\n",
       "      <th>SalePrice</th>\n",
       "    </tr>\n",
       "  </thead>\n",
       "  <tbody>\n",
       "    <tr>\n",
       "      <th>0</th>\n",
       "      <td>1</td>\n",
       "      <td>60</td>\n",
       "      <td>RL</td>\n",
       "      <td>65.0</td>\n",
       "      <td>8450</td>\n",
       "      <td>Pave</td>\n",
       "      <td>NaN</td>\n",
       "      <td>Reg</td>\n",
       "      <td>Lvl</td>\n",
       "      <td>AllPub</td>\n",
       "      <td>...</td>\n",
       "      <td>0</td>\n",
       "      <td>NaN</td>\n",
       "      <td>NaN</td>\n",
       "      <td>NaN</td>\n",
       "      <td>0</td>\n",
       "      <td>2</td>\n",
       "      <td>2008</td>\n",
       "      <td>WD</td>\n",
       "      <td>Normal</td>\n",
       "      <td>208500</td>\n",
       "    </tr>\n",
       "    <tr>\n",
       "      <th>1</th>\n",
       "      <td>2</td>\n",
       "      <td>20</td>\n",
       "      <td>RL</td>\n",
       "      <td>80.0</td>\n",
       "      <td>9600</td>\n",
       "      <td>Pave</td>\n",
       "      <td>NaN</td>\n",
       "      <td>Reg</td>\n",
       "      <td>Lvl</td>\n",
       "      <td>AllPub</td>\n",
       "      <td>...</td>\n",
       "      <td>0</td>\n",
       "      <td>NaN</td>\n",
       "      <td>NaN</td>\n",
       "      <td>NaN</td>\n",
       "      <td>0</td>\n",
       "      <td>5</td>\n",
       "      <td>2007</td>\n",
       "      <td>WD</td>\n",
       "      <td>Normal</td>\n",
       "      <td>181500</td>\n",
       "    </tr>\n",
       "    <tr>\n",
       "      <th>2</th>\n",
       "      <td>3</td>\n",
       "      <td>60</td>\n",
       "      <td>RL</td>\n",
       "      <td>68.0</td>\n",
       "      <td>11250</td>\n",
       "      <td>Pave</td>\n",
       "      <td>NaN</td>\n",
       "      <td>IR1</td>\n",
       "      <td>Lvl</td>\n",
       "      <td>AllPub</td>\n",
       "      <td>...</td>\n",
       "      <td>0</td>\n",
       "      <td>NaN</td>\n",
       "      <td>NaN</td>\n",
       "      <td>NaN</td>\n",
       "      <td>0</td>\n",
       "      <td>9</td>\n",
       "      <td>2008</td>\n",
       "      <td>WD</td>\n",
       "      <td>Normal</td>\n",
       "      <td>223500</td>\n",
       "    </tr>\n",
       "    <tr>\n",
       "      <th>3</th>\n",
       "      <td>4</td>\n",
       "      <td>70</td>\n",
       "      <td>RL</td>\n",
       "      <td>60.0</td>\n",
       "      <td>9550</td>\n",
       "      <td>Pave</td>\n",
       "      <td>NaN</td>\n",
       "      <td>IR1</td>\n",
       "      <td>Lvl</td>\n",
       "      <td>AllPub</td>\n",
       "      <td>...</td>\n",
       "      <td>0</td>\n",
       "      <td>NaN</td>\n",
       "      <td>NaN</td>\n",
       "      <td>NaN</td>\n",
       "      <td>0</td>\n",
       "      <td>2</td>\n",
       "      <td>2006</td>\n",
       "      <td>WD</td>\n",
       "      <td>Abnorml</td>\n",
       "      <td>140000</td>\n",
       "    </tr>\n",
       "    <tr>\n",
       "      <th>4</th>\n",
       "      <td>5</td>\n",
       "      <td>60</td>\n",
       "      <td>RL</td>\n",
       "      <td>84.0</td>\n",
       "      <td>14260</td>\n",
       "      <td>Pave</td>\n",
       "      <td>NaN</td>\n",
       "      <td>IR1</td>\n",
       "      <td>Lvl</td>\n",
       "      <td>AllPub</td>\n",
       "      <td>...</td>\n",
       "      <td>0</td>\n",
       "      <td>NaN</td>\n",
       "      <td>NaN</td>\n",
       "      <td>NaN</td>\n",
       "      <td>0</td>\n",
       "      <td>12</td>\n",
       "      <td>2008</td>\n",
       "      <td>WD</td>\n",
       "      <td>Normal</td>\n",
       "      <td>250000</td>\n",
       "    </tr>\n",
       "  </tbody>\n",
       "</table>\n",
       "<p>5 rows × 85 columns</p>\n",
       "</div>"
      ],
      "text/plain": [
       "   Id  MSSubClass MSZoning  LotFrontage  LotArea Street Alley LotShape  \\\n",
       "0   1          60       RL         65.0     8450   Pave   NaN      Reg   \n",
       "1   2          20       RL         80.0     9600   Pave   NaN      Reg   \n",
       "2   3          60       RL         68.0    11250   Pave   NaN      IR1   \n",
       "3   4          70       RL         60.0     9550   Pave   NaN      IR1   \n",
       "4   5          60       RL         84.0    14260   Pave   NaN      IR1   \n",
       "\n",
       "  LandContour Utilities  ... PoolArea PoolQC Fence MiscFeature MiscVal MoSold  \\\n",
       "0         Lvl    AllPub  ...        0    NaN   NaN         NaN       0      2   \n",
       "1         Lvl    AllPub  ...        0    NaN   NaN         NaN       0      5   \n",
       "2         Lvl    AllPub  ...        0    NaN   NaN         NaN       0      9   \n",
       "3         Lvl    AllPub  ...        0    NaN   NaN         NaN       0      2   \n",
       "4         Lvl    AllPub  ...        0    NaN   NaN         NaN       0     12   \n",
       "\n",
       "  YrSold  SaleType  SaleCondition  SalePrice  \n",
       "0   2008        WD         Normal     208500  \n",
       "1   2007        WD         Normal     181500  \n",
       "2   2008        WD         Normal     223500  \n",
       "3   2006        WD        Abnorml     140000  \n",
       "4   2008        WD         Normal     250000  \n",
       "\n",
       "[5 rows x 85 columns]"
      ]
     },
     "execution_count": 6,
     "metadata": {},
     "output_type": "execute_result"
    }
   ],
   "source": [
    "data.head()"
   ]
  },
  {
   "cell_type": "code",
   "execution_count": 7,
   "id": "dfc05aa2",
   "metadata": {
    "ExecuteTime": {
     "end_time": "2022-10-31T09:25:59.903996Z",
     "start_time": "2022-10-31T09:25:59.894049Z"
    }
   },
   "outputs": [
    {
     "data": {
      "text/html": [
       "<div>\n",
       "<style scoped>\n",
       "    .dataframe tbody tr th:only-of-type {\n",
       "        vertical-align: middle;\n",
       "    }\n",
       "\n",
       "    .dataframe tbody tr th {\n",
       "        vertical-align: top;\n",
       "    }\n",
       "\n",
       "    .dataframe thead th {\n",
       "        text-align: right;\n",
       "    }\n",
       "</style>\n",
       "<table border=\"1\" class=\"dataframe\">\n",
       "  <thead>\n",
       "    <tr style=\"text-align: right;\">\n",
       "      <th></th>\n",
       "      <th>GrLivArea</th>\n",
       "      <th>SalePrice</th>\n",
       "    </tr>\n",
       "  </thead>\n",
       "  <tbody>\n",
       "    <tr>\n",
       "      <th>0</th>\n",
       "      <td>1710</td>\n",
       "      <td>208500</td>\n",
       "    </tr>\n",
       "    <tr>\n",
       "      <th>1</th>\n",
       "      <td>1262</td>\n",
       "      <td>181500</td>\n",
       "    </tr>\n",
       "    <tr>\n",
       "      <th>2</th>\n",
       "      <td>1786</td>\n",
       "      <td>223500</td>\n",
       "    </tr>\n",
       "    <tr>\n",
       "      <th>3</th>\n",
       "      <td>1717</td>\n",
       "      <td>140000</td>\n",
       "    </tr>\n",
       "    <tr>\n",
       "      <th>4</th>\n",
       "      <td>2198</td>\n",
       "      <td>250000</td>\n",
       "    </tr>\n",
       "  </tbody>\n",
       "</table>\n",
       "</div>"
      ],
      "text/plain": [
       "   GrLivArea  SalePrice\n",
       "0       1710     208500\n",
       "1       1262     181500\n",
       "2       1786     223500\n",
       "3       1717     140000\n",
       "4       2198     250000"
      ]
     },
     "execution_count": 7,
     "metadata": {},
     "output_type": "execute_result"
    }
   ],
   "source": [
    "livecode_data = data[['GrLivArea','SalePrice']]\n",
    "\n",
    "livecode_data.head()"
   ]
  },
  {
   "cell_type": "markdown",
   "id": "eee92235",
   "metadata": {},
   "source": [
    "## Data exploration"
   ]
  },
  {
   "cell_type": "code",
   "execution_count": 8,
   "id": "13b91f7e",
   "metadata": {
    "ExecuteTime": {
     "end_time": "2022-10-31T09:26:37.572788Z",
     "start_time": "2022-10-31T09:26:37.082018Z"
    }
   },
   "outputs": [
    {
     "data": {
      "image/png": "[encoded data removed]",
      "text/plain": [
       "<Figure size 432x288 with 1 Axes>"
      ]
     },
     "metadata": {
      "needs_background": "light"
     },
     "output_type": "display_data"
    }
   ],
   "source": [
    "import matplotlib.pyplot as plt\n",
    "\n",
    "# Plot Living area vs Sale price\n",
    "plt.scatter(data['GrLivArea'], data['SalePrice'])\n",
    "\n",
    "# Labels\n",
    "plt.xlabel(\"Living area\")\n",
    "plt.ylabel(\"Sale price\")\n",
    "\n",
    "plt.show()"
   ]
  },
  {
   "cell_type": "code",
   "execution_count": 9,
   "id": "a7b2e421",
   "metadata": {
    "ExecuteTime": {
     "end_time": "2022-10-31T09:28:52.746343Z",
     "start_time": "2022-10-31T09:28:51.620506Z"
    }
   },
   "outputs": [
    {
     "data": {
      "text/plain": [
       "<AxesSubplot:xlabel='GrLivArea', ylabel='SalePrice'>"
      ]
     },
     "execution_count": 9,
     "metadata": {},
     "output_type": "execute_result"
    },
    {
     "data": {
      "image/png": "[encoded data removed]",
      "text/plain": [
       "<Figure size 432x288 with 1 Axes>"
      ]
     },
     "metadata": {
      "needs_background": "light"
     },
     "output_type": "display_data"
    }
   ],
   "source": [
    "import seaborn as sns\n",
    "\n",
    "sns.regplot(data=livecode_data, y='SalePrice', x='GrLivArea')"
   ]
  },
  {
   "cell_type": "markdown",
   "id": "a3cede39",
   "metadata": {},
   "source": [
    "## Modeling"
   ]
  },
  {
   "cell_type": "code",
   "execution_count": 10,
   "id": "e9b1943a",
   "metadata": {
    "ExecuteTime": {
     "end_time": "2022-10-31T09:31:37.242357Z",
     "start_time": "2022-10-31T09:31:37.037779Z"
    }
   },
   "outputs": [],
   "source": [
    "from sklearn.linear_model import LinearRegression"
   ]
  },
  {
   "cell_type": "code",
   "execution_count": 12,
   "id": "97efc573",
   "metadata": {
    "ExecuteTime": {
     "end_time": "2022-10-31T09:34:37.154769Z",
     "start_time": "2022-10-31T09:34:37.142087Z"
    }
   },
   "outputs": [
    {
     "data": {
      "text/plain": [
       "LinearRegression()"
      ]
     },
     "execution_count": 12,
     "metadata": {},
     "output_type": "execute_result"
    }
   ],
   "source": [
    "model = LinearRegression()\n",
    "\n",
    "# Define X and y\n",
    "X = data[['GrLivArea']]\n",
    "y = data['SalePrice']\n",
    "\n",
    "model.fit(X,y)"
   ]
  },
  {
   "cell_type": "code",
   "execution_count": 13,
   "id": "0d2ad3f5",
   "metadata": {
    "ExecuteTime": {
     "end_time": "2022-10-31T09:35:13.832134Z",
     "start_time": "2022-10-31T09:35:13.828449Z"
    }
   },
   "outputs": [
    {
     "data": {
      "text/plain": [
       "array([105.00927564])"
      ]
     },
     "execution_count": 13,
     "metadata": {},
     "output_type": "execute_result"
    }
   ],
   "source": [
    "# Slope\n",
    "model.coef_"
   ]
  },
  {
   "cell_type": "code",
   "execution_count": 14,
   "id": "61080c42",
   "metadata": {
    "ExecuteTime": {
     "end_time": "2022-10-31T09:35:36.893044Z",
     "start_time": "2022-10-31T09:35:36.888416Z"
    }
   },
   "outputs": [
    {
     "data": {
      "text/plain": [
       "22104.12101002081"
      ]
     },
     "execution_count": 14,
     "metadata": {},
     "output_type": "execute_result"
    }
   ],
   "source": [
    "# Intercept\n",
    "model.intercept_"
   ]
  },
  {
   "cell_type": "code",
   "execution_count": 15,
   "id": "f70be372",
   "metadata": {
    "ExecuteTime": {
     "end_time": "2022-10-31T09:40:09.980227Z",
     "start_time": "2022-10-31T09:40:09.973933Z"
    }
   },
   "outputs": [
    {
     "data": {
      "text/plain": [
       "0.48960426399689116"
      ]
     },
     "execution_count": 15,
     "metadata": {},
     "output_type": "execute_result"
    }
   ],
   "source": [
    "# R2\n",
    "model.score(X,y)"
   ]
  },
  {
   "cell_type": "code",
   "execution_count": 16,
   "id": "1fa8260e",
   "metadata": {
    "ExecuteTime": {
     "end_time": "2022-10-31T09:44:28.300409Z",
     "start_time": "2022-10-31T09:44:28.296367Z"
    }
   },
   "outputs": [
    {
     "data": {
      "text/plain": [
       "array([127113.39664561])"
      ]
     },
     "execution_count": 16,
     "metadata": {},
     "output_type": "execute_result"
    }
   ],
   "source": [
    "# Predicted sales price for a house with 1_000 sqft\n",
    "model.predict([[1000]])"
   ]
  },
  {
   "cell_type": "markdown",
   "id": "82065487",
   "metadata": {},
   "source": [
    "## Generalization"
   ]
  },
  {
   "cell_type": "markdown",
   "id": "02cb3f58",
   "metadata": {},
   "source": [
    "### Train Test Split"
   ]
  },
  {
   "cell_type": "code",
   "execution_count": 17,
   "id": "72bae45c",
   "metadata": {
    "ExecuteTime": {
     "end_time": "2022-10-31T09:49:45.716780Z",
     "start_time": "2022-10-31T09:49:45.714343Z"
    }
   },
   "outputs": [],
   "source": [
    "from sklearn.model_selection import train_test_split"
   ]
  },
  {
   "cell_type": "code",
   "execution_count": 46,
   "id": "d5f88230",
   "metadata": {
    "ExecuteTime": {
     "end_time": "2022-10-31T09:58:58.578893Z",
     "start_time": "2022-10-31T09:58:58.574757Z"
    }
   },
   "outputs": [
    {
     "data": {
      "text/plain": [
       "(1760, 2)"
      ]
     },
     "execution_count": 46,
     "metadata": {},
     "output_type": "execute_result"
    }
   ],
   "source": [
    "livecode_data.shape"
   ]
  },
  {
   "cell_type": "code",
   "execution_count": 55,
   "id": "edfae33c",
   "metadata": {
    "ExecuteTime": {
     "end_time": "2022-10-31T09:59:31.528342Z",
     "start_time": "2022-10-31T09:59:31.523008Z"
    }
   },
   "outputs": [],
   "source": [
    "# Ready X and y\n",
    "X = livecode_data[['GrLivArea']]\n",
    "y = livecode_data['SalePrice']\n",
    "\n",
    "# Split into Train/Test\n",
    "X_train, X_test, y_train, y_test = train_test_split(X, y, test_size=0.3, random_state=1)"
   ]
  },
  {
   "cell_type": "code",
   "execution_count": 56,
   "id": "21fc6026",
   "metadata": {
    "ExecuteTime": {
     "end_time": "2022-10-31T09:59:31.763848Z",
     "start_time": "2022-10-31T09:59:31.758772Z"
    }
   },
   "outputs": [
    {
     "data": {
      "text/html": [
       "<div>\n",
       "<style scoped>\n",
       "    .dataframe tbody tr th:only-of-type {\n",
       "        vertical-align: middle;\n",
       "    }\n",
       "\n",
       "    .dataframe tbody tr th {\n",
       "        vertical-align: top;\n",
       "    }\n",
       "\n",
       "    .dataframe thead th {\n",
       "        text-align: right;\n",
       "    }\n",
       "</style>\n",
       "<table border=\"1\" class=\"dataframe\">\n",
       "  <thead>\n",
       "    <tr style=\"text-align: right;\">\n",
       "      <th></th>\n",
       "      <th>GrLivArea</th>\n",
       "    </tr>\n",
       "  </thead>\n",
       "  <tbody>\n",
       "    <tr>\n",
       "      <th>490</th>\n",
       "      <td>1304</td>\n",
       "    </tr>\n",
       "    <tr>\n",
       "      <th>521</th>\n",
       "      <td>1244</td>\n",
       "    </tr>\n",
       "    <tr>\n",
       "      <th>547</th>\n",
       "      <td>768</td>\n",
       "    </tr>\n",
       "    <tr>\n",
       "      <th>491</th>\n",
       "      <td>1578</td>\n",
       "    </tr>\n",
       "    <tr>\n",
       "      <th>422</th>\n",
       "      <td>988</td>\n",
       "    </tr>\n",
       "  </tbody>\n",
       "</table>\n",
       "</div>"
      ],
      "text/plain": [
       "     GrLivArea\n",
       "490       1304\n",
       "521       1244\n",
       "547        768\n",
       "491       1578\n",
       "422        988"
      ]
     },
     "execution_count": 56,
     "metadata": {},
     "output_type": "execute_result"
    }
   ],
   "source": [
    "X_train.head()"
   ]
  },
  {
   "cell_type": "code",
   "execution_count": 35,
   "id": "b28329b6",
   "metadata": {
    "ExecuteTime": {
     "end_time": "2022-10-31T09:58:00.100811Z",
     "start_time": "2022-10-31T09:58:00.097602Z"
    }
   },
   "outputs": [
    {
     "data": {
      "text/plain": [
       "((1232,), (528,))"
      ]
     },
     "execution_count": 35,
     "metadata": {},
     "output_type": "execute_result"
    }
   ],
   "source": [
    "y_train.shape, y_test.shape"
   ]
  },
  {
   "cell_type": "code",
   "execution_count": 40,
   "id": "56e9bb9a",
   "metadata": {
    "ExecuteTime": {
     "end_time": "2022-10-31T09:58:06.521668Z",
     "start_time": "2022-10-31T09:58:06.512745Z"
    }
   },
   "outputs": [
    {
     "data": {
      "text/plain": [
       "0.5217193832101675"
      ]
     },
     "execution_count": 40,
     "metadata": {},
     "output_type": "execute_result"
    }
   ],
   "source": [
    "# Instantiate the model\n",
    "model = LinearRegression()\n",
    "\n",
    "# Train the model on the Training data\n",
    "model.fit(X_train, y_train)\n",
    "\n",
    "# Score the model on the Test data -- How well does the model predict our test prices vs. the actual price\n",
    "model.score(X_test,y_test)"
   ]
  },
  {
   "cell_type": "code",
   "execution_count": 23,
   "id": "6366a68e",
   "metadata": {
    "ExecuteTime": {
     "end_time": "2022-10-31T09:54:13.330290Z",
     "start_time": "2022-10-31T09:54:13.318167Z"
    }
   },
   "outputs": [
    {
     "data": {
      "text/plain": [
       "array([121723.1072321 , 182625.2496167 , 163252.16038715, 160469.2856912 ,\n",
       "       300897.42419489, 165071.73230374, 182732.28325886, 140346.96096658,\n",
       "       151264.39246611, 184658.88881759, 195683.35395927, 112304.1467227 ,\n",
       "       136065.61528049, 162074.79032348, 234964.70062913, 236784.27254572,\n",
       "       130285.79860427, 235392.83519774, 150622.19061319, 208206.29009108,\n",
       "       193435.64747408, 122793.44365362, 218588.55337985, 173313.32274946,\n",
       "       215698.64504174, 243099.2574327 , 242350.02193764, 211631.36663995,\n",
       "       111447.87758548, 193007.51290547, 122579.37636931, 337716.99709526,\n",
       "       130285.79860427, 145270.50850558, 196218.52217003, 231004.4558695 ,\n",
       "       267288.8605591 , 186050.32616557, 214200.1740516 , 165285.79958804,\n",
       "       143557.97023115, 236356.13797711, 162181.82396563, 159184.88198537,\n",
       "       382350.02587273, 176631.36565618, 149872.95511813, 229934.11944798,\n",
       "       204995.28082651, 280882.13311243, 223512.10091885, 163466.22767146,\n",
       "       211096.19842919, 172135.95268579, 116585.49240879, 120010.56895766,\n",
       "       128787.32761414, 173741.45731807, 234429.53241837, 165071.73230374,\n",
       "       179628.30763644, 203924.94440499, 147839.31591723, 151264.39246611,\n",
       "       130285.79860427, 199108.43050814, 196753.69038079, 199750.63236106,\n",
       "       216340.84689465, 170530.4480535 , 273068.67723532, 152762.86345624,\n",
       "       243420.35835916, 193649.71475838, 224689.47098252, 130285.79860427,\n",
       "       261187.94295643, 223190.99999239, 150836.2578975 , 187334.7298714 ,\n",
       "       102885.18621331, 188298.03265077, 125576.31834958, 203924.94440499,\n",
       "       123221.57822223, 208848.49194399, 116050.32419803, 158328.61284815,\n",
       "       202854.60798347, 203710.87712069, 181233.81226872, 148267.45048584,\n",
       "       163466.22767146, 170530.4480535 , 114658.88685005, 112518.21400701,\n",
       "       201356.13699334, 194505.9838956 , 174811.79373959, 216340.84689465,\n",
       "       277671.12384787, 126539.62112894, 136386.71620695, 124613.01557021,\n",
       "       106310.26276218, 205102.31446867, 145056.44122128, 199750.63236106,\n",
       "       180056.44220505, 261187.94295643, 137778.15355493, 116050.32419803,\n",
       "       310958.5865572 , 142915.76837823, 178879.07214138, 242992.22379055,\n",
       "       131142.06774149, 109735.33931105, 173206.28910731, 407181.83085204,\n",
       "       197074.79130725, 360836.26380013, 181340.84591088, 182090.08140594,\n",
       "       135851.54799619, 236356.13797711, 160683.3529755 , 175668.06287681,\n",
       "       203603.84347854, 180912.71134227, 277778.15749002, 173099.25546516,\n",
       "       150194.05604458, 242671.12286409, 213772.039483  , 161111.48754411,\n",
       "       158542.68013246, 160148.18476474, 141417.2973881 , 131356.13502579,\n",
       "       209062.5592283 , 201784.27156195, 159613.01655398, 203924.94440499,\n",
       "       212808.73670363, 233038.09507039, 239674.18088383, 201356.13699334,\n",
       "       119154.29982044, 157686.41099524, 149337.78690737, 164857.66501944,\n",
       "       233894.36420761, 212059.50120856, 243527.39200131, 152762.86345624,\n",
       "       197074.79130725, 235071.73427129, 622854.61978874, 134781.21157467,\n",
       "       276172.65285773, 214200.1740516 , 187655.83079786, 267716.99512771,\n",
       "       230148.18673228, 208206.29009108, 111447.87758548, 177594.66843555,\n",
       "       226616.07654126, 215698.64504174, 190438.70549381, 203924.94440499,\n",
       "       235285.80155559, 175025.8610239 , 179307.20670998, 149979.98876028,\n",
       "       199857.66600321, 185836.25888127, 203068.67526778, 135423.41342758,\n",
       "       211203.23207134, 162395.89124994, 172242.98632794,  86402.00532187,\n",
       "       178450.93757277, 152869.89709839, 114658.88685005, 185408.12431266,\n",
       "       193970.81568484, 155545.73815219, 173206.28910731, 137885.18719708,\n",
       "       156509.04093156, 131998.33687871, 149337.78690737, 174811.79373959,\n",
       "       124613.01557021, 172778.1545387 , 195255.21939066, 124934.11649666,\n",
       "       124934.11649666, 116585.49240879, 213772.039483  , 162824.02581854,\n",
       "       188512.09993507, 154689.46901498, 139490.69182936, 210346.96293413,\n",
       "       210561.03021843, 152976.93074054, 111447.87758548, 282915.77231332,\n",
       "       139490.69182936, 111447.87758548, 264184.88493669, 111447.87758548,\n",
       "       100744.51337026, 159613.01655398, 141845.43195671, 131142.06774149,\n",
       "       128787.32761414, 355056.44712391, 245132.89663359, 147411.18134863,\n",
       "       139169.59090291, 199429.5314346 , 175882.13016111, 201035.03606688,\n",
       "       166784.27057818, 111447.87758548, 179628.30763644, 140561.02825088,\n",
       "       142487.63380962, 171814.85175933, 159827.08383828, 120438.70352627,\n",
       "       188940.23450368, 197288.85859156, 113374.48314422, 161111.48754411,\n",
       "       137885.18719708,  90897.41829226, 177273.56750909, 198787.32958169,\n",
       "       171814.85175933, 167961.64064185, 223190.99999239, 180056.44220505,\n",
       "       151264.39246611, 125897.41927603, 174811.79373959, 114658.88685005,\n",
       "       111126.77665903, 119154.29982044, 214628.30862021, 217625.25060048,\n",
       "       219016.68794845, 193649.71475838, 150408.12332889, 300469.28962629,\n",
       "       149337.78690737,  98924.94145367, 261080.90931427, 138099.25448138,\n",
       "       202640.54069917, 187334.7298714 , 249414.24231968, 106310.26276218,\n",
       "       210775.09750273, 224475.40369822, 114444.81956575, 519460.12146971,\n",
       "       131784.2695944 , 209062.5592283 , 298542.68406755, 163252.16038715,\n",
       "       182197.11504809, 195790.38760142, 200285.80057182, 187548.7971557 ,\n",
       "       115194.05506081, 133817.9087953 , 175025.8610239 , 113374.48314422,\n",
       "       169460.11163198, 179093.13942568, 111447.87758548, 211203.23207134,\n",
       "        86402.00532187, 236677.23890357, 205209.34811082, 217518.21695832,\n",
       "       249842.37688829, 138848.48997645, 162074.79032348, 183374.48511177,\n",
       "       122151.2418007 , 163038.09310285, 229720.05216368, 152548.79617193,\n",
       "       118726.16525183, 196646.65673864, 263542.68308377, 249949.41053044,\n",
       "       498053.39303927, 269964.70161291, 269964.70161291, 176524.33201403,\n",
       "       187655.83079786, 138634.42269214, 280989.16675458, 178343.90393061,\n",
       "       235178.76791344, 113374.48314422, 224475.40369822, 183267.45146962,\n",
       "       337716.99709526, 299827.08777337, 169995.27984274, 160683.3529755 ,\n",
       "       230683.35494305, 148267.45048584, 209383.66015476, 117762.86247246,\n",
       "        86402.00532187, 208206.29009108, 187227.69622925, 140775.09553519,\n",
       "       165392.8332302 , 199964.69964536, 236891.30618787, 185729.22523912,\n",
       "       190652.77277812, 215912.71232604, 158756.74741676, 172242.98632794,\n",
       "       126432.58748679,  83726.16426806, 407181.83085204, 195148.18574851,\n",
       "       216126.77961034, 177594.66843555, 147304.14770647, 158756.74741676,\n",
       "       239460.11359953, 221799.56264441, 254551.85714299, 111983.04579624,\n",
       "       134246.0433639 , 311172.65384151, 140668.06189304, 197824.02680232,\n",
       "       124720.04921236, 228649.71574215, 109735.33931105, 184551.85517544,\n",
       "       123863.78007514, 224475.40369822, 186371.42709203, 131677.23595225,\n",
       "       171172.64990642, 221050.32714935, 115408.12234512, 210239.92929197,\n",
       "       185515.15795481, 156402.00728941, 116585.49240879, 268252.16333847,\n",
       "       101814.84979178, 114551.8532079 , 204567.14625791, 218909.6543063 ,\n",
       "       135851.54799619, 167961.64064185, 154689.46901498, 191937.17648395,\n",
       "       121509.03994779, 204567.14625791, 140989.16281949, 251126.78059412,\n",
       "       177166.53386694, 179949.4085629 , 202319.43977271, 165606.9005145 ,\n",
       "       230469.28765874, 152548.79617193, 161111.48754411, 203068.67526778,\n",
       "       176203.23108757, 181661.94683733, 142915.76837823, 241386.71915827,\n",
       "       201998.33884625, 138955.5236186 ,  90897.41829226, 247380.60311879,\n",
       "       180163.4758472 , 185943.29252342, 252625.25158425, 149230.75326521,\n",
       "       158328.61284815, 179093.13942568, 199857.66600321, 120438.70352627,\n",
       "       218909.6543063 , 229613.01852152, 131998.33687871, 182197.11504809,\n",
       "       141524.33103025, 222548.79813948, 149979.98876028, 124398.9482859 ,\n",
       "       157151.24278448, 188940.23450368, 120438.70352627, 196218.52217003,\n",
       "       170316.3807692 , 177059.50022479, 237961.6426094 , 245989.16577081,\n",
       "       133710.87515314, 183909.65332253, 170530.4480535 , 326371.43102712,\n",
       "       198787.32958169, 151692.52703471, 124720.04921236, 239139.01267307,\n",
       "       141417.2973881 , 162395.89124994, 301539.62604781, 159613.01655398,\n",
       "       206279.68453234, 245775.09848651, 193007.51290547, 211631.36663995,\n",
       "       180163.4758472 , 184658.88881759, 111447.87758548, 164215.46316652,\n",
       "       197502.92587586, 116371.42512449, 166891.30422033, 245025.86299144,\n",
       "       128145.12576123, 162288.85760778, 102457.0516447 , 296830.14579311,\n",
       "       164536.56409298, 149123.71962306, 196218.52217003, 215805.67868389,\n",
       "       289872.95905322, 187655.83079786, 281203.23403889, 193328.61383192,\n",
       "       181447.87955303, 289337.79084246, 168175.70792615, 224689.47098252,\n",
       "       133282.74058453, 211738.4002821 , 155331.67086789, 258726.16918692,\n",
       "       187334.7298714 , 157472.34371093, 195148.18574851,  86402.00532187,\n",
       "       231860.72500672, 199857.66600321, 124613.01557021, 162181.82396563,\n",
       "       120866.83809488, 216768.98146326, 186264.39344988, 138206.28812354,\n",
       "       154047.26716206, 145056.44122128, 106310.26276218, 210346.96293413,\n",
       "       129429.52946705, 261616.07752503, 173313.32274946, 162074.79032348,\n",
       "       122900.47729577, 104597.72448774, 170316.3807692 , 190224.63820951,\n",
       "       163466.22767146, 166035.03508311, 242671.12286409, 223190.99999239,\n",
       "       150622.19061319, 183374.48511177, 165285.79958804, 364475.40763331,\n",
       "       194613.01753775, 166249.10236741, 114444.81956575, 193007.51290547,\n",
       "       118298.03068322, 273282.74451962, 183053.38418531, 193328.61383192,\n",
       "       116799.55969309, 106310.26276218, 104169.58991913, 185515.15795481,\n",
       "       141417.2973881 , 195790.38760142, 198145.12772877, 103527.38806622,\n",
       "       160255.21840689, 160148.18476474, 150836.2578975 , 197074.79130725,\n",
       "       170851.54897996, 109735.33931105, 134567.14429036, 183909.65332253,\n",
       "       111447.87758548, 219337.78887491, 121723.1072321 , 180484.57677366,\n",
       "       214200.1740516 ,  92931.05749315, 228542.6821    , 137885.18719708])"
      ]
     },
     "execution_count": 23,
     "metadata": {},
     "output_type": "execute_result"
    }
   ],
   "source": [
    "# First step of scoring is for the model to predict \n",
    "model.predict(X_test)"
   ]
  },
  {
   "cell_type": "code",
   "execution_count": 24,
   "id": "8f86759b",
   "metadata": {
    "ExecuteTime": {
     "end_time": "2022-10-31T09:54:38.694200Z",
     "start_time": "2022-10-31T09:54:38.689394Z"
    }
   },
   "outputs": [
    {
     "data": {
      "text/plain": [
       "1345    108500\n",
       "749      98000\n",
       "1202    117000\n",
       "1530    147000\n",
       "1350    200000\n",
       "         ...  \n",
       "530     175000\n",
       "706     302000\n",
       "1001     86000\n",
       "1590    145000\n",
       "1148    116900\n",
       "Name: SalePrice, Length: 528, dtype: int64"
      ]
     },
     "execution_count": 24,
     "metadata": {},
     "output_type": "execute_result"
    }
   ],
   "source": [
    "# Then compare the results against the actual sale price\n",
    "y_test"
   ]
  },
  {
   "cell_type": "markdown",
   "id": "362e2f9c",
   "metadata": {},
   "source": [
    "### Cross Validate"
   ]
  },
  {
   "cell_type": "code",
   "execution_count": 65,
   "id": "a1edb32b",
   "metadata": {
    "ExecuteTime": {
     "end_time": "2022-10-31T11:09:46.899430Z",
     "start_time": "2022-10-31T11:09:46.862827Z"
    }
   },
   "outputs": [
    {
     "data": {
      "text/plain": [
       "{'fit_time': array([0.00375032, 0.00384378, 0.00298691, 0.00258994, 0.00295591]),\n",
       " 'score_time': array([0.00199461, 0.00207424, 0.00193119, 0.00202703, 0.00197506]),\n",
       " 'test_score': array([0.44260637, 0.32881411, 0.61725348, 0.53469368, 0.51497311])}"
      ]
     },
     "metadata": {},
     "output_type": "display_data"
    },
    {
     "data": {
      "text/plain": [
       "0.4876681492742813"
      ]
     },
     "execution_count": 65,
     "metadata": {},
     "output_type": "execute_result"
    }
   ],
   "source": [
    "from sklearn.model_selection import cross_validate\n",
    "\n",
    "# Instantiate model\n",
    "model = LinearRegression()\n",
    "\n",
    "# 5-Fold Cross validate model\n",
    "cv_results = cross_validate(model, X_train, y_train, cv=5)\n",
    "display(cv_results)\n",
    "\n",
    "\n",
    "# Mean of scores\n",
    "cv_results['test_score'].mean()"
   ]
  },
  {
   "cell_type": "markdown",
   "id": "a8c51043",
   "metadata": {},
   "source": [
    "## Learning Curve"
   ]
  },
  {
   "cell_type": "code",
   "execution_count": 64,
   "id": "d5de904b",
   "metadata": {
    "ExecuteTime": {
     "end_time": "2022-10-31T10:48:48.771681Z",
     "start_time": "2022-10-31T10:48:48.279514Z"
    }
   },
   "outputs": [
    {
     "data": {
      "text/plain": [
       "<matplotlib.legend.Legend at 0x13b7e8c40>"
      ]
     },
     "execution_count": 64,
     "metadata": {},
     "output_type": "execute_result"
    },
    {
     "data": {
      "image/png": "[encoded data removed]",
      "text/plain": [
       "<Figure size 432x288 with 1 Axes>"
      ]
     },
     "metadata": {
      "needs_background": "light"
     },
     "output_type": "display_data"
    }
   ],
   "source": [
    "import numpy as np\n",
    "from sklearn.model_selection import learning_curve\n",
    "\n",
    "train_sizes = [25,50,75,100,250,500,750,1000,1150]\n",
    "# Get train scores (R2), train sizes, and validation scores using `learning_curve`\n",
    "train_sizes, train_scores, test_scores = learning_curve(\n",
    "    estimator=LinearRegression(), X=X, y=y, train_sizes=train_sizes, cv=5)\n",
    "\n",
    "# Take the mean of cross-validated train scores and validation scores\n",
    "train_scores_mean = np.mean(train_scores, axis=1)\n",
    "test_scores_mean = np.mean(test_scores, axis=1)\n",
    "plt.plot(train_sizes, train_scores_mean, label = 'Training score')\n",
    "plt.plot(train_sizes, test_scores_mean, label = 'Test score')\n",
    "plt.ylabel('r2 score', fontsize = 14)\n",
    "plt.xlabel('Training set size', fontsize = 14)\n",
    "plt.ylim([0.25,0.75])\n",
    "plt.title('Learning curves', fontsize = 18, y = 1.03)\n",
    "\n",
    "plt.legend()"
   ]
  },
  {
   "cell_type": "code",
   "execution_count": null,
   "id": "46593ce0",
   "metadata": {},
   "outputs": [],
   "source": []
  }
 ],
 "metadata": {
  "kernelspec": {
   "display_name": "lw3.8.12",
   "language": "python",
   "name": "lw3.8.12"
  },
  "language_info": {
   "codemirror_mode": {
    "name": "ipython",
    "version": 3
   },
   "file_extension": ".py",
   "mimetype": "text/x-python",
   "name": "python",
   "nbconvert_exporter": "python",
   "pygments_lexer": "ipython3",
   "version": "3.8.12"
  },
  "toc": {
   "base_numbering": 1,
   "nav_menu": {},
   "number_sections": true,
   "sideBar": true,
   "skip_h1_title": false,
   "title_cell": "Table of Contents",
   "title_sidebar": "Contents",
   "toc_cell": false,
   "toc_position": {},
   "toc_section_display": true,
   "toc_window_display": false
  },
  "varInspector": {
   "cols": {
    "lenName": 16,
    "lenType": 16,
    "lenVar": 40
   },
   "kernels_config": {
    "python": {
     "delete_cmd_postfix": "",
     "delete_cmd_prefix": "del ",
     "library": "var_list.py",
     "varRefreshCmd": "print(var_dic_list())"
    },
    "r": {
     "delete_cmd_postfix": ") ",
     "delete_cmd_prefix": "rm(",
     "library": "var_list.r",
     "varRefreshCmd": "cat(var_dic_list()) "
    }
   },
   "types_to_exclude": [
    "module",
    "function",
    "builtin_function_or_method",
    "instance",
    "_Feature"
   ],
   "window_display": false
  }
 },
 "nbformat": 4,
 "nbformat_minor": 5
}
