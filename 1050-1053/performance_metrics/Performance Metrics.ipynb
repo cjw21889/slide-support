{
 "cells": [
  {
   "cell_type": "markdown",
   "id": "da4d8e3d",
   "metadata": {},
   "source": [
    "# Evaluation Metrics"
   ]
  },
  {
   "cell_type": "markdown",
   "id": "9482a85a",
   "metadata": {},
   "source": [
    "🚨 A single metric will only tell one side of the story. Ensure you investigate a model's effectiveness from multiple angles 🚨"
   ]
  },
  {
   "cell_type": "code",
   "execution_count": 1,
   "id": "45709f79",
   "metadata": {
    "ExecuteTime": {
     "end_time": "2022-12-06T18:32:57.637827Z",
     "start_time": "2022-12-06T18:32:57.086793Z"
    }
   },
   "outputs": [],
   "source": [
    "import pandas as pd\n",
    "from sklearn.model_selection import train_test_split\n",
    "from sklearn.linear_model import LinearRegression"
   ]
  },
  {
   "cell_type": "code",
   "execution_count": 2,
   "id": "ea2f8b91",
   "metadata": {
    "ExecuteTime": {
     "end_time": "2022-12-06T18:32:59.464300Z",
     "start_time": "2022-12-06T18:32:59.252068Z"
    }
   },
   "outputs": [
    {
     "data": {
      "text/html": [
       "<div>\n",
       "<style scoped>\n",
       "    .dataframe tbody tr th:only-of-type {\n",
       "        vertical-align: middle;\n",
       "    }\n",
       "\n",
       "    .dataframe tbody tr th {\n",
       "        vertical-align: top;\n",
       "    }\n",
       "\n",
       "    .dataframe thead th {\n",
       "        text-align: right;\n",
       "    }\n",
       "</style>\n",
       "<table border=\"1\" class=\"dataframe\">\n",
       "  <thead>\n",
       "    <tr style=\"text-align: right;\">\n",
       "      <th></th>\n",
       "      <th>age</th>\n",
       "      <th>sex</th>\n",
       "      <th>bmi</th>\n",
       "      <th>children</th>\n",
       "      <th>smoker</th>\n",
       "      <th>region</th>\n",
       "      <th>charges</th>\n",
       "      <th>price_range</th>\n",
       "    </tr>\n",
       "  </thead>\n",
       "  <tbody>\n",
       "    <tr>\n",
       "      <th>0</th>\n",
       "      <td>19</td>\n",
       "      <td>female</td>\n",
       "      <td>27.900</td>\n",
       "      <td>0</td>\n",
       "      <td>True</td>\n",
       "      <td>southwest</td>\n",
       "      <td>16884.92400</td>\n",
       "      <td>expensive</td>\n",
       "    </tr>\n",
       "    <tr>\n",
       "      <th>1</th>\n",
       "      <td>18</td>\n",
       "      <td>male</td>\n",
       "      <td>33.770</td>\n",
       "      <td>1</td>\n",
       "      <td>False</td>\n",
       "      <td>southeast</td>\n",
       "      <td>1725.55230</td>\n",
       "      <td>cheap</td>\n",
       "    </tr>\n",
       "    <tr>\n",
       "      <th>2</th>\n",
       "      <td>28</td>\n",
       "      <td>male</td>\n",
       "      <td>33.000</td>\n",
       "      <td>3</td>\n",
       "      <td>False</td>\n",
       "      <td>southeast</td>\n",
       "      <td>4449.46200</td>\n",
       "      <td>cheap</td>\n",
       "    </tr>\n",
       "    <tr>\n",
       "      <th>3</th>\n",
       "      <td>33</td>\n",
       "      <td>male</td>\n",
       "      <td>22.705</td>\n",
       "      <td>0</td>\n",
       "      <td>False</td>\n",
       "      <td>northwest</td>\n",
       "      <td>21984.47061</td>\n",
       "      <td>expensive</td>\n",
       "    </tr>\n",
       "    <tr>\n",
       "      <th>4</th>\n",
       "      <td>32</td>\n",
       "      <td>male</td>\n",
       "      <td>28.880</td>\n",
       "      <td>0</td>\n",
       "      <td>False</td>\n",
       "      <td>northwest</td>\n",
       "      <td>3866.85520</td>\n",
       "      <td>cheap</td>\n",
       "    </tr>\n",
       "  </tbody>\n",
       "</table>\n",
       "</div>"
      ],
      "text/plain": [
       "   age     sex     bmi  children  smoker     region      charges price_range\n",
       "0   19  female  27.900         0    True  southwest  16884.92400   expensive\n",
       "1   18    male  33.770         1   False  southeast   1725.55230       cheap\n",
       "2   28    male  33.000         3   False  southeast   4449.46200       cheap\n",
       "3   33    male  22.705         0   False  northwest  21984.47061   expensive\n",
       "4   32    male  28.880         0   False  northwest   3866.85520       cheap"
      ]
     },
     "execution_count": 2,
     "metadata": {},
     "output_type": "execute_result"
    }
   ],
   "source": [
    "df = pd.read_csv('https://wagon-public-datasets.s3.amazonaws.com/insurance_ML3.csv')\n",
    "df.head()"
   ]
  },
  {
   "cell_type": "code",
   "execution_count": 3,
   "id": "925ddbec",
   "metadata": {
    "ExecuteTime": {
     "end_time": "2022-12-06T18:33:11.797990Z",
     "start_time": "2022-12-06T18:33:11.789126Z"
    }
   },
   "outputs": [],
   "source": [
    "X = df[['age','bmi','children','smoker']]\n",
    "y = df['charges']\n",
    "\n",
    "\n",
    "X_train, X_test, y_train, y_test = train_test_split(X, y,\n",
    "                                                    test_size = 0.3, \n",
    "                                                    random_state = 6) # Holdout\n",
    "\n",
    "\n",
    "X_train, X_test, y_train, y_test = train_test_split(X,y, test_size=0.3, random_state=0)"
   ]
  },
  {
   "cell_type": "markdown",
   "id": "54d3c408",
   "metadata": {
    "heading_collapsed": true
   },
   "source": [
    "## Regression Metrics"
   ]
  },
  {
   "cell_type": "code",
   "execution_count": 4,
   "id": "813ac653",
   "metadata": {
    "ExecuteTime": {
     "end_time": "2022-12-06T18:33:45.194323Z",
     "start_time": "2022-12-06T18:33:45.191960Z"
    },
    "hidden": true
   },
   "outputs": [],
   "source": [
    "from sklearn.metrics import mean_squared_error, mean_absolute_error, max_error, r2_score\n",
    "import math\n"
   ]
  },
  {
   "cell_type": "code",
   "execution_count": 6,
   "id": "1f6a9cef",
   "metadata": {
    "ExecuteTime": {
     "end_time": "2022-12-06T18:34:10.986145Z",
     "start_time": "2022-12-06T18:34:10.978795Z"
    },
    "hidden": true
   },
   "outputs": [],
   "source": [
    "model = LinearRegression()\n",
    "y_pred = model.fit(X_train, y_train).predict(X_test)"
   ]
  },
  {
   "cell_type": "markdown",
   "id": "f37fedbb",
   "metadata": {
    "heading_collapsed": true,
    "hidden": true
   },
   "source": [
    "### Mean Squared Error"
   ]
  },
  {
   "cell_type": "markdown",
   "id": "4c2fa815",
   "metadata": {
    "hidden": true
   },
   "source": [
    "- Useful to penalize large errors\n",
    "- No sense of direction\n",
    "- Not expressed in the same units as the target\n",
    "- Very sensitive to outliers"
   ]
  },
  {
   "cell_type": "markdown",
   "id": "9bf4640f",
   "metadata": {
    "hidden": true
   },
   "source": [
    "👉 Use MSE when you need to penalize large errors more strictly than small ones.\n",
    "\n",
    "\n",
    "- Larger errors have a disproportionally bigger impact, hence should be more penalized\n",
    "     - Example: clinical trials, where an error of 4mg can be more than twice as bad as an error of 2mg"
   ]
  },
  {
   "cell_type": "code",
   "execution_count": 7,
   "id": "955a8b15",
   "metadata": {
    "ExecuteTime": {
     "end_time": "2022-12-06T18:35:18.856479Z",
     "start_time": "2022-12-06T18:35:18.852770Z"
    },
    "hidden": true
   },
   "outputs": [
    {
     "name": "stdout",
     "output_type": "stream",
     "text": [
      "MSE = 33586296.45\n"
     ]
    }
   ],
   "source": [
    "mse = mean_squared_error(y_test, y_pred)\n",
    "print('MSE =', round(mse, 2))"
   ]
  },
  {
   "cell_type": "markdown",
   "id": "74671e8e",
   "metadata": {
    "hidden": true
   },
   "source": [
    "**Good to compare model vs model, but no real world explainability**"
   ]
  },
  {
   "cell_type": "markdown",
   "id": "cd74aed6",
   "metadata": {
    "heading_collapsed": true,
    "hidden": true
   },
   "source": [
    "### Root Mean Squared Error"
   ]
  },
  {
   "cell_type": "markdown",
   "id": "dd1a0d5b",
   "metadata": {
    "hidden": true
   },
   "source": [
    "- Still Uses MSE error calculation to penalize large errors"
   ]
  },
  {
   "cell_type": "markdown",
   "id": "bce5fcc8",
   "metadata": {
    "hidden": true
   },
   "source": [
    "👉 Use RMSE when you want the MSE to be represented in the unit of the target, making it more interpretable"
   ]
  },
  {
   "cell_type": "code",
   "execution_count": 8,
   "id": "49aa47a8",
   "metadata": {
    "ExecuteTime": {
     "end_time": "2022-12-06T18:35:44.969154Z",
     "start_time": "2022-12-06T18:35:44.966123Z"
    },
    "hidden": true
   },
   "outputs": [
    {
     "name": "stdout",
     "output_type": "stream",
     "text": [
      "RMSE = 5795.37\n"
     ]
    }
   ],
   "source": [
    "rmse = math.sqrt(mse)\n",
    "print('RMSE =', round(rmse, 2))"
   ]
  },
  {
   "cell_type": "markdown",
   "id": "a5451967",
   "metadata": {
    "hidden": true
   },
   "source": [
    "**Large errors still penalized more, but can now be discussed in dollar terms with errors of ~$5.5K vs. ~13K average policy charge**"
   ]
  },
  {
   "cell_type": "markdown",
   "id": "e19583a3",
   "metadata": {
    "heading_collapsed": true,
    "hidden": true
   },
   "source": [
    "### Mean Absolute Error"
   ]
  },
  {
   "cell_type": "markdown",
   "id": "ea73937d",
   "metadata": {
    "ExecuteTime": {
     "end_time": "2022-12-06T11:59:08.253734Z",
     "start_time": "2022-12-06T11:59:08.250278Z"
    },
    "hidden": true
   },
   "source": [
    "- Less sensitive to outliers\n"
   ]
  },
  {
   "cell_type": "markdown",
   "id": "c6983497",
   "metadata": {
    "hidden": true
   },
   "source": [
    "👉 Use MAE when all errors, large or small, have equal importance and you need easily interpretable results\n",
    "\n",
    "    - Example: weather forecast, where an error of 4 degrees is simply twice as bad as an error of 2 degrees"
   ]
  },
  {
   "cell_type": "code",
   "execution_count": 9,
   "id": "bc313880",
   "metadata": {
    "ExecuteTime": {
     "end_time": "2022-12-06T18:36:41.088564Z",
     "start_time": "2022-12-06T18:36:41.084474Z"
    },
    "hidden": true
   },
   "outputs": [
    {
     "name": "stdout",
     "output_type": "stream",
     "text": [
      "MAE = 4008.35\n"
     ]
    }
   ],
   "source": [
    "mae = mean_absolute_error(y_test, y_pred)\n",
    "print('MAE =', round(mae, 2))"
   ]
  },
  {
   "cell_type": "markdown",
   "id": "060d5379",
   "metadata": {
    "hidden": true
   },
   "source": [
    "**Model predicts with an average error of $4K**"
   ]
  },
  {
   "cell_type": "markdown",
   "id": "afa3e03a",
   "metadata": {
    "heading_collapsed": true,
    "hidden": true
   },
   "source": [
    "### Max Error"
   ]
  },
  {
   "cell_type": "markdown",
   "id": "7a343e1b",
   "metadata": {
    "hidden": true
   },
   "source": [
    "- Largest error made when prediciting"
   ]
  },
  {
   "cell_type": "markdown",
   "id": "75e30144",
   "metadata": {
    "hidden": true
   },
   "source": [
    "👉 Use Max Error when you want to limit the magnitude of the errors.\n",
    "\n",
    "    - Example: temperature management for a piece of equipment that can overheat maximum 2 degrees"
   ]
  },
  {
   "cell_type": "code",
   "execution_count": 10,
   "id": "4f59fea4",
   "metadata": {
    "ExecuteTime": {
     "end_time": "2022-12-06T18:37:33.432911Z",
     "start_time": "2022-12-06T18:37:33.429593Z"
    },
    "hidden": true
   },
   "outputs": [
    {
     "name": "stdout",
     "output_type": "stream",
     "text": [
      "Max Error = 22561.41\n"
     ]
    }
   ],
   "source": [
    "max_error = max_error(y_test, y_pred)\n",
    "print('Max Error =', round(max_error, 2))"
   ]
  },
  {
   "cell_type": "markdown",
   "id": "3ebf6fa8",
   "metadata": {
    "hidden": true
   },
   "source": [
    "**The Worst prediction we made was $23K away from the actual charges**"
   ]
  },
  {
   "cell_type": "markdown",
   "id": "32e0b628",
   "metadata": {
    "heading_collapsed": true,
    "hidden": true
   },
   "source": [
    "### R2"
   ]
  },
  {
   "cell_type": "markdown",
   "id": "c15c63f5",
   "metadata": {
    "hidden": true
   },
   "source": [
    "👉 Use \n",
    "R\n",
    "2\n",
    " when:\n",
    "\n",
    "- The unit of the error is not important\n",
    "- You want to compare between different datasets"
   ]
  },
  {
   "cell_type": "code",
   "execution_count": 11,
   "id": "7184e525",
   "metadata": {
    "ExecuteTime": {
     "end_time": "2022-12-06T18:37:47.675745Z",
     "start_time": "2022-12-06T18:37:47.672435Z"
    },
    "hidden": true
   },
   "outputs": [
    {
     "name": "stdout",
     "output_type": "stream",
     "text": [
      "R2 = 0.79\n"
     ]
    }
   ],
   "source": [
    "rsquared = r2_score(y_test, y_pred)\n",
    "print('R2 =', round(rsquared, 2))"
   ]
  },
  {
   "cell_type": "markdown",
   "id": "20c948f7",
   "metadata": {
    "hidden": true
   },
   "source": [
    "**The model explains 79% of the variance within the target**"
   ]
  },
  {
   "cell_type": "markdown",
   "id": "0756a18c",
   "metadata": {},
   "source": [
    "## Classifictation Metrics"
   ]
  },
  {
   "cell_type": "code",
   "execution_count": 13,
   "id": "ca3bfe5b",
   "metadata": {
    "ExecuteTime": {
     "end_time": "2022-12-06T18:41:34.607070Z",
     "start_time": "2022-12-06T18:41:34.603088Z"
    }
   },
   "outputs": [],
   "source": [
    "from sklearn.metrics import accuracy_score, precision_score, recall_score, f1_score, confusion_matrix, ConfusionMatrixDisplay\n",
    "\n",
    "y_true = [0, 1, 0, 0, 1, 0, 1, 1, 0, 1]\n",
    "y_pred = [0, 0, 0, 0, 1, 1, 1, 1, 1, 1]"
   ]
  },
  {
   "cell_type": "code",
   "execution_count": 14,
   "id": "a5c092c0",
   "metadata": {
    "ExecuteTime": {
     "end_time": "2022-12-06T18:41:36.890769Z",
     "start_time": "2022-12-06T18:41:36.511708Z"
    }
   },
   "outputs": [
    {
     "data": {
      "image/png": "[encoded data removed]",
      "text/plain": [
       "<Figure size 432x288 with 2 Axes>"
      ]
     },
     "metadata": {
      "needs_background": "light"
     },
     "output_type": "display_data"
    }
   ],
   "source": [
    "ConfusionMatrixDisplay(confusion_matrix=confusion_matrix(y_true, y_pred),\n",
    "                              display_labels=['Fail','Pass']).plot();\n"
   ]
  },
  {
   "cell_type": "markdown",
   "id": "c935c45d",
   "metadata": {},
   "source": [
    "### Accuracy"
   ]
  },
  {
   "cell_type": "markdown",
   "id": "b5265672",
   "metadata": {},
   "source": [
    "Sum of the correct predictions (True Positive + True Negative) divided by the sum of the overall number of predictions\n",
    "\n",
    "🚨 Using accuracy alone can give overly confident scores, especially when dealing with imbalanced datasets 🚨"
   ]
  },
  {
   "cell_type": "markdown",
   "id": "6c59f575",
   "metadata": {},
   "source": [
    "👉 Use accuracy when:\n",
    "\n",
    "-  Target classes are balanced\n",
    "-  Prediction of each class is equally important"
   ]
  },
  {
   "cell_type": "code",
   "execution_count": 15,
   "id": "24084e91",
   "metadata": {
    "ExecuteTime": {
     "end_time": "2022-12-06T18:43:14.012513Z",
     "start_time": "2022-12-06T18:43:14.008812Z"
    }
   },
   "outputs": [
    {
     "name": "stdout",
     "output_type": "stream",
     "text": [
      "Accuracy = 0.7\n"
     ]
    }
   ],
   "source": [
    "print('Accuracy =', round(accuracy_score(y_true, y_pred), 2)) "
   ]
  },
  {
   "cell_type": "markdown",
   "id": "e3e734ef",
   "metadata": {},
   "source": [
    "**70% of the time, the model predicts the students outcome correctly**"
   ]
  },
  {
   "cell_type": "markdown",
   "id": "39370df6",
   "metadata": {},
   "source": [
    "### Recall"
   ]
  },
  {
   "cell_type": "markdown",
   "id": "160c8fc4",
   "metadata": {
    "ExecuteTime": {
     "end_time": "2022-12-06T13:47:58.100121Z",
     "start_time": "2022-12-06T13:47:58.097062Z"
    }
   },
   "source": [
    "Measures the ability of the model to detect occurrences of a class.  True Positives Predicted / Total number of Positives (TP / (TP + FN))\n",
    "\n",
    "🚨 We could get too many false alarms, if everything is predicted as positive you will have 100% recall 🚨"
   ]
  },
  {
   "cell_type": "markdown",
   "id": "737fe29f",
   "metadata": {},
   "source": [
    "👉 Use recall when:\n",
    "\n",
    "- It is important to identify as many occurrences of a class as possible, reducing false negatives but potentially increasing false positives\n",
    "\n",
    "- You don't want to miss any positive classes\n",
    "\n",
    "     - Example: Detecting fraudulent transactions, cases of a novel disease or potential sales leads"
   ]
  },
  {
   "cell_type": "code",
   "execution_count": 16,
   "id": "504c089e",
   "metadata": {
    "ExecuteTime": {
     "end_time": "2022-12-06T18:44:39.831996Z",
     "start_time": "2022-12-06T18:44:39.826825Z"
    }
   },
   "outputs": [
    {
     "name": "stdout",
     "output_type": "stream",
     "text": [
      "Recall = 0.8\n"
     ]
    }
   ],
   "source": [
    "print('Recall =', round(recall_score(y_true, y_pred), 2)) "
   ]
  },
  {
   "cell_type": "markdown",
   "id": "9e75a4e0",
   "metadata": {},
   "source": [
    "**We successfully identify 80% of students who will pass**"
   ]
  },
  {
   "cell_type": "markdown",
   "id": "f82945d8",
   "metadata": {},
   "source": [
    "### Precision"
   ]
  },
  {
   "cell_type": "markdown",
   "id": "40125a62",
   "metadata": {},
   "source": [
    "Measures the ability of a model to avoid false alarms for a class, or the confidence of a model when predicting a specific class.  True Positive Predictions / All Positive Predictions (TP / (TP + FP))\n",
    "\n",
    "🚨 We could be missing many Positives, False negatives are ignored in calculation 🚨"
   ]
  },
  {
   "cell_type": "markdown",
   "id": "6785af64",
   "metadata": {},
   "source": [
    "👉 Use precision when:\n",
    "\n",
    " - It is important to be correct when identifying a class, reducing false positives but potentially increasing false negatives\n",
    "\n",
    "    - Example: Targeted advertising, food and drug safety (you'd like the model to be really confident when classifying a drug as safe)"
   ]
  },
  {
   "cell_type": "code",
   "execution_count": 17,
   "id": "9ccc1184",
   "metadata": {
    "ExecuteTime": {
     "end_time": "2022-12-06T18:46:17.760092Z",
     "start_time": "2022-12-06T18:46:17.754595Z"
    }
   },
   "outputs": [
    {
     "name": "stdout",
     "output_type": "stream",
     "text": [
      "Precision = 0.67\n"
     ]
    }
   ],
   "source": [
    "print('Precision =', round(precision_score(y_true, y_pred), 2)) "
   ]
  },
  {
   "cell_type": "markdown",
   "id": "1a24d564",
   "metadata": {},
   "source": [
    "**If the model predicts you to pass, it is correct 67% of the time**"
   ]
  },
  {
   "cell_type": "markdown",
   "id": "2519238c",
   "metadata": {},
   "source": [
    "### F1"
   ]
  },
  {
   "cell_type": "markdown",
   "id": "9805c73b",
   "metadata": {},
   "source": [
    "A combination of precision and recall into a single metric. (2 * ((Precision * recall) / (precision + recall)))\n",
    "\n",
    "🚨 It will be influenced more by the lower of the two values 🚨"
   ]
  },
  {
   "cell_type": "markdown",
   "id": "00c563e3",
   "metadata": {},
   "source": [
    "👉 Use F1 score when you want:\n",
    "\n",
    "- A general metric to compare across models and datasets\n",
    "- Combine the Precision/Recall tradeoff in a single metric"
   ]
  },
  {
   "cell_type": "code",
   "execution_count": 18,
   "id": "e86db243",
   "metadata": {
    "ExecuteTime": {
     "end_time": "2022-12-06T18:47:22.067966Z",
     "start_time": "2022-12-06T18:47:22.063458Z"
    }
   },
   "outputs": [
    {
     "name": "stdout",
     "output_type": "stream",
     "text": [
      "F1 score = 0.73\n"
     ]
    }
   ],
   "source": [
    "print('F1 score =', round(f1_score(y_true, y_pred), 2))"
   ]
  },
  {
   "cell_type": "markdown",
   "id": "1a904709",
   "metadata": {},
   "source": [
    "**Useful when comparing against other problem sets or evaluating performance as a whole, but lose easy explainability**"
   ]
  }
 ],
 "metadata": {
  "kernelspec": {
   "display_name": "lw3.8.12",
   "language": "python",
   "name": "lw3.8.12"
  },
  "language_info": {
   "codemirror_mode": {
    "name": "ipython",
    "version": 3
   },
   "file_extension": ".py",
   "mimetype": "text/x-python",
   "name": "python",
   "nbconvert_exporter": "python",
   "pygments_lexer": "ipython3",
   "version": "3.8.12"
  },
  "toc": {
   "base_numbering": 1,
   "nav_menu": {},
   "number_sections": true,
   "sideBar": true,
   "skip_h1_title": false,
   "title_cell": "Table of Contents",
   "title_sidebar": "Contents",
   "toc_cell": false,
   "toc_position": {},
   "toc_section_display": true,
   "toc_window_display": false
  },
  "varInspector": {
   "cols": {
    "lenName": 16,
    "lenType": 16,
    "lenVar": 40
   },
   "kernels_config": {
    "python": {
     "delete_cmd_postfix": "",
     "delete_cmd_prefix": "del ",
     "library": "var_list.py",
     "varRefreshCmd": "print(var_dic_list())"
    },
    "r": {
     "delete_cmd_postfix": ") ",
     "delete_cmd_prefix": "rm(",
     "library": "var_list.r",
     "varRefreshCmd": "cat(var_dic_list()) "
    }
   },
   "types_to_exclude": [
    "module",
    "function",
    "builtin_function_or_method",
    "instance",
    "_Feature"
   ],
   "window_display": false
  }
 },
 "nbformat": 4,
 "nbformat_minor": 5
}
