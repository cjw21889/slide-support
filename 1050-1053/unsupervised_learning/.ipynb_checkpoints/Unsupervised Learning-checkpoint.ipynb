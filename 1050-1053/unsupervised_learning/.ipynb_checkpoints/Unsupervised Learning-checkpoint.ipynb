{
 "cells": [
  {
   "cell_type": "markdown",
   "id": "bcacf1d3",
   "metadata": {},
   "source": [
    "# PCA"
   ]
  },
  {
   "cell_type": "code",
   "execution_count": null,
   "id": "da27e40e",
   "metadata": {
    "ExecuteTime": {
     "end_time": "2022-11-09T08:28:17.688473Z",
     "start_time": "2022-11-09T08:28:16.198443Z"
    }
   },
   "outputs": [],
   "source": [
    "import numpy as np\n",
    "import pandas as pd\n",
    "import seaborn as sns\n",
    "import matplotlib.pyplot as plt"
   ]
  },
  {
   "cell_type": "markdown",
   "id": "fcad2f58",
   "metadata": {},
   "source": [
    "## Load and explore data"
   ]
  },
  {
   "cell_type": "code",
   "execution_count": null,
   "id": "9fee42f5",
   "metadata": {
    "ExecuteTime": {
     "end_time": "2022-11-09T08:28:17.897779Z",
     "start_time": "2022-11-09T08:28:17.703661Z"
    }
   },
   "outputs": [],
   "source": [
    "from sklearn.datasets import load_wine\n",
    "\n",
    "wine = load_wine(as_frame=True)\n",
    "X = wine.data\n",
    "y = wine.target\n",
    "wine_features = X.columns\n",
    "\n",
    "X.head()"
   ]
  },
  {
   "cell_type": "code",
   "execution_count": null,
   "id": "e8bf32b4",
   "metadata": {
    "ExecuteTime": {
     "end_time": "2022-11-09T08:28:18.365601Z",
     "start_time": "2022-11-09T08:28:18.361332Z"
    }
   },
   "outputs": [],
   "source": [
    "X.shape"
   ]
  },
  {
   "cell_type": "code",
   "execution_count": null,
   "id": "a7ceb4da",
   "metadata": {
    "ExecuteTime": {
     "end_time": "2022-11-09T08:28:18.931195Z",
     "start_time": "2022-11-09T08:28:18.925777Z"
    }
   },
   "outputs": [],
   "source": [
    "y.value_counts()"
   ]
  },
  {
   "cell_type": "markdown",
   "id": "5973ab0f",
   "metadata": {},
   "source": [
    "## Center Data"
   ]
  },
  {
   "cell_type": "code",
   "execution_count": null,
   "id": "2bff2224",
   "metadata": {
    "ExecuteTime": {
     "end_time": "2022-11-09T08:28:28.876483Z",
     "start_time": "2022-11-09T08:28:28.853408Z"
    }
   },
   "outputs": [],
   "source": [
    "#⚠️ Data must be centered around its mean before applying PCA ⚠️\n",
    "from sklearn.preprocessing import StandardScaler\n",
    "scaler = StandardScaler()\n",
    "scaler.fit(X)\n",
    "X = pd.DataFrame(scaler.transform(X), columns=wine_features)\n",
    "X"
   ]
  },
  {
   "cell_type": "code",
   "execution_count": null,
   "id": "bb2889fb",
   "metadata": {
    "ExecuteTime": {
     "end_time": "2022-11-09T08:28:32.340919Z",
     "start_time": "2022-11-09T08:28:32.027497Z"
    }
   },
   "outputs": [],
   "source": [
    "# We use a heatmap to view features with high correlation (positive or negative)\n",
    "sns.heatmap(pd.DataFrame(X).corr(), cmap='coolwarm');"
   ]
  },
  {
   "cell_type": "markdown",
   "id": "f999c1c2",
   "metadata": {},
   "source": [
    "## Compute Principal Components"
   ]
  },
  {
   "cell_type": "code",
   "execution_count": null,
   "id": "10fafecd",
   "metadata": {
    "ExecuteTime": {
     "end_time": "2022-11-09T08:28:55.249300Z",
     "start_time": "2022-11-09T08:28:55.128748Z"
    }
   },
   "outputs": [],
   "source": [
    "from sklearn.decomposition import PCA\n",
    "\n",
    "pca = PCA()\n",
    "pca.fit(X)"
   ]
  },
  {
   "cell_type": "code",
   "execution_count": null,
   "id": "6835bb42",
   "metadata": {
    "ExecuteTime": {
     "end_time": "2022-11-09T08:28:56.075484Z",
     "start_time": "2022-11-09T08:28:56.071692Z"
    }
   },
   "outputs": [],
   "source": [
    "pca.components_.shape"
   ]
  },
  {
   "cell_type": "code",
   "execution_count": null,
   "id": "5cf77ad6",
   "metadata": {
    "ExecuteTime": {
     "end_time": "2022-11-09T08:29:00.818004Z",
     "start_time": "2022-11-09T08:29:00.801549Z"
    }
   },
   "outputs": [],
   "source": [
    "# Access our 13 PCs \n",
    "W = pca.components_\n",
    "\n",
    "# Print PCs as COLUMNS\n",
    "W = pd.DataFrame(W.T,\n",
    "                 index=wine_features,\n",
    "                 columns=[f'PC{i}' for i in range(1, 14)])\n",
    "W"
   ]
  },
  {
   "cell_type": "markdown",
   "id": "083a4147",
   "metadata": {},
   "source": [
    "## Project Dataset into PC's"
   ]
  },
  {
   "cell_type": "code",
   "execution_count": null,
   "id": "736a9b34",
   "metadata": {
    "ExecuteTime": {
     "end_time": "2022-11-09T08:29:48.701289Z",
     "start_time": "2022-11-09T08:29:48.698714Z"
    }
   },
   "outputs": [],
   "source": [
    "# At this point we have \n",
    "# Our standardized dataset (X)  \n",
    "    # 170+ rows with 13 features each\n",
    "# A PC map showing how to convert a given example into PC values\n",
    "    # currently 13 columns, 1 for each PC\n",
    "    # each holding 13 rows, individual directions for each original feature to create that PC\n"
   ]
  },
  {
   "cell_type": "markdown",
   "id": "cd54e26d",
   "metadata": {},
   "source": [
    "### Single Manual Conversion"
   ]
  },
  {
   "cell_type": "code",
   "execution_count": null,
   "id": "7338d2e4",
   "metadata": {
    "ExecuteTime": {
     "end_time": "2022-11-09T08:29:50.809608Z",
     "start_time": "2022-11-09T08:29:50.803822Z"
    }
   },
   "outputs": [],
   "source": [
    "# This is our first actual wine example with scaled values\n",
    "X.loc[0]"
   ]
  },
  {
   "cell_type": "code",
   "execution_count": null,
   "id": "58c91f81",
   "metadata": {
    "ExecuteTime": {
     "end_time": "2022-11-09T08:29:52.578787Z",
     "start_time": "2022-11-09T08:29:52.573383Z"
    }
   },
   "outputs": [],
   "source": [
    "# This it the map to convert an example into a PC1 value\n",
    "W.PC1"
   ]
  },
  {
   "cell_type": "code",
   "execution_count": null,
   "id": "c8bbc8ee",
   "metadata": {
    "ExecuteTime": {
     "end_time": "2022-11-09T08:29:59.774889Z",
     "start_time": "2022-11-09T08:29:59.767933Z"
    }
   },
   "outputs": [],
   "source": [
    "# This is the conversion taking place\n",
    "convert_row = X.loc[0] * W.PC1\n",
    "convert_row"
   ]
  },
  {
   "cell_type": "code",
   "execution_count": null,
   "id": "3162bf06",
   "metadata": {
    "ExecuteTime": {
     "end_time": "2022-11-09T08:30:12.515255Z",
     "start_time": "2022-11-09T08:30:12.511028Z"
    }
   },
   "outputs": [],
   "source": [
    "# The final number we are after is the dot product (multiply and sum)\n",
    "convert_row.sum()"
   ]
  },
  {
   "cell_type": "code",
   "execution_count": null,
   "id": "f412e357",
   "metadata": {
    "ExecuteTime": {
     "end_time": "2022-11-09T08:30:16.155667Z",
     "start_time": "2022-11-09T08:30:16.151204Z"
    }
   },
   "outputs": [],
   "source": [
    "# Verified with numpy's dot function\n",
    "np.dot(X.loc[0], W.PC1)"
   ]
  },
  {
   "cell_type": "markdown",
   "id": "b8380e53",
   "metadata": {},
   "source": [
    "### Full Set conversion"
   ]
  },
  {
   "cell_type": "code",
   "execution_count": null,
   "id": "7a8bf361",
   "metadata": {
    "ExecuteTime": {
     "end_time": "2022-11-09T08:30:21.304331Z",
     "start_time": "2022-11-09T08:30:21.283968Z"
    }
   },
   "outputs": [],
   "source": [
    "# Convert the whole data set\n",
    "X_proj = pca.transform(X)\n",
    "X_proj = pd.DataFrame(X_proj, columns=[f'PC{i}' for i in range(1, 14)])\n",
    "X_proj"
   ]
  },
  {
   "cell_type": "code",
   "execution_count": null,
   "id": "c0f6be85",
   "metadata": {
    "ExecuteTime": {
     "end_time": "2022-11-09T08:30:22.697101Z",
     "start_time": "2022-11-09T08:30:22.436244Z"
    }
   },
   "outputs": [],
   "source": [
    "# Completely remove all collinearity\n",
    "sns.heatmap(X_proj.corr(), cmap='coolwarm');"
   ]
  },
  {
   "cell_type": "markdown",
   "id": "921af8d3",
   "metadata": {},
   "source": [
    "## Plotting in our new space"
   ]
  },
  {
   "cell_type": "code",
   "execution_count": null,
   "id": "7cc7d7dd",
   "metadata": {
    "ExecuteTime": {
     "end_time": "2022-11-09T08:30:49.132752Z",
     "start_time": "2022-11-09T08:30:48.901275Z"
    }
   },
   "outputs": [],
   "source": [
    "# 2D-slice\n",
    "plt.figure(figsize=(13,5))\n",
    "# Plotting column 1 vs column 2 on scaled data (alchol and malic acid)\n",
    "plt.subplot(1,2,1)\n",
    "plt.title('X1 vs. X0 before PCA (initial space)'); plt.xlabel('X0'); plt.ylabel('X1')\n",
    "plt.scatter(X.iloc[:,0], X.iloc[:,1], c=y)\n",
    "\n",
    "plt.subplot(1,2,2)\n",
    "# Plotting PC1 vs PC2 on transformed data (First PC composed of all 13 features and 2nd PC composed of all 13 features)\n",
    "plt.title('PC1 vs PC2 (new space)'); plt.xlabel('PC 1'); plt.ylabel('PC 2')\n",
    "plt.scatter(X_proj.iloc[:,0], X_proj.iloc[:,1], c=y);"
   ]
  },
  {
   "cell_type": "markdown",
   "id": "1a1cfbe2",
   "metadata": {},
   "source": [
    "## Check the math"
   ]
  },
  {
   "cell_type": "code",
   "execution_count": null,
   "id": "44fdae33",
   "metadata": {
    "ExecuteTime": {
     "end_time": "2022-11-09T08:31:17.045671Z",
     "start_time": "2022-11-09T08:31:17.027415Z"
    }
   },
   "outputs": [],
   "source": [
    "# A quick look at the covariance matrix for our 13 features\n",
    "pd.DataFrame(np.dot(X.T,X)/178)"
   ]
  },
  {
   "cell_type": "code",
   "execution_count": null,
   "id": "66524460",
   "metadata": {
    "ExecuteTime": {
     "end_time": "2022-11-09T08:32:00.585936Z",
     "start_time": "2022-11-09T08:32:00.580210Z"
    }
   },
   "outputs": [],
   "source": [
    "# For our covariance matrix we can compute our\n",
    "    # Eigenvectors - shift used to project observation onto line\n",
    "    # Eigenvalue - amount of underlying observation variance maintained with projection\n",
    "eig_vals, eig_vecs = np.linalg.eig(pd.DataFrame(np.dot(X.T,X)))"
   ]
  },
  {
   "cell_type": "code",
   "execution_count": null,
   "id": "a9b658ce",
   "metadata": {
    "ExecuteTime": {
     "end_time": "2022-11-09T08:32:01.194019Z",
     "start_time": "2022-11-09T08:32:01.189614Z"
    }
   },
   "outputs": [],
   "source": [
    "# Eigen Values hold 13 values, one for each PC being created\n",
    "eig_vals"
   ]
  },
  {
   "cell_type": "code",
   "execution_count": null,
   "id": "3060b783",
   "metadata": {
    "ExecuteTime": {
     "end_time": "2022-11-09T08:32:13.431938Z",
     "start_time": "2022-11-09T08:32:13.412937Z"
    }
   },
   "outputs": [],
   "source": [
    "# Eigen Vectors holds \n",
    "    # 1 array per PC being created\n",
    "    # Each array length matches number of column in dataset\n",
    "W2 = pd.DataFrame(eig_vecs, \n",
    "                 index=wine_features,\n",
    "                 columns=[f'PC{i}' for i in range(1, 14)])\n",
    "W2"
   ]
  }
 ],
 "metadata": {
  "kernelspec": {
   "display_name": "lw3.8.12",
   "language": "python",
   "name": "lw3.8.12"
  },
  "language_info": {
   "codemirror_mode": {
    "name": "ipython",
    "version": 3
   },
   "file_extension": ".py",
   "mimetype": "text/x-python",
   "name": "python",
   "nbconvert_exporter": "python",
   "pygments_lexer": "ipython3",
   "version": "3.8.12"
  },
  "toc": {
   "base_numbering": 1,
   "nav_menu": {},
   "number_sections": true,
   "sideBar": true,
   "skip_h1_title": false,
   "title_cell": "Table of Contents",
   "title_sidebar": "Contents",
   "toc_cell": false,
   "toc_position": {},
   "toc_section_display": true,
   "toc_window_display": false
  },
  "varInspector": {
   "cols": {
    "lenName": 16,
    "lenType": 16,
    "lenVar": 40
   },
   "kernels_config": {
    "python": {
     "delete_cmd_postfix": "",
     "delete_cmd_prefix": "del ",
     "library": "var_list.py",
     "varRefreshCmd": "print(var_dic_list())"
    },
    "r": {
     "delete_cmd_postfix": ") ",
     "delete_cmd_prefix": "rm(",
     "library": "var_list.r",
     "varRefreshCmd": "cat(var_dic_list()) "
    }
   },
   "types_to_exclude": [
    "module",
    "function",
    "builtin_function_or_method",
    "instance",
    "_Feature"
   ],
   "window_display": false
  }
 },
 "nbformat": 4,
 "nbformat_minor": 5
}
