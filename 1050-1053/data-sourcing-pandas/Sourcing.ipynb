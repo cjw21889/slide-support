{
 "cells": [
  {
   "cell_type": "code",
   "execution_count": 1,
   "id": "3b8bfc14-d595-49c3-a6dc-0fa527f70630",
   "metadata": {},
   "outputs": [],
   "source": [
    "%load_ext autoreload\n",
    "%autoreload 2"
   ]
  },
  {
   "cell_type": "markdown",
   "id": "c4a5e847-b117-4de8-b3be-2b9ef6e94d14",
   "metadata": {
    "tags": []
   },
   "source": [
    "# Imports"
   ]
  },
  {
   "cell_type": "code",
   "execution_count": 2,
   "id": "66b05b09-e334-484b-ab1c-713a411b8f4d",
   "metadata": {},
   "outputs": [],
   "source": [
    "import matplotlib\n",
    "%matplotlib inline\n",
    "import numpy as np\n",
    "import pandas as pd"
   ]
  },
  {
   "cell_type": "markdown",
   "id": "040be9c7-cf6c-454a-93a2-2842d856f31a",
   "metadata": {},
   "source": [
    "## CSVs"
   ]
  },
  {
   "cell_type": "code",
   "execution_count": 35,
   "id": "3c172ba4-4550-4a37-a40a-2547db4b6890",
   "metadata": {},
   "outputs": [
    {
     "data": {
      "text/html": [
       "<div>\n",
       "<style scoped>\n",
       "    .dataframe tbody tr th:only-of-type {\n",
       "        vertical-align: middle;\n",
       "    }\n",
       "\n",
       "    .dataframe tbody tr th {\n",
       "        vertical-align: top;\n",
       "    }\n",
       "\n",
       "    .dataframe thead th {\n",
       "        text-align: right;\n",
       "    }\n",
       "</style>\n",
       "<table border=\"1\" class=\"dataframe\">\n",
       "  <thead>\n",
       "    <tr style=\"text-align: right;\">\n",
       "      <th></th>\n",
       "      <th>name</th>\n",
       "      <th>artists</th>\n",
       "    </tr>\n",
       "  </thead>\n",
       "  <tbody>\n",
       "    <tr>\n",
       "      <th>0</th>\n",
       "      <td>Shape of You</td>\n",
       "      <td>Ed Sheeran</td>\n",
       "    </tr>\n",
       "    <tr>\n",
       "      <th>1</th>\n",
       "      <td>Despacito - Remix</td>\n",
       "      <td>Luis Fonsi</td>\n",
       "    </tr>\n",
       "    <tr>\n",
       "      <th>2</th>\n",
       "      <td>Despacito (Featuring Daddy Yankee)</td>\n",
       "      <td>Luis Fonsi</td>\n",
       "    </tr>\n",
       "    <tr>\n",
       "      <th>3</th>\n",
       "      <td>Something Just Like This</td>\n",
       "      <td>The Chainsmokers</td>\n",
       "    </tr>\n",
       "    <tr>\n",
       "      <th>4</th>\n",
       "      <td>I'm the One</td>\n",
       "      <td>DJ Khaled</td>\n",
       "    </tr>\n",
       "  </tbody>\n",
       "</table>\n",
       "</div>"
      ],
      "text/plain": [
       "                                 name           artists\n",
       "0                        Shape of You        Ed Sheeran\n",
       "1                   Despacito - Remix        Luis Fonsi\n",
       "2  Despacito (Featuring Daddy Yankee)        Luis Fonsi\n",
       "3            Something Just Like This  The Chainsmokers\n",
       "4                         I'm the One         DJ Khaled"
      ]
     },
     "execution_count": 35,
     "metadata": {},
     "output_type": "execute_result"
    }
   ],
   "source": [
    "tracks_df = pd.read_csv('data/spotify_2017.csv', usecols=['name','artists'])\n",
    "tracks_df.head()"
   ]
  },
  {
   "cell_type": "markdown",
   "id": "d8cca615-82e0-406e-8323-64d684d0ba17",
   "metadata": {},
   "source": [
    "## APIs"
   ]
  },
  {
   "cell_type": "code",
   "execution_count": 36,
   "id": "8bffa0f6-cc5e-409f-ae4e-62f009e4467d",
   "metadata": {},
   "outputs": [],
   "source": [
    "from music import get_lyrics"
   ]
  },
  {
   "cell_type": "code",
   "execution_count": 7,
   "id": "7815ffd4-dee4-4bd4-a32e-97c7fe2c35f8",
   "metadata": {},
   "outputs": [],
   "source": [
    "artist = 'The Beatles'\n",
    "title = 'Come '\n",
    "\n",
    "x = get_lyrics(artist,title)"
   ]
  },
  {
   "cell_type": "code",
   "execution_count": 8,
   "id": "b2c2ebe5-75d0-4f30-8de6-4043eaa1eb2a",
   "metadata": {},
   "outputs": [
    {
     "name": "stdout",
     "output_type": "stream",
     "text": [
      "\n"
     ]
    }
   ],
   "source": [
    "print(x)"
   ]
  },
  {
   "cell_type": "code",
   "execution_count": 11,
   "id": "9909f66d-7530-4c9e-8529-0865c492e85e",
   "metadata": {},
   "outputs": [
    {
     "data": {
      "text/html": [
       "<div>\n",
       "<style scoped>\n",
       "    .dataframe tbody tr th:only-of-type {\n",
       "        vertical-align: middle;\n",
       "    }\n",
       "\n",
       "    .dataframe tbody tr th {\n",
       "        vertical-align: top;\n",
       "    }\n",
       "\n",
       "    .dataframe thead th {\n",
       "        text-align: right;\n",
       "    }\n",
       "</style>\n",
       "<table border=\"1\" class=\"dataframe\">\n",
       "  <thead>\n",
       "    <tr style=\"text-align: right;\">\n",
       "      <th></th>\n",
       "      <th>name</th>\n",
       "      <th>artists</th>\n",
       "    </tr>\n",
       "  </thead>\n",
       "  <tbody>\n",
       "    <tr>\n",
       "      <th>0</th>\n",
       "      <td>Shape of You</td>\n",
       "      <td>Ed Sheeran</td>\n",
       "    </tr>\n",
       "    <tr>\n",
       "      <th>1</th>\n",
       "      <td>Despacito - Remix</td>\n",
       "      <td>Luis Fonsi</td>\n",
       "    </tr>\n",
       "    <tr>\n",
       "      <th>2</th>\n",
       "      <td>Despacito (Featuring Daddy Yankee)</td>\n",
       "      <td>Luis Fonsi</td>\n",
       "    </tr>\n",
       "    <tr>\n",
       "      <th>3</th>\n",
       "      <td>Something Just Like This</td>\n",
       "      <td>The Chainsmokers</td>\n",
       "    </tr>\n",
       "    <tr>\n",
       "      <th>4</th>\n",
       "      <td>I'm the One</td>\n",
       "      <td>DJ Khaled</td>\n",
       "    </tr>\n",
       "  </tbody>\n",
       "</table>\n",
       "</div>"
      ],
      "text/plain": [
       "                                 name           artists\n",
       "0                        Shape of You        Ed Sheeran\n",
       "1                   Despacito - Remix        Luis Fonsi\n",
       "2  Despacito (Featuring Daddy Yankee)        Luis Fonsi\n",
       "3            Something Just Like This  The Chainsmokers\n",
       "4                         I'm the One         DJ Khaled"
      ]
     },
     "execution_count": 11,
     "metadata": {},
     "output_type": "execute_result"
    }
   ],
   "source": [
    "tracks_df.head()"
   ]
  },
  {
   "cell_type": "code",
   "execution_count": 12,
   "id": "f893d54e-ad22-4a35-9a1b-dfd9dd71e283",
   "metadata": {},
   "outputs": [
    {
     "data": {
      "text/plain": [
       "(100, 2)"
      ]
     },
     "execution_count": 12,
     "metadata": {},
     "output_type": "execute_result"
    }
   ],
   "source": [
    "tracks_df.shape"
   ]
  },
  {
   "cell_type": "code",
   "execution_count": 26,
   "id": "dd0f24d9-4b75-43f9-8f2a-c5d5a59806f9",
   "metadata": {},
   "outputs": [
    {
     "data": {
      "text/html": [
       "<div>\n",
       "<style scoped>\n",
       "    .dataframe tbody tr th:only-of-type {\n",
       "        vertical-align: middle;\n",
       "    }\n",
       "\n",
       "    .dataframe tbody tr th {\n",
       "        vertical-align: top;\n",
       "    }\n",
       "\n",
       "    .dataframe thead th {\n",
       "        text-align: right;\n",
       "    }\n",
       "</style>\n",
       "<table border=\"1\" class=\"dataframe\">\n",
       "  <thead>\n",
       "    <tr style=\"text-align: right;\">\n",
       "      <th></th>\n",
       "      <th>name</th>\n",
       "      <th>artists</th>\n",
       "    </tr>\n",
       "  </thead>\n",
       "  <tbody>\n",
       "    <tr>\n",
       "      <th>0</th>\n",
       "      <td>Shape of You</td>\n",
       "      <td>Ed Sheeran</td>\n",
       "    </tr>\n",
       "    <tr>\n",
       "      <th>1</th>\n",
       "      <td>Despacito - Remix</td>\n",
       "      <td>Luis Fonsi</td>\n",
       "    </tr>\n",
       "    <tr>\n",
       "      <th>2</th>\n",
       "      <td>Despacito (Featuring Daddy Yankee)</td>\n",
       "      <td>Luis Fonsi</td>\n",
       "    </tr>\n",
       "    <tr>\n",
       "      <th>3</th>\n",
       "      <td>Something Just Like This</td>\n",
       "      <td>The Chainsmokers</td>\n",
       "    </tr>\n",
       "    <tr>\n",
       "      <th>4</th>\n",
       "      <td>I'm the One</td>\n",
       "      <td>DJ Khaled</td>\n",
       "    </tr>\n",
       "  </tbody>\n",
       "</table>\n",
       "</div>"
      ],
      "text/plain": [
       "                                 name           artists\n",
       "0                        Shape of You        Ed Sheeran\n",
       "1                   Despacito - Remix        Luis Fonsi\n",
       "2  Despacito (Featuring Daddy Yankee)        Luis Fonsi\n",
       "3            Something Just Like This  The Chainsmokers\n",
       "4                         I'm the One         DJ Khaled"
      ]
     },
     "execution_count": 26,
     "metadata": {},
     "output_type": "execute_result"
    }
   ],
   "source": [
    "tracks_df.head()"
   ]
  },
  {
   "cell_type": "code",
   "execution_count": 30,
   "id": "53d53ff8-44f4-468f-93d4-de7d7710c5c6",
   "metadata": {},
   "outputs": [
    {
     "data": {
      "text/html": [
       "<div>\n",
       "<style scoped>\n",
       "    .dataframe tbody tr th:only-of-type {\n",
       "        vertical-align: middle;\n",
       "    }\n",
       "\n",
       "    .dataframe tbody tr th {\n",
       "        vertical-align: top;\n",
       "    }\n",
       "\n",
       "    .dataframe thead th {\n",
       "        text-align: right;\n",
       "    }\n",
       "</style>\n",
       "<table border=\"1\" class=\"dataframe\">\n",
       "  <thead>\n",
       "    <tr style=\"text-align: right;\">\n",
       "      <th></th>\n",
       "      <th>artists</th>\n",
       "    </tr>\n",
       "    <tr>\n",
       "      <th>name</th>\n",
       "      <th></th>\n",
       "    </tr>\n",
       "  </thead>\n",
       "  <tbody>\n",
       "    <tr>\n",
       "      <th>Shape of You</th>\n",
       "      <td>Ed Sheeran</td>\n",
       "    </tr>\n",
       "    <tr>\n",
       "      <th>Despacito - Remix</th>\n",
       "      <td>Luis Fonsi</td>\n",
       "    </tr>\n",
       "    <tr>\n",
       "      <th>Despacito (Featuring Daddy Yankee)</th>\n",
       "      <td>Luis Fonsi</td>\n",
       "    </tr>\n",
       "    <tr>\n",
       "      <th>Something Just Like This</th>\n",
       "      <td>The Chainsmokers</td>\n",
       "    </tr>\n",
       "    <tr>\n",
       "      <th>I'm the One</th>\n",
       "      <td>DJ Khaled</td>\n",
       "    </tr>\n",
       "  </tbody>\n",
       "</table>\n",
       "</div>"
      ],
      "text/plain": [
       "                                             artists\n",
       "name                                                \n",
       "Shape of You                              Ed Sheeran\n",
       "Despacito - Remix                         Luis Fonsi\n",
       "Despacito (Featuring Daddy Yankee)        Luis Fonsi\n",
       "Something Just Like This            The Chainsmokers\n",
       "I'm the One                                DJ Khaled"
      ]
     },
     "execution_count": 30,
     "metadata": {},
     "output_type": "execute_result"
    }
   ],
   "source": [
    "tracks_df.set_index('name', inplace=True)\n",
    "tracks_df.head()"
   ]
  },
  {
   "cell_type": "code",
   "execution_count": 34,
   "id": "b02c9524-5cc4-493d-8340-f0f3b1d4c6c6",
   "metadata": {},
   "outputs": [
    {
     "data": {
      "text/plain": [
       "name\n",
       "Shape of You                                Ed Sheeran\n",
       "Despacito - Remix                           Luis Fonsi\n",
       "Despacito (Featuring Daddy Yankee)          Luis Fonsi\n",
       "Something Just Like This              The Chainsmokers\n",
       "I'm the One                                  DJ Khaled\n",
       "Name: artists, dtype: object"
      ]
     },
     "execution_count": 34,
     "metadata": {},
     "output_type": "execute_result"
    }
   ],
   "source": [
    "tracks_df.iloc[:5,0 ]"
   ]
  },
  {
   "cell_type": "code",
   "execution_count": 37,
   "id": "c996cd67-955c-4616-aae1-f838786d6ab2",
   "metadata": {},
   "outputs": [
    {
     "name": "stdout",
     "output_type": "stream",
     "text": [
      "Fetching lyrics for  0\n",
      "Fetching lyrics for  1\n",
      "Fetching lyrics for  2\n",
      "Fetching lyrics for  3\n",
      "Fetching lyrics for  4\n"
     ]
    }
   ],
   "source": [
    "tracks_df['lyrics'] = ''\n",
    "\n",
    "for i, r in tracks_df.head(5).iterrows():\n",
    "    print('Fetching lyrics for ', i)\n",
    "    tracks_df.loc[i, 'lyrics'] = get_lyrics(r['artists'], r['name'])\n",
    "    \n",
    "    "
   ]
  },
  {
   "cell_type": "code",
   "execution_count": 38,
   "id": "df67f2e6-52e6-44ff-a8f4-75475aaaa830",
   "metadata": {},
   "outputs": [
    {
     "data": {
      "text/html": [
       "<div>\n",
       "<style scoped>\n",
       "    .dataframe tbody tr th:only-of-type {\n",
       "        vertical-align: middle;\n",
       "    }\n",
       "\n",
       "    .dataframe tbody tr th {\n",
       "        vertical-align: top;\n",
       "    }\n",
       "\n",
       "    .dataframe thead th {\n",
       "        text-align: right;\n",
       "    }\n",
       "</style>\n",
       "<table border=\"1\" class=\"dataframe\">\n",
       "  <thead>\n",
       "    <tr style=\"text-align: right;\">\n",
       "      <th></th>\n",
       "      <th>name</th>\n",
       "      <th>artists</th>\n",
       "      <th>lyrics</th>\n",
       "    </tr>\n",
       "  </thead>\n",
       "  <tbody>\n",
       "    <tr>\n",
       "      <th>0</th>\n",
       "      <td>Shape of You</td>\n",
       "      <td>Ed Sheeran</td>\n",
       "      <td>The club isn't the best place to find a lover\\...</td>\n",
       "    </tr>\n",
       "    <tr>\n",
       "      <th>1</th>\n",
       "      <td>Despacito - Remix</td>\n",
       "      <td>Luis Fonsi</td>\n",
       "      <td></td>\n",
       "    </tr>\n",
       "    <tr>\n",
       "      <th>2</th>\n",
       "      <td>Despacito (Featuring Daddy Yankee)</td>\n",
       "      <td>Luis Fonsi</td>\n",
       "      <td></td>\n",
       "    </tr>\n",
       "    <tr>\n",
       "      <th>3</th>\n",
       "      <td>Something Just Like This</td>\n",
       "      <td>The Chainsmokers</td>\n",
       "      <td>I've been reading books of old\\nThe legends an...</td>\n",
       "    </tr>\n",
       "    <tr>\n",
       "      <th>4</th>\n",
       "      <td>I'm the One</td>\n",
       "      <td>DJ Khaled</td>\n",
       "      <td>[DJ Khaled:]\\nWe The Best Music\\nAnother One!\\...</td>\n",
       "    </tr>\n",
       "  </tbody>\n",
       "</table>\n",
       "</div>"
      ],
      "text/plain": [
       "                                 name           artists  \\\n",
       "0                        Shape of You        Ed Sheeran   \n",
       "1                   Despacito - Remix        Luis Fonsi   \n",
       "2  Despacito (Featuring Daddy Yankee)        Luis Fonsi   \n",
       "3            Something Just Like This  The Chainsmokers   \n",
       "4                         I'm the One         DJ Khaled   \n",
       "\n",
       "                                              lyrics  \n",
       "0  The club isn't the best place to find a lover\\...  \n",
       "1                                                     \n",
       "2                                                     \n",
       "3  I've been reading books of old\\nThe legends an...  \n",
       "4  [DJ Khaled:]\\nWe The Best Music\\nAnother One!\\...  "
      ]
     },
     "execution_count": 38,
     "metadata": {},
     "output_type": "execute_result"
    }
   ],
   "source": [
    "tracks_df.head()"
   ]
  },
  {
   "cell_type": "markdown",
   "id": "30561d4c-62da-41cc-a1aa-173bb6c8e9d7",
   "metadata": {},
   "source": [
    "## SQL"
   ]
  },
  {
   "cell_type": "code",
   "execution_count": 39,
   "id": "e7251f29-df71-4818-9f3a-4124a1d2ce0b",
   "metadata": {},
   "outputs": [],
   "source": [
    "import pandas as pd\n",
    "import sqlite3\n",
    "conn = sqlite3.connect(\"data/soccer.sqlite\")"
   ]
  },
  {
   "cell_type": "code",
   "execution_count": 40,
   "id": "a1f86f1d-fa4b-4754-aeac-dfa14a0d408f",
   "metadata": {},
   "outputs": [
    {
     "name": "stdout",
     "output_type": "stream",
     "text": [
      "[('sqlite_sequence',), ('Player_Attributes',), ('Player',), ('Match',), ('League',), ('Country',), ('Team',), ('Team_Attributes',)]\n"
     ]
    }
   ],
   "source": [
    "## OLD WAY\n",
    "cursor = conn.cursor()\n",
    "cursor.execute(\"SELECT name FROM sqlite_master WHERE type='table'\")\n",
    "print(cursor.fetchall())"
   ]
  },
  {
   "cell_type": "code",
   "execution_count": 41,
   "id": "ff7d0bcc-93ca-4097-bcd0-d02e1764edf1",
   "metadata": {},
   "outputs": [],
   "source": [
    "## NEW WAY\n",
    "league_df = pd.read_sql(\n",
    "    '''\n",
    "    SELECT l.id, l.name, c.name as country_name\n",
    "    FROM League l\n",
    "    JOIN Country c ON c.id = l.country_id\n",
    "    ''', conn)"
   ]
  },
  {
   "cell_type": "code",
   "execution_count": 42,
   "id": "51b8ed80-9bb7-45df-b9c2-18322477b093",
   "metadata": {},
   "outputs": [
    {
     "data": {
      "text/html": [
       "<div>\n",
       "<style scoped>\n",
       "    .dataframe tbody tr th:only-of-type {\n",
       "        vertical-align: middle;\n",
       "    }\n",
       "\n",
       "    .dataframe tbody tr th {\n",
       "        vertical-align: top;\n",
       "    }\n",
       "\n",
       "    .dataframe thead th {\n",
       "        text-align: right;\n",
       "    }\n",
       "</style>\n",
       "<table border=\"1\" class=\"dataframe\">\n",
       "  <thead>\n",
       "    <tr style=\"text-align: right;\">\n",
       "      <th></th>\n",
       "      <th>id</th>\n",
       "      <th>name</th>\n",
       "      <th>country_name</th>\n",
       "    </tr>\n",
       "  </thead>\n",
       "  <tbody>\n",
       "    <tr>\n",
       "      <th>0</th>\n",
       "      <td>1</td>\n",
       "      <td>Belgium Jupiler League</td>\n",
       "      <td>Belgium</td>\n",
       "    </tr>\n",
       "    <tr>\n",
       "      <th>1</th>\n",
       "      <td>1729</td>\n",
       "      <td>England Premier League</td>\n",
       "      <td>England</td>\n",
       "    </tr>\n",
       "    <tr>\n",
       "      <th>2</th>\n",
       "      <td>4769</td>\n",
       "      <td>France Ligue 1</td>\n",
       "      <td>France</td>\n",
       "    </tr>\n",
       "    <tr>\n",
       "      <th>3</th>\n",
       "      <td>7809</td>\n",
       "      <td>Germany 1. Bundesliga</td>\n",
       "      <td>Germany</td>\n",
       "    </tr>\n",
       "    <tr>\n",
       "      <th>4</th>\n",
       "      <td>10257</td>\n",
       "      <td>Italy Serie A</td>\n",
       "      <td>Italy</td>\n",
       "    </tr>\n",
       "  </tbody>\n",
       "</table>\n",
       "</div>"
      ],
      "text/plain": [
       "      id                    name country_name\n",
       "0      1  Belgium Jupiler League      Belgium\n",
       "1   1729  England Premier League      England\n",
       "2   4769          France Ligue 1       France\n",
       "3   7809   Germany 1. Bundesliga      Germany\n",
       "4  10257           Italy Serie A        Italy"
      ]
     },
     "execution_count": 42,
     "metadata": {},
     "output_type": "execute_result"
    }
   ],
   "source": [
    "league_df.head()"
   ]
  },
  {
   "cell_type": "markdown",
   "id": "24abd18a-d22c-4355-8b78-8d7e1518b778",
   "metadata": {},
   "source": [
    "## Google Big Query"
   ]
  },
  {
   "cell_type": "code",
   "execution_count": 43,
   "id": "1891ad88-e343-431e-b8a0-9dee3c5607e1",
   "metadata": {},
   "outputs": [],
   "source": [
    "import pandas_gbq\n"
   ]
  },
  {
   "cell_type": "code",
   "execution_count": 46,
   "id": "e639f1ce-8b13-4846-bb7d-c0e701facf82",
   "metadata": {},
   "outputs": [
    {
     "name": "stderr",
     "output_type": "stream",
     "text": [
      "Downloading: 100%|██████████████████████| 5368/5368 [00:01<00:00, 5188.88rows/s]\n"
     ]
    },
    {
     "data": {
      "text/html": [
       "<div>\n",
       "<style scoped>\n",
       "    .dataframe tbody tr th:only-of-type {\n",
       "        vertical-align: middle;\n",
       "    }\n",
       "\n",
       "    .dataframe tbody tr th {\n",
       "        vertical-align: top;\n",
       "    }\n",
       "\n",
       "    .dataframe thead th {\n",
       "        text-align: right;\n",
       "    }\n",
       "</style>\n",
       "<table border=\"1\" class=\"dataframe\">\n",
       "  <thead>\n",
       "    <tr style=\"text-align: right;\">\n",
       "      <th></th>\n",
       "      <th>faa_identifier</th>\n",
       "      <th>name</th>\n",
       "      <th>longitude</th>\n",
       "      <th>latitude</th>\n",
       "      <th>airport_type</th>\n",
       "      <th>service_city</th>\n",
       "      <th>country</th>\n",
       "    </tr>\n",
       "  </thead>\n",
       "  <tbody>\n",
       "    <tr>\n",
       "      <th>0</th>\n",
       "      <td>2A4</td>\n",
       "      <td>Vor Lake Waterlane</td>\n",
       "      <td>-151.494167</td>\n",
       "      <td>66.887445</td>\n",
       "      <td>Seaport</td>\n",
       "      <td>Bettles</td>\n",
       "      <td>United States</td>\n",
       "    </tr>\n",
       "    <tr>\n",
       "      <th>1</th>\n",
       "      <td>5C5</td>\n",
       "      <td>El Capitan Lodge</td>\n",
       "      <td>-133.253391</td>\n",
       "      <td>55.958593</td>\n",
       "      <td>Seaport</td>\n",
       "      <td>Craig</td>\n",
       "      <td>United States</td>\n",
       "    </tr>\n",
       "    <tr>\n",
       "      <th>2</th>\n",
       "      <td>3A3</td>\n",
       "      <td>Seymour Lake Spb</td>\n",
       "      <td>-149.665593</td>\n",
       "      <td>61.613463</td>\n",
       "      <td>Seaport</td>\n",
       "      <td>Wasilla</td>\n",
       "      <td>United States</td>\n",
       "    </tr>\n",
       "    <tr>\n",
       "      <th>3</th>\n",
       "      <td>T44</td>\n",
       "      <td>Trident Basin</td>\n",
       "      <td>-152.391410</td>\n",
       "      <td>57.780835</td>\n",
       "      <td>Seaport</td>\n",
       "      <td>Kodiak</td>\n",
       "      <td>United States</td>\n",
       "    </tr>\n",
       "    <tr>\n",
       "      <th>4</th>\n",
       "      <td>84K</td>\n",
       "      <td>Meyers Chuck</td>\n",
       "      <td>-132.255037</td>\n",
       "      <td>55.739641</td>\n",
       "      <td>Seaport</td>\n",
       "      <td>Meyers Chuck</td>\n",
       "      <td>United States</td>\n",
       "    </tr>\n",
       "  </tbody>\n",
       "</table>\n",
       "</div>"
      ],
      "text/plain": [
       "  faa_identifier                name   longitude   latitude airport_type  \\\n",
       "0            2A4  Vor Lake Waterlane -151.494167  66.887445      Seaport   \n",
       "1            5C5    El Capitan Lodge -133.253391  55.958593      Seaport   \n",
       "2            3A3    Seymour Lake Spb -149.665593  61.613463      Seaport   \n",
       "3            T44       Trident Basin -152.391410  57.780835      Seaport   \n",
       "4            84K        Meyers Chuck -132.255037  55.739641      Seaport   \n",
       "\n",
       "   service_city        country  \n",
       "0       Bettles  United States  \n",
       "1         Craig  United States  \n",
       "2       Wasilla  United States  \n",
       "3        Kodiak  United States  \n",
       "4  Meyers Chuck  United States  "
      ]
     },
     "execution_count": 46,
     "metadata": {},
     "output_type": "execute_result"
    }
   ],
   "source": [
    "project_id = 'bootcamps-august' # TODO: replace with your own!\n",
    "\n",
    "query = \"\"\"\n",
    "SELECT faa_identifier, name, longitude, latitude, airport_type, service_city, country\n",
    "FROM `bigquery-public-data.faa.us_airports`\n",
    "WHERE airport_use = 'Public'\n",
    "\"\"\"\n",
    "airports_df = pandas_gbq.read_gbq(query, project_id=project_id)\n",
    "airports_df.head()"
   ]
  },
  {
   "cell_type": "code",
   "execution_count": 45,
   "id": "751c06cf-1ed7-4681-a61a-73fb901e2f7c",
   "metadata": {},
   "outputs": [
    {
     "data": {
      "text/plain": [
       "pandas.core.frame.DataFrame"
      ]
     },
     "execution_count": 45,
     "metadata": {},
     "output_type": "execute_result"
    }
   ],
   "source": [
    "type(airports_df)"
   ]
  },
  {
   "cell_type": "markdown",
   "id": "e2343004-71f1-45f5-a05c-7a78b60cc362",
   "metadata": {},
   "source": [
    "## SCRAPING"
   ]
  },
  {
   "cell_type": "code",
   "execution_count": 47,
   "id": "2d9fed8d-d98b-4b3d-bbef-6c82e4c1f922",
   "metadata": {},
   "outputs": [],
   "source": [
    "import re\n",
    "import requests\n",
    "from bs4 import BeautifulSoup"
   ]
  },
  {
   "cell_type": "code",
   "execution_count": 50,
   "id": "e5a02224-e82d-4479-aa5e-961c88634120",
   "metadata": {},
   "outputs": [],
   "source": [
    "url = 'https://www.imdb.com/list/ls055386972/'\n",
    "\n",
    "response = requests.get(url)\n",
    "\n",
    "soup = BeautifulSoup(response.content, 'html.parser')"
   ]
  },
  {
   "cell_type": "code",
   "execution_count": 68,
   "id": "61bb1016-7ee7-4bf8-a4b4-df0cf7751288",
   "metadata": {},
   "outputs": [],
   "source": [
    "movies = []\n",
    "movies_raw = soup.find_all('div', class_='lister-item-content')\n",
    "\n",
    "for movie in movies_raw:\n",
    "    title = movie.find('h3', class_='lister-item-header').find('a').text\n",
    "    runtime = int(movie.find('span', class_='runtime').text.strip(' min'))\n",
    "    year = int(re.search('\\d{4}', movie.find('span', class_='lister-item-year').text).group(0))\n",
    "    movies.append({'title': title, 'runtime': runtime, 'year':year})"
   ]
  },
  {
   "cell_type": "code",
   "execution_count": 69,
   "id": "547250f4-b046-4ec2-abb9-6369495c1729",
   "metadata": {},
   "outputs": [
    {
     "data": {
      "text/plain": [
       "[{'title': 'The Godfather', 'runtime': 175, 'year': 1972},\n",
       " {'title': \"Schindler's List\", 'runtime': 195, 'year': 1993},\n",
       " {'title': '12 Angry Men', 'runtime': 96, 'year': 1957}]"
      ]
     },
     "execution_count": 69,
     "metadata": {},
     "output_type": "execute_result"
    }
   ],
   "source": [
    "movies[0:3]"
   ]
  },
  {
   "cell_type": "code",
   "execution_count": 70,
   "id": "1bce1a2e-e8d3-4a0c-8271-dfd872704399",
   "metadata": {},
   "outputs": [
    {
     "data": {
      "text/html": [
       "<div>\n",
       "<style scoped>\n",
       "    .dataframe tbody tr th:only-of-type {\n",
       "        vertical-align: middle;\n",
       "    }\n",
       "\n",
       "    .dataframe tbody tr th {\n",
       "        vertical-align: top;\n",
       "    }\n",
       "\n",
       "    .dataframe thead th {\n",
       "        text-align: right;\n",
       "    }\n",
       "</style>\n",
       "<table border=\"1\" class=\"dataframe\">\n",
       "  <thead>\n",
       "    <tr style=\"text-align: right;\">\n",
       "      <th></th>\n",
       "      <th>title</th>\n",
       "      <th>runtime</th>\n",
       "      <th>year</th>\n",
       "    </tr>\n",
       "  </thead>\n",
       "  <tbody>\n",
       "    <tr>\n",
       "      <th>0</th>\n",
       "      <td>The Godfather</td>\n",
       "      <td>175</td>\n",
       "      <td>1972</td>\n",
       "    </tr>\n",
       "    <tr>\n",
       "      <th>1</th>\n",
       "      <td>Schindler's List</td>\n",
       "      <td>195</td>\n",
       "      <td>1993</td>\n",
       "    </tr>\n",
       "    <tr>\n",
       "      <th>2</th>\n",
       "      <td>12 Angry Men</td>\n",
       "      <td>96</td>\n",
       "      <td>1957</td>\n",
       "    </tr>\n",
       "    <tr>\n",
       "      <th>3</th>\n",
       "      <td>Life Is Beautiful</td>\n",
       "      <td>116</td>\n",
       "      <td>1997</td>\n",
       "    </tr>\n",
       "    <tr>\n",
       "      <th>4</th>\n",
       "      <td>The Good, the Bad and the Ugly</td>\n",
       "      <td>148</td>\n",
       "      <td>1966</td>\n",
       "    </tr>\n",
       "  </tbody>\n",
       "</table>\n",
       "</div>"
      ],
      "text/plain": [
       "                            title  runtime  year\n",
       "0                   The Godfather      175  1972\n",
       "1                Schindler's List      195  1993\n",
       "2                    12 Angry Men       96  1957\n",
       "3               Life Is Beautiful      116  1997\n",
       "4  The Good, the Bad and the Ugly      148  1966"
      ]
     },
     "execution_count": 70,
     "metadata": {},
     "output_type": "execute_result"
    }
   ],
   "source": [
    "movies_df = pd.DataFrame(movies)\n",
    "movies_df.head()"
   ]
  },
  {
   "cell_type": "code",
   "execution_count": 76,
   "id": "8586bc8a-1f41-4c40-bbbc-f7fdc290586e",
   "metadata": {},
   "outputs": [],
   "source": [
    "def scrape_page(page_num):\n",
    "    url = 'https://www.imdb.com/search/title'\n",
    "    params = {'groups':'top_250',\n",
    "              'sort':'user_rating',\n",
    "             'start': page_num}\n",
    "\n",
    "    response = requests.get(url, params=params)\n",
    "\n",
    "    soup = BeautifulSoup(response.content, 'html.parser')\n",
    "    return soup\n",
    "\n",
    "\n",
    "def parse_page(soup):\n",
    "    movies = []\n",
    "    movies_raw = soup.find_all('div', class_='lister-item-content')\n",
    "\n",
    "    for movie in movies_raw:\n",
    "        title = movie.find('h3', class_='lister-item-header').find('a').text\n",
    "        runtime = int(movie.find('span', class_='runtime').text.strip(' min'))\n",
    "        year = int(re.search('\\d{4}', movie.find('span', class_='lister-item-year').text).group(0))\n",
    "        movies.append({'title': title, 'runtime': runtime, 'year':year})\n",
    "    return movies\n"
   ]
  },
  {
   "cell_type": "code",
   "execution_count": 78,
   "id": "5dc91794-b5b9-4b77-80d7-889d9a440e29",
   "metadata": {},
   "outputs": [],
   "source": [
    "all_movies = []\n",
    "for i in range(5):\n",
    "    page_num = i * 50 + 1\n",
    "    soup = scrape_page(page_num)\n",
    "    all_movies += parse_page(soup)\n",
    "    "
   ]
  },
  {
   "cell_type": "code",
   "execution_count": 79,
   "id": "8405db05-abae-431d-a4b8-f97681a8f9ba",
   "metadata": {},
   "outputs": [
    {
     "data": {
      "text/plain": [
       "250"
      ]
     },
     "execution_count": 79,
     "metadata": {},
     "output_type": "execute_result"
    }
   ],
   "source": [
    "len(all_movies)"
   ]
  },
  {
   "cell_type": "code",
   "execution_count": 80,
   "id": "b61cf9a8-687e-4c69-90e7-d495eed34b97",
   "metadata": {},
   "outputs": [
    {
     "data": {
      "text/html": [
       "<div>\n",
       "<style scoped>\n",
       "    .dataframe tbody tr th:only-of-type {\n",
       "        vertical-align: middle;\n",
       "    }\n",
       "\n",
       "    .dataframe tbody tr th {\n",
       "        vertical-align: top;\n",
       "    }\n",
       "\n",
       "    .dataframe thead th {\n",
       "        text-align: right;\n",
       "    }\n",
       "</style>\n",
       "<table border=\"1\" class=\"dataframe\">\n",
       "  <thead>\n",
       "    <tr style=\"text-align: right;\">\n",
       "      <th></th>\n",
       "      <th>title</th>\n",
       "      <th>runtime</th>\n",
       "      <th>year</th>\n",
       "    </tr>\n",
       "  </thead>\n",
       "  <tbody>\n",
       "    <tr>\n",
       "      <th>0</th>\n",
       "      <td>The Shawshank Redemption</td>\n",
       "      <td>142</td>\n",
       "      <td>1994</td>\n",
       "    </tr>\n",
       "    <tr>\n",
       "      <th>1</th>\n",
       "      <td>The Godfather</td>\n",
       "      <td>175</td>\n",
       "      <td>1972</td>\n",
       "    </tr>\n",
       "    <tr>\n",
       "      <th>2</th>\n",
       "      <td>The Dark Knight</td>\n",
       "      <td>152</td>\n",
       "      <td>2008</td>\n",
       "    </tr>\n",
       "    <tr>\n",
       "      <th>3</th>\n",
       "      <td>The Lord of the Rings: The Return of the King</td>\n",
       "      <td>201</td>\n",
       "      <td>2003</td>\n",
       "    </tr>\n",
       "    <tr>\n",
       "      <th>4</th>\n",
       "      <td>Schindler's List</td>\n",
       "      <td>195</td>\n",
       "      <td>1993</td>\n",
       "    </tr>\n",
       "    <tr>\n",
       "      <th>...</th>\n",
       "      <td>...</td>\n",
       "      <td>...</td>\n",
       "      <td>...</td>\n",
       "    </tr>\n",
       "    <tr>\n",
       "      <th>245</th>\n",
       "      <td>Mr. Smith Goes to Washington</td>\n",
       "      <td>129</td>\n",
       "      <td>1939</td>\n",
       "    </tr>\n",
       "    <tr>\n",
       "      <th>246</th>\n",
       "      <td>It Happened One Night</td>\n",
       "      <td>105</td>\n",
       "      <td>1934</td>\n",
       "    </tr>\n",
       "    <tr>\n",
       "      <th>247</th>\n",
       "      <td>The Incredibles</td>\n",
       "      <td>115</td>\n",
       "      <td>2004</td>\n",
       "    </tr>\n",
       "    <tr>\n",
       "      <th>248</th>\n",
       "      <td>Aladdin</td>\n",
       "      <td>90</td>\n",
       "      <td>1992</td>\n",
       "    </tr>\n",
       "    <tr>\n",
       "      <th>249</th>\n",
       "      <td>Life of Brian</td>\n",
       "      <td>94</td>\n",
       "      <td>1979</td>\n",
       "    </tr>\n",
       "  </tbody>\n",
       "</table>\n",
       "<p>250 rows × 3 columns</p>\n",
       "</div>"
      ],
      "text/plain": [
       "                                             title  runtime  year\n",
       "0                         The Shawshank Redemption      142  1994\n",
       "1                                    The Godfather      175  1972\n",
       "2                                  The Dark Knight      152  2008\n",
       "3    The Lord of the Rings: The Return of the King      201  2003\n",
       "4                                 Schindler's List      195  1993\n",
       "..                                             ...      ...   ...\n",
       "245                   Mr. Smith Goes to Washington      129  1939\n",
       "246                          It Happened One Night      105  1934\n",
       "247                                The Incredibles      115  2004\n",
       "248                                        Aladdin       90  1992\n",
       "249                                  Life of Brian       94  1979\n",
       "\n",
       "[250 rows x 3 columns]"
      ]
     },
     "execution_count": 80,
     "metadata": {},
     "output_type": "execute_result"
    }
   ],
   "source": [
    "movies_df = pd.DataFrame(all_movies)\n",
    "movies_df"
   ]
  },
  {
   "cell_type": "code",
   "execution_count": 87,
   "id": "e6fab971-23ea-4ab6-beab-91ef6eb5d3a9",
   "metadata": {},
   "outputs": [
    {
     "data": {
      "image/png": "[encoded data removed]",
      "text/plain": [
       "<Figure size 864x288 with 2 Axes>"
      ]
     },
     "metadata": {
      "needs_background": "light"
     },
     "output_type": "display_data"
    }
   ],
   "source": [
    "movies_df.hist(grid=False, bins=12, figsize=(12, 4));"
   ]
  },
  {
   "cell_type": "code",
   "execution_count": null,
   "id": "6304fabd-3de9-4830-b150-7ba44f5d946d",
   "metadata": {},
   "outputs": [],
   "source": []
  }
 ],
 "metadata": {
  "kernelspec": {
   "display_name": "lw3.8.12",
   "language": "python",
   "name": "lw3.8.12"
  },
  "language_info": {
   "codemirror_mode": {
    "name": "ipython",
    "version": 3
   },
   "file_extension": ".py",
   "mimetype": "text/x-python",
   "name": "python",
   "nbconvert_exporter": "python",
   "pygments_lexer": "ipython3",
   "version": "3.8.12"
  }
 },
 "nbformat": 4,
 "nbformat_minor": 5
}
