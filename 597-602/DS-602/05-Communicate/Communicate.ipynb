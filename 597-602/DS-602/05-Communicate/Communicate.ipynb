{
 "cells": [
  {
   "cell_type": "markdown",
   "id": "tired-chain",
   "metadata": {
    "slideshow": {
     "slide_type": "slide"
    }
   },
   "source": [
    "# Here is my first set of slides"
   ]
  },
  {
   "cell_type": "markdown",
   "id": "textile-advertiser",
   "metadata": {
    "slideshow": {
     "slide_type": "subslide"
    }
   },
   "source": [
    "### here is a subslide"
   ]
  },
  {
   "cell_type": "code",
   "execution_count": 13,
   "id": "peripheral-maximum",
   "metadata": {
    "ExecuteTime": {
     "end_time": "2021-06-01T09:53:44.091110Z",
     "start_time": "2021-06-01T09:53:44.088534Z"
    },
    "slideshow": {
     "slide_type": "skip"
    }
   },
   "outputs": [
    {
     "name": "stdout",
     "output_type": "stream",
     "text": [
      "I don't want this in my slideshow\n"
     ]
    }
   ],
   "source": [
    "print(\"I don't want this in my slideshow\")"
   ]
  },
  {
   "cell_type": "markdown",
   "id": "informed-cable",
   "metadata": {
    "slideshow": {
     "slide_type": "slide"
    }
   },
   "source": [
    "# My second set of slides"
   ]
  },
  {
   "cell_type": "code",
   "execution_count": 1,
   "id": "closed-spring",
   "metadata": {
    "ExecuteTime": {
     "end_time": "2021-06-01T17:37:08.891482Z",
     "start_time": "2021-06-01T17:37:08.888115Z"
    }
   },
   "outputs": [],
   "source": [
    "class Student:\n",
    "    school = 'lewagon'\n",
    "    def __init__(self, name, age, **kwargs):\n",
    "        self.name = name\n",
    "        self.age = age\n",
    "        self.__dict__.update(**kwargs)"
   ]
  },
  {
   "cell_type": "code",
   "execution_count": 5,
   "id": "dramatic-jewelry",
   "metadata": {
    "ExecuteTime": {
     "end_time": "2021-06-01T17:37:52.830836Z",
     "start_time": "2021-06-01T17:37:52.827634Z"
    }
   },
   "outputs": [],
   "source": [
    "# DataStudent child class with abstract arguments\n",
    "class DataStudent(Student):\n",
    "    batch = 'data'    \n",
    "    def __init__(self, *args, **kwargs):\n",
    "        super().__init__(*args, **kwargs)"
   ]
  },
  {
   "cell_type": "code",
   "execution_count": 6,
   "id": "technological-escape",
   "metadata": {
    "ExecuteTime": {
     "end_time": "2021-06-01T17:37:53.227211Z",
     "start_time": "2021-06-01T17:37:53.221505Z"
    }
   },
   "outputs": [
    {
     "data": {
      "text/plain": [
       "{'name': 'alice', 'age': 20, 'nationality': 'french'}"
      ]
     },
     "execution_count": 6,
     "metadata": {},
     "output_type": "execute_result"
    }
   ],
   "source": [
    "DataStudent('alice', 20, nationality='french').__dict__\n"
   ]
  },
  {
   "cell_type": "code",
   "execution_count": 7,
   "id": "corresponding-retention",
   "metadata": {
    "ExecuteTime": {
     "end_time": "2021-06-01T18:03:10.562568Z",
     "start_time": "2021-06-01T18:03:07.287217Z"
    }
   },
   "outputs": [],
   "source": [
    "import pandas as pd\n",
    "from olist.seller import Seller"
   ]
  },
  {
   "cell_type": "code",
   "execution_count": 9,
   "id": "positive-harvard",
   "metadata": {
    "ExecuteTime": {
     "end_time": "2021-06-01T18:03:41.331740Z",
     "start_time": "2021-06-01T18:03:34.452819Z"
    }
   },
   "outputs": [],
   "source": [
    "sellers = Seller()\n",
    "df = sellers.get_training_data()"
   ]
  },
  {
   "cell_type": "code",
   "execution_count": 10,
   "id": "medium-brazilian",
   "metadata": {
    "ExecuteTime": {
     "end_time": "2021-06-01T18:03:41.387659Z",
     "start_time": "2021-06-01T18:03:41.370311Z"
    }
   },
   "outputs": [
    {
     "data": {
      "text/html": [
       "<div>\n",
       "<style scoped>\n",
       "    .dataframe tbody tr th:only-of-type {\n",
       "        vertical-align: middle;\n",
       "    }\n",
       "\n",
       "    .dataframe tbody tr th {\n",
       "        vertical-align: top;\n",
       "    }\n",
       "\n",
       "    .dataframe thead th {\n",
       "        text-align: right;\n",
       "    }\n",
       "</style>\n",
       "<table border=\"1\" class=\"dataframe\">\n",
       "  <thead>\n",
       "    <tr style=\"text-align: right;\">\n",
       "      <th></th>\n",
       "      <th>seller_id</th>\n",
       "      <th>seller_city</th>\n",
       "      <th>seller_state</th>\n",
       "      <th>delay_to_carrier</th>\n",
       "      <th>seller_wait_time</th>\n",
       "      <th>date_first_sale</th>\n",
       "      <th>date_last_sale</th>\n",
       "      <th>share_of_one_stars</th>\n",
       "      <th>share_of_five_stars</th>\n",
       "      <th>review_score</th>\n",
       "      <th>n_orders</th>\n",
       "      <th>quantity</th>\n",
       "      <th>quantity_per_order</th>\n",
       "      <th>sales</th>\n",
       "    </tr>\n",
       "  </thead>\n",
       "  <tbody>\n",
       "    <tr>\n",
       "      <th>0</th>\n",
       "      <td>3442f8959a84dea7ee197c632cb2df15</td>\n",
       "      <td>campinas</td>\n",
       "      <td>SP</td>\n",
       "      <td>1.514329</td>\n",
       "      <td>13.018588</td>\n",
       "      <td>2017-05-05 16:12:29</td>\n",
       "      <td>2017-08-30 11:47:52</td>\n",
       "      <td>0.333333</td>\n",
       "      <td>0.333333</td>\n",
       "      <td>3.00</td>\n",
       "      <td>3</td>\n",
       "      <td>3</td>\n",
       "      <td>1.000</td>\n",
       "      <td>218.70</td>\n",
       "    </tr>\n",
       "    <tr>\n",
       "      <th>1</th>\n",
       "      <td>d1b65fc7debc3361ea86b5f14c68d2e2</td>\n",
       "      <td>mogi guacu</td>\n",
       "      <td>SP</td>\n",
       "      <td>0.155190</td>\n",
       "      <td>9.065716</td>\n",
       "      <td>2017-03-28 09:00:00</td>\n",
       "      <td>2018-06-06 20:01:45</td>\n",
       "      <td>0.725000</td>\n",
       "      <td>0.050000</td>\n",
       "      <td>4.55</td>\n",
       "      <td>40</td>\n",
       "      <td>41</td>\n",
       "      <td>1.025</td>\n",
       "      <td>11703.07</td>\n",
       "    </tr>\n",
       "    <tr>\n",
       "      <th>2</th>\n",
       "      <td>ce3ad9de960102d0677a81f5d0bb7b2d</td>\n",
       "      <td>rio de janeiro</td>\n",
       "      <td>RJ</td>\n",
       "      <td>0.000000</td>\n",
       "      <td>4.042292</td>\n",
       "      <td>2018-07-30 12:20:10</td>\n",
       "      <td>2018-07-30 12:20:10</td>\n",
       "      <td>1.000000</td>\n",
       "      <td>0.000000</td>\n",
       "      <td>5.00</td>\n",
       "      <td>1</td>\n",
       "      <td>1</td>\n",
       "      <td>1.000</td>\n",
       "      <td>158.00</td>\n",
       "    </tr>\n",
       "    <tr>\n",
       "      <th>3</th>\n",
       "      <td>c0f3eea2e14555b6faeea3dd58c1b1c3</td>\n",
       "      <td>sao paulo</td>\n",
       "      <td>SP</td>\n",
       "      <td>0.000000</td>\n",
       "      <td>5.667187</td>\n",
       "      <td>2018-08-03 00:26:04</td>\n",
       "      <td>2018-08-03 00:26:04</td>\n",
       "      <td>1.000000</td>\n",
       "      <td>0.000000</td>\n",
       "      <td>5.00</td>\n",
       "      <td>1</td>\n",
       "      <td>1</td>\n",
       "      <td>1.000</td>\n",
       "      <td>79.99</td>\n",
       "    </tr>\n",
       "    <tr>\n",
       "      <th>4</th>\n",
       "      <td>51a04a8a6bdcb23deccc82b0b80742cf</td>\n",
       "      <td>braganca paulista</td>\n",
       "      <td>SP</td>\n",
       "      <td>3.353727</td>\n",
       "      <td>35.314861</td>\n",
       "      <td>2017-11-14 12:04:09</td>\n",
       "      <td>2017-11-14 12:04:09</td>\n",
       "      <td>0.000000</td>\n",
       "      <td>1.000000</td>\n",
       "      <td>1.00</td>\n",
       "      <td>1</td>\n",
       "      <td>1</td>\n",
       "      <td>1.000</td>\n",
       "      <td>167.99</td>\n",
       "    </tr>\n",
       "  </tbody>\n",
       "</table>\n",
       "</div>"
      ],
      "text/plain": [
       "                          seller_id        seller_city seller_state  \\\n",
       "0  3442f8959a84dea7ee197c632cb2df15           campinas           SP   \n",
       "1  d1b65fc7debc3361ea86b5f14c68d2e2         mogi guacu           SP   \n",
       "2  ce3ad9de960102d0677a81f5d0bb7b2d     rio de janeiro           RJ   \n",
       "3  c0f3eea2e14555b6faeea3dd58c1b1c3          sao paulo           SP   \n",
       "4  51a04a8a6bdcb23deccc82b0b80742cf  braganca paulista           SP   \n",
       "\n",
       "   delay_to_carrier  seller_wait_time     date_first_sale      date_last_sale  \\\n",
       "0          1.514329         13.018588 2017-05-05 16:12:29 2017-08-30 11:47:52   \n",
       "1          0.155190          9.065716 2017-03-28 09:00:00 2018-06-06 20:01:45   \n",
       "2          0.000000          4.042292 2018-07-30 12:20:10 2018-07-30 12:20:10   \n",
       "3          0.000000          5.667187 2018-08-03 00:26:04 2018-08-03 00:26:04   \n",
       "4          3.353727         35.314861 2017-11-14 12:04:09 2017-11-14 12:04:09   \n",
       "\n",
       "   share_of_one_stars  share_of_five_stars  review_score  n_orders  quantity  \\\n",
       "0            0.333333             0.333333          3.00         3         3   \n",
       "1            0.725000             0.050000          4.55        40        41   \n",
       "2            1.000000             0.000000          5.00         1         1   \n",
       "3            1.000000             0.000000          5.00         1         1   \n",
       "4            0.000000             1.000000          1.00         1         1   \n",
       "\n",
       "   quantity_per_order     sales  \n",
       "0               1.000    218.70  \n",
       "1               1.025  11703.07  \n",
       "2               1.000    158.00  \n",
       "3               1.000     79.99  \n",
       "4               1.000    167.99  "
      ]
     },
     "execution_count": 10,
     "metadata": {},
     "output_type": "execute_result"
    }
   ],
   "source": [
    "df.head()"
   ]
  },
  {
   "cell_type": "code",
   "execution_count": null,
   "id": "organized-league",
   "metadata": {},
   "outputs": [],
   "source": []
  }
 ],
 "metadata": {
  "celltoolbar": "Slideshow",
  "kernelspec": {
   "display_name": "Python 3 (ipykernel)",
   "language": "python",
   "name": "python3"
  },
  "language_info": {
   "codemirror_mode": {
    "name": "ipython",
    "version": 3
   },
   "file_extension": ".py",
   "mimetype": "text/x-python",
   "name": "python",
   "nbconvert_exporter": "python",
   "pygments_lexer": "ipython3",
   "version": "3.8.12"
  },
  "toc": {
   "base_numbering": 1,
   "nav_menu": {},
   "number_sections": true,
   "sideBar": true,
   "skip_h1_title": false,
   "title_cell": "Table of Contents",
   "title_sidebar": "Contents",
   "toc_cell": false,
   "toc_position": {},
   "toc_section_display": true,
   "toc_window_display": false
  },
  "varInspector": {
   "cols": {
    "lenName": 16,
    "lenType": 16,
    "lenVar": 40
   },
   "kernels_config": {
    "python": {
     "delete_cmd_postfix": "",
     "delete_cmd_prefix": "del ",
     "library": "var_list.py",
     "varRefreshCmd": "print(var_dic_list())"
    },
    "r": {
     "delete_cmd_postfix": ") ",
     "delete_cmd_prefix": "rm(",
     "library": "var_list.r",
     "varRefreshCmd": "cat(var_dic_list()) "
    }
   },
   "types_to_exclude": [
    "module",
    "function",
    "builtin_function_or_method",
    "instance",
    "_Feature"
   ],
   "window_display": false
  }
 },
 "nbformat": 4,
 "nbformat_minor": 5
}
