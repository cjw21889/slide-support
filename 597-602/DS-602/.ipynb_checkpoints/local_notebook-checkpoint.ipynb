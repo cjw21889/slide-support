{
 "cells": [
  {
   "cell_type": "code",
   "execution_count": null,
   "id": "documentary-romance",
   "metadata": {
    "ExecuteTime": {
     "end_time": "2021-05-15T08:47:43.985942Z",
     "start_time": "2021-05-15T08:47:42.611201Z"
    }
   },
   "outputs": [],
   "source": [
    "# Normal Package imports\n",
    "import pandas as pd\n",
    "import numpy as np\n"
   ]
  },
  {
   "cell_type": "code",
   "execution_count": null,
   "id": "metropolitan-russia",
   "metadata": {
    "ExecuteTime": {
     "end_time": "2021-05-15T08:47:44.001610Z",
     "start_time": "2021-05-15T08:47:43.992000Z"
    }
   },
   "outputs": [],
   "source": [
    "# Where are all these awesome functions and classes coming from\n",
    "display(pd.__file__)\n",
    "display(np.__file__)"
   ]
  },
  {
   "cell_type": "code",
   "execution_count": null,
   "id": "loose-split",
   "metadata": {
    "ExecuteTime": {
     "end_time": "2021-05-15T08:47:44.857350Z",
     "start_time": "2021-05-15T08:47:44.850783Z"
    }
   },
   "outputs": [],
   "source": [
    "# What about my local awesome function\n",
    "from olist import data\n",
    "display(data.__file__)\n",
    "data.hello()"
   ]
  },
  {
   "cell_type": "code",
   "execution_count": null,
   "id": "wrapped-deputy",
   "metadata": {
    "ExecuteTime": {
     "end_time": "2021-05-15T08:47:49.018120Z",
     "start_time": "2021-05-15T08:47:49.013937Z"
    }
   },
   "outputs": [],
   "source": [
    "# How does python know where to find my import\n",
    "import sys\n",
    "sys.path"
   ]
  },
  {
   "cell_type": "code",
   "execution_count": null,
   "id": "worthy-border",
   "metadata": {},
   "outputs": [],
   "source": []
  }
 ],
 "metadata": {
  "kernelspec": {
   "display_name": "Python 3",
   "language": "python",
   "name": "python3"
  },
  "language_info": {
   "codemirror_mode": {
    "name": "ipython",
    "version": 3
   },
   "file_extension": ".py",
   "mimetype": "text/x-python",
   "name": "python",
   "nbconvert_exporter": "python",
   "pygments_lexer": "ipython3",
   "version": "3.7.7"
  },
  "toc": {
   "base_numbering": 1,
   "nav_menu": {},
   "number_sections": true,
   "sideBar": true,
   "skip_h1_title": false,
   "title_cell": "Table of Contents",
   "title_sidebar": "Contents",
   "toc_cell": false,
   "toc_position": {},
   "toc_section_display": true,
   "toc_window_display": false
  },
  "varInspector": {
   "cols": {
    "lenName": 16,
    "lenType": 16,
    "lenVar": 40
   },
   "kernels_config": {
    "python": {
     "delete_cmd_postfix": "",
     "delete_cmd_prefix": "del ",
     "library": "var_list.py",
     "varRefreshCmd": "print(var_dic_list())"
    },
    "r": {
     "delete_cmd_postfix": ") ",
     "delete_cmd_prefix": "rm(",
     "library": "var_list.r",
     "varRefreshCmd": "cat(var_dic_list()) "
    }
   },
   "types_to_exclude": [
    "module",
    "function",
    "builtin_function_or_method",
    "instance",
    "_Feature"
   ],
   "window_display": false
  }
 },
 "nbformat": 4,
 "nbformat_minor": 5
}
