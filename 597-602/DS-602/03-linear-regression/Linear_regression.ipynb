{
 "cells": [
  {
   "cell_type": "code",
   "execution_count": 1,
   "id": "aging-pointer",
   "metadata": {
    "ExecuteTime": {
     "end_time": "2021-05-25T18:13:39.721933Z",
     "start_time": "2021-05-25T18:13:38.721328Z"
    }
   },
   "outputs": [],
   "source": [
    "import pandas as pd\n",
    "import numpy as np\n",
    "import matplotlib.pyplot as plt\n",
    "import seaborn as sns"
   ]
  },
  {
   "cell_type": "markdown",
   "id": "aboriginal-austria",
   "metadata": {},
   "source": [
    "## Explore our Dataset "
   ]
  },
  {
   "cell_type": "code",
   "execution_count": 2,
   "id": "funky-japan",
   "metadata": {
    "ExecuteTime": {
     "end_time": "2021-05-25T18:13:39.758631Z",
     "start_time": "2021-05-25T18:13:39.734878Z"
    }
   },
   "outputs": [
    {
     "data": {
      "text/html": [
       "<div>\n",
       "<style scoped>\n",
       "    .dataframe tbody tr th:only-of-type {\n",
       "        vertical-align: middle;\n",
       "    }\n",
       "\n",
       "    .dataframe tbody tr th {\n",
       "        vertical-align: top;\n",
       "    }\n",
       "\n",
       "    .dataframe thead th {\n",
       "        text-align: right;\n",
       "    }\n",
       "</style>\n",
       "<table border=\"1\" class=\"dataframe\">\n",
       "  <thead>\n",
       "    <tr style=\"text-align: right;\">\n",
       "      <th></th>\n",
       "      <th>mpg</th>\n",
       "      <th>cylinders</th>\n",
       "      <th>displacement</th>\n",
       "      <th>horsepower</th>\n",
       "      <th>weight</th>\n",
       "      <th>acceleration</th>\n",
       "      <th>model_year</th>\n",
       "      <th>origin</th>\n",
       "      <th>name</th>\n",
       "    </tr>\n",
       "  </thead>\n",
       "  <tbody>\n",
       "    <tr>\n",
       "      <th>0</th>\n",
       "      <td>18.0</td>\n",
       "      <td>8</td>\n",
       "      <td>307.0</td>\n",
       "      <td>130.0</td>\n",
       "      <td>3504</td>\n",
       "      <td>12.0</td>\n",
       "      <td>70</td>\n",
       "      <td>usa</td>\n",
       "      <td>chevrolet chevelle malibu</td>\n",
       "    </tr>\n",
       "    <tr>\n",
       "      <th>1</th>\n",
       "      <td>15.0</td>\n",
       "      <td>8</td>\n",
       "      <td>350.0</td>\n",
       "      <td>165.0</td>\n",
       "      <td>3693</td>\n",
       "      <td>11.5</td>\n",
       "      <td>70</td>\n",
       "      <td>usa</td>\n",
       "      <td>buick skylark 320</td>\n",
       "    </tr>\n",
       "    <tr>\n",
       "      <th>2</th>\n",
       "      <td>18.0</td>\n",
       "      <td>8</td>\n",
       "      <td>318.0</td>\n",
       "      <td>150.0</td>\n",
       "      <td>3436</td>\n",
       "      <td>11.0</td>\n",
       "      <td>70</td>\n",
       "      <td>usa</td>\n",
       "      <td>plymouth satellite</td>\n",
       "    </tr>\n",
       "    <tr>\n",
       "      <th>3</th>\n",
       "      <td>16.0</td>\n",
       "      <td>8</td>\n",
       "      <td>304.0</td>\n",
       "      <td>150.0</td>\n",
       "      <td>3433</td>\n",
       "      <td>12.0</td>\n",
       "      <td>70</td>\n",
       "      <td>usa</td>\n",
       "      <td>amc rebel sst</td>\n",
       "    </tr>\n",
       "    <tr>\n",
       "      <th>4</th>\n",
       "      <td>17.0</td>\n",
       "      <td>8</td>\n",
       "      <td>302.0</td>\n",
       "      <td>140.0</td>\n",
       "      <td>3449</td>\n",
       "      <td>10.5</td>\n",
       "      <td>70</td>\n",
       "      <td>usa</td>\n",
       "      <td>ford torino</td>\n",
       "    </tr>\n",
       "  </tbody>\n",
       "</table>\n",
       "</div>"
      ],
      "text/plain": [
       "    mpg  cylinders  displacement  horsepower  weight  acceleration  \\\n",
       "0  18.0          8         307.0       130.0    3504          12.0   \n",
       "1  15.0          8         350.0       165.0    3693          11.5   \n",
       "2  18.0          8         318.0       150.0    3436          11.0   \n",
       "3  16.0          8         304.0       150.0    3433          12.0   \n",
       "4  17.0          8         302.0       140.0    3449          10.5   \n",
       "\n",
       "   model_year origin                       name  \n",
       "0          70    usa  chevrolet chevelle malibu  \n",
       "1          70    usa          buick skylark 320  \n",
       "2          70    usa         plymouth satellite  \n",
       "3          70    usa              amc rebel sst  \n",
       "4          70    usa                ford torino  "
      ]
     },
     "execution_count": 2,
     "metadata": {},
     "output_type": "execute_result"
    }
   ],
   "source": [
    "# load from seaborn\n",
    "mpg = sns.load_dataset(\"mpg\").dropna()\n",
    "mpg.head()"
   ]
  },
  {
   "cell_type": "code",
   "execution_count": 3,
   "id": "incorporate-insured",
   "metadata": {
    "ExecuteTime": {
     "end_time": "2021-05-25T18:13:39.820919Z",
     "start_time": "2021-05-25T18:13:39.791123Z"
    }
   },
   "outputs": [
    {
     "data": {
      "text/html": [
       "<div>\n",
       "<style scoped>\n",
       "    .dataframe tbody tr th:only-of-type {\n",
       "        vertical-align: middle;\n",
       "    }\n",
       "\n",
       "    .dataframe tbody tr th {\n",
       "        vertical-align: top;\n",
       "    }\n",
       "\n",
       "    .dataframe thead th {\n",
       "        text-align: right;\n",
       "    }\n",
       "</style>\n",
       "<table border=\"1\" class=\"dataframe\">\n",
       "  <thead>\n",
       "    <tr style=\"text-align: right;\">\n",
       "      <th></th>\n",
       "      <th>mpg</th>\n",
       "      <th>cylinders</th>\n",
       "      <th>displacement</th>\n",
       "      <th>horsepower</th>\n",
       "      <th>weight</th>\n",
       "      <th>acceleration</th>\n",
       "      <th>model_year</th>\n",
       "    </tr>\n",
       "  </thead>\n",
       "  <tbody>\n",
       "    <tr>\n",
       "      <th>count</th>\n",
       "      <td>392</td>\n",
       "      <td>392</td>\n",
       "      <td>392</td>\n",
       "      <td>392</td>\n",
       "      <td>392</td>\n",
       "      <td>392</td>\n",
       "      <td>392</td>\n",
       "    </tr>\n",
       "    <tr>\n",
       "      <th>mean</th>\n",
       "      <td>23</td>\n",
       "      <td>5</td>\n",
       "      <td>194</td>\n",
       "      <td>104</td>\n",
       "      <td>2978</td>\n",
       "      <td>16</td>\n",
       "      <td>76</td>\n",
       "    </tr>\n",
       "    <tr>\n",
       "      <th>std</th>\n",
       "      <td>8</td>\n",
       "      <td>2</td>\n",
       "      <td>105</td>\n",
       "      <td>38</td>\n",
       "      <td>849</td>\n",
       "      <td>3</td>\n",
       "      <td>4</td>\n",
       "    </tr>\n",
       "    <tr>\n",
       "      <th>min</th>\n",
       "      <td>9</td>\n",
       "      <td>3</td>\n",
       "      <td>68</td>\n",
       "      <td>46</td>\n",
       "      <td>1613</td>\n",
       "      <td>8</td>\n",
       "      <td>70</td>\n",
       "    </tr>\n",
       "    <tr>\n",
       "      <th>25%</th>\n",
       "      <td>17</td>\n",
       "      <td>4</td>\n",
       "      <td>105</td>\n",
       "      <td>75</td>\n",
       "      <td>2225</td>\n",
       "      <td>14</td>\n",
       "      <td>73</td>\n",
       "    </tr>\n",
       "    <tr>\n",
       "      <th>50%</th>\n",
       "      <td>23</td>\n",
       "      <td>4</td>\n",
       "      <td>151</td>\n",
       "      <td>94</td>\n",
       "      <td>2804</td>\n",
       "      <td>16</td>\n",
       "      <td>76</td>\n",
       "    </tr>\n",
       "    <tr>\n",
       "      <th>75%</th>\n",
       "      <td>29</td>\n",
       "      <td>8</td>\n",
       "      <td>276</td>\n",
       "      <td>126</td>\n",
       "      <td>3615</td>\n",
       "      <td>17</td>\n",
       "      <td>79</td>\n",
       "    </tr>\n",
       "    <tr>\n",
       "      <th>max</th>\n",
       "      <td>47</td>\n",
       "      <td>8</td>\n",
       "      <td>455</td>\n",
       "      <td>230</td>\n",
       "      <td>5140</td>\n",
       "      <td>25</td>\n",
       "      <td>82</td>\n",
       "    </tr>\n",
       "  </tbody>\n",
       "</table>\n",
       "</div>"
      ],
      "text/plain": [
       "       mpg  cylinders  displacement  horsepower  weight  acceleration  \\\n",
       "count  392        392           392         392     392           392   \n",
       "mean    23          5           194         104    2978            16   \n",
       "std      8          2           105          38     849             3   \n",
       "min      9          3            68          46    1613             8   \n",
       "25%     17          4           105          75    2225            14   \n",
       "50%     23          4           151          94    2804            16   \n",
       "75%     29          8           276         126    3615            17   \n",
       "max     47          8           455         230    5140            25   \n",
       "\n",
       "       model_year  \n",
       "count         392  \n",
       "mean           76  \n",
       "std             4  \n",
       "min            70  \n",
       "25%            73  \n",
       "50%            76  \n",
       "75%            79  \n",
       "max            82  "
      ]
     },
     "execution_count": 3,
     "metadata": {},
     "output_type": "execute_result"
    }
   ],
   "source": [
    "# round all our values\n",
    "mpg.describe().applymap(round)"
   ]
  },
  {
   "cell_type": "code",
   "execution_count": 4,
   "id": "assigned-chapter",
   "metadata": {
    "ExecuteTime": {
     "end_time": "2021-05-25T18:13:40.023150Z",
     "start_time": "2021-05-25T18:13:39.849818Z"
    }
   },
   "outputs": [
    {
     "data": {
      "image/png": "[encoded data removed]",
      "text/plain": [
       "<Figure size 432x288 with 1 Axes>"
      ]
     },
     "metadata": {
      "needs_background": "light"
     },
     "output_type": "display_data"
    }
   ],
   "source": [
    "# visualize potential correlation\n",
    "sns.scatterplot(x='horsepower', y='weight', data=mpg);"
   ]
  },
  {
   "cell_type": "markdown",
   "id": "isolated-apparel",
   "metadata": {},
   "source": [
    "## Linear Regression time\n",
    "[Least Square vis demo](https://setosa.io/ev/ordinary-least-squares-regression/)"
   ]
  },
  {
   "cell_type": "markdown",
   "id": "funded-violin",
   "metadata": {},
   "source": [
    "### Visually"
   ]
  },
  {
   "cell_type": "code",
   "execution_count": 5,
   "id": "japanese-environment",
   "metadata": {
    "ExecuteTime": {
     "end_time": "2021-05-25T18:13:42.166916Z",
     "start_time": "2021-05-25T18:13:41.913817Z"
    }
   },
   "outputs": [
    {
     "data": {
      "image/png": "[encoded data removed]",
      "text/plain": [
       "<Figure size 432x288 with 1 Axes>"
      ]
     },
     "metadata": {
      "needs_background": "light"
     },
     "output_type": "display_data"
    }
   ],
   "source": [
    "# Visually\n",
    "sns.regplot(x='horsepower', y='weight', data=mpg);"
   ]
  },
  {
   "cell_type": "code",
   "execution_count": 6,
   "id": "arranged-newfoundland",
   "metadata": {
    "ExecuteTime": {
     "end_time": "2021-05-25T18:13:42.206900Z",
     "start_time": "2021-05-25T18:13:42.195087Z"
    }
   },
   "outputs": [
    {
     "data": {
      "text/html": [
       "<div>\n",
       "<style scoped>\n",
       "    .dataframe tbody tr th:only-of-type {\n",
       "        vertical-align: middle;\n",
       "    }\n",
       "\n",
       "    .dataframe tbody tr th {\n",
       "        vertical-align: top;\n",
       "    }\n",
       "\n",
       "    .dataframe thead th {\n",
       "        text-align: right;\n",
       "    }\n",
       "</style>\n",
       "<table border=\"1\" class=\"dataframe\">\n",
       "  <thead>\n",
       "    <tr style=\"text-align: right;\">\n",
       "      <th></th>\n",
       "      <th>mpg</th>\n",
       "      <th>cylinders</th>\n",
       "      <th>displacement</th>\n",
       "      <th>horsepower</th>\n",
       "      <th>weight</th>\n",
       "      <th>acceleration</th>\n",
       "      <th>model_year</th>\n",
       "    </tr>\n",
       "  </thead>\n",
       "  <tbody>\n",
       "    <tr>\n",
       "      <th>mpg</th>\n",
       "      <td>1.000000</td>\n",
       "      <td>-0.777618</td>\n",
       "      <td>-0.805127</td>\n",
       "      <td>-0.778427</td>\n",
       "      <td>-0.832244</td>\n",
       "      <td>0.423329</td>\n",
       "      <td>0.580541</td>\n",
       "    </tr>\n",
       "    <tr>\n",
       "      <th>cylinders</th>\n",
       "      <td>-0.777618</td>\n",
       "      <td>1.000000</td>\n",
       "      <td>0.950823</td>\n",
       "      <td>0.842983</td>\n",
       "      <td>0.897527</td>\n",
       "      <td>-0.504683</td>\n",
       "      <td>-0.345647</td>\n",
       "    </tr>\n",
       "    <tr>\n",
       "      <th>displacement</th>\n",
       "      <td>-0.805127</td>\n",
       "      <td>0.950823</td>\n",
       "      <td>1.000000</td>\n",
       "      <td>0.897257</td>\n",
       "      <td>0.932994</td>\n",
       "      <td>-0.543800</td>\n",
       "      <td>-0.369855</td>\n",
       "    </tr>\n",
       "    <tr>\n",
       "      <th>horsepower</th>\n",
       "      <td>-0.778427</td>\n",
       "      <td>0.842983</td>\n",
       "      <td>0.897257</td>\n",
       "      <td>1.000000</td>\n",
       "      <td>0.864538</td>\n",
       "      <td>-0.689196</td>\n",
       "      <td>-0.416361</td>\n",
       "    </tr>\n",
       "    <tr>\n",
       "      <th>weight</th>\n",
       "      <td>-0.832244</td>\n",
       "      <td>0.897527</td>\n",
       "      <td>0.932994</td>\n",
       "      <td>0.864538</td>\n",
       "      <td>1.000000</td>\n",
       "      <td>-0.416839</td>\n",
       "      <td>-0.309120</td>\n",
       "    </tr>\n",
       "    <tr>\n",
       "      <th>acceleration</th>\n",
       "      <td>0.423329</td>\n",
       "      <td>-0.504683</td>\n",
       "      <td>-0.543800</td>\n",
       "      <td>-0.689196</td>\n",
       "      <td>-0.416839</td>\n",
       "      <td>1.000000</td>\n",
       "      <td>0.290316</td>\n",
       "    </tr>\n",
       "    <tr>\n",
       "      <th>model_year</th>\n",
       "      <td>0.580541</td>\n",
       "      <td>-0.345647</td>\n",
       "      <td>-0.369855</td>\n",
       "      <td>-0.416361</td>\n",
       "      <td>-0.309120</td>\n",
       "      <td>0.290316</td>\n",
       "      <td>1.000000</td>\n",
       "    </tr>\n",
       "  </tbody>\n",
       "</table>\n",
       "</div>"
      ],
      "text/plain": [
       "                   mpg  cylinders  displacement  horsepower    weight  \\\n",
       "mpg           1.000000  -0.777618     -0.805127   -0.778427 -0.832244   \n",
       "cylinders    -0.777618   1.000000      0.950823    0.842983  0.897527   \n",
       "displacement -0.805127   0.950823      1.000000    0.897257  0.932994   \n",
       "horsepower   -0.778427   0.842983      0.897257    1.000000  0.864538   \n",
       "weight       -0.832244   0.897527      0.932994    0.864538  1.000000   \n",
       "acceleration  0.423329  -0.504683     -0.543800   -0.689196 -0.416839   \n",
       "model_year    0.580541  -0.345647     -0.369855   -0.416361 -0.309120   \n",
       "\n",
       "              acceleration  model_year  \n",
       "mpg               0.423329    0.580541  \n",
       "cylinders        -0.504683   -0.345647  \n",
       "displacement     -0.543800   -0.369855  \n",
       "horsepower       -0.689196   -0.416361  \n",
       "weight           -0.416839   -0.309120  \n",
       "acceleration      1.000000    0.290316  \n",
       "model_year        0.290316    1.000000  "
      ]
     },
     "execution_count": 6,
     "metadata": {},
     "output_type": "execute_result"
    }
   ],
   "source": [
    "# Correlation will show us the relationship -- positive or negative between 2 variables\n",
    "mpg.corr()"
   ]
  },
  {
   "cell_type": "code",
   "execution_count": 7,
   "id": "solved-submission",
   "metadata": {
    "ExecuteTime": {
     "end_time": "2021-05-25T18:13:42.238627Z",
     "start_time": "2021-05-25T18:13:42.235265Z"
    }
   },
   "outputs": [
    {
     "name": "stdout",
     "output_type": "stream",
     "text": [
      "R-Squared =  0.7474254996898221\n"
     ]
    }
   ],
   "source": [
    "##r-squared (r2) is often preferred, from [0 to 1]\n",
    "print('R-Squared = ', (mpg.corr()['weight']['horsepower'])**2)"
   ]
  },
  {
   "cell_type": "code",
   "execution_count": 8,
   "id": "bearing-virgin",
   "metadata": {
    "ExecuteTime": {
     "end_time": "2021-05-25T18:13:44.645473Z",
     "start_time": "2021-05-25T18:13:44.168341Z"
    }
   },
   "outputs": [
    {
     "data": {
      "image/png": "[encoded data removed]",
      "text/plain": [
       "<Figure size 1080x720 with 2 Axes>"
      ]
     },
     "metadata": {
      "needs_background": "light"
     },
     "output_type": "display_data"
    }
   ],
   "source": [
    "# Size matters\n",
    "plt.figure(figsize=(15,10))\n",
    "plt.subplot(2,2,1)\n",
    "sns.regplot(x='horsepower', y='weight', data=mpg, ci=95)\n",
    "plt.subplot(2,2,2)\n",
    "sns.regplot(x='horsepower', y='weight', data=mpg.sample(10, random_state=6), ci=95);"
   ]
  },
  {
   "cell_type": "markdown",
   "id": "honey-violence",
   "metadata": {},
   "source": [
    "### Stats Models"
   ]
  },
  {
   "cell_type": "code",
   "execution_count": 9,
   "id": "recreational-doctor",
   "metadata": {
    "ExecuteTime": {
     "end_time": "2021-05-25T18:13:44.676242Z",
     "start_time": "2021-05-25T18:13:44.674491Z"
    }
   },
   "outputs": [],
   "source": [
    "# DO NOT USE - DOES NOT GIVE INTERCEPT\n",
    "# import statsmodels.api as sm\n",
    "# Y = mpg['weight']\n",
    "# X = mpg['horsepower']\n",
    "# model = sm.OLS(Y, X).fit() # Finds the best beta\n",
    "# print(model.params)"
   ]
  },
  {
   "cell_type": "code",
   "execution_count": 10,
   "id": "solar-complexity",
   "metadata": {
    "ExecuteTime": {
     "end_time": "2021-05-25T18:13:46.390956Z",
     "start_time": "2021-05-25T18:13:46.285444Z"
    }
   },
   "outputs": [
    {
     "name": "stdout",
     "output_type": "stream",
     "text": [
      "R2 0.7474254996898198\n",
      "Intercept     984.500327\n",
      "horsepower     19.078162\n",
      "dtype: float64\n"
     ]
    },
    {
     "data": {
      "text/plain": [
       "0    3464.661329\n",
       "1    4132.396983\n",
       "2    3846.224560\n",
       "3    3846.224560\n",
       "4    3655.442944\n",
       "dtype: float64"
      ]
     },
     "execution_count": 10,
     "metadata": {},
     "output_type": "execute_result"
    }
   ],
   "source": [
    "import statsmodels.formula.api as smf\n",
    "\n",
    "model = smf.ols(formula = 'weight ~ horsepower', data=mpg).fit()\n",
    "print('R2', model.rsquared)\n",
    "print(model.params)\n",
    "model.predict(mpg['horsepower']).head()\n"
   ]
  },
  {
   "cell_type": "markdown",
   "id": "global-brunei",
   "metadata": {},
   "source": [
    "### R2 math"
   ]
  },
  {
   "cell_type": "code",
   "execution_count": 11,
   "id": "amazing-estate",
   "metadata": {
    "ExecuteTime": {
     "end_time": "2021-05-25T18:13:48.617060Z",
     "start_time": "2021-05-25T18:13:48.597865Z"
    }
   },
   "outputs": [
    {
     "data": {
      "text/html": [
       "<div>\n",
       "<style scoped>\n",
       "    .dataframe tbody tr th:only-of-type {\n",
       "        vertical-align: middle;\n",
       "    }\n",
       "\n",
       "    .dataframe tbody tr th {\n",
       "        vertical-align: top;\n",
       "    }\n",
       "\n",
       "    .dataframe thead th {\n",
       "        text-align: right;\n",
       "    }\n",
       "</style>\n",
       "<table border=\"1\" class=\"dataframe\">\n",
       "  <thead>\n",
       "    <tr style=\"text-align: right;\">\n",
       "      <th></th>\n",
       "      <th>weight</th>\n",
       "      <th>horsepower</th>\n",
       "      <th>model_predict</th>\n",
       "      <th>mean_predict</th>\n",
       "      <th>v_to_mean</th>\n",
       "      <th>v_to_model</th>\n",
       "    </tr>\n",
       "  </thead>\n",
       "  <tbody>\n",
       "    <tr>\n",
       "      <th>0</th>\n",
       "      <td>3504</td>\n",
       "      <td>130</td>\n",
       "      <td>3465</td>\n",
       "      <td>2978</td>\n",
       "      <td>277114</td>\n",
       "      <td>1548</td>\n",
       "    </tr>\n",
       "    <tr>\n",
       "      <th>1</th>\n",
       "      <td>3693</td>\n",
       "      <td>165</td>\n",
       "      <td>4132</td>\n",
       "      <td>2978</td>\n",
       "      <td>511820</td>\n",
       "      <td>193070</td>\n",
       "    </tr>\n",
       "    <tr>\n",
       "      <th>2</th>\n",
       "      <td>3436</td>\n",
       "      <td>150</td>\n",
       "      <td>3846</td>\n",
       "      <td>2978</td>\n",
       "      <td>210145</td>\n",
       "      <td>168284</td>\n",
       "    </tr>\n",
       "    <tr>\n",
       "      <th>3</th>\n",
       "      <td>3433</td>\n",
       "      <td>150</td>\n",
       "      <td>3846</td>\n",
       "      <td>2978</td>\n",
       "      <td>207404</td>\n",
       "      <td>170755</td>\n",
       "    </tr>\n",
       "    <tr>\n",
       "      <th>4</th>\n",
       "      <td>3449</td>\n",
       "      <td>140</td>\n",
       "      <td>3655</td>\n",
       "      <td>2978</td>\n",
       "      <td>222233</td>\n",
       "      <td>42619</td>\n",
       "    </tr>\n",
       "  </tbody>\n",
       "</table>\n",
       "</div>"
      ],
      "text/plain": [
       "   weight  horsepower  model_predict  mean_predict  v_to_mean  v_to_model\n",
       "0    3504         130           3465          2978     277114        1548\n",
       "1    3693         165           4132          2978     511820      193070\n",
       "2    3436         150           3846          2978     210145      168284\n",
       "3    3433         150           3846          2978     207404      170755\n",
       "4    3449         140           3655          2978     222233       42619"
      ]
     },
     "metadata": {},
     "output_type": "display_data"
    },
    {
     "name": "stdout",
     "output_type": "stream",
     "text": [
      "Total variance to Mean:  282,100,515\n",
      "Total variance to Model:  71,251,399\n",
      "Total Variance in y explained by model -- R2:  0.7474254912296066\n"
     ]
    }
   ],
   "source": [
    "mpg = mpg[['weight', 'horsepower']].copy()\n",
    "# Create a column with model predictions\n",
    "mpg['model_predict'] = model.predict(mpg['horsepower']) \n",
    "# Create a column with the mean of Y\n",
    "mpg['mean_predict'] = mpg['weight'].mean()\n",
    "# Calculate actuals variance to both mean and prediction\n",
    "mpg['v_to_mean'] = (mpg['weight'] - mpg['mean_predict'])**2\n",
    "mpg['v_to_model'] = (mpg['weight'] - mpg['model_predict'])**2\n",
    "# round everything\n",
    "mpg = mpg.applymap(round)\n",
    "# get our total variances\n",
    "total_v_to_mean = mpg.v_to_mean.sum()\n",
    "total_v_to_model = mpg.v_to_model.sum()\n",
    "\n",
    "display(mpg.head())\n",
    "print('Total variance to Mean: ', '{:,}'.format(total_v_to_mean))\n",
    "print('Total variance to Model: ', '{:,}'.format(total_v_to_model))\n",
    "print('Total Variance in y explained by model -- R2: ', 1 - total_v_to_model / total_v_to_mean) "
   ]
  },
  {
   "cell_type": "code",
   "execution_count": 12,
   "id": "chief-august",
   "metadata": {
    "ExecuteTime": {
     "end_time": "2021-05-25T18:13:48.771356Z",
     "start_time": "2021-05-25T18:13:48.759579Z"
    }
   },
   "outputs": [
    {
     "name": "stdout",
     "output_type": "stream",
     "text": [
      "                            OLS Regression Results                            \n",
      "==============================================================================\n",
      "Dep. Variable:                 weight   R-squared:                       0.747\n",
      "Model:                            OLS   Adj. R-squared:                  0.747\n",
      "Method:                 Least Squares   F-statistic:                     1154.\n",
      "Date:                Tue, 25 May 2021   Prob (F-statistic):          1.36e-118\n",
      "Time:                        19:13:48   Log-Likelihood:                -2929.9\n",
      "No. Observations:                 392   AIC:                             5864.\n",
      "Df Residuals:                     390   BIC:                             5872.\n",
      "Df Model:                           1                                         \n",
      "Covariance Type:            nonrobust                                         \n",
      "==============================================================================\n",
      "                 coef    std err          t      P>|t|      [0.025      0.975]\n",
      "------------------------------------------------------------------------------\n",
      "Intercept    984.5003     62.514     15.748      0.000     861.593    1107.408\n",
      "horsepower    19.0782      0.562     33.972      0.000      17.974      20.182\n",
      "==============================================================================\n",
      "Omnibus:                       11.785   Durbin-Watson:                   0.933\n",
      "Prob(Omnibus):                  0.003   Jarque-Bera (JB):               21.895\n",
      "Skew:                           0.109   Prob(JB):                     1.76e-05\n",
      "Kurtosis:                       4.137   Cond. No.                         322.\n",
      "==============================================================================\n",
      "\n",
      "Warnings:\n",
      "[1] Standard Errors assume that the covariance matrix of the errors is correctly specified.\n"
     ]
    }
   ],
   "source": [
    "# P value most important.  Is it possible to get 19 if true slope is actually 0 (H0)\n",
    "print(model.summary())"
   ]
  },
  {
   "cell_type": "code",
   "execution_count": 13,
   "id": "pursuant-kuwait",
   "metadata": {
    "ExecuteTime": {
     "end_time": "2021-05-22T09:09:46.959743Z",
     "start_time": "2021-05-22T09:09:46.778042Z"
    }
   },
   "outputs": [
    {
     "data": {
      "image/png": "[encoded data removed]",
      "text/plain": [
       "<Figure size 432x288 with 1 Axes>"
      ]
     },
     "metadata": {
      "needs_background": "light"
     },
     "output_type": "display_data"
    }
   ],
   "source": [
    "# check residuals for aprox normal distribution\n",
    "residuals = mpg['model_predict']-mpg['weight']\n",
    "sns.histplot(residuals, kde=True, edgecolor='w');"
   ]
  },
  {
   "cell_type": "code",
   "execution_count": 14,
   "id": "lesbian-welcome",
   "metadata": {
    "ExecuteTime": {
     "end_time": "2021-05-22T09:09:49.820732Z",
     "start_time": "2021-05-22T09:09:49.654137Z"
    }
   },
   "outputs": [
    {
     "data": {
      "text/plain": [
       "Text(0, 0.5, 'Residual weight')"
      ]
     },
     "execution_count": 14,
     "metadata": {},
     "output_type": "execute_result"
    },
    {
     "data": {
      "image/png": "[encoded data removed]",
      "text/plain": [
       "<Figure size 432x288 with 1 Axes>"
      ]
     },
     "metadata": {
      "needs_background": "light"
     },
     "output_type": "display_data"
    }
   ],
   "source": [
    "# Check with Residuals vs. Fitted scatterplot\n",
    "sns.scatterplot(x=mpg['model_predict'], y=residuals)\n",
    "plt.xlabel('Predicted weight')\n",
    "plt.ylabel('Residual weight')"
   ]
  },
  {
   "cell_type": "code",
   "execution_count": null,
   "id": "separate-front",
   "metadata": {},
   "outputs": [],
   "source": []
  }
 ],
 "metadata": {
  "kernelspec": {
   "display_name": "Python 3",
   "language": "python",
   "name": "python3"
  },
  "language_info": {
   "codemirror_mode": {
    "name": "ipython",
    "version": 3
   },
   "file_extension": ".py",
   "mimetype": "text/x-python",
   "name": "python",
   "nbconvert_exporter": "python",
   "pygments_lexer": "ipython3",
   "version": "3.7.7"
  },
  "toc": {
   "base_numbering": 1,
   "nav_menu": {},
   "number_sections": true,
   "sideBar": true,
   "skip_h1_title": false,
   "title_cell": "Table of Contents",
   "title_sidebar": "Contents",
   "toc_cell": false,
   "toc_position": {},
   "toc_section_display": true,
   "toc_window_display": false
  },
  "varInspector": {
   "cols": {
    "lenName": 16,
    "lenType": 16,
    "lenVar": 40
   },
   "kernels_config": {
    "python": {
     "delete_cmd_postfix": "",
     "delete_cmd_prefix": "del ",
     "library": "var_list.py",
     "varRefreshCmd": "print(var_dic_list())"
    },
    "r": {
     "delete_cmd_postfix": ") ",
     "delete_cmd_prefix": "rm(",
     "library": "var_list.r",
     "varRefreshCmd": "cat(var_dic_list()) "
    }
   },
   "types_to_exclude": [
    "module",
    "function",
    "builtin_function_or_method",
    "instance",
    "_Feature"
   ],
   "window_display": false
  }
 },
 "nbformat": 4,
 "nbformat_minor": 5
}
