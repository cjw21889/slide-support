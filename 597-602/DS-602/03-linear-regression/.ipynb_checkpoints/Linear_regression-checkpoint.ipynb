{
 "cells": [
  {
   "cell_type": "code",
   "execution_count": null,
   "id": "aging-pointer",
   "metadata": {
    "ExecuteTime": {
     "end_time": "2021-05-22T08:52:17.508925Z",
     "start_time": "2021-05-22T08:52:16.438061Z"
    }
   },
   "outputs": [],
   "source": [
    "import pandas as pd\n",
    "import numpy as np\n",
    "import matplotlib.pyplot as plt\n",
    "import seaborn as sns"
   ]
  },
  {
   "cell_type": "markdown",
   "id": "aboriginal-austria",
   "metadata": {},
   "source": [
    "## Explore our Dataset "
   ]
  },
  {
   "cell_type": "code",
   "execution_count": null,
   "id": "funky-japan",
   "metadata": {
    "ExecuteTime": {
     "end_time": "2021-05-22T08:52:17.558497Z",
     "start_time": "2021-05-22T08:52:17.528863Z"
    }
   },
   "outputs": [],
   "source": [
    "# load from seaborn\n",
    "mpg = sns.load_dataset(\"mpg\").dropna()\n",
    "mpg.head()"
   ]
  },
  {
   "cell_type": "code",
   "execution_count": null,
   "id": "incorporate-insured",
   "metadata": {
    "ExecuteTime": {
     "end_time": "2021-05-22T08:52:18.354260Z",
     "start_time": "2021-05-22T08:52:18.325678Z"
    }
   },
   "outputs": [],
   "source": [
    "# round all our values\n",
    "mpg.describe().applymap(round)"
   ]
  },
  {
   "cell_type": "code",
   "execution_count": null,
   "id": "assigned-chapter",
   "metadata": {
    "ExecuteTime": {
     "end_time": "2021-05-22T08:52:19.157790Z",
     "start_time": "2021-05-22T08:52:19.000074Z"
    }
   },
   "outputs": [],
   "source": [
    "# visualize potential correlation\n",
    "sns.scatterplot(x='horsepower', y='weight', data=mpg);"
   ]
  },
  {
   "cell_type": "markdown",
   "id": "isolated-apparel",
   "metadata": {},
   "source": [
    "## Linear Regression time\n",
    "[Least Square vis demo](https://setosa.io/ev/ordinary-least-squares-regression/)"
   ]
  },
  {
   "cell_type": "markdown",
   "id": "funded-violin",
   "metadata": {},
   "source": [
    "### Visually"
   ]
  },
  {
   "cell_type": "code",
   "execution_count": null,
   "id": "japanese-environment",
   "metadata": {
    "ExecuteTime": {
     "end_time": "2021-05-22T08:52:20.854052Z",
     "start_time": "2021-05-22T08:52:20.625967Z"
    }
   },
   "outputs": [],
   "source": [
    "# Visually\n",
    "sns.regplot(x='horsepower', y='weight', data=mpg);"
   ]
  },
  {
   "cell_type": "code",
   "execution_count": null,
   "id": "arranged-newfoundland",
   "metadata": {
    "ExecuteTime": {
     "end_time": "2021-05-22T08:52:21.276314Z",
     "start_time": "2021-05-22T08:52:21.263927Z"
    }
   },
   "outputs": [],
   "source": [
    "# Correlation will show us the relationship -- positive or negative between 2 variables\n",
    "mpg.corr()"
   ]
  },
  {
   "cell_type": "code",
   "execution_count": null,
   "id": "solved-submission",
   "metadata": {
    "ExecuteTime": {
     "end_time": "2021-05-22T08:52:21.903219Z",
     "start_time": "2021-05-22T08:52:21.899325Z"
    }
   },
   "outputs": [],
   "source": [
    "##r-squared (r2) is often preferred, from [0 to 1]\n",
    "print('R-Squared = ', (mpg.corr()['weight']['horsepower'])**2)"
   ]
  },
  {
   "cell_type": "code",
   "execution_count": null,
   "id": "bearing-virgin",
   "metadata": {
    "ExecuteTime": {
     "end_time": "2021-05-22T08:52:23.098377Z",
     "start_time": "2021-05-22T08:52:22.685036Z"
    }
   },
   "outputs": [],
   "source": [
    "# Size matters\n",
    "plt.figure(figsize=(15,10))\n",
    "plt.subplot(2,2,1)\n",
    "sns.regplot(x='horsepower', y='weight', data=mpg, ci=95)\n",
    "plt.subplot(2,2,2)\n",
    "sns.regplot(x='horsepower', y='weight', data=mpg.sample(10, random_state=6), ci=95);"
   ]
  },
  {
   "cell_type": "markdown",
   "id": "honey-violence",
   "metadata": {},
   "source": [
    "### Stats Models"
   ]
  },
  {
   "cell_type": "code",
   "execution_count": null,
   "id": "recreational-doctor",
   "metadata": {
    "ExecuteTime": {
     "end_time": "2021-05-22T08:52:24.083359Z",
     "start_time": "2021-05-22T08:52:24.081138Z"
    }
   },
   "outputs": [],
   "source": [
    "# DO NOT USE - DOES NOT GIVE INTERCEPT\n",
    "# import statsmodels.api as sm\n",
    "# Y = mpg['weight']\n",
    "# X = mpg['horsepower']\n",
    "# model = sm.OLS(Y, X).fit() # Finds the best beta\n",
    "# print(model.params)"
   ]
  },
  {
   "cell_type": "code",
   "execution_count": null,
   "id": "solar-complexity",
   "metadata": {
    "ExecuteTime": {
     "end_time": "2021-05-22T08:52:24.619886Z",
     "start_time": "2021-05-22T08:52:24.488999Z"
    }
   },
   "outputs": [],
   "source": [
    "import statsmodels.formula.api as smf\n",
    "\n",
    "model = smf.ols(formula = 'weight ~ horsepower', data=mpg).fit()\n",
    "print('R2', model.rsquared)\n",
    "print(model.params)\n",
    "model.predict(mpg['horsepower']).head()\n"
   ]
  },
  {
   "cell_type": "markdown",
   "id": "global-brunei",
   "metadata": {},
   "source": [
    "### R2 math"
   ]
  },
  {
   "cell_type": "code",
   "execution_count": null,
   "id": "amazing-estate",
   "metadata": {
    "ExecuteTime": {
     "end_time": "2021-05-22T08:52:52.549798Z",
     "start_time": "2021-05-22T08:52:52.529456Z"
    }
   },
   "outputs": [],
   "source": [
    "mpg = mpg[['weight', 'horsepower']].copy()\n",
    "# Create a column with model predictions\n",
    "mpg['model_predict'] = model.predict(mpg['horsepower']) \n",
    "# Create a column with the mean of Y\n",
    "mpg['mean_predict'] = mpg['weight'].mean()\n",
    "# Calculate actuals variance to both mean and prediction\n",
    "mpg['v_to_mean'] = (mpg['weight'] - mpg['mean_predict'])**2\n",
    "mpg['v_to_model'] = (mpg['weight'] - mpg['model_predict'])**2\n",
    "# round everything\n",
    "mpg = mpg.applymap(round)\n",
    "# get our total variances\n",
    "total_v_to_mean = mpg.v_to_mean.sum()\n",
    "total_v_to_model = mpg.v_to_model.sum()\n",
    "\n",
    "display(mpg.head())\n",
    "print('Total variance to Mean: ', '{:,}'.format(total_v_to_mean))\n",
    "print('Total variance to Model: ', '{:,}'.format(total_v_to_model))\n",
    "print('Total Variance in y explained by model -- R2: ', 1 - total_v_to_model / total_v_to_mean) "
   ]
  },
  {
   "cell_type": "code",
   "execution_count": null,
   "id": "chief-august",
   "metadata": {
    "ExecuteTime": {
     "end_time": "2021-05-22T08:53:19.774060Z",
     "start_time": "2021-05-22T08:53:19.757583Z"
    }
   },
   "outputs": [],
   "source": [
    "# P value most important.  Is it possible to get 19 if true slope is actually 0 (H0)\n",
    "model.summary()"
   ]
  },
  {
   "cell_type": "code",
   "execution_count": null,
   "id": "pursuant-kuwait",
   "metadata": {
    "ExecuteTime": {
     "end_time": "2021-05-22T08:53:22.457064Z",
     "start_time": "2021-05-22T08:53:22.277034Z"
    }
   },
   "outputs": [],
   "source": [
    "# check residuals for aprox normal distribution\n",
    "residuals = mpg['model_predict']-mpg['weight']\n",
    "sns.histplot(residuals, kde=True, edgecolor='w');"
   ]
  },
  {
   "cell_type": "code",
   "execution_count": null,
   "id": "lesbian-welcome",
   "metadata": {
    "ExecuteTime": {
     "end_time": "2021-05-22T08:53:23.306778Z",
     "start_time": "2021-05-22T08:53:23.096186Z"
    }
   },
   "outputs": [],
   "source": [
    "# Check with Residuals vs. Fitted scatterplot\n",
    "sns.scatterplot(x=mpg['model_predict'], y=residuals)\n",
    "plt.xlabel('Predicted weight')\n",
    "plt.ylabel('Residual weight')"
   ]
  },
  {
   "cell_type": "code",
   "execution_count": null,
   "id": "separate-front",
   "metadata": {},
   "outputs": [],
   "source": []
  }
 ],
 "metadata": {
  "kernelspec": {
   "display_name": "Python 3",
   "language": "python",
   "name": "python3"
  },
  "language_info": {
   "codemirror_mode": {
    "name": "ipython",
    "version": 3
   },
   "file_extension": ".py",
   "mimetype": "text/x-python",
   "name": "python",
   "nbconvert_exporter": "python",
   "pygments_lexer": "ipython3",
   "version": "3.7.7"
  },
  "toc": {
   "base_numbering": 1,
   "nav_menu": {},
   "number_sections": true,
   "sideBar": true,
   "skip_h1_title": false,
   "title_cell": "Table of Contents",
   "title_sidebar": "Contents",
   "toc_cell": false,
   "toc_position": {},
   "toc_section_display": true,
   "toc_window_display": false
  },
  "varInspector": {
   "cols": {
    "lenName": 16,
    "lenType": 16,
    "lenVar": 40
   },
   "kernels_config": {
    "python": {
     "delete_cmd_postfix": "",
     "delete_cmd_prefix": "del ",
     "library": "var_list.py",
     "varRefreshCmd": "print(var_dic_list())"
    },
    "r": {
     "delete_cmd_postfix": ") ",
     "delete_cmd_prefix": "rm(",
     "library": "var_list.r",
     "varRefreshCmd": "cat(var_dic_list()) "
    }
   },
   "types_to_exclude": [
    "module",
    "function",
    "builtin_function_or_method",
    "instance",
    "_Feature"
   ],
   "window_display": false
  }
 },
 "nbformat": 4,
 "nbformat_minor": 5
}
