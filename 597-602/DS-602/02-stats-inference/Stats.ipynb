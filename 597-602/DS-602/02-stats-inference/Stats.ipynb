{
 "cells": [
  {
   "cell_type": "markdown",
   "id": "laughing-waste",
   "metadata": {},
   "source": [
    "# Hypothesis Testing "
   ]
  },
  {
   "cell_type": "markdown",
   "id": "buried-collapse",
   "metadata": {
    "ExecuteTime": {
     "end_time": "2021-05-18T14:55:28.601585Z",
     "start_time": "2021-05-18T14:55:28.481697Z"
    }
   },
   "source": [
    "![Alt Text](hypothesis.png)"
   ]
  },
  {
   "cell_type": "code",
   "execution_count": 8,
   "id": "specific-prayer",
   "metadata": {
    "ExecuteTime": {
     "end_time": "2021-05-18T14:56:21.591439Z",
     "start_time": "2021-05-18T14:56:21.585793Z"
    }
   },
   "outputs": [
    {
     "data": {
      "text/plain": [
       "(290.2001800772997, 309.7998199227003)"
      ]
     },
     "execution_count": 8,
     "metadata": {},
     "output_type": "execute_result"
    }
   ],
   "source": [
    "from scipy.stats import norm\n",
    "\n",
    "X = norm(300, 5)\n",
    "# If we look at our confidance interval\n",
    "# it's not a clean 290 - 310 (1.96 std)\n",
    "X.interval(0.95)"
   ]
  },
  {
   "cell_type": "code",
   "execution_count": 9,
   "id": "based-geology",
   "metadata": {
    "ExecuteTime": {
     "end_time": "2021-05-18T14:56:51.537854Z",
     "start_time": "2021-05-18T14:56:51.533966Z"
    }
   },
   "outputs": [
    {
     "data": {
      "text/plain": [
       "0.02275013194817921"
      ]
     },
     "execution_count": 9,
     "metadata": {},
     "output_type": "execute_result"
    }
   ],
   "source": [
    "# how much isn't covered by the cumulative distribution function\n",
    "1 - X.cdf(310)"
   ]
  },
  {
   "cell_type": "markdown",
   "id": "romance-aspect",
   "metadata": {},
   "source": [
    "# Bayes Theory "
   ]
  },
  {
   "cell_type": "markdown",
   "id": "excess-transcription",
   "metadata": {},
   "source": [
    "![Alt Text](bayes.png)"
   ]
  },
  {
   "cell_type": "code",
   "execution_count": 11,
   "id": "differential-morris",
   "metadata": {
    "ExecuteTime": {
     "end_time": "2021-05-18T14:57:52.785186Z",
     "start_time": "2021-05-18T14:57:52.782572Z"
    }
   },
   "outputs": [],
   "source": [
    "# We are using pre concieved opinions to avoid over emphasising results"
   ]
  },
  {
   "cell_type": "code",
   "execution_count": null,
   "id": "laden-representative",
   "metadata": {},
   "outputs": [],
   "source": []
  }
 ],
 "metadata": {
  "kernelspec": {
   "display_name": "Python 3",
   "language": "python",
   "name": "python3"
  },
  "language_info": {
   "codemirror_mode": {
    "name": "ipython",
    "version": 3
   },
   "file_extension": ".py",
   "mimetype": "text/x-python",
   "name": "python",
   "nbconvert_exporter": "python",
   "pygments_lexer": "ipython3",
   "version": "3.7.7"
  },
  "toc": {
   "base_numbering": 1,
   "nav_menu": {},
   "number_sections": true,
   "sideBar": true,
   "skip_h1_title": false,
   "title_cell": "Table of Contents",
   "title_sidebar": "Contents",
   "toc_cell": false,
   "toc_position": {},
   "toc_section_display": true,
   "toc_window_display": false
  },
  "varInspector": {
   "cols": {
    "lenName": 16,
    "lenType": 16,
    "lenVar": 40
   },
   "kernels_config": {
    "python": {
     "delete_cmd_postfix": "",
     "delete_cmd_prefix": "del ",
     "library": "var_list.py",
     "varRefreshCmd": "print(var_dic_list())"
    },
    "r": {
     "delete_cmd_postfix": ") ",
     "delete_cmd_prefix": "rm(",
     "library": "var_list.r",
     "varRefreshCmd": "cat(var_dic_list()) "
    }
   },
   "types_to_exclude": [
    "module",
    "function",
    "builtin_function_or_method",
    "instance",
    "_Feature"
   ],
   "window_display": false
  }
 },
 "nbformat": 4,
 "nbformat_minor": 5
}
