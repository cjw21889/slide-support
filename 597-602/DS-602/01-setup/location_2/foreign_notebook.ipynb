{
 "cells": [
  {
   "cell_type": "code",
   "execution_count": 1,
   "id": "prime-tablet",
   "metadata": {
    "ExecuteTime": {
     "end_time": "2021-11-05T12:40:34.521494Z",
     "start_time": "2021-11-05T12:40:34.290119Z"
    }
   },
   "outputs": [],
   "source": [
    "# Normal Package imports \n",
    "import pandas as pd\n",
    "import numpy as np"
   ]
  },
  {
   "cell_type": "code",
   "execution_count": 2,
   "id": "raising-karma",
   "metadata": {
    "ExecuteTime": {
     "end_time": "2021-11-05T12:40:37.951329Z",
     "start_time": "2021-11-05T12:40:37.930425Z"
    }
   },
   "outputs": [
    {
     "data": {
      "text/plain": [
       "'/Users/chriswesterman/.pyenv/versions/3.8.12/envs/lw3.8.12/lib/python3.8/site-packages/pandas/__init__.py'"
      ]
     },
     "metadata": {},
     "output_type": "display_data"
    },
    {
     "data": {
      "text/plain": [
       "'/Users/chriswesterman/.pyenv/versions/3.8.12/envs/lw3.8.12/lib/python3.8/site-packages/numpy/__init__.py'"
      ]
     },
     "metadata": {},
     "output_type": "display_data"
    }
   ],
   "source": [
    "# Still coming from the same place\n",
    "display(pd.__file__)\n",
    "display(np.__file__)"
   ]
  },
  {
   "cell_type": "code",
   "execution_count": 3,
   "id": "mysterious-saudi",
   "metadata": {
    "ExecuteTime": {
     "end_time": "2021-11-05T12:40:42.709667Z",
     "start_time": "2021-11-05T12:40:42.703562Z"
    }
   },
   "outputs": [
    {
     "data": {
      "text/plain": [
       "['/Users/chriswesterman/code/lewagon-teaching/slide-support/597-602/DS-602/01-setup/location_2',\n",
       " '/Users/chriswesterman/.pyenv/versions/3.8.12/lib/python38.zip',\n",
       " '/Users/chriswesterman/.pyenv/versions/3.8.12/lib/python3.8',\n",
       " '/Users/chriswesterman/.pyenv/versions/3.8.12/lib/python3.8/lib-dynload',\n",
       " '',\n",
       " '/Users/chriswesterman/.pyenv/versions/3.8.12/envs/lw3.8.12/lib/python3.8/site-packages',\n",
       " '/Users/chriswesterman/.pyenv/versions/3.8.12/envs/lw3.8.12/lib/python3.8/site-packages/IPython/extensions',\n",
       " '/Users/chriswesterman/.ipython']"
      ]
     },
     "execution_count": 3,
     "metadata": {},
     "output_type": "execute_result"
    }
   ],
   "source": [
    "# my new path from this notebooks location\n",
    "import sys\n",
    "sys.path"
   ]
  },
  {
   "cell_type": "code",
   "execution_count": 4,
   "id": "ecological-delhi",
   "metadata": {
    "ExecuteTime": {
     "end_time": "2021-11-05T12:40:44.194381Z",
     "start_time": "2021-11-05T12:40:44.056397Z"
    }
   },
   "outputs": [
    {
     "ename": "ModuleNotFoundError",
     "evalue": "No module named 'olist'",
     "output_type": "error",
     "traceback": [
      "\u001b[0;31m---------------------------------------------------------------------------\u001b[0m",
      "\u001b[0;31mModuleNotFoundError\u001b[0m                       Traceback (most recent call last)",
      "\u001b[0;32m/var/folders/by/sqw19tg50853773zmblf3w6m0000gn/T/ipykernel_66341/1227241297.py\u001b[0m in \u001b[0;36m<module>\u001b[0;34m\u001b[0m\n\u001b[1;32m      1\u001b[0m \u001b[0;31m# Now am I able to find this?\u001b[0m\u001b[0;34m\u001b[0m\u001b[0;34m\u001b[0m\u001b[0;34m\u001b[0m\u001b[0m\n\u001b[0;32m----> 2\u001b[0;31m \u001b[0;32mfrom\u001b[0m \u001b[0molist\u001b[0m \u001b[0;32mimport\u001b[0m \u001b[0mdata\u001b[0m\u001b[0;34m\u001b[0m\u001b[0;34m\u001b[0m\u001b[0m\n\u001b[0m",
      "\u001b[0;31mModuleNotFoundError\u001b[0m: No module named 'olist'"
     ]
    }
   ],
   "source": [
    "# Now am I able to find this?\n",
    "from olist import data"
   ]
  },
  {
   "cell_type": "markdown",
   "id": "e17d844e",
   "metadata": {},
   "source": [
    "How do we get olist into our path?"
   ]
  },
  {
   "cell_type": "code",
   "execution_count": null,
   "id": "expensive-parade",
   "metadata": {
    "ExecuteTime": {
     "end_time": "2021-05-15T08:48:26.793390Z",
     "start_time": "2021-05-15T08:48:26.786767Z"
    }
   },
   "outputs": [],
   "source": [
    "data.__file__"
   ]
  },
  {
   "cell_type": "code",
   "execution_count": null,
   "id": "imperial-mechanics",
   "metadata": {
    "ExecuteTime": {
     "end_time": "2021-05-15T08:48:27.413825Z",
     "start_time": "2021-05-15T08:48:27.407518Z"
    }
   },
   "outputs": [],
   "source": [
    "data.hello()"
   ]
  },
  {
   "cell_type": "code",
   "execution_count": null,
   "id": "unlimited-maine",
   "metadata": {},
   "outputs": [],
   "source": []
  }
 ],
 "metadata": {
  "kernelspec": {
   "display_name": "Python 3 (ipykernel)",
   "language": "python",
   "name": "python3"
  },
  "language_info": {
   "codemirror_mode": {
    "name": "ipython",
    "version": 3
   },
   "file_extension": ".py",
   "mimetype": "text/x-python",
   "name": "python",
   "nbconvert_exporter": "python",
   "pygments_lexer": "ipython3",
   "version": "3.8.12"
  },
  "toc": {
   "base_numbering": 1,
   "nav_menu": {},
   "number_sections": true,
   "sideBar": true,
   "skip_h1_title": false,
   "title_cell": "Table of Contents",
   "title_sidebar": "Contents",
   "toc_cell": false,
   "toc_position": {},
   "toc_section_display": true,
   "toc_window_display": false
  },
  "varInspector": {
   "cols": {
    "lenName": 16,
    "lenType": 16,
    "lenVar": 40
   },
   "kernels_config": {
    "python": {
     "delete_cmd_postfix": "",
     "delete_cmd_prefix": "del ",
     "library": "var_list.py",
     "varRefreshCmd": "print(var_dic_list())"
    },
    "r": {
     "delete_cmd_postfix": ") ",
     "delete_cmd_prefix": "rm(",
     "library": "var_list.r",
     "varRefreshCmd": "cat(var_dic_list()) "
    }
   },
   "types_to_exclude": [
    "module",
    "function",
    "builtin_function_or_method",
    "instance",
    "_Feature"
   ],
   "window_display": false
  }
 },
 "nbformat": 4,
 "nbformat_minor": 5
}
