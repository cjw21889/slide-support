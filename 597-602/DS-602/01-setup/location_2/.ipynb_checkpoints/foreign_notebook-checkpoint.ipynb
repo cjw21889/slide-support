{
 "cells": [
  {
   "cell_type": "code",
   "execution_count": null,
   "id": "prime-tablet",
   "metadata": {
    "ExecuteTime": {
     "end_time": "2021-05-15T08:48:05.452856Z",
     "start_time": "2021-05-15T08:48:05.229514Z"
    }
   },
   "outputs": [],
   "source": [
    "# Normal Package imports \n",
    "import pandas as pd\n",
    "import numpy as np"
   ]
  },
  {
   "cell_type": "code",
   "execution_count": null,
   "id": "raising-karma",
   "metadata": {
    "ExecuteTime": {
     "end_time": "2021-05-15T08:48:06.090949Z",
     "start_time": "2021-05-15T08:48:06.080443Z"
    }
   },
   "outputs": [],
   "source": [
    "# Still coming from the same place\n",
    "display(pd.__file__)\n",
    "display(np.__file__)"
   ]
  },
  {
   "cell_type": "code",
   "execution_count": null,
   "id": "mysterious-saudi",
   "metadata": {
    "ExecuteTime": {
     "end_time": "2021-05-15T08:48:08.067861Z",
     "start_time": "2021-05-15T08:48:08.064038Z"
    }
   },
   "outputs": [],
   "source": [
    "# my new path from this notebooks location\n",
    "import sys\n",
    "sys.path"
   ]
  },
  {
   "cell_type": "code",
   "execution_count": null,
   "id": "ecological-delhi",
   "metadata": {
    "ExecuteTime": {
     "end_time": "2021-05-15T08:48:26.006157Z",
     "start_time": "2021-05-15T08:48:25.999272Z"
    }
   },
   "outputs": [],
   "source": [
    "# Now am I able to find this?\n",
    "from olist import data"
   ]
  },
  {
   "cell_type": "code",
   "execution_count": null,
   "id": "expensive-parade",
   "metadata": {
    "ExecuteTime": {
     "end_time": "2021-05-15T08:48:26.793390Z",
     "start_time": "2021-05-15T08:48:26.786767Z"
    }
   },
   "outputs": [],
   "source": [
    "data.__file__"
   ]
  },
  {
   "cell_type": "code",
   "execution_count": null,
   "id": "imperial-mechanics",
   "metadata": {
    "ExecuteTime": {
     "end_time": "2021-05-15T08:48:27.413825Z",
     "start_time": "2021-05-15T08:48:27.407518Z"
    }
   },
   "outputs": [],
   "source": [
    "data.hello()"
   ]
  },
  {
   "cell_type": "code",
   "execution_count": null,
   "id": "unlimited-maine",
   "metadata": {},
   "outputs": [],
   "source": []
  }
 ],
 "metadata": {
  "kernelspec": {
   "display_name": "Python 3",
   "language": "python",
   "name": "python3"
  },
  "language_info": {
   "codemirror_mode": {
    "name": "ipython",
    "version": 3
   },
   "file_extension": ".py",
   "mimetype": "text/x-python",
   "name": "python",
   "nbconvert_exporter": "python",
   "pygments_lexer": "ipython3",
   "version": "3.7.7"
  },
  "toc": {
   "base_numbering": 1,
   "nav_menu": {},
   "number_sections": true,
   "sideBar": true,
   "skip_h1_title": false,
   "title_cell": "Table of Contents",
   "title_sidebar": "Contents",
   "toc_cell": false,
   "toc_position": {},
   "toc_section_display": true,
   "toc_window_display": false
  },
  "varInspector": {
   "cols": {
    "lenName": 16,
    "lenType": 16,
    "lenVar": 40
   },
   "kernels_config": {
    "python": {
     "delete_cmd_postfix": "",
     "delete_cmd_prefix": "del ",
     "library": "var_list.py",
     "varRefreshCmd": "print(var_dic_list())"
    },
    "r": {
     "delete_cmd_postfix": ") ",
     "delete_cmd_prefix": "rm(",
     "library": "var_list.r",
     "varRefreshCmd": "cat(var_dic_list()) "
    }
   },
   "types_to_exclude": [
    "module",
    "function",
    "builtin_function_or_method",
    "instance",
    "_Feature"
   ],
   "window_display": false
  }
 },
 "nbformat": 4,
 "nbformat_minor": 5
}
