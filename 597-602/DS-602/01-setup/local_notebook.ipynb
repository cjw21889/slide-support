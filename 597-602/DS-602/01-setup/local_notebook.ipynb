{
 "cells": [
  {
   "cell_type": "code",
   "execution_count": 1,
   "id": "documentary-romance",
   "metadata": {
    "ExecuteTime": {
     "end_time": "2021-05-15T09:05:57.501758Z",
     "start_time": "2021-05-15T09:05:57.237861Z"
    }
   },
   "outputs": [],
   "source": [
    "# Normal Package imports\n",
    "import pandas as pd\n",
    "import numpy as np\n"
   ]
  },
  {
   "cell_type": "code",
   "execution_count": 2,
   "id": "metropolitan-russia",
   "metadata": {
    "ExecuteTime": {
     "end_time": "2021-05-15T09:06:18.751759Z",
     "start_time": "2021-05-15T09:06:18.741213Z"
    }
   },
   "outputs": [
    {
     "data": {
      "text/plain": [
       "'/Users/chriswesterman/.pyenv/versions/3.7.7/envs/lewagon/lib/python3.7/site-packages/pandas/__init__.py'"
      ]
     },
     "metadata": {},
     "output_type": "display_data"
    },
    {
     "data": {
      "text/plain": [
       "'/Users/chriswesterman/.pyenv/versions/3.7.7/envs/lewagon/lib/python3.7/site-packages/numpy/__init__.py'"
      ]
     },
     "metadata": {},
     "output_type": "display_data"
    }
   ],
   "source": [
    "# Where are all these awesome functions and classes coming from\n",
    "display(pd.__file__)\n",
    "display(np.__file__)"
   ]
  },
  {
   "cell_type": "code",
   "execution_count": 3,
   "id": "loose-split",
   "metadata": {
    "ExecuteTime": {
     "end_time": "2021-05-15T09:06:55.378893Z",
     "start_time": "2021-05-15T09:06:55.372589Z"
    }
   },
   "outputs": [
    {
     "data": {
      "text/plain": [
       "'/Users/chriswesterman/code/lewagon-teaching/slide-support/DS-602/olist/data.py'"
      ]
     },
     "metadata": {},
     "output_type": "display_data"
    },
    {
     "data": {
      "text/plain": [
       "'hello from data.py'"
      ]
     },
     "execution_count": 3,
     "metadata": {},
     "output_type": "execute_result"
    }
   ],
   "source": [
    "# What about my local awesome function\n",
    "from olist import data\n",
    "display(data.__file__)\n",
    "data.hello()"
   ]
  },
  {
   "cell_type": "code",
   "execution_count": 4,
   "id": "wrapped-deputy",
   "metadata": {
    "ExecuteTime": {
     "end_time": "2021-05-15T09:07:19.651047Z",
     "start_time": "2021-05-15T09:07:19.647540Z"
    }
   },
   "outputs": [
    {
     "data": {
      "text/plain": [
       "['/Users/chriswesterman/code/lewagon-teaching/slide-support/DS-602',\n",
       " '/Users/chriswesterman/.pyenv/versions/3.7.7/lib/python37.zip',\n",
       " '/Users/chriswesterman/.pyenv/versions/3.7.7/lib/python3.7',\n",
       " '/Users/chriswesterman/.pyenv/versions/3.7.7/lib/python3.7/lib-dynload',\n",
       " '',\n",
       " '/Users/chriswesterman/.pyenv/versions/3.7.7/envs/lewagon/lib/python3.7/site-packages',\n",
       " '/Users/chriswesterman/.pyenv/versions/3.7.7/envs/lewagon/lib/python3.7/site-packages/IPython/extensions',\n",
       " '/Users/chriswesterman/.ipython']"
      ]
     },
     "execution_count": 4,
     "metadata": {},
     "output_type": "execute_result"
    }
   ],
   "source": [
    "# How does python know where to find my import\n",
    "import sys\n",
    "sys.path"
   ]
  },
  {
   "cell_type": "code",
   "execution_count": null,
   "id": "worthy-border",
   "metadata": {},
   "outputs": [],
   "source": []
  }
 ],
 "metadata": {
  "kernelspec": {
   "display_name": "Python 3",
   "language": "python",
   "name": "python3"
  },
  "language_info": {
   "codemirror_mode": {
    "name": "ipython",
    "version": 3
   },
   "file_extension": ".py",
   "mimetype": "text/x-python",
   "name": "python",
   "nbconvert_exporter": "python",
   "pygments_lexer": "ipython3",
   "version": "3.7.7"
  },
  "toc": {
   "base_numbering": 1,
   "nav_menu": {},
   "number_sections": true,
   "sideBar": true,
   "skip_h1_title": false,
   "title_cell": "Table of Contents",
   "title_sidebar": "Contents",
   "toc_cell": false,
   "toc_position": {},
   "toc_section_display": true,
   "toc_window_display": false
  },
  "varInspector": {
   "cols": {
    "lenName": 16,
    "lenType": 16,
    "lenVar": 40
   },
   "kernels_config": {
    "python": {
     "delete_cmd_postfix": "",
     "delete_cmd_prefix": "del ",
     "library": "var_list.py",
     "varRefreshCmd": "print(var_dic_list())"
    },
    "r": {
     "delete_cmd_postfix": ") ",
     "delete_cmd_prefix": "rm(",
     "library": "var_list.r",
     "varRefreshCmd": "cat(var_dic_list()) "
    }
   },
   "types_to_exclude": [
    "module",
    "function",
    "builtin_function_or_method",
    "instance",
    "_Feature"
   ],
   "window_display": false
  }
 },
 "nbformat": 4,
 "nbformat_minor": 5
}
