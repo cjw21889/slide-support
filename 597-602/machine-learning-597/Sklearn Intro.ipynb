{
 "cells": [
  {
   "cell_type": "markdown",
   "id": "israeli-croatia",
   "metadata": {},
   "source": [
    "# Sklearn Intro"
   ]
  },
  {
   "cell_type": "code",
   "execution_count": 1,
   "id": "finite-intention",
   "metadata": {
    "ExecuteTime": {
     "end_time": "2021-05-10T08:24:51.964281Z",
     "start_time": "2021-05-10T08:24:51.231524Z"
    }
   },
   "outputs": [],
   "source": [
    "# imports\n",
    "import pandas as pd\n",
    "import seaborn as sns\n",
    "import numpy as np\n",
    "import matplotlib.pyplot as plt\n"
   ]
  },
  {
   "cell_type": "markdown",
   "id": "endless-cancellation",
   "metadata": {
    "heading_collapsed": true
   },
   "source": [
    "## Data exploration "
   ]
  },
  {
   "cell_type": "code",
   "execution_count": 2,
   "id": "normal-listening",
   "metadata": {
    "ExecuteTime": {
     "end_time": "2021-05-10T08:24:53.185286Z",
     "start_time": "2021-05-10T08:24:53.135165Z"
    },
    "hidden": true
   },
   "outputs": [
    {
     "data": {
      "text/html": [
       "<div>\n",
       "<style scoped>\n",
       "    .dataframe tbody tr th:only-of-type {\n",
       "        vertical-align: middle;\n",
       "    }\n",
       "\n",
       "    .dataframe tbody tr th {\n",
       "        vertical-align: top;\n",
       "    }\n",
       "\n",
       "    .dataframe thead th {\n",
       "        text-align: right;\n",
       "    }\n",
       "</style>\n",
       "<table border=\"1\" class=\"dataframe\">\n",
       "  <thead>\n",
       "    <tr style=\"text-align: right;\">\n",
       "      <th></th>\n",
       "      <th>Id</th>\n",
       "      <th>MSSubClass</th>\n",
       "      <th>MSZoning</th>\n",
       "      <th>LotFrontage</th>\n",
       "      <th>LotArea</th>\n",
       "      <th>Street</th>\n",
       "      <th>Alley</th>\n",
       "      <th>LotShape</th>\n",
       "      <th>LandContour</th>\n",
       "      <th>Utilities</th>\n",
       "      <th>...</th>\n",
       "      <th>PoolArea</th>\n",
       "      <th>PoolQC</th>\n",
       "      <th>Fence</th>\n",
       "      <th>MiscFeature</th>\n",
       "      <th>MiscVal</th>\n",
       "      <th>MoSold</th>\n",
       "      <th>YrSold</th>\n",
       "      <th>SaleType</th>\n",
       "      <th>SaleCondition</th>\n",
       "      <th>SalePrice</th>\n",
       "    </tr>\n",
       "  </thead>\n",
       "  <tbody>\n",
       "    <tr>\n",
       "      <th>0</th>\n",
       "      <td>1</td>\n",
       "      <td>60</td>\n",
       "      <td>RL</td>\n",
       "      <td>65.0</td>\n",
       "      <td>8450</td>\n",
       "      <td>Pave</td>\n",
       "      <td>NaN</td>\n",
       "      <td>Reg</td>\n",
       "      <td>Lvl</td>\n",
       "      <td>AllPub</td>\n",
       "      <td>...</td>\n",
       "      <td>0</td>\n",
       "      <td>NaN</td>\n",
       "      <td>NaN</td>\n",
       "      <td>NaN</td>\n",
       "      <td>0</td>\n",
       "      <td>2</td>\n",
       "      <td>2008</td>\n",
       "      <td>WD</td>\n",
       "      <td>Normal</td>\n",
       "      <td>208500</td>\n",
       "    </tr>\n",
       "    <tr>\n",
       "      <th>1</th>\n",
       "      <td>2</td>\n",
       "      <td>20</td>\n",
       "      <td>RL</td>\n",
       "      <td>80.0</td>\n",
       "      <td>9600</td>\n",
       "      <td>Pave</td>\n",
       "      <td>NaN</td>\n",
       "      <td>Reg</td>\n",
       "      <td>Lvl</td>\n",
       "      <td>AllPub</td>\n",
       "      <td>...</td>\n",
       "      <td>0</td>\n",
       "      <td>NaN</td>\n",
       "      <td>NaN</td>\n",
       "      <td>NaN</td>\n",
       "      <td>0</td>\n",
       "      <td>5</td>\n",
       "      <td>2007</td>\n",
       "      <td>WD</td>\n",
       "      <td>Normal</td>\n",
       "      <td>181500</td>\n",
       "    </tr>\n",
       "    <tr>\n",
       "      <th>2</th>\n",
       "      <td>3</td>\n",
       "      <td>60</td>\n",
       "      <td>RL</td>\n",
       "      <td>68.0</td>\n",
       "      <td>11250</td>\n",
       "      <td>Pave</td>\n",
       "      <td>NaN</td>\n",
       "      <td>IR1</td>\n",
       "      <td>Lvl</td>\n",
       "      <td>AllPub</td>\n",
       "      <td>...</td>\n",
       "      <td>0</td>\n",
       "      <td>NaN</td>\n",
       "      <td>NaN</td>\n",
       "      <td>NaN</td>\n",
       "      <td>0</td>\n",
       "      <td>9</td>\n",
       "      <td>2008</td>\n",
       "      <td>WD</td>\n",
       "      <td>Normal</td>\n",
       "      <td>223500</td>\n",
       "    </tr>\n",
       "    <tr>\n",
       "      <th>3</th>\n",
       "      <td>4</td>\n",
       "      <td>70</td>\n",
       "      <td>RL</td>\n",
       "      <td>60.0</td>\n",
       "      <td>9550</td>\n",
       "      <td>Pave</td>\n",
       "      <td>NaN</td>\n",
       "      <td>IR1</td>\n",
       "      <td>Lvl</td>\n",
       "      <td>AllPub</td>\n",
       "      <td>...</td>\n",
       "      <td>0</td>\n",
       "      <td>NaN</td>\n",
       "      <td>NaN</td>\n",
       "      <td>NaN</td>\n",
       "      <td>0</td>\n",
       "      <td>2</td>\n",
       "      <td>2006</td>\n",
       "      <td>WD</td>\n",
       "      <td>Abnorml</td>\n",
       "      <td>140000</td>\n",
       "    </tr>\n",
       "    <tr>\n",
       "      <th>4</th>\n",
       "      <td>5</td>\n",
       "      <td>60</td>\n",
       "      <td>RL</td>\n",
       "      <td>84.0</td>\n",
       "      <td>14260</td>\n",
       "      <td>Pave</td>\n",
       "      <td>NaN</td>\n",
       "      <td>IR1</td>\n",
       "      <td>Lvl</td>\n",
       "      <td>AllPub</td>\n",
       "      <td>...</td>\n",
       "      <td>0</td>\n",
       "      <td>NaN</td>\n",
       "      <td>NaN</td>\n",
       "      <td>NaN</td>\n",
       "      <td>0</td>\n",
       "      <td>12</td>\n",
       "      <td>2008</td>\n",
       "      <td>WD</td>\n",
       "      <td>Normal</td>\n",
       "      <td>250000</td>\n",
       "    </tr>\n",
       "  </tbody>\n",
       "</table>\n",
       "<p>5 rows × 85 columns</p>\n",
       "</div>"
      ],
      "text/plain": [
       "   Id  MSSubClass MSZoning  LotFrontage  LotArea Street Alley LotShape  \\\n",
       "0   1          60       RL         65.0     8450   Pave   NaN      Reg   \n",
       "1   2          20       RL         80.0     9600   Pave   NaN      Reg   \n",
       "2   3          60       RL         68.0    11250   Pave   NaN      IR1   \n",
       "3   4          70       RL         60.0     9550   Pave   NaN      IR1   \n",
       "4   5          60       RL         84.0    14260   Pave   NaN      IR1   \n",
       "\n",
       "  LandContour Utilities  ... PoolArea PoolQC Fence MiscFeature MiscVal MoSold  \\\n",
       "0         Lvl    AllPub  ...        0    NaN   NaN         NaN       0      2   \n",
       "1         Lvl    AllPub  ...        0    NaN   NaN         NaN       0      5   \n",
       "2         Lvl    AllPub  ...        0    NaN   NaN         NaN       0      9   \n",
       "3         Lvl    AllPub  ...        0    NaN   NaN         NaN       0      2   \n",
       "4         Lvl    AllPub  ...        0    NaN   NaN         NaN       0     12   \n",
       "\n",
       "  YrSold  SaleType  SaleCondition  SalePrice  \n",
       "0   2008        WD         Normal     208500  \n",
       "1   2007        WD         Normal     181500  \n",
       "2   2008        WD         Normal     223500  \n",
       "3   2006        WD        Abnorml     140000  \n",
       "4   2008        WD         Normal     250000  \n",
       "\n",
       "[5 rows x 85 columns]"
      ]
     },
     "execution_count": 2,
     "metadata": {},
     "output_type": "execute_result"
    }
   ],
   "source": [
    "data = pd.read_csv(\"./data/ML_Houses_dataset.csv\")\n",
    "\n",
    "data.head()"
   ]
  },
  {
   "cell_type": "code",
   "execution_count": 3,
   "id": "parental-majority",
   "metadata": {
    "ExecuteTime": {
     "end_time": "2021-05-10T08:25:13.264058Z",
     "start_time": "2021-05-10T08:25:13.256573Z"
    },
    "hidden": true
   },
   "outputs": [
    {
     "data": {
      "text/html": [
       "<div>\n",
       "<style scoped>\n",
       "    .dataframe tbody tr th:only-of-type {\n",
       "        vertical-align: middle;\n",
       "    }\n",
       "\n",
       "    .dataframe tbody tr th {\n",
       "        vertical-align: top;\n",
       "    }\n",
       "\n",
       "    .dataframe thead th {\n",
       "        text-align: right;\n",
       "    }\n",
       "</style>\n",
       "<table border=\"1\" class=\"dataframe\">\n",
       "  <thead>\n",
       "    <tr style=\"text-align: right;\">\n",
       "      <th></th>\n",
       "      <th>GrLivArea</th>\n",
       "      <th>SalePrice</th>\n",
       "    </tr>\n",
       "  </thead>\n",
       "  <tbody>\n",
       "    <tr>\n",
       "      <th>0</th>\n",
       "      <td>1710</td>\n",
       "      <td>208500</td>\n",
       "    </tr>\n",
       "    <tr>\n",
       "      <th>1</th>\n",
       "      <td>1262</td>\n",
       "      <td>181500</td>\n",
       "    </tr>\n",
       "    <tr>\n",
       "      <th>2</th>\n",
       "      <td>1786</td>\n",
       "      <td>223500</td>\n",
       "    </tr>\n",
       "    <tr>\n",
       "      <th>3</th>\n",
       "      <td>1717</td>\n",
       "      <td>140000</td>\n",
       "    </tr>\n",
       "    <tr>\n",
       "      <th>4</th>\n",
       "      <td>2198</td>\n",
       "      <td>250000</td>\n",
       "    </tr>\n",
       "  </tbody>\n",
       "</table>\n",
       "</div>"
      ],
      "text/plain": [
       "   GrLivArea  SalePrice\n",
       "0       1710     208500\n",
       "1       1262     181500\n",
       "2       1786     223500\n",
       "3       1717     140000\n",
       "4       2198     250000"
      ]
     },
     "execution_count": 3,
     "metadata": {},
     "output_type": "execute_result"
    }
   ],
   "source": [
    "livecode_data = data[['GrLivArea','SalePrice']]\n",
    "\n",
    "livecode_data.head()"
   ]
  },
  {
   "cell_type": "code",
   "execution_count": 38,
   "id": "noticed-vitamin",
   "metadata": {
    "ExecuteTime": {
     "end_time": "2021-05-10T09:02:30.109259Z",
     "start_time": "2021-05-10T09:02:29.815506Z"
    },
    "hidden": true
   },
   "outputs": [
    {
     "data": {
      "image/png": "[encoded data removed]",
      "text/plain": [
       "<Figure size 432x288 with 1 Axes>"
      ]
     },
     "metadata": {
      "needs_background": "light"
     },
     "output_type": "display_data"
    }
   ],
   "source": [
    "# Plot Living area vs Sale price\n",
    "sns.regplot(x=data['GrLivArea'], y=data['SalePrice'])\n",
    "\n",
    "# Labels\n",
    "plt.xlabel(\"Living area\")\n",
    "plt.ylabel(\"Sale price\")\n",
    "\n",
    "plt.show()"
   ]
  },
  {
   "cell_type": "markdown",
   "id": "retained-protection",
   "metadata": {
    "heading_collapsed": true
   },
   "source": [
    "## Linear Models "
   ]
  },
  {
   "cell_type": "code",
   "execution_count": 6,
   "id": "sorted-parent",
   "metadata": {
    "ExecuteTime": {
     "end_time": "2021-05-10T08:30:36.612607Z",
     "start_time": "2021-05-10T08:30:36.002673Z"
    },
    "hidden": true
   },
   "outputs": [
    {
     "data": {
      "text/plain": [
       "LinearRegression()"
      ]
     },
     "execution_count": 6,
     "metadata": {},
     "output_type": "execute_result"
    }
   ],
   "source": [
    "from sklearn.linear_model import LinearRegression\n",
    "\n",
    "model = LinearRegression()\n",
    "\n",
    "# Define X and y\n",
    "X = data[['GrLivArea']]\n",
    "y = data['SalePrice']\n",
    "\n",
    "# Train the model on the data\n",
    "model.fit(X, y)"
   ]
  },
  {
   "cell_type": "code",
   "execution_count": 7,
   "id": "optimum-logic",
   "metadata": {
    "ExecuteTime": {
     "end_time": "2021-05-10T08:31:03.392822Z",
     "start_time": "2021-05-10T08:31:03.389367Z"
    },
    "hidden": true
   },
   "outputs": [
    {
     "data": {
      "text/plain": [
       "22104.12101002081"
      ]
     },
     "execution_count": 7,
     "metadata": {},
     "output_type": "execute_result"
    }
   ],
   "source": [
    "# intercept\n",
    "model.intercept_"
   ]
  },
  {
   "cell_type": "code",
   "execution_count": 8,
   "id": "patent-consent",
   "metadata": {
    "ExecuteTime": {
     "end_time": "2021-05-10T08:31:42.922297Z",
     "start_time": "2021-05-10T08:31:42.918460Z"
    },
    "hidden": true
   },
   "outputs": [
    {
     "data": {
      "text/plain": [
       "array([105.00927564])"
      ]
     },
     "execution_count": 8,
     "metadata": {},
     "output_type": "execute_result"
    }
   ],
   "source": [
    "# slope\n",
    "model.coef_"
   ]
  },
  {
   "cell_type": "code",
   "execution_count": 9,
   "id": "suffering-pearl",
   "metadata": {
    "ExecuteTime": {
     "end_time": "2021-05-10T08:34:28.774446Z",
     "start_time": "2021-05-10T08:34:28.769474Z"
    },
    "hidden": true
   },
   "outputs": [
    {
     "data": {
      "text/plain": [
       "0.48960426399689116"
      ]
     },
     "execution_count": 9,
     "metadata": {},
     "output_type": "execute_result"
    }
   ],
   "source": [
    "# score\n",
    "model.score(X,y)"
   ]
  },
  {
   "cell_type": "code",
   "execution_count": 10,
   "id": "compact-basketball",
   "metadata": {
    "ExecuteTime": {
     "end_time": "2021-05-10T08:35:48.681832Z",
     "start_time": "2021-05-10T08:35:48.677614Z"
    },
    "hidden": true
   },
   "outputs": [
    {
     "data": {
      "text/plain": [
       "array([127113.39664561])"
      ]
     },
     "execution_count": 10,
     "metadata": {},
     "output_type": "execute_result"
    }
   ],
   "source": [
    "# predict\n",
    "model.predict([[1000]])"
   ]
  },
  {
   "cell_type": "code",
   "execution_count": null,
   "id": "functional-creator",
   "metadata": {
    "ExecuteTime": {
     "end_time": "2021-05-06T10:15:53.334623Z",
     "start_time": "2021-05-06T10:15:53.330992Z"
    },
    "hidden": true
   },
   "outputs": [],
   "source": []
  },
  {
   "cell_type": "code",
   "execution_count": 11,
   "id": "corporate-lesson",
   "metadata": {
    "ExecuteTime": {
     "end_time": "2021-05-10T08:37:07.877826Z",
     "start_time": "2021-05-10T08:37:07.874108Z"
    },
    "hidden": true
   },
   "outputs": [
    {
     "data": {
      "text/plain": [
       "array([127113.39664561])"
      ]
     },
     "execution_count": 11,
     "metadata": {},
     "output_type": "execute_result"
    }
   ],
   "source": [
    "# Manual prediction\n",
    "model.coef_ * 1000 + model.intercept_"
   ]
  },
  {
   "cell_type": "markdown",
   "id": "worth-encounter",
   "metadata": {
    "heading_collapsed": true
   },
   "source": [
    "## R2 "
   ]
  },
  {
   "cell_type": "code",
   "execution_count": 110,
   "id": "pacific-permit",
   "metadata": {
    "ExecuteTime": {
     "end_time": "2021-05-06T10:16:52.506568Z",
     "start_time": "2021-05-06T10:16:52.499167Z"
    },
    "hidden": true
   },
   "outputs": [],
   "source": [
    "# Instanciate the model\n",
    "model = LinearRegression()\n",
    "\n",
    "# Define X and y\n",
    "X = data[['GrLivArea']]\n",
    "# setting y as DF for example\n",
    "y_demo = data[['SalePrice']].copy()\n",
    "\n",
    "# Train the model on the data\n",
    "model.fit(X, y_demo.SalePrice);"
   ]
  },
  {
   "cell_type": "code",
   "execution_count": 111,
   "id": "massive-devon",
   "metadata": {
    "ExecuteTime": {
     "end_time": "2021-05-06T10:16:53.370347Z",
     "start_time": "2021-05-06T10:16:53.354522Z"
    },
    "hidden": true
   },
   "outputs": [
    {
     "data": {
      "text/html": [
       "<div>\n",
       "<style scoped>\n",
       "    .dataframe tbody tr th:only-of-type {\n",
       "        vertical-align: middle;\n",
       "    }\n",
       "\n",
       "    .dataframe tbody tr th {\n",
       "        vertical-align: top;\n",
       "    }\n",
       "\n",
       "    .dataframe thead th {\n",
       "        text-align: right;\n",
       "    }\n",
       "</style>\n",
       "<table border=\"1\" class=\"dataframe\">\n",
       "  <thead>\n",
       "    <tr style=\"text-align: right;\">\n",
       "      <th></th>\n",
       "      <th>SalePrice</th>\n",
       "      <th>mean</th>\n",
       "      <th>predict</th>\n",
       "      <th>variance_to_mean_sq</th>\n",
       "      <th>variance_to_predict_sq</th>\n",
       "    </tr>\n",
       "  </thead>\n",
       "  <tbody>\n",
       "    <tr>\n",
       "      <th>0</th>\n",
       "      <td>208500</td>\n",
       "      <td>182289.685227</td>\n",
       "      <td>201669.982347</td>\n",
       "      <td>6.869806e+08</td>\n",
       "      <td>4.664914e+07</td>\n",
       "    </tr>\n",
       "    <tr>\n",
       "      <th>1</th>\n",
       "      <td>181500</td>\n",
       "      <td>182289.685227</td>\n",
       "      <td>154625.826862</td>\n",
       "      <td>6.236028e+05</td>\n",
       "      <td>7.222212e+08</td>\n",
       "    </tr>\n",
       "    <tr>\n",
       "      <th>2</th>\n",
       "      <td>223500</td>\n",
       "      <td>182289.685227</td>\n",
       "      <td>209650.687295</td>\n",
       "      <td>1.698290e+09</td>\n",
       "      <td>1.918035e+08</td>\n",
       "    </tr>\n",
       "    <tr>\n",
       "      <th>3</th>\n",
       "      <td>140000</td>\n",
       "      <td>182289.685227</td>\n",
       "      <td>202405.047276</td>\n",
       "      <td>1.788417e+09</td>\n",
       "      <td>3.894390e+09</td>\n",
       "    </tr>\n",
       "    <tr>\n",
       "      <th>4</th>\n",
       "      <td>250000</td>\n",
       "      <td>182289.685227</td>\n",
       "      <td>252914.508857</td>\n",
       "      <td>4.584687e+09</td>\n",
       "      <td>8.494362e+06</td>\n",
       "    </tr>\n",
       "  </tbody>\n",
       "</table>\n",
       "</div>"
      ],
      "text/plain": [
       "   SalePrice           mean        predict  variance_to_mean_sq  \\\n",
       "0     208500  182289.685227  201669.982347         6.869806e+08   \n",
       "1     181500  182289.685227  154625.826862         6.236028e+05   \n",
       "2     223500  182289.685227  209650.687295         1.698290e+09   \n",
       "3     140000  182289.685227  202405.047276         1.788417e+09   \n",
       "4     250000  182289.685227  252914.508857         4.584687e+09   \n",
       "\n",
       "   variance_to_predict_sq  \n",
       "0            4.664914e+07  \n",
       "1            7.222212e+08  \n",
       "2            1.918035e+08  \n",
       "3            3.894390e+09  \n",
       "4            8.494362e+06  "
      ]
     },
     "execution_count": 111,
     "metadata": {},
     "output_type": "execute_result"
    }
   ],
   "source": [
    "# adding the series mean as a column\n",
    "y_demo['mean'] = y_demo['SalePrice'].mean()\n",
    "# adding each rows prediction\n",
    "y_demo['predict'] = model.predict(X)\n",
    "# checking each rows variance if we just predicted the mean\n",
    "y_demo['variance_to_mean_sq'] = (y_demo['SalePrice'] - y_demo['mean'])**2\n",
    "# checking it's variance to the model prediction\n",
    "y_demo['variance_to_predict_sq'] = (y_demo['SalePrice'] - y_demo['predict'])**2\n",
    "y_demo.head()"
   ]
  },
  {
   "cell_type": "code",
   "execution_count": 112,
   "id": "black-workshop",
   "metadata": {
    "ExecuteTime": {
     "end_time": "2021-05-06T10:17:03.468373Z",
     "start_time": "2021-05-06T10:17:03.463922Z"
    },
    "hidden": true
   },
   "outputs": [
    {
     "data": {
      "text/plain": [
       "0.48960426399689116"
      ]
     },
     "execution_count": 112,
     "metadata": {},
     "output_type": "execute_result"
    }
   ],
   "source": [
    "# what's my decrease in variance?\n",
    "1 - y_demo.variance_to_predict_sq.sum() / y_demo.variance_to_mean_sq.sum()"
   ]
  },
  {
   "cell_type": "code",
   "execution_count": null,
   "id": "marked-birthday",
   "metadata": {
    "hidden": true
   },
   "outputs": [],
   "source": []
  },
  {
   "cell_type": "code",
   "execution_count": null,
   "id": "political-curtis",
   "metadata": {
    "hidden": true
   },
   "outputs": [],
   "source": []
  },
  {
   "cell_type": "markdown",
   "id": "useful-lexington",
   "metadata": {
    "heading_collapsed": true
   },
   "source": [
    "## Generalization  "
   ]
  },
  {
   "cell_type": "markdown",
   "id": "surface-headquarters",
   "metadata": {
    "heading_collapsed": true,
    "hidden": true
   },
   "source": [
    "###  Holdout"
   ]
  },
  {
   "cell_type": "code",
   "execution_count": 12,
   "id": "extraordinary-console",
   "metadata": {
    "ExecuteTime": {
     "end_time": "2021-05-10T08:42:17.609685Z",
     "start_time": "2021-05-10T08:42:17.603559Z"
    },
    "hidden": true
   },
   "outputs": [],
   "source": [
    "from sklearn.model_selection import train_test_split\n",
    "# unpackand re-define\n",
    "# split the data into train and test\n",
    "train_data, test_data = train_test_split(livecode_data, test_size=0.3)\n",
    "\n",
    "# Ready Xs and ys\n",
    "X_train = train_data[['GrLivArea']]\n",
    "y_train = train_data['SalePrice']\n",
    "\n",
    "X_test = test_data[['GrLivArea']]\n",
    "y_test = test_data['SalePrice']"
   ]
  },
  {
   "cell_type": "code",
   "execution_count": 29,
   "id": "liberal-alarm",
   "metadata": {
    "ExecuteTime": {
     "end_time": "2021-05-10T08:48:06.175781Z",
     "start_time": "2021-05-10T08:48:06.165199Z"
    },
    "hidden": true
   },
   "outputs": [
    {
     "data": {
      "text/html": [
       "<div>\n",
       "<style scoped>\n",
       "    .dataframe tbody tr th:only-of-type {\n",
       "        vertical-align: middle;\n",
       "    }\n",
       "\n",
       "    .dataframe tbody tr th {\n",
       "        vertical-align: top;\n",
       "    }\n",
       "\n",
       "    .dataframe thead th {\n",
       "        text-align: right;\n",
       "    }\n",
       "</style>\n",
       "<table border=\"1\" class=\"dataframe\">\n",
       "  <thead>\n",
       "    <tr style=\"text-align: right;\">\n",
       "      <th></th>\n",
       "      <th>GrLivArea</th>\n",
       "    </tr>\n",
       "  </thead>\n",
       "  <tbody>\n",
       "    <tr>\n",
       "      <th>1275</th>\n",
       "      <td>1920</td>\n",
       "    </tr>\n",
       "    <tr>\n",
       "      <th>391</th>\n",
       "      <td>1961</td>\n",
       "    </tr>\n",
       "    <tr>\n",
       "      <th>652</th>\n",
       "      <td>1716</td>\n",
       "    </tr>\n",
       "    <tr>\n",
       "      <th>320</th>\n",
       "      <td>2596</td>\n",
       "    </tr>\n",
       "    <tr>\n",
       "      <th>253</th>\n",
       "      <td>1302</td>\n",
       "    </tr>\n",
       "  </tbody>\n",
       "</table>\n",
       "</div>"
      ],
      "text/plain": [
       "      GrLivArea\n",
       "1275       1920\n",
       "391        1961\n",
       "652        1716\n",
       "320        2596\n",
       "253        1302"
      ]
     },
     "execution_count": 29,
     "metadata": {},
     "output_type": "execute_result"
    }
   ],
   "source": [
    "# Unpack all at once\n",
    "# Ready X and y\n",
    "X = livecode_data[['GrLivArea']]\n",
    "y = livecode_data['SalePrice']\n",
    "\n",
    "# Split into Train/Test\n",
    "X_train, X_test, y_train, y_test = train_test_split(X, y, test_size=0.3, random_state=8)\n",
    "X_train.head()"
   ]
  },
  {
   "cell_type": "code",
   "execution_count": 30,
   "id": "corresponding-liberia",
   "metadata": {
    "ExecuteTime": {
     "end_time": "2021-05-10T08:48:10.916953Z",
     "start_time": "2021-05-10T08:48:10.907589Z"
    },
    "hidden": true
   },
   "outputs": [
    {
     "data": {
      "text/plain": [
       "0.5217193832101675"
      ]
     },
     "execution_count": 30,
     "metadata": {},
     "output_type": "execute_result"
    }
   ],
   "source": [
    "# Instanciate the model\n",
    "model = LinearRegression()\n",
    "\n",
    "# Train the model on the Training data\n",
    "model.fit(X_train, y_train)\n",
    "\n",
    "# Score the model on the Testing data\n",
    "model.score(X_test,y_test)"
   ]
  },
  {
   "cell_type": "code",
   "execution_count": null,
   "id": "jewish-damage",
   "metadata": {
    "ExecuteTime": {
     "end_time": "2021-05-06T10:28:01.255022Z",
     "start_time": "2021-05-06T10:28:01.249561Z"
    },
    "hidden": true
   },
   "outputs": [],
   "source": []
  },
  {
   "cell_type": "markdown",
   "id": "sonic-individual",
   "metadata": {
    "heading_collapsed": true,
    "hidden": true
   },
   "source": [
    "### Cross Validate"
   ]
  },
  {
   "cell_type": "code",
   "execution_count": 37,
   "id": "nonprofit-responsibility",
   "metadata": {
    "ExecuteTime": {
     "end_time": "2021-05-10T09:00:40.519360Z",
     "start_time": "2021-05-10T09:00:40.489010Z"
    },
    "hidden": true
   },
   "outputs": [
    {
     "data": {
      "text/plain": [
       "0.4863112208425962"
      ]
     },
     "execution_count": 37,
     "metadata": {},
     "output_type": "execute_result"
    }
   ],
   "source": [
    "from sklearn.model_selection import cross_validate\n",
    "\n",
    "# Instanciate model\n",
    "model = LinearRegression()\n",
    "\n",
    "# 5-Fold Cross validate model\n",
    "cv_results = cross_validate(model, X, y, cv=5)\n",
    "\n",
    "# Scores\n",
    "cv_results['test_score']\n",
    "# Mean of scores\n",
    "cv_results['test_score'].mean()\n"
   ]
  },
  {
   "cell_type": "code",
   "execution_count": null,
   "id": "related-reflection",
   "metadata": {
    "hidden": true
   },
   "outputs": [],
   "source": []
  },
  {
   "cell_type": "code",
   "execution_count": null,
   "id": "imposed-afghanistan",
   "metadata": {
    "hidden": true
   },
   "outputs": [],
   "source": []
  },
  {
   "cell_type": "code",
   "execution_count": null,
   "id": "southeast-funeral",
   "metadata": {
    "hidden": true
   },
   "outputs": [],
   "source": []
  },
  {
   "cell_type": "markdown",
   "id": "narrative-fiction",
   "metadata": {
    "heading_collapsed": true,
    "hidden": true
   },
   "source": [
    "###  Perfect Combination"
   ]
  },
  {
   "cell_type": "code",
   "execution_count": 45,
   "id": "spectacular-flavor",
   "metadata": {
    "ExecuteTime": {
     "end_time": "2021-05-10T09:48:15.768863Z",
     "start_time": "2021-05-10T09:48:15.763267Z"
    },
    "hidden": true
   },
   "outputs": [],
   "source": [
    "X = livecode_data[['GrLivArea']]\n",
    "y = livecode_data['SalePrice']\n",
    "\n",
    "# Split into Train/Test set for final validation set\n",
    "X_train, X_test, y_train, y_test = train_test_split(X, y, test_size=0.3, random_state=8)\n",
    "\n",
    "# instantiate your model\n",
    "model = LinearRegression()"
   ]
  },
  {
   "cell_type": "code",
   "execution_count": 48,
   "id": "banner-diabetes",
   "metadata": {
    "ExecuteTime": {
     "end_time": "2021-05-10T09:49:39.172218Z",
     "start_time": "2021-05-10T09:49:39.142928Z"
    },
    "hidden": true
   },
   "outputs": [
    {
     "data": {
      "text/plain": [
       "0.44465491962192427"
      ]
     },
     "execution_count": 48,
     "metadata": {},
     "output_type": "execute_result"
    }
   ],
   "source": [
    "# 5-Fold Cross validate model on training set\n",
    "cv_results = cross_validate(model, X_train, y_train, cv=5)\n",
    "\n",
    "# Check your mean of scores\n",
    "cv_results['test_score'].mean()"
   ]
  },
  {
   "cell_type": "code",
   "execution_count": 49,
   "id": "destroyed-mouth",
   "metadata": {
    "ExecuteTime": {
     "end_time": "2021-05-10T09:49:40.323739Z",
     "start_time": "2021-05-10T09:49:40.315580Z"
    },
    "hidden": true
   },
   "outputs": [
    {
     "data": {
      "text/plain": [
       "0.5217193832101675"
      ]
     },
     "execution_count": 49,
     "metadata": {},
     "output_type": "execute_result"
    }
   ],
   "source": [
    "# If score acceptale, finally fit your model on the full train set\n",
    "model.fit(X_train, y_train)\n",
    "# score your model on original holdout\n",
    "model.score(X_test, y_test)"
   ]
  },
  {
   "cell_type": "markdown",
   "id": "exciting-discussion",
   "metadata": {
    "heading_collapsed": true
   },
   "source": [
    "## Learning Curves "
   ]
  },
  {
   "cell_type": "code",
   "execution_count": 44,
   "id": "extensive-canvas",
   "metadata": {
    "ExecuteTime": {
     "end_time": "2021-05-10T09:46:58.564960Z",
     "start_time": "2021-05-10T09:46:58.327667Z"
    },
    "hidden": true
   },
   "outputs": [
    {
     "data": {
      "text/plain": [
       "array([[0.51071405, 0.49543383, 0.49543383, 0.49543383, 0.49543383],\n",
       "       [0.59021136, 0.51944749, 0.51944749, 0.51944749, 0.51944749],\n",
       "       [0.59537432, 0.55488807, 0.55488807, 0.55488807, 0.55488807],\n",
       "       [0.5766314 , 0.51549801, 0.51549801, 0.51549801, 0.51549801],\n",
       "       [0.51385625, 0.56050713, 0.56050713, 0.56050713, 0.56050713],\n",
       "       [0.54769543, 0.56495786, 0.56630712, 0.56630712, 0.56630712],\n",
       "       [0.51700005, 0.52848837, 0.54064102, 0.54379074, 0.54379074],\n",
       "       [0.48457224, 0.491672  , 0.50236489, 0.53795744, 0.53795744],\n",
       "       [0.48361962, 0.48957915, 0.49914166, 0.53303556, 0.53427557]])"
      ]
     },
     "execution_count": 44,
     "metadata": {},
     "output_type": "execute_result"
    }
   ],
   "source": [
    "import numpy as np\n",
    "from sklearn.model_selection import learning_curve\n",
    "\n",
    "train_sizes = [25,50,75,100,250,500,750,1000,1150]\n",
    "# Get train scores (R2), train sizes, and validation scores using `learning_curve`\n",
    "train_sizes, train_scores, test_scores = learning_curve(\n",
    "    estimator=LinearRegression(), X=X, y=y, train_sizes=train_sizes, cv=5)\n",
    "\n",
    "# Take the mean of cross-validated train scores and validation scores\n",
    "train_scores_mean = np.mean(train_scores, axis=1)\n",
    "test_scores_mean = np.mean(test_scores, axis=1)\n",
    "train_scores"
   ]
  },
  {
   "cell_type": "code",
   "execution_count": 42,
   "id": "surrounded-amplifier",
   "metadata": {
    "ExecuteTime": {
     "end_time": "2021-05-10T09:26:45.272824Z",
     "start_time": "2021-05-10T09:26:45.106944Z"
    },
    "hidden": true
   },
   "outputs": [
    {
     "data": {
      "text/plain": [
       "(0.3, 0.8)"
      ]
     },
     "execution_count": 42,
     "metadata": {},
     "output_type": "execute_result"
    },
    {
     "data": {
      "image/png": "[encoded data removed]",
      "text/plain": [
       "<Figure size 432x288 with 1 Axes>"
      ]
     },
     "metadata": {
      "needs_background": "light"
     },
     "output_type": "display_data"
    }
   ],
   "source": [
    "plt.plot(train_sizes, train_scores_mean, label = 'Training score')\n",
    "plt.plot(train_sizes, test_scores_mean, label = 'Test score')\n",
    "plt.ylabel('r2 score', fontsize = 14)\n",
    "plt.xlabel('Training set size', fontsize = 14)\n",
    "plt.title('Learning curves', fontsize = 18, y = 1.03)\n",
    "plt.legend()\n",
    "plt.ylim(0.3, 0.8)"
   ]
  },
  {
   "cell_type": "code",
   "execution_count": null,
   "id": "grateful-taylor",
   "metadata": {
    "hidden": true
   },
   "outputs": [],
   "source": []
  }
 ],
 "metadata": {
  "kernelspec": {
   "display_name": "Python 3 (ipykernel)",
   "language": "python",
   "name": "python3"
  },
  "language_info": {
   "codemirror_mode": {
    "name": "ipython",
    "version": 3
   },
   "file_extension": ".py",
   "mimetype": "text/x-python",
   "name": "python",
   "nbconvert_exporter": "python",
   "pygments_lexer": "ipython3",
   "version": "3.8.12"
  },
  "toc": {
   "base_numbering": 1,
   "nav_menu": {},
   "number_sections": true,
   "sideBar": true,
   "skip_h1_title": false,
   "title_cell": "Table of Contents",
   "title_sidebar": "Contents",
   "toc_cell": false,
   "toc_position": {},
   "toc_section_display": true,
   "toc_window_display": false
  },
  "varInspector": {
   "cols": {
    "lenName": 16,
    "lenType": 16,
    "lenVar": 40
   },
   "kernels_config": {
    "python": {
     "delete_cmd_postfix": "",
     "delete_cmd_prefix": "del ",
     "library": "var_list.py",
     "varRefreshCmd": "print(var_dic_list())"
    },
    "r": {
     "delete_cmd_postfix": ") ",
     "delete_cmd_prefix": "rm(",
     "library": "var_list.r",
     "varRefreshCmd": "cat(var_dic_list()) "
    }
   },
   "types_to_exclude": [
    "module",
    "function",
    "builtin_function_or_method",
    "instance",
    "_Feature"
   ],
   "window_display": false
  }
 },
 "nbformat": 4,
 "nbformat_minor": 5
}
