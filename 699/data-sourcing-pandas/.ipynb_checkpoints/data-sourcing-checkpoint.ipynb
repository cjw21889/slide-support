{
 "cells": [
  {
   "cell_type": "markdown",
   "id": "attended-station",
   "metadata": {},
   "source": [
    "# Data Sourcing with Pandas"
   ]
  },
  {
   "cell_type": "code",
   "execution_count": 1,
   "id": "reported-quest",
   "metadata": {},
   "outputs": [],
   "source": [
    "# Magic commands at the top of our nb to reload external py files\n",
    "%load_ext autoreload\n",
    "%autoreload 2"
   ]
  },
  {
   "cell_type": "code",
   "execution_count": 2,
   "id": "collectible-fourth",
   "metadata": {},
   "outputs": [],
   "source": [
    "# basic imports\n",
    "import matplotlib\n",
    "%matplotlib inline\n",
    "import numpy as np\n",
    "import pandas as pd"
   ]
  },
  {
   "cell_type": "markdown",
   "id": "growing-showcase",
   "metadata": {},
   "source": [
    "## CSV"
   ]
  },
  {
   "cell_type": "code",
   "execution_count": 3,
   "id": "coral-attendance",
   "metadata": {},
   "outputs": [],
   "source": [
    "# Reading a csv by passing the file name / path\n",
    "tracks_df = pd.read_csv('data/spotify_2017.csv')"
   ]
  },
  {
   "cell_type": "code",
   "execution_count": 4,
   "id": "associate-penetration",
   "metadata": {},
   "outputs": [
    {
     "data": {
      "text/html": [
       "<div>\n",
       "<style scoped>\n",
       "    .dataframe tbody tr th:only-of-type {\n",
       "        vertical-align: middle;\n",
       "    }\n",
       "\n",
       "    .dataframe tbody tr th {\n",
       "        vertical-align: top;\n",
       "    }\n",
       "\n",
       "    .dataframe thead th {\n",
       "        text-align: right;\n",
       "    }\n",
       "</style>\n",
       "<table border=\"1\" class=\"dataframe\">\n",
       "  <thead>\n",
       "    <tr style=\"text-align: right;\">\n",
       "      <th></th>\n",
       "      <th>id</th>\n",
       "      <th>name</th>\n",
       "      <th>artists</th>\n",
       "      <th>danceability</th>\n",
       "      <th>energy</th>\n",
       "      <th>key</th>\n",
       "      <th>loudness</th>\n",
       "      <th>mode</th>\n",
       "      <th>speechiness</th>\n",
       "      <th>acousticness</th>\n",
       "      <th>instrumentalness</th>\n",
       "      <th>liveness</th>\n",
       "      <th>valence</th>\n",
       "      <th>tempo</th>\n",
       "      <th>duration_ms</th>\n",
       "      <th>time_signature</th>\n",
       "    </tr>\n",
       "  </thead>\n",
       "  <tbody>\n",
       "    <tr>\n",
       "      <th>0</th>\n",
       "      <td>7qiZfU4dY1lWllzX7mPBI</td>\n",
       "      <td>Shape of You</td>\n",
       "      <td>Ed Sheeran</td>\n",
       "      <td>0.825</td>\n",
       "      <td>0.652</td>\n",
       "      <td>1.0</td>\n",
       "      <td>-3.183</td>\n",
       "      <td>0.0</td>\n",
       "      <td>0.0802</td>\n",
       "      <td>0.581</td>\n",
       "      <td>0.0</td>\n",
       "      <td>0.0931</td>\n",
       "      <td>0.931</td>\n",
       "      <td>95.977</td>\n",
       "      <td>233713.0</td>\n",
       "      <td>4.0</td>\n",
       "    </tr>\n",
       "    <tr>\n",
       "      <th>1</th>\n",
       "      <td>5CtI0qwDJkDQGwXD1H1cL</td>\n",
       "      <td>Despacito - Remix</td>\n",
       "      <td>Luis Fonsi</td>\n",
       "      <td>0.694</td>\n",
       "      <td>0.815</td>\n",
       "      <td>2.0</td>\n",
       "      <td>-4.328</td>\n",
       "      <td>1.0</td>\n",
       "      <td>0.1200</td>\n",
       "      <td>0.229</td>\n",
       "      <td>0.0</td>\n",
       "      <td>0.0924</td>\n",
       "      <td>0.813</td>\n",
       "      <td>88.931</td>\n",
       "      <td>228827.0</td>\n",
       "      <td>4.0</td>\n",
       "    </tr>\n",
       "  </tbody>\n",
       "</table>\n",
       "</div>"
      ],
      "text/plain": [
       "                      id               name     artists  danceability  energy  \\\n",
       "0  7qiZfU4dY1lWllzX7mPBI       Shape of You  Ed Sheeran         0.825   0.652   \n",
       "1  5CtI0qwDJkDQGwXD1H1cL  Despacito - Remix  Luis Fonsi         0.694   0.815   \n",
       "\n",
       "   key  loudness  mode  speechiness  acousticness  instrumentalness  liveness  \\\n",
       "0  1.0    -3.183   0.0       0.0802         0.581               0.0    0.0931   \n",
       "1  2.0    -4.328   1.0       0.1200         0.229               0.0    0.0924   \n",
       "\n",
       "   valence   tempo  duration_ms  time_signature  \n",
       "0    0.931  95.977     233713.0             4.0  \n",
       "1    0.813  88.931     228827.0             4.0  "
      ]
     },
     "execution_count": 4,
     "metadata": {},
     "output_type": "execute_result"
    }
   ],
   "source": [
    "tracks_df.head(2)"
   ]
  },
  {
   "cell_type": "markdown",
   "id": "exciting-twenty",
   "metadata": {},
   "source": [
    "## API"
   ]
  },
  {
   "cell_type": "code",
   "execution_count": 5,
   "id": "manufactured-witch",
   "metadata": {},
   "outputs": [],
   "source": [
    "import requests\n",
    "# if you have your functions in external module\n",
    "# you can load them into the notebook\n",
    "# from music import fetch_lyrics"
   ]
  },
  {
   "cell_type": "code",
   "execution_count": 6,
   "id": "unlimited-marble",
   "metadata": {},
   "outputs": [],
   "source": [
    "# Defined a function to call the API\n",
    "# check if the response is .ok (similar to .status_code == 200)\n",
    "def fetch_lyrics(artist, title):\n",
    "    url = 'https://lyrics.lewagon.ai/search'\n",
    "    my_params = {'artist': artist, 'title': title}\n",
    "    response = requests.get(url, params = my_params)\n",
    "    if response.ok:\n",
    "        return response.json()['lyrics']\n",
    "    return ''\n"
   ]
  },
  {
   "cell_type": "code",
   "execution_count": 7,
   "id": "aware-halifax",
   "metadata": {},
   "outputs": [
    {
     "data": {
      "text/plain": [
       "'Here come old flat top\\nHe come grooving up slowly\\nHe got joo joo eyeball\\nHe one holy roller\\nHe got hair down to his knee\\nGot to be a joker he just do what you please.\\n\\nHe wear no shoe shine\\nHe got toe jam football\\nHe got monkey finger\\nHe shoot Coca-Cola\\nHe say I know you, you know me\\nOne thing I can tell you is you got to be free\\nCome together right now over me\\n\\nHe bag production\\nHe got walrus gumboot\\nHe got Ono sideboard\\nHe one spinal cracker\\nHe got feet down below his knee\\nHold you in his armchair you can feel his disease\\nCome together right now over me\\n\\nRight!\\nCome\\nCome...\\nCome...\\nCome...\\n\\nHe roller coaster\\nHe got early warning\\nHe got Muddy Water\\nHe one Mojo filter\\nHe say. \"One and one and one is three\"\\nGot to be good looking \\'cause he so hard to see\\nCome together right now over me\\n\\nOh!\\nCome together\\nYeah\\nCome together\\nYeah\\nCome together\\nYeah\\nCome together\\nYeah\\nCome together\\nYeah\\nCome together\\nYeah\\nCome together\\nYeah\\nAhh\\nCome together\\nYeah\\nCome together...'"
      ]
     },
     "execution_count": 7,
     "metadata": {},
     "output_type": "execute_result"
    }
   ],
   "source": [
    "# testing our function\n",
    "fetch_lyrics('The beatles', 'come together')"
   ]
  },
  {
   "cell_type": "code",
   "execution_count": 8,
   "id": "owned-causing",
   "metadata": {},
   "outputs": [
    {
     "data": {
      "text/html": [
       "<div>\n",
       "<style scoped>\n",
       "    .dataframe tbody tr th:only-of-type {\n",
       "        vertical-align: middle;\n",
       "    }\n",
       "\n",
       "    .dataframe tbody tr th {\n",
       "        vertical-align: top;\n",
       "    }\n",
       "\n",
       "    .dataframe thead th {\n",
       "        text-align: right;\n",
       "    }\n",
       "</style>\n",
       "<table border=\"1\" class=\"dataframe\">\n",
       "  <thead>\n",
       "    <tr style=\"text-align: right;\">\n",
       "      <th></th>\n",
       "      <th>id</th>\n",
       "      <th>name</th>\n",
       "      <th>artists</th>\n",
       "      <th>danceability</th>\n",
       "      <th>energy</th>\n",
       "      <th>key</th>\n",
       "      <th>loudness</th>\n",
       "      <th>mode</th>\n",
       "      <th>speechiness</th>\n",
       "      <th>acousticness</th>\n",
       "      <th>instrumentalness</th>\n",
       "      <th>liveness</th>\n",
       "      <th>valence</th>\n",
       "      <th>tempo</th>\n",
       "      <th>duration_ms</th>\n",
       "      <th>time_signature</th>\n",
       "      <th>lyrics</th>\n",
       "    </tr>\n",
       "  </thead>\n",
       "  <tbody>\n",
       "    <tr>\n",
       "      <th>0</th>\n",
       "      <td>7qiZfU4dY1lWllzX7mPBI</td>\n",
       "      <td>Shape of You</td>\n",
       "      <td>Ed Sheeran</td>\n",
       "      <td>0.825</td>\n",
       "      <td>0.652</td>\n",
       "      <td>1.0</td>\n",
       "      <td>-3.183</td>\n",
       "      <td>0.0</td>\n",
       "      <td>0.0802</td>\n",
       "      <td>0.581</td>\n",
       "      <td>0.0</td>\n",
       "      <td>0.0931</td>\n",
       "      <td>0.931</td>\n",
       "      <td>95.977</td>\n",
       "      <td>233713.0</td>\n",
       "      <td>4.0</td>\n",
       "      <td></td>\n",
       "    </tr>\n",
       "    <tr>\n",
       "      <th>1</th>\n",
       "      <td>5CtI0qwDJkDQGwXD1H1cL</td>\n",
       "      <td>Despacito - Remix</td>\n",
       "      <td>Luis Fonsi</td>\n",
       "      <td>0.694</td>\n",
       "      <td>0.815</td>\n",
       "      <td>2.0</td>\n",
       "      <td>-4.328</td>\n",
       "      <td>1.0</td>\n",
       "      <td>0.1200</td>\n",
       "      <td>0.229</td>\n",
       "      <td>0.0</td>\n",
       "      <td>0.0924</td>\n",
       "      <td>0.813</td>\n",
       "      <td>88.931</td>\n",
       "      <td>228827.0</td>\n",
       "      <td>4.0</td>\n",
       "      <td></td>\n",
       "    </tr>\n",
       "  </tbody>\n",
       "</table>\n",
       "</div>"
      ],
      "text/plain": [
       "                      id               name     artists  danceability  energy  \\\n",
       "0  7qiZfU4dY1lWllzX7mPBI       Shape of You  Ed Sheeran         0.825   0.652   \n",
       "1  5CtI0qwDJkDQGwXD1H1cL  Despacito - Remix  Luis Fonsi         0.694   0.815   \n",
       "\n",
       "   key  loudness  mode  speechiness  acousticness  instrumentalness  liveness  \\\n",
       "0  1.0    -3.183   0.0       0.0802         0.581               0.0    0.0931   \n",
       "1  2.0    -4.328   1.0       0.1200         0.229               0.0    0.0924   \n",
       "\n",
       "   valence   tempo  duration_ms  time_signature lyrics  \n",
       "0    0.931  95.977     233713.0             4.0         \n",
       "1    0.813  88.931     228827.0             4.0         "
      ]
     },
     "execution_count": 8,
     "metadata": {},
     "output_type": "execute_result"
    }
   ],
   "source": [
    "# We add a blank column to our dataframe where we can assign the response from our function\n",
    "tracks_df['lyrics'] = \"\"\n",
    "\n",
    "tracks_df.head(2)"
   ]
  },
  {
   "cell_type": "code",
   "execution_count": 11,
   "id": "informative-consolidation",
   "metadata": {},
   "outputs": [
    {
     "name": "stdout",
     "output_type": "stream",
     "text": [
      "Fetching lyrics for Ed Sheeran - Shape of You\n",
      "Fetching lyrics for Luis Fonsi - Despacito - Remix\n",
      "Fetching lyrics for Luis Fonsi - Despacito (Featuring Daddy Yankee)\n",
      "Fetching lyrics for The Chainsmokers - Something Just Like This\n",
      "Fetching lyrics for DJ Khaled - I'm the One\n"
     ]
    }
   ],
   "source": [
    "# We loop through the first 5 rows of our dataframe to test\n",
    "for index, row in tracks_df.head(5).iterrows():\n",
    "    print(f\"Fetching lyrics for {row['artists']} - {row['name']}\")\n",
    "#     get the lyrics from the function\n",
    "    lyrics = fetch_lyrics(row['artists'], row['name'])\n",
    "#     use .loc to assign the reponse back to that specific row\n",
    "    tracks_df.loc[index, 'lyrics'] = lyrics"
   ]
  },
  {
   "cell_type": "code",
   "execution_count": 12,
   "id": "tamil-cleaning",
   "metadata": {},
   "outputs": [
    {
     "data": {
      "text/html": [
       "<div>\n",
       "<style scoped>\n",
       "    .dataframe tbody tr th:only-of-type {\n",
       "        vertical-align: middle;\n",
       "    }\n",
       "\n",
       "    .dataframe tbody tr th {\n",
       "        vertical-align: top;\n",
       "    }\n",
       "\n",
       "    .dataframe thead th {\n",
       "        text-align: right;\n",
       "    }\n",
       "</style>\n",
       "<table border=\"1\" class=\"dataframe\">\n",
       "  <thead>\n",
       "    <tr style=\"text-align: right;\">\n",
       "      <th></th>\n",
       "      <th>id</th>\n",
       "      <th>name</th>\n",
       "      <th>artists</th>\n",
       "      <th>danceability</th>\n",
       "      <th>energy</th>\n",
       "      <th>key</th>\n",
       "      <th>loudness</th>\n",
       "      <th>mode</th>\n",
       "      <th>speechiness</th>\n",
       "      <th>acousticness</th>\n",
       "      <th>instrumentalness</th>\n",
       "      <th>liveness</th>\n",
       "      <th>valence</th>\n",
       "      <th>tempo</th>\n",
       "      <th>duration_ms</th>\n",
       "      <th>time_signature</th>\n",
       "      <th>lyrics</th>\n",
       "    </tr>\n",
       "  </thead>\n",
       "  <tbody>\n",
       "    <tr>\n",
       "      <th>0</th>\n",
       "      <td>7qiZfU4dY1lWllzX7mPBI</td>\n",
       "      <td>Shape of You</td>\n",
       "      <td>Ed Sheeran</td>\n",
       "      <td>0.825</td>\n",
       "      <td>0.652</td>\n",
       "      <td>1.0</td>\n",
       "      <td>-3.183</td>\n",
       "      <td>0.0</td>\n",
       "      <td>0.0802</td>\n",
       "      <td>0.5810</td>\n",
       "      <td>0.000000</td>\n",
       "      <td>0.0931</td>\n",
       "      <td>0.931</td>\n",
       "      <td>95.977</td>\n",
       "      <td>233713.0</td>\n",
       "      <td>4.0</td>\n",
       "      <td>The club isn't the best place to find a lover\\...</td>\n",
       "    </tr>\n",
       "    <tr>\n",
       "      <th>1</th>\n",
       "      <td>5CtI0qwDJkDQGwXD1H1cL</td>\n",
       "      <td>Despacito - Remix</td>\n",
       "      <td>Luis Fonsi</td>\n",
       "      <td>0.694</td>\n",
       "      <td>0.815</td>\n",
       "      <td>2.0</td>\n",
       "      <td>-4.328</td>\n",
       "      <td>1.0</td>\n",
       "      <td>0.1200</td>\n",
       "      <td>0.2290</td>\n",
       "      <td>0.000000</td>\n",
       "      <td>0.0924</td>\n",
       "      <td>0.813</td>\n",
       "      <td>88.931</td>\n",
       "      <td>228827.0</td>\n",
       "      <td>4.0</td>\n",
       "      <td></td>\n",
       "    </tr>\n",
       "    <tr>\n",
       "      <th>2</th>\n",
       "      <td>4aWmUDTfIPGksMNLV2rQP</td>\n",
       "      <td>Despacito (Featuring Daddy Yankee)</td>\n",
       "      <td>Luis Fonsi</td>\n",
       "      <td>0.660</td>\n",
       "      <td>0.786</td>\n",
       "      <td>2.0</td>\n",
       "      <td>-4.757</td>\n",
       "      <td>1.0</td>\n",
       "      <td>0.1700</td>\n",
       "      <td>0.2090</td>\n",
       "      <td>0.000000</td>\n",
       "      <td>0.1120</td>\n",
       "      <td>0.846</td>\n",
       "      <td>177.833</td>\n",
       "      <td>228200.0</td>\n",
       "      <td>4.0</td>\n",
       "      <td></td>\n",
       "    </tr>\n",
       "    <tr>\n",
       "      <th>3</th>\n",
       "      <td>6RUKPb4LETWmmr3iAEQkt</td>\n",
       "      <td>Something Just Like This</td>\n",
       "      <td>The Chainsmokers</td>\n",
       "      <td>0.617</td>\n",
       "      <td>0.635</td>\n",
       "      <td>11.0</td>\n",
       "      <td>-6.769</td>\n",
       "      <td>0.0</td>\n",
       "      <td>0.0317</td>\n",
       "      <td>0.0498</td>\n",
       "      <td>0.000014</td>\n",
       "      <td>0.1640</td>\n",
       "      <td>0.446</td>\n",
       "      <td>103.019</td>\n",
       "      <td>247160.0</td>\n",
       "      <td>4.0</td>\n",
       "      <td>I've been reading books of old\\nThe legends an...</td>\n",
       "    </tr>\n",
       "    <tr>\n",
       "      <th>4</th>\n",
       "      <td>3DXncPQOG4VBw3QHh3S81</td>\n",
       "      <td>I'm the One</td>\n",
       "      <td>DJ Khaled</td>\n",
       "      <td>0.609</td>\n",
       "      <td>0.668</td>\n",
       "      <td>7.0</td>\n",
       "      <td>-4.284</td>\n",
       "      <td>1.0</td>\n",
       "      <td>0.0367</td>\n",
       "      <td>0.0552</td>\n",
       "      <td>0.000000</td>\n",
       "      <td>0.1670</td>\n",
       "      <td>0.811</td>\n",
       "      <td>80.924</td>\n",
       "      <td>288600.0</td>\n",
       "      <td>4.0</td>\n",
       "      <td>[DJ Khaled:]\\nWe The Best Music\\nAnother One!\\...</td>\n",
       "    </tr>\n",
       "  </tbody>\n",
       "</table>\n",
       "</div>"
      ],
      "text/plain": [
       "                      id                                name  \\\n",
       "0  7qiZfU4dY1lWllzX7mPBI                        Shape of You   \n",
       "1  5CtI0qwDJkDQGwXD1H1cL                   Despacito - Remix   \n",
       "2  4aWmUDTfIPGksMNLV2rQP  Despacito (Featuring Daddy Yankee)   \n",
       "3  6RUKPb4LETWmmr3iAEQkt            Something Just Like This   \n",
       "4  3DXncPQOG4VBw3QHh3S81                         I'm the One   \n",
       "\n",
       "            artists  danceability  energy   key  loudness  mode  speechiness  \\\n",
       "0        Ed Sheeran         0.825   0.652   1.0    -3.183   0.0       0.0802   \n",
       "1        Luis Fonsi         0.694   0.815   2.0    -4.328   1.0       0.1200   \n",
       "2        Luis Fonsi         0.660   0.786   2.0    -4.757   1.0       0.1700   \n",
       "3  The Chainsmokers         0.617   0.635  11.0    -6.769   0.0       0.0317   \n",
       "4         DJ Khaled         0.609   0.668   7.0    -4.284   1.0       0.0367   \n",
       "\n",
       "   acousticness  instrumentalness  liveness  valence    tempo  duration_ms  \\\n",
       "0        0.5810          0.000000    0.0931    0.931   95.977     233713.0   \n",
       "1        0.2290          0.000000    0.0924    0.813   88.931     228827.0   \n",
       "2        0.2090          0.000000    0.1120    0.846  177.833     228200.0   \n",
       "3        0.0498          0.000014    0.1640    0.446  103.019     247160.0   \n",
       "4        0.0552          0.000000    0.1670    0.811   80.924     288600.0   \n",
       "\n",
       "   time_signature                                             lyrics  \n",
       "0             4.0  The club isn't the best place to find a lover\\...  \n",
       "1             4.0                                                     \n",
       "2             4.0                                                     \n",
       "3             4.0  I've been reading books of old\\nThe legends an...  \n",
       "4             4.0  [DJ Khaled:]\\nWe The Best Music\\nAnother One!\\...  "
      ]
     },
     "execution_count": 12,
     "metadata": {},
     "output_type": "execute_result"
    }
   ],
   "source": [
    "tracks_df.head()"
   ]
  },
  {
   "cell_type": "markdown",
   "id": "characteristic-halloween",
   "metadata": {},
   "source": [
    "## SQL"
   ]
  },
  {
   "cell_type": "code",
   "execution_count": 14,
   "id": "automated-shift",
   "metadata": {},
   "outputs": [],
   "source": [
    "# for SQL on local DB we import the library and set up a connection\n",
    "import sqlite3\n",
    "\n",
    "conn = sqlite3.connect(\"data/soccer.sqlite\")"
   ]
  },
  {
   "cell_type": "code",
   "execution_count": 15,
   "id": "encouraging-fighter",
   "metadata": {},
   "outputs": [
    {
     "name": "stdout",
     "output_type": "stream",
     "text": [
      "[('sqlite_sequence',), ('Player_Attributes',), ('Player',), ('Match',), ('League',), ('Country',), ('Team',), ('Team_Attributes',)]\n"
     ]
    }
   ],
   "source": [
    "# OLD WAY - setup a curser, execute the query, and fetch the results\n",
    "cursor = conn.cursor()\n",
    "cursor.execute(\"SELECT name FROM sqlite_master WHERE type='table'\")\n",
    "print(cursor.fetchall())\n"
   ]
  },
  {
   "cell_type": "code",
   "execution_count": 16,
   "id": "single-ordinary",
   "metadata": {},
   "outputs": [
    {
     "data": {
      "text/html": [
       "<div>\n",
       "<style scoped>\n",
       "    .dataframe tbody tr th:only-of-type {\n",
       "        vertical-align: middle;\n",
       "    }\n",
       "\n",
       "    .dataframe tbody tr th {\n",
       "        vertical-align: top;\n",
       "    }\n",
       "\n",
       "    .dataframe thead th {\n",
       "        text-align: right;\n",
       "    }\n",
       "</style>\n",
       "<table border=\"1\" class=\"dataframe\">\n",
       "  <thead>\n",
       "    <tr style=\"text-align: right;\">\n",
       "      <th></th>\n",
       "      <th>id</th>\n",
       "      <th>name</th>\n",
       "      <th>country_name</th>\n",
       "    </tr>\n",
       "  </thead>\n",
       "  <tbody>\n",
       "    <tr>\n",
       "      <th>0</th>\n",
       "      <td>1</td>\n",
       "      <td>Belgium Jupiler League</td>\n",
       "      <td>Belgium</td>\n",
       "    </tr>\n",
       "    <tr>\n",
       "      <th>1</th>\n",
       "      <td>1729</td>\n",
       "      <td>England Premier League</td>\n",
       "      <td>England</td>\n",
       "    </tr>\n",
       "    <tr>\n",
       "      <th>2</th>\n",
       "      <td>4769</td>\n",
       "      <td>France Ligue 1</td>\n",
       "      <td>France</td>\n",
       "    </tr>\n",
       "    <tr>\n",
       "      <th>3</th>\n",
       "      <td>7809</td>\n",
       "      <td>Germany 1. Bundesliga</td>\n",
       "      <td>Germany</td>\n",
       "    </tr>\n",
       "    <tr>\n",
       "      <th>4</th>\n",
       "      <td>10257</td>\n",
       "      <td>Italy Serie A</td>\n",
       "      <td>Italy</td>\n",
       "    </tr>\n",
       "  </tbody>\n",
       "</table>\n",
       "</div>"
      ],
      "text/plain": [
       "      id                    name country_name\n",
       "0      1  Belgium Jupiler League      Belgium\n",
       "1   1729  England Premier League      England\n",
       "2   4769          France Ligue 1       France\n",
       "3   7809   Germany 1. Bundesliga      Germany\n",
       "4  10257           Italy Serie A        Italy"
      ]
     },
     "execution_count": 16,
     "metadata": {},
     "output_type": "execute_result"
    }
   ],
   "source": [
    "# NEW WAY - pass our query and connection directly to pandas read_sql for instant dataframe\n",
    "league_df = pd.read_sql(\n",
    "    '''\n",
    "    SELECT l.id, l.name, c.name as country_name\n",
    "    FROM League l\n",
    "    JOIN Country c ON c.id = l.country_id\n",
    "    ''', conn)\n",
    "league_df.head()"
   ]
  },
  {
   "cell_type": "markdown",
   "id": "nearby-longitude",
   "metadata": {},
   "source": [
    "### Google Big Queary "
   ]
  },
  {
   "cell_type": "code",
   "execution_count": 17,
   "id": "compatible-pipeline",
   "metadata": {},
   "outputs": [],
   "source": [
    "# SQL directly on google big query\n",
    "import pandas_gbq\n"
   ]
  },
  {
   "cell_type": "code",
   "execution_count": 18,
   "id": "vietnamese-thompson",
   "metadata": {},
   "outputs": [
    {
     "name": "stderr",
     "output_type": "stream",
     "text": [
      "Downloading: 100%|██████████| 5368/5368 [00:01<00:00, 5041.67rows/s]\n"
     ]
    }
   ],
   "source": [
    "# Create a project on GCP to get access\n",
    "project_id = 'poetic-respect-28700' # TODO: replace with your own!\n",
    "\n",
    "# pass the queary and project is to pandas read_gbq for instant dataframe\n",
    "sql = \"\"\"\n",
    "SELECT faa_identifier, name, longitude, latitude, airport_type, service_city, country\n",
    "FROM `bigquery-public-data.faa.us_airports`\n",
    "WHERE airport_use = 'Public'\n",
    "\"\"\"\n",
    "airports_df = pandas_gbq.read_gbq(sql, project_id=project_id)"
   ]
  },
  {
   "cell_type": "code",
   "execution_count": 19,
   "id": "compliant-turkish",
   "metadata": {},
   "outputs": [
    {
     "data": {
      "text/html": [
       "<div>\n",
       "<style scoped>\n",
       "    .dataframe tbody tr th:only-of-type {\n",
       "        vertical-align: middle;\n",
       "    }\n",
       "\n",
       "    .dataframe tbody tr th {\n",
       "        vertical-align: top;\n",
       "    }\n",
       "\n",
       "    .dataframe thead th {\n",
       "        text-align: right;\n",
       "    }\n",
       "</style>\n",
       "<table border=\"1\" class=\"dataframe\">\n",
       "  <thead>\n",
       "    <tr style=\"text-align: right;\">\n",
       "      <th></th>\n",
       "      <th>faa_identifier</th>\n",
       "      <th>name</th>\n",
       "      <th>longitude</th>\n",
       "      <th>latitude</th>\n",
       "      <th>airport_type</th>\n",
       "      <th>service_city</th>\n",
       "      <th>country</th>\n",
       "    </tr>\n",
       "  </thead>\n",
       "  <tbody>\n",
       "    <tr>\n",
       "      <th>0</th>\n",
       "      <td>X01</td>\n",
       "      <td>Everglades Arpk</td>\n",
       "      <td>-81.390281</td>\n",
       "      <td>25.848866</td>\n",
       "      <td>Aerodome</td>\n",
       "      <td>Everglades</td>\n",
       "      <td>United States</td>\n",
       "    </tr>\n",
       "    <tr>\n",
       "      <th>1</th>\n",
       "      <td>0C8</td>\n",
       "      <td>Cushing Fld Ltd</td>\n",
       "      <td>-88.605635</td>\n",
       "      <td>41.519483</td>\n",
       "      <td>Aerodome</td>\n",
       "      <td>Newark</td>\n",
       "      <td>United States</td>\n",
       "    </tr>\n",
       "    <tr>\n",
       "      <th>2</th>\n",
       "      <td>7L8</td>\n",
       "      <td>Post-Air</td>\n",
       "      <td>-86.013876</td>\n",
       "      <td>39.750050</td>\n",
       "      <td>Aerodome</td>\n",
       "      <td>Indianapolis</td>\n",
       "      <td>United States</td>\n",
       "    </tr>\n",
       "    <tr>\n",
       "      <th>3</th>\n",
       "      <td>71K</td>\n",
       "      <td>Westport</td>\n",
       "      <td>-97.383702</td>\n",
       "      <td>37.647701</td>\n",
       "      <td>Aerodome</td>\n",
       "      <td>Wichita</td>\n",
       "      <td>United States</td>\n",
       "    </tr>\n",
       "    <tr>\n",
       "      <th>4</th>\n",
       "      <td>2M7</td>\n",
       "      <td>Hoffman's Black Mountain Aerodrome</td>\n",
       "      <td>-84.308061</td>\n",
       "      <td>45.531953</td>\n",
       "      <td>Aerodome</td>\n",
       "      <td>Cheboygan</td>\n",
       "      <td>United States</td>\n",
       "    </tr>\n",
       "  </tbody>\n",
       "</table>\n",
       "</div>"
      ],
      "text/plain": [
       "  faa_identifier                                name  longitude   latitude  \\\n",
       "0            X01                     Everglades Arpk -81.390281  25.848866   \n",
       "1            0C8                     Cushing Fld Ltd -88.605635  41.519483   \n",
       "2            7L8                            Post-Air -86.013876  39.750050   \n",
       "3            71K                            Westport -97.383702  37.647701   \n",
       "4            2M7  Hoffman's Black Mountain Aerodrome -84.308061  45.531953   \n",
       "\n",
       "  airport_type  service_city        country  \n",
       "0     Aerodome    Everglades  United States  \n",
       "1     Aerodome        Newark  United States  \n",
       "2     Aerodome  Indianapolis  United States  \n",
       "3     Aerodome       Wichita  United States  \n",
       "4     Aerodome     Cheboygan  United States  "
      ]
     },
     "execution_count": 19,
     "metadata": {},
     "output_type": "execute_result"
    }
   ],
   "source": [
    "airports_df.head()"
   ]
  },
  {
   "cell_type": "markdown",
   "id": "southeast-lying",
   "metadata": {},
   "source": [
    "## Scraping"
   ]
  },
  {
   "cell_type": "code",
   "execution_count": 20,
   "id": "herbal-sewing",
   "metadata": {},
   "outputs": [],
   "source": [
    "# Now we need bs4's beautiful soup to parse our response instead of the .json() method\n",
    "import re\n",
    "import requests\n",
    "from bs4 import BeautifulSoup\n"
   ]
  },
  {
   "cell_type": "code",
   "execution_count": 21,
   "id": "weighted-granny",
   "metadata": {},
   "outputs": [],
   "source": [
    "url = 'https://www.imdb.com/list/ls055386972/'\n",
    "response = requests.get(url)\n",
    "# if we were using an API we could parse with .json()\n",
    "# response.json()\n",
    "# But our response is an html string, so we parse with beaufitul soups html.parser\n",
    "soup = BeautifulSoup(response.content, \"html.parser\")\n"
   ]
  },
  {
   "cell_type": "code",
   "execution_count": 22,
   "id": "bronze-wagon",
   "metadata": {},
   "outputs": [
    {
     "name": "stdout",
     "output_type": "stream",
     "text": [
      "[{'title': 'The Godfather', 'duration': 175, 'year': 1972}, {'title': \"Schindler's List\", 'duration': 195, 'year': 1993}, {'title': '12 Angry Men', 'duration': 96, 'year': 1957}, {'title': 'Life Is Beautiful', 'duration': 116, 'year': 1997}, {'title': 'The Good, the Bad and the Ugly', 'duration': 148, 'year': 1966}]\n"
     ]
    }
   ],
   "source": [
    "# Here we create an indvidual dictionary for all movies then append them into a list \n",
    "movies = []\n",
    "for movie in soup.find_all(\"div\", class_=\"lister-item-content\"):\n",
    "    title = movie.find(\"h3\").find(\"a\").string\n",
    "    duration = int(movie.find(class_=\"runtime\").string.strip(' min'))\n",
    "    year = int(re.search(r\"\\d{4}\", movie.find(class_=\"lister-item-year\").string).group(0))\n",
    "    movies.append({'title': title, 'duration': duration, 'year': year})\n",
    "print(movies[0:5])"
   ]
  },
  {
   "cell_type": "code",
   "execution_count": 23,
   "id": "fleet-leonard",
   "metadata": {},
   "outputs": [
    {
     "data": {
      "text/plain": [
       "50"
      ]
     },
     "execution_count": 23,
     "metadata": {},
     "output_type": "execute_result"
    }
   ],
   "source": [
    "# len = 50 dicts \n",
    "len(movies)"
   ]
  },
  {
   "cell_type": "code",
   "execution_count": 24,
   "id": "minus-palmer",
   "metadata": {},
   "outputs": [
    {
     "data": {
      "text/html": [
       "<div>\n",
       "<style scoped>\n",
       "    .dataframe tbody tr th:only-of-type {\n",
       "        vertical-align: middle;\n",
       "    }\n",
       "\n",
       "    .dataframe tbody tr th {\n",
       "        vertical-align: top;\n",
       "    }\n",
       "\n",
       "    .dataframe thead th {\n",
       "        text-align: right;\n",
       "    }\n",
       "</style>\n",
       "<table border=\"1\" class=\"dataframe\">\n",
       "  <thead>\n",
       "    <tr style=\"text-align: right;\">\n",
       "      <th></th>\n",
       "      <th>title</th>\n",
       "      <th>duration</th>\n",
       "      <th>year</th>\n",
       "    </tr>\n",
       "  </thead>\n",
       "  <tbody>\n",
       "    <tr>\n",
       "      <th>0</th>\n",
       "      <td>The Godfather</td>\n",
       "      <td>175</td>\n",
       "      <td>1972</td>\n",
       "    </tr>\n",
       "    <tr>\n",
       "      <th>1</th>\n",
       "      <td>Schindler's List</td>\n",
       "      <td>195</td>\n",
       "      <td>1993</td>\n",
       "    </tr>\n",
       "    <tr>\n",
       "      <th>2</th>\n",
       "      <td>12 Angry Men</td>\n",
       "      <td>96</td>\n",
       "      <td>1957</td>\n",
       "    </tr>\n",
       "    <tr>\n",
       "      <th>3</th>\n",
       "      <td>Life Is Beautiful</td>\n",
       "      <td>116</td>\n",
       "      <td>1997</td>\n",
       "    </tr>\n",
       "    <tr>\n",
       "      <th>4</th>\n",
       "      <td>The Good, the Bad and the Ugly</td>\n",
       "      <td>148</td>\n",
       "      <td>1966</td>\n",
       "    </tr>\n",
       "  </tbody>\n",
       "</table>\n",
       "</div>"
      ],
      "text/plain": [
       "                            title  duration  year\n",
       "0                   The Godfather       175  1972\n",
       "1                Schindler's List       195  1993\n",
       "2                    12 Angry Men        96  1957\n",
       "3               Life Is Beautiful       116  1997\n",
       "4  The Good, the Bad and the Ugly       148  1966"
      ]
     },
     "execution_count": 24,
     "metadata": {},
     "output_type": "execute_result"
    }
   ],
   "source": [
    "# and we can quickly convert to a dataframe\n",
    "movies_df = pd.DataFrame(movies)\n",
    "movies_df.head()"
   ]
  },
  {
   "cell_type": "code",
   "execution_count": 25,
   "id": "approved-watershed",
   "metadata": {},
   "outputs": [
    {
     "name": "stdout",
     "output_type": "stream",
     "text": [
      "['The Godfather', \"Schindler's List\", '12 Angry Men']\n",
      "dict_keys(['title', 'duration', 'year'])\n"
     ]
    }
   ],
   "source": [
    "# SAME OPERATION but creating a dictionary of lists (each key holds a list of 50 items)\n",
    "movies_dict = {'title': [], 'duration': [], 'year': []}\n",
    "for movie in soup.find_all(\"div\", class_=\"lister-item-content\"):\n",
    "    movies_dict['title'].append(movie.find(\"h3\").find(\"a\").string)\n",
    "    movies_dict['duration'].append(int(movie.find(class_=\"runtime\").string.strip(' min')))\n",
    "    movies_dict['year'].append(int(re.search(r\"\\d{4}\", movie.find(class_=\"lister-item-year\").string).group(0)))\n",
    "print(movies_dict['title'][0:3])\n",
    "print(movies_dict.keys())"
   ]
  },
  {
   "cell_type": "code",
   "execution_count": 26,
   "id": "dense-logan",
   "metadata": {},
   "outputs": [
    {
     "data": {
      "text/html": [
       "<div>\n",
       "<style scoped>\n",
       "    .dataframe tbody tr th:only-of-type {\n",
       "        vertical-align: middle;\n",
       "    }\n",
       "\n",
       "    .dataframe tbody tr th {\n",
       "        vertical-align: top;\n",
       "    }\n",
       "\n",
       "    .dataframe thead th {\n",
       "        text-align: right;\n",
       "    }\n",
       "</style>\n",
       "<table border=\"1\" class=\"dataframe\">\n",
       "  <thead>\n",
       "    <tr style=\"text-align: right;\">\n",
       "      <th></th>\n",
       "      <th>title</th>\n",
       "      <th>duration</th>\n",
       "      <th>year</th>\n",
       "    </tr>\n",
       "  </thead>\n",
       "  <tbody>\n",
       "    <tr>\n",
       "      <th>0</th>\n",
       "      <td>The Godfather</td>\n",
       "      <td>175</td>\n",
       "      <td>1972</td>\n",
       "    </tr>\n",
       "    <tr>\n",
       "      <th>1</th>\n",
       "      <td>Schindler's List</td>\n",
       "      <td>195</td>\n",
       "      <td>1993</td>\n",
       "    </tr>\n",
       "    <tr>\n",
       "      <th>2</th>\n",
       "      <td>12 Angry Men</td>\n",
       "      <td>96</td>\n",
       "      <td>1957</td>\n",
       "    </tr>\n",
       "    <tr>\n",
       "      <th>3</th>\n",
       "      <td>Life Is Beautiful</td>\n",
       "      <td>116</td>\n",
       "      <td>1997</td>\n",
       "    </tr>\n",
       "    <tr>\n",
       "      <th>4</th>\n",
       "      <td>The Good, the Bad and the Ugly</td>\n",
       "      <td>148</td>\n",
       "      <td>1966</td>\n",
       "    </tr>\n",
       "  </tbody>\n",
       "</table>\n",
       "</div>"
      ],
      "text/plain": [
       "                            title  duration  year\n",
       "0                   The Godfather       175  1972\n",
       "1                Schindler's List       195  1993\n",
       "2                    12 Angry Men        96  1957\n",
       "3               Life Is Beautiful       116  1997\n",
       "4  The Good, the Bad and the Ugly       148  1966"
      ]
     },
     "execution_count": 26,
     "metadata": {},
     "output_type": "execute_result"
    }
   ],
   "source": [
    "# Now we use .from_dict to convert to dataframe\n",
    "movies_dict_df = pd.DataFrame.from_dict(movies_dict)\n",
    "movies_dict_df.head()"
   ]
  },
  {
   "cell_type": "markdown",
   "id": "listed-wrapping",
   "metadata": {},
   "source": [
    "## Multi-page scrape"
   ]
  },
  {
   "cell_type": "code",
   "execution_count": 28,
   "id": "regional-balloon",
   "metadata": {},
   "outputs": [],
   "source": [
    "# We want to keep our functions specific but re-usable\n",
    "# first function with fetch the entire page and turn it into a soup\n",
    "def fetch_page(page):\n",
    "    response = requests.get(\n",
    "        \"https://www.imdb.com/search/title/\",\n",
    "        params={\"groups\":\"top_250\", \"sort\":\"user_rating\",\"start\": (1 + page * 50)},\n",
    "        headers={\"Accept-Language\":\"en-US\"})\n",
    "    soup = BeautifulSoup(response.content, \"html.parser\")\n",
    "    return soup"
   ]
  },
  {
   "cell_type": "code",
   "execution_count": 29,
   "id": "given-equity",
   "metadata": {},
   "outputs": [],
   "source": [
    "# 2nd function will take that soup and pull out the individual movie attributes we want\n",
    "def parse_movies(soup):\n",
    "    movies = []\n",
    "    for movie in soup.find_all(\"div\", class_=\"lister-item-content\"):\n",
    "        title = movie.find(\"h3\").find(\"a\").string\n",
    "        duration = int(movie.find(class_=\"runtime\").string.strip(' min'))\n",
    "        year = int(re.search(r\"\\d{4}\", movie.find(class_=\"lister-item-year\").string).group(0))\n",
    "        movies.append({'title': title, 'duration': duration, 'year': year})\n",
    "    return movies"
   ]
  },
  {
   "cell_type": "code",
   "execution_count": 30,
   "id": "advance-pathology",
   "metadata": {},
   "outputs": [
    {
     "name": "stdout",
     "output_type": "stream",
     "text": [
      "Parsing page 1...\n",
      "Parsing page 2...\n",
      "Parsing page 3...\n",
      "Parsing page 4...\n",
      "Parsing page 5...\n",
      "Done\n"
     ]
    }
   ],
   "source": [
    "# Finally our script will loop through our desired range and call each function\n",
    "# using list concatenation for a single list of 250 dictionaries (.append will result in a list of 5 inner lists holding 50 movies each)\n",
    "all_movies = []\n",
    "for page in range(5):\n",
    "    print(f\"Parsing page {page + 1}...\")\n",
    "    soup = fetch_page(page)\n",
    "    all_movies += parse_movies(soup)\n",
    "print(\"Done\")"
   ]
  },
  {
   "cell_type": "code",
   "execution_count": 31,
   "id": "sharp-fifteen",
   "metadata": {},
   "outputs": [
    {
     "data": {
      "text/plain": [
       "250"
      ]
     },
     "execution_count": 31,
     "metadata": {},
     "output_type": "execute_result"
    }
   ],
   "source": [
    "len(all_movies)"
   ]
  },
  {
   "cell_type": "code",
   "execution_count": 33,
   "id": "assured-retreat",
   "metadata": {},
   "outputs": [
    {
     "data": {
      "text/html": [
       "<div>\n",
       "<style scoped>\n",
       "    .dataframe tbody tr th:only-of-type {\n",
       "        vertical-align: middle;\n",
       "    }\n",
       "\n",
       "    .dataframe tbody tr th {\n",
       "        vertical-align: top;\n",
       "    }\n",
       "\n",
       "    .dataframe thead th {\n",
       "        text-align: right;\n",
       "    }\n",
       "</style>\n",
       "<table border=\"1\" class=\"dataframe\">\n",
       "  <thead>\n",
       "    <tr style=\"text-align: right;\">\n",
       "      <th></th>\n",
       "      <th>title</th>\n",
       "      <th>duration</th>\n",
       "      <th>year</th>\n",
       "    </tr>\n",
       "  </thead>\n",
       "  <tbody>\n",
       "    <tr>\n",
       "      <th>245</th>\n",
       "      <td>Mr. Smith Goes to Washington</td>\n",
       "      <td>129</td>\n",
       "      <td>1939</td>\n",
       "    </tr>\n",
       "    <tr>\n",
       "      <th>246</th>\n",
       "      <td>Gone with the Wind</td>\n",
       "      <td>238</td>\n",
       "      <td>1939</td>\n",
       "    </tr>\n",
       "    <tr>\n",
       "      <th>247</th>\n",
       "      <td>It Happened One Night</td>\n",
       "      <td>105</td>\n",
       "      <td>1934</td>\n",
       "    </tr>\n",
       "    <tr>\n",
       "      <th>248</th>\n",
       "      <td>The Passion of Joan of Arc</td>\n",
       "      <td>114</td>\n",
       "      <td>1928</td>\n",
       "    </tr>\n",
       "    <tr>\n",
       "      <th>249</th>\n",
       "      <td>The General</td>\n",
       "      <td>67</td>\n",
       "      <td>1926</td>\n",
       "    </tr>\n",
       "  </tbody>\n",
       "</table>\n",
       "</div>"
      ],
      "text/plain": [
       "                            title  duration  year\n",
       "245  Mr. Smith Goes to Washington       129  1939\n",
       "246            Gone with the Wind       238  1939\n",
       "247         It Happened One Night       105  1934\n",
       "248    The Passion of Joan of Arc       114  1928\n",
       "249                   The General        67  1926"
      ]
     },
     "execution_count": 33,
     "metadata": {},
     "output_type": "execute_result"
    }
   ],
   "source": [
    "# Finally converting to a 250 movie dataframe\n",
    "all_movies_df = pd.DataFrame(all_movies)\n",
    "all_movies_df.tail()"
   ]
  },
  {
   "cell_type": "code",
   "execution_count": null,
   "id": "working-alberta",
   "metadata": {},
   "outputs": [],
   "source": []
  }
 ],
 "metadata": {
  "kernelspec": {
   "display_name": "Python 3",
   "language": "python",
   "name": "python3"
  },
  "language_info": {
   "codemirror_mode": {
    "name": "ipython",
    "version": 3
   },
   "file_extension": ".py",
   "mimetype": "text/x-python",
   "name": "python",
   "nbconvert_exporter": "python",
   "pygments_lexer": "ipython3",
   "version": "3.7.7"
  }
 },
 "nbformat": 4,
 "nbformat_minor": 5
}
