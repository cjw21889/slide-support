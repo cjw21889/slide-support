{
 "cells": [
  {
   "cell_type": "code",
   "execution_count": 1,
   "id": "scientific-henry",
   "metadata": {},
   "outputs": [],
   "source": [
    "import numpy as np"
   ]
  },
  {
   "cell_type": "code",
   "execution_count": 2,
   "id": "tribal-stupid",
   "metadata": {},
   "outputs": [],
   "source": [
    "# 2D ndarray of shape (10000, 10000) with random float in [0, 1] interval. That's 100M numbers!\n",
    "A = np.random.rand(10000, 10000)\n",
    "a = A.tolist()"
   ]
  },
  {
   "cell_type": "code",
   "execution_count": 3,
   "id": "freelance-gathering",
   "metadata": {},
   "outputs": [
    {
     "name": "stdout",
     "output_type": "stream",
     "text": [
      "CPU times: user 6.8 s, sys: 34.3 ms, total: 6.84 s\n",
      "Wall time: 6.92 s\n"
     ]
    },
    {
     "data": {
      "text/plain": [
       "50001019.75"
      ]
     },
     "execution_count": 3,
     "metadata": {},
     "output_type": "execute_result"
    }
   ],
   "source": [
    "%%time\n",
    "total = 0\n",
    "for row in a:\n",
    "    for n in row:\n",
    "        total += n\n",
    "round(total, 2)"
   ]
  },
  {
   "cell_type": "code",
   "execution_count": 4,
   "id": "waiting-benchmark",
   "metadata": {},
   "outputs": [
    {
     "name": "stdout",
     "output_type": "stream",
     "text": [
      "CPU times: user 86.1 ms, sys: 2.02 ms, total: 88.1 ms\n",
      "Wall time: 88.4 ms\n"
     ]
    },
    {
     "data": {
      "text/plain": [
       "50001019.75"
      ]
     },
     "execution_count": 4,
     "metadata": {},
     "output_type": "execute_result"
    }
   ],
   "source": [
    "%%time\n",
    "round(np.sum(A), 2)"
   ]
  },
  {
   "cell_type": "code",
   "execution_count": null,
   "id": "underlying-asthma",
   "metadata": {},
   "outputs": [],
   "source": []
  }
 ],
 "metadata": {
  "kernelspec": {
   "display_name": "Python 3",
   "language": "python",
   "name": "python3"
  },
  "language_info": {
   "codemirror_mode": {
    "name": "ipython",
    "version": 3
   },
   "file_extension": ".py",
   "mimetype": "text/x-python",
   "name": "python",
   "nbconvert_exporter": "python",
   "pygments_lexer": "ipython3",
   "version": "3.7.7"
  }
 },
 "nbformat": 4,
 "nbformat_minor": 5
}
