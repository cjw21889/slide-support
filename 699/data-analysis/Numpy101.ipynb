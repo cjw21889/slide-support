{
 "cells": [
  {
   "cell_type": "markdown",
   "id": "proprietary-toddler",
   "metadata": {},
   "source": [
    "# Numpy 101 "
   ]
  },
  {
   "cell_type": "code",
   "execution_count": 1,
   "id": "smart-midnight",
   "metadata": {
    "ExecuteTime": {
     "end_time": "2021-07-19T08:20:03.761067Z",
     "start_time": "2021-07-19T08:20:03.758747Z"
    }
   },
   "outputs": [],
   "source": [
    "import numpy as np # Canonical import"
   ]
  },
  {
   "cell_type": "markdown",
   "id": "stunning-taste",
   "metadata": {},
   "source": [
    "## Creating and indexing"
   ]
  },
  {
   "cell_type": "code",
   "execution_count": 2,
   "id": "square-interstate",
   "metadata": {
    "ExecuteTime": {
     "end_time": "2021-07-19T08:20:26.739849Z",
     "start_time": "2021-07-19T08:20:26.730524Z"
    }
   },
   "outputs": [
    {
     "name": "stdout",
     "output_type": "stream",
     "text": [
      "<class 'list'>\n"
     ]
    },
    {
     "data": {
      "text/plain": [
       "[[1, 2, 3], [4, 5, 6]]"
      ]
     },
     "execution_count": 2,
     "metadata": {},
     "output_type": "execute_result"
    }
   ],
   "source": [
    "# Here a classic python list of list\n",
    "l = [[1,2,3], [4,5,6]]\n",
    "print(type(l))\n",
    "l # list of list"
   ]
  },
  {
   "cell_type": "code",
   "execution_count": 11,
   "id": "ancient-kazakhstan",
   "metadata": {
    "ExecuteTime": {
     "end_time": "2021-07-19T08:24:22.462873Z",
     "start_time": "2021-07-19T08:24:22.457939Z"
    }
   },
   "outputs": [
    {
     "name": "stdout",
     "output_type": "stream",
     "text": [
      "<class 'numpy.ndarray'>\n"
     ]
    },
    {
     "data": {
      "text/plain": [
       "array([[1, 2, 3],\n",
       "       [4, 5, 6]])"
      ]
     },
     "execution_count": 11,
     "metadata": {},
     "output_type": "execute_result"
    }
   ],
   "source": [
    "# we can create it instead as an ndarray\n",
    "A = np.array([[1,2,3], [4,5,6]]) \n",
    "# or pass our list of list\n",
    "# A = np.array(l) \n",
    "\n",
    "print(type(A))\n",
    "A # ndarray"
   ]
  },
  {
   "cell_type": "code",
   "execution_count": 12,
   "id": "assured-relay",
   "metadata": {
    "ExecuteTime": {
     "end_time": "2021-07-19T08:24:23.137744Z",
     "start_time": "2021-07-19T08:24:23.134611Z"
    }
   },
   "outputs": [
    {
     "name": "stdout",
     "output_type": "stream",
     "text": [
      "A.ndim:  2\n",
      "A.shape: (2, 3)\n",
      "A.size:  6\n",
      "A.dtype: int64\n"
     ]
    }
   ],
   "source": [
    "# key Attributes of ndarrays\n",
    "print('A.ndim: ', A.ndim)\n",
    "print('A.shape:', A.shape)\n",
    "print('A.size: ', A.size)\n",
    "print('A.dtype:', A.dtype)"
   ]
  },
  {
   "cell_type": "code",
   "execution_count": 13,
   "id": "exempt-thickness",
   "metadata": {
    "ExecuteTime": {
     "end_time": "2021-07-19T08:24:43.639944Z",
     "start_time": "2021-07-19T08:24:43.635167Z"
    }
   },
   "outputs": [
    {
     "data": {
      "text/plain": [
       "array([[ 0,  1,  2,  3,  4],\n",
       "       [10, 11, 12, 13, 14],\n",
       "       [20, 21, 22, 23, 24],\n",
       "       [30, 31, 32, 33, 34],\n",
       "       [40, 41, 42, 43, 44]])"
      ]
     },
     "execution_count": 13,
     "metadata": {},
     "output_type": "execute_result"
    }
   ],
   "source": [
    "# lets build a 2D array from a list of list\n",
    "data_list = [\n",
    "    [ 0,  1,  2,  3,  4],\n",
    "    [10, 11, 12, 13, 14],\n",
    "    [20, 21, 22, 23, 24],\n",
    "    [30, 31, 32, 33, 34],\n",
    "    [40, 41, 42, 43, 44],\n",
    "]\n",
    "data_np = np.array(data_list)\n",
    "data_np"
   ]
  },
  {
   "cell_type": "markdown",
   "id": "sunset-casting",
   "metadata": {},
   "source": [
    "### Indexing a row"
   ]
  },
  {
   "cell_type": "code",
   "execution_count": 14,
   "id": "upset-inspection",
   "metadata": {
    "ExecuteTime": {
     "end_time": "2021-07-19T08:26:04.994524Z",
     "start_time": "2021-07-19T08:26:04.991484Z"
    }
   },
   "outputs": [
    {
     "data": {
      "text/plain": [
       "[21, 22, 23]"
      ]
     },
     "execution_count": 14,
     "metadata": {},
     "output_type": "execute_result"
    }
   ],
   "source": [
    "# Pure python\n",
    "data_list[2][1:4]"
   ]
  },
  {
   "cell_type": "code",
   "execution_count": 17,
   "id": "former-elizabeth",
   "metadata": {
    "ExecuteTime": {
     "end_time": "2021-07-19T08:27:41.629125Z",
     "start_time": "2021-07-19T08:27:41.625810Z"
    }
   },
   "outputs": [
    {
     "data": {
      "text/plain": [
       "array([21, 22, 23])"
      ]
     },
     "execution_count": 17,
     "metadata": {},
     "output_type": "execute_result"
    }
   ],
   "source": [
    "# NumPy\n",
    "data_np[2, 1:4] # data_np[row(s), column(s)]"
   ]
  },
  {
   "cell_type": "markdown",
   "id": "general-witch",
   "metadata": {},
   "source": [
    "### Indexing a column"
   ]
  },
  {
   "cell_type": "code",
   "execution_count": 18,
   "id": "funny-treasurer",
   "metadata": {
    "ExecuteTime": {
     "end_time": "2021-07-19T08:28:46.401335Z",
     "start_time": "2021-07-19T08:28:46.397635Z"
    }
   },
   "outputs": [
    {
     "data": {
      "text/plain": [
       "[14, 24, 34, 44]"
      ]
     },
     "execution_count": 18,
     "metadata": {},
     "output_type": "execute_result"
    }
   ],
   "source": [
    "# Pure python\n",
    "selection = []\n",
    "for index, row in enumerate(data_list):\n",
    "    if index > 0:\n",
    "        selection.append(row[4])\n",
    "selection # We could also have used a list comprehension for less lines"
   ]
  },
  {
   "cell_type": "code",
   "execution_count": 25,
   "id": "enclosed-distribution",
   "metadata": {
    "ExecuteTime": {
     "end_time": "2021-07-19T08:31:15.811523Z",
     "start_time": "2021-07-19T08:31:15.808430Z"
    }
   },
   "outputs": [
    {
     "data": {
      "text/plain": [
       "array([14, 24, 34, 44])"
      ]
     },
     "execution_count": 25,
     "metadata": {},
     "output_type": "execute_result"
    }
   ],
   "source": [
    "# NumPy\n",
    "data_np[1:, 4] # `1:` means from line 1 until the end."
   ]
  },
  {
   "cell_type": "markdown",
   "id": "sweet-hacker",
   "metadata": {},
   "source": [
    "### Indexing with a step"
   ]
  },
  {
   "cell_type": "code",
   "execution_count": 26,
   "id": "talented-metallic",
   "metadata": {
    "ExecuteTime": {
     "end_time": "2021-07-19T08:32:50.925592Z",
     "start_time": "2021-07-19T08:32:50.922079Z"
    }
   },
   "outputs": [
    {
     "data": {
      "text/plain": [
       "array([0, 1, 2, 3, 4, 5, 6, 7, 8, 9])"
      ]
     },
     "execution_count": 26,
     "metadata": {},
     "output_type": "execute_result"
    }
   ],
   "source": [
    "A = np.arange(0, 10)\n",
    "A"
   ]
  },
  {
   "cell_type": "code",
   "execution_count": 27,
   "id": "statewide-substance",
   "metadata": {
    "ExecuteTime": {
     "end_time": "2021-07-19T08:32:56.844926Z",
     "start_time": "2021-07-19T08:32:56.841567Z"
    }
   },
   "outputs": [
    {
     "data": {
      "text/plain": [
       "array([1, 3, 5])"
      ]
     },
     "execution_count": 27,
     "metadata": {},
     "output_type": "execute_result"
    }
   ],
   "source": [
    "A[1:7:2]"
   ]
  },
  {
   "cell_type": "markdown",
   "id": "pressing-notebook",
   "metadata": {},
   "source": [
    "## Vectorized Operations"
   ]
  },
  {
   "cell_type": "code",
   "execution_count": 43,
   "id": "southwest-fruit",
   "metadata": {
    "ExecuteTime": {
     "end_time": "2021-07-19T10:10:06.942543Z",
     "start_time": "2021-07-19T10:10:06.939297Z"
    }
   },
   "outputs": [],
   "source": [
    "my_list = [\n",
    "    [6, 5],\n",
    "    [1, 3],\n",
    "    [5, 6],\n",
    "    [1, 4],\n",
    "    [3, 7],\n",
    "    [5, 8],\n",
    "    [3, 5],\n",
    "    [8, 4],\n",
    "]"
   ]
  },
  {
   "cell_type": "code",
   "execution_count": 44,
   "id": "toxic-steel",
   "metadata": {
    "ExecuteTime": {
     "end_time": "2021-07-19T10:10:07.463506Z",
     "start_time": "2021-07-19T10:10:07.458883Z"
    }
   },
   "outputs": [
    {
     "data": {
      "text/plain": [
       "[11, 4, 11, 5, 10, 13, 8, 12]"
      ]
     },
     "execution_count": 44,
     "metadata": {},
     "output_type": "execute_result"
    }
   ],
   "source": [
    "# Python way\n",
    "sums = []\n",
    "for row in my_list:\n",
    "    sums.append(row[0] + row[1]) # standard integer \"+\" operator\n",
    "sums"
   ]
  },
  {
   "cell_type": "code",
   "execution_count": 45,
   "id": "recent-strand",
   "metadata": {
    "ExecuteTime": {
     "end_time": "2021-07-19T10:10:08.255421Z",
     "start_time": "2021-07-19T10:10:08.251020Z"
    }
   },
   "outputs": [
    {
     "data": {
      "text/plain": [
       "array([11,  4, 11,  5, 10, 13,  8, 12])"
      ]
     },
     "execution_count": 45,
     "metadata": {},
     "output_type": "execute_result"
    }
   ],
   "source": [
    "# Vectorized with slicing notation\n",
    "A = np.array(my_list)\n",
    "my_sum = A[:,0] + A[:,1] # Vectorial \"+\" operator\n",
    "my_sum"
   ]
  },
  {
   "cell_type": "code",
   "execution_count": 46,
   "id": "focused-register",
   "metadata": {
    "ExecuteTime": {
     "end_time": "2021-07-19T10:10:08.932271Z",
     "start_time": "2021-07-19T10:10:08.928754Z"
    }
   },
   "outputs": [
    {
     "data": {
      "text/plain": [
       "array([[6, 5],\n",
       "       [1, 3],\n",
       "       [5, 6],\n",
       "       [1, 4],\n",
       "       [3, 7],\n",
       "       [5, 8],\n",
       "       [3, 5],\n",
       "       [8, 4]])"
      ]
     },
     "execution_count": 46,
     "metadata": {},
     "output_type": "execute_result"
    }
   ],
   "source": [
    "A"
   ]
  },
  {
   "cell_type": "code",
   "execution_count": 47,
   "id": "soviet-pickup",
   "metadata": {
    "ExecuteTime": {
     "end_time": "2021-07-19T10:10:09.311673Z",
     "start_time": "2021-07-19T10:10:09.308174Z"
    }
   },
   "outputs": [
    {
     "data": {
      "text/plain": [
       "array([11,  4, 11,  5, 10, 13,  8, 12])"
      ]
     },
     "execution_count": 47,
     "metadata": {},
     "output_type": "execute_result"
    }
   ],
   "source": [
    "# Vectorized with axis notation\n",
    "# horizontal\n",
    "np.sum(A, axis=1)  # eq. to A[:,0] + A[:,1] + A[:,2] + ..."
   ]
  },
  {
   "cell_type": "code",
   "execution_count": 48,
   "id": "silver-drunk",
   "metadata": {
    "ExecuteTime": {
     "end_time": "2021-07-19T10:10:09.903561Z",
     "start_time": "2021-07-19T10:10:09.899613Z"
    }
   },
   "outputs": [
    {
     "data": {
      "text/plain": [
       "array([32, 42])"
      ]
     },
     "execution_count": 48,
     "metadata": {},
     "output_type": "execute_result"
    }
   ],
   "source": [
    "# Vertical\n",
    "np.sum(A, axis=0)  # eq. to A[:,0] + A[:,1] + A[:,2] + ..."
   ]
  },
  {
   "cell_type": "markdown",
   "id": "growing-gossip",
   "metadata": {},
   "source": [
    "## Boolean Indexing"
   ]
  },
  {
   "cell_type": "code",
   "execution_count": 34,
   "id": "creative-sweden",
   "metadata": {
    "ExecuteTime": {
     "end_time": "2021-07-19T08:44:59.333533Z",
     "start_time": "2021-07-19T08:44:59.330357Z"
    }
   },
   "outputs": [
    {
     "data": {
      "text/plain": [
       "array([[6, 5],\n",
       "       [1, 3],\n",
       "       [5, 6],\n",
       "       [1, 4],\n",
       "       [3, 7],\n",
       "       [5, 8],\n",
       "       [3, 5],\n",
       "       [8, 4]])"
      ]
     },
     "execution_count": 34,
     "metadata": {},
     "output_type": "execute_result"
    }
   ],
   "source": [
    "A"
   ]
  },
  {
   "cell_type": "code",
   "execution_count": 37,
   "id": "hundred-record",
   "metadata": {
    "ExecuteTime": {
     "end_time": "2021-07-19T08:47:33.151244Z",
     "start_time": "2021-07-19T08:47:33.148034Z"
    }
   },
   "outputs": [
    {
     "data": {
      "text/plain": [
       "array([[False, False],\n",
       "       [ True,  True],\n",
       "       [False, False],\n",
       "       [ True, False],\n",
       "       [ True, False],\n",
       "       [False, False],\n",
       "       [ True, False],\n",
       "       [False, False]])"
      ]
     },
     "execution_count": 37,
     "metadata": {},
     "output_type": "execute_result"
    }
   ],
   "source": [
    "# We can get our boolean mask with a comparison\n",
    "A < 4"
   ]
  },
  {
   "cell_type": "code",
   "execution_count": 49,
   "id": "attempted-hindu",
   "metadata": {
    "ExecuteTime": {
     "end_time": "2021-07-19T10:10:45.552013Z",
     "start_time": "2021-07-19T10:10:45.548390Z"
    }
   },
   "outputs": [
    {
     "data": {
      "text/plain": [
       "array([1, 3, 1, 3, 3])"
      ]
     },
     "execution_count": 49,
     "metadata": {},
     "output_type": "execute_result"
    }
   ],
   "source": [
    "# And index with that mask\n",
    "A[A < 4]"
   ]
  },
  {
   "cell_type": "code",
   "execution_count": 50,
   "id": "bacterial-closing",
   "metadata": {
    "ExecuteTime": {
     "end_time": "2021-07-19T10:10:57.367063Z",
     "start_time": "2021-07-19T10:10:57.364687Z"
    }
   },
   "outputs": [],
   "source": [
    "# Or reassign values with the mask\n",
    "A[A < 4] = 99"
   ]
  },
  {
   "cell_type": "code",
   "execution_count": 51,
   "id": "optimum-uzbekistan",
   "metadata": {
    "ExecuteTime": {
     "end_time": "2021-07-19T10:10:58.085939Z",
     "start_time": "2021-07-19T10:10:58.082317Z"
    }
   },
   "outputs": [
    {
     "data": {
      "text/plain": [
       "array([[ 6,  5],\n",
       "       [99, 99],\n",
       "       [ 5,  6],\n",
       "       [99,  4],\n",
       "       [99,  7],\n",
       "       [ 5,  8],\n",
       "       [99,  5],\n",
       "       [ 8,  4]])"
      ]
     },
     "execution_count": 51,
     "metadata": {},
     "output_type": "execute_result"
    }
   ],
   "source": [
    "A"
   ]
  }
 ],
 "metadata": {
  "kernelspec": {
   "display_name": "Python 3",
   "language": "python",
   "name": "python3"
  },
  "language_info": {
   "codemirror_mode": {
    "name": "ipython",
    "version": 3
   },
   "file_extension": ".py",
   "mimetype": "text/x-python",
   "name": "python",
   "nbconvert_exporter": "python",
   "pygments_lexer": "ipython3",
   "version": "3.7.7"
  },
  "toc": {
   "base_numbering": 1,
   "nav_menu": {},
   "number_sections": true,
   "sideBar": true,
   "skip_h1_title": false,
   "title_cell": "Table of Contents",
   "title_sidebar": "Contents",
   "toc_cell": false,
   "toc_position": {},
   "toc_section_display": true,
   "toc_window_display": false
  },
  "varInspector": {
   "cols": {
    "lenName": 16,
    "lenType": 16,
    "lenVar": 40
   },
   "kernels_config": {
    "python": {
     "delete_cmd_postfix": "",
     "delete_cmd_prefix": "del ",
     "library": "var_list.py",
     "varRefreshCmd": "print(var_dic_list())"
    },
    "r": {
     "delete_cmd_postfix": ") ",
     "delete_cmd_prefix": "rm(",
     "library": "var_list.r",
     "varRefreshCmd": "cat(var_dic_list()) "
    }
   },
   "types_to_exclude": [
    "module",
    "function",
    "builtin_function_or_method",
    "instance",
    "_Feature"
   ],
   "window_display": false
  }
 },
 "nbformat": 4,
 "nbformat_minor": 5
}
