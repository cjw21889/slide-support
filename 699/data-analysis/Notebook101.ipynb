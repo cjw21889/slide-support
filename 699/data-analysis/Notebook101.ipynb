{
 "cells": [
  {
   "cell_type": "code",
   "execution_count": 1,
   "id": "caroline-mining",
   "metadata": {
    "ExecuteTime": {
     "end_time": "2021-07-19T08:15:25.370295Z",
     "start_time": "2021-07-19T08:15:25.360215Z"
    }
   },
   "outputs": [
    {
     "data": {
      "text/plain": [
       "2"
      ]
     },
     "execution_count": 1,
     "metadata": {},
     "output_type": "execute_result"
    }
   ],
   "source": [
    "1 + 1"
   ]
  },
  {
   "cell_type": "markdown",
   "id": "measured-uniform",
   "metadata": {},
   "source": [
    "It's very easy to make some words **bold** and other words *italic* with Markdown. You can even [link to Google!](http://google.com)\n",
    "\n",
    "- here\n",
    "- is\n",
    "- my\n",
    "- list"
   ]
  },
  {
   "cell_type": "markdown",
   "id": "matched-inspector",
   "metadata": {},
   "source": [
    "# My First Heading"
   ]
  },
  {
   "cell_type": "markdown",
   "id": "positive-isaac",
   "metadata": {},
   "source": [
    "## Sub hedding "
   ]
  },
  {
   "cell_type": "markdown",
   "id": "saved-apache",
   "metadata": {},
   "source": [
    "### sub sub heading"
   ]
  },
  {
   "cell_type": "code",
   "execution_count": 2,
   "id": "living-effects",
   "metadata": {
    "ExecuteTime": {
     "end_time": "2021-07-19T08:15:25.607008Z",
     "start_time": "2021-07-19T08:15:25.486303Z"
    }
   },
   "outputs": [
    {
     "name": "stdout",
     "output_type": "stream",
     "text": [
      "/Users/chriswesterman/code/lewagon-teaching/slide-support/699/data-analysis\r\n"
     ]
    }
   ],
   "source": [
    "!pwd"
   ]
  },
  {
   "cell_type": "code",
   "execution_count": 3,
   "id": "central-aaron",
   "metadata": {
    "ExecuteTime": {
     "end_time": "2021-07-19T08:15:26.670696Z",
     "start_time": "2021-07-19T08:15:25.609354Z"
    }
   },
   "outputs": [
    {
     "name": "stdout",
     "output_type": "stream",
     "text": [
      "pandas==1.2.4\r\n",
      "pandas-gbq==0.15.0\r\n",
      "pandas-profiling==2.10.0\r\n"
     ]
    }
   ],
   "source": [
    "!pip freeze | grep pandas"
   ]
  },
  {
   "cell_type": "code",
   "execution_count": 4,
   "id": "proud-eight",
   "metadata": {
    "ExecuteTime": {
     "end_time": "2021-07-19T08:15:29.070690Z",
     "start_time": "2021-07-19T08:15:26.673335Z"
    }
   },
   "outputs": [
    {
     "name": "stdout",
     "output_type": "stream",
     "text": [
      "Requirement already satisfied: pandas in /Users/chriswesterman/.pyenv/versions/3.7.7/envs/lewagon/lib/python3.7/site-packages (1.2.4)\n",
      "Requirement already satisfied: python-dateutil>=2.7.3 in /Users/chriswesterman/.pyenv/versions/3.7.7/envs/lewagon/lib/python3.7/site-packages (from pandas) (2.8.1)\n",
      "Requirement already satisfied: pytz>=2017.3 in /Users/chriswesterman/.pyenv/versions/3.7.7/envs/lewagon/lib/python3.7/site-packages (from pandas) (2021.1)\n",
      "Requirement already satisfied: numpy>=1.16.5 in /Users/chriswesterman/.pyenv/versions/3.7.7/envs/lewagon/lib/python3.7/site-packages (from pandas) (1.18.5)\n",
      "Requirement already satisfied: six>=1.5 in /Users/chriswesterman/.pyenv/versions/3.7.7/envs/lewagon/lib/python3.7/site-packages (from python-dateutil>=2.7.3->pandas) (1.14.0)\n",
      "\u001b[33mWARNING: You are using pip version 21.1.2; however, version 21.1.3 is available.\n",
      "You should consider upgrading via the '/Users/chriswesterman/.pyenv/versions/3.7.7/envs/lewagon/bin/python3.7 -m pip install --upgrade pip' command.\u001b[0m\n"
     ]
    }
   ],
   "source": [
    "!pip install pandas"
   ]
  },
  {
   "cell_type": "code",
   "execution_count": 5,
   "id": "continued-alcohol",
   "metadata": {
    "ExecuteTime": {
     "end_time": "2021-07-19T08:15:29.076290Z",
     "start_time": "2021-07-19T08:15:29.073529Z"
    }
   },
   "outputs": [],
   "source": [
    "name = 'Chris'"
   ]
  },
  {
   "cell_type": "code",
   "execution_count": 6,
   "id": "nutritional-botswana",
   "metadata": {
    "ExecuteTime": {
     "end_time": "2021-07-19T08:15:29.080825Z",
     "start_time": "2021-07-19T08:15:29.078282Z"
    }
   },
   "outputs": [
    {
     "name": "stdout",
     "output_type": "stream",
     "text": [
      "Chris\n"
     ]
    }
   ],
   "source": [
    "print(name)"
   ]
  },
  {
   "cell_type": "code",
   "execution_count": 7,
   "id": "gorgeous-lobby",
   "metadata": {
    "ExecuteTime": {
     "end_time": "2021-07-19T08:15:29.084575Z",
     "start_time": "2021-07-19T08:15:29.082612Z"
    }
   },
   "outputs": [],
   "source": [
    "name = 'Jim'"
   ]
  },
  {
   "cell_type": "code",
   "execution_count": 8,
   "id": "political-casting",
   "metadata": {
    "ExecuteTime": {
     "end_time": "2021-07-19T08:15:29.089348Z",
     "start_time": "2021-07-19T08:15:29.086466Z"
    }
   },
   "outputs": [
    {
     "name": "stdout",
     "output_type": "stream",
     "text": [
      "Jim\n"
     ]
    }
   ],
   "source": [
    "print(name)"
   ]
  },
  {
   "cell_type": "code",
   "execution_count": null,
   "id": "emotional-employment",
   "metadata": {},
   "outputs": [],
   "source": []
  }
 ],
 "metadata": {
  "kernelspec": {
   "display_name": "Python 3",
   "language": "python",
   "name": "python3"
  },
  "language_info": {
   "codemirror_mode": {
    "name": "ipython",
    "version": 3
   },
   "file_extension": ".py",
   "mimetype": "text/x-python",
   "name": "python",
   "nbconvert_exporter": "python",
   "pygments_lexer": "ipython3",
   "version": "3.7.7"
  },
  "toc": {
   "base_numbering": 1,
   "nav_menu": {},
   "number_sections": true,
   "sideBar": true,
   "skip_h1_title": false,
   "title_cell": "Table of Contents",
   "title_sidebar": "Contents",
   "toc_cell": false,
   "toc_position": {
    "height": "calc(100% - 180px)",
    "left": "10px",
    "top": "150px",
    "width": "307.2px"
   },
   "toc_section_display": true,
   "toc_window_display": false
  },
  "varInspector": {
   "cols": {
    "lenName": 16,
    "lenType": 16,
    "lenVar": 40
   },
   "kernels_config": {
    "python": {
     "delete_cmd_postfix": "",
     "delete_cmd_prefix": "del ",
     "library": "var_list.py",
     "varRefreshCmd": "print(var_dic_list())"
    },
    "r": {
     "delete_cmd_postfix": ") ",
     "delete_cmd_prefix": "rm(",
     "library": "var_list.r",
     "varRefreshCmd": "cat(var_dic_list()) "
    }
   },
   "types_to_exclude": [
    "module",
    "function",
    "builtin_function_or_method",
    "instance",
    "_Feature"
   ],
   "window_display": false
  }
 },
 "nbformat": 4,
 "nbformat_minor": 5
}
