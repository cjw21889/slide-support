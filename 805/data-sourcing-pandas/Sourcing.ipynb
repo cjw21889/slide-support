{
 "cells": [
  {
   "cell_type": "code",
   "execution_count": 1,
   "id": "1e72170a-475a-4351-abd5-bd52ceeacd2a",
   "metadata": {},
   "outputs": [],
   "source": [
    "%load_ext autoreload\n",
    "%autoreload 2"
   ]
  },
  {
   "cell_type": "code",
   "execution_count": 2,
   "id": "dfc92595-b614-49b0-aba9-a8892126b98f",
   "metadata": {},
   "outputs": [],
   "source": [
    "import matplotlib\n",
    "%matplotlib inline\n",
    "import numpy as np\n",
    "import pandas as pd"
   ]
  },
  {
   "cell_type": "markdown",
   "id": "f2f96c3c-166f-4e36-bfe7-3af90c1f7943",
   "metadata": {},
   "source": [
    "## CSV"
   ]
  },
  {
   "cell_type": "code",
   "execution_count": 3,
   "id": "a05837eb-f8f4-42ae-84bb-1d396b960851",
   "metadata": {},
   "outputs": [],
   "source": [
    "tracks_df = pd.read_csv('data/spotify_2017.csv', usecols=['artists', 'name'])"
   ]
  },
  {
   "cell_type": "code",
   "execution_count": 4,
   "id": "a27f2970-f9e8-4645-8dd2-faa03a89038c",
   "metadata": {},
   "outputs": [
    {
     "data": {
      "text/html": [
       "<div>\n",
       "<style scoped>\n",
       "    .dataframe tbody tr th:only-of-type {\n",
       "        vertical-align: middle;\n",
       "    }\n",
       "\n",
       "    .dataframe tbody tr th {\n",
       "        vertical-align: top;\n",
       "    }\n",
       "\n",
       "    .dataframe thead th {\n",
       "        text-align: right;\n",
       "    }\n",
       "</style>\n",
       "<table border=\"1\" class=\"dataframe\">\n",
       "  <thead>\n",
       "    <tr style=\"text-align: right;\">\n",
       "      <th></th>\n",
       "      <th>name</th>\n",
       "      <th>artists</th>\n",
       "    </tr>\n",
       "  </thead>\n",
       "  <tbody>\n",
       "    <tr>\n",
       "      <th>0</th>\n",
       "      <td>Shape of You</td>\n",
       "      <td>Ed Sheeran</td>\n",
       "    </tr>\n",
       "    <tr>\n",
       "      <th>1</th>\n",
       "      <td>Despacito - Remix</td>\n",
       "      <td>Luis Fonsi</td>\n",
       "    </tr>\n",
       "    <tr>\n",
       "      <th>2</th>\n",
       "      <td>Despacito (Featuring Daddy Yankee)</td>\n",
       "      <td>Luis Fonsi</td>\n",
       "    </tr>\n",
       "    <tr>\n",
       "      <th>3</th>\n",
       "      <td>Something Just Like This</td>\n",
       "      <td>The Chainsmokers</td>\n",
       "    </tr>\n",
       "    <tr>\n",
       "      <th>4</th>\n",
       "      <td>I'm the One</td>\n",
       "      <td>DJ Khaled</td>\n",
       "    </tr>\n",
       "  </tbody>\n",
       "</table>\n",
       "</div>"
      ],
      "text/plain": [
       "                                 name           artists\n",
       "0                        Shape of You        Ed Sheeran\n",
       "1                   Despacito - Remix        Luis Fonsi\n",
       "2  Despacito (Featuring Daddy Yankee)        Luis Fonsi\n",
       "3            Something Just Like This  The Chainsmokers\n",
       "4                         I'm the One         DJ Khaled"
      ]
     },
     "execution_count": 4,
     "metadata": {},
     "output_type": "execute_result"
    }
   ],
   "source": [
    "tracks_df.head()"
   ]
  },
  {
   "cell_type": "markdown",
   "id": "b63bbfba-47cd-4887-8240-26f2410fc1f4",
   "metadata": {},
   "source": [
    "## API"
   ]
  },
  {
   "cell_type": "code",
   "execution_count": 5,
   "id": "0a8d76a7-85a8-4023-ae94-7c4d29aef504",
   "metadata": {},
   "outputs": [],
   "source": [
    "from music import fetch_lyrics"
   ]
  },
  {
   "cell_type": "code",
   "execution_count": 10,
   "id": "20a1006e-02b2-4576-a92b-57a528b75f47",
   "metadata": {},
   "outputs": [
    {
     "data": {
      "text/plain": [
       "''"
      ]
     },
     "execution_count": 10,
     "metadata": {},
     "output_type": "execute_result"
    }
   ],
   "source": [
    "fetch_lyrics('The Beatles', \"Wouldn't it be nice\")"
   ]
  },
  {
   "cell_type": "code",
   "execution_count": 25,
   "id": "89d93646-d28a-4c12-bf8c-7114964461d1",
   "metadata": {},
   "outputs": [
    {
     "name": "stdout",
     "output_type": "stream",
     "text": [
      "Fetching lyrics for Ed Sheeran - Shape of You\n",
      "Fetching lyrics for Luis Fonsi - Despacito - Remix\n",
      "Fetching lyrics for Luis Fonsi - Despacito (Featuring Daddy Yankee)\n",
      "Fetching lyrics for The Chainsmokers - Something Just Like This\n",
      "Fetching lyrics for DJ Khaled - I'm the One\n"
     ]
    }
   ],
   "source": [
    "%%time\n",
    "tracks_df['lyrics'] = \"\"\n",
    "for index, row in tracks_df.head(5).iterrows():\n",
    "    print(f\"Fetching lyrics for {row['artists']} - {row['name']}\")\n",
    "    lyrics = fetch_lyrics(row['artists'], row['name'])\n",
    "    tracks_df.loc[index,'lyrics'] = lyrics"
   ]
  },
  {
   "cell_type": "code",
   "execution_count": 16,
   "id": "b3043a3d-07c5-4aff-a7b5-e13c0b441e9e",
   "metadata": {},
   "outputs": [
    {
     "data": {
      "text/html": [
       "<div>\n",
       "<style scoped>\n",
       "    .dataframe tbody tr th:only-of-type {\n",
       "        vertical-align: middle;\n",
       "    }\n",
       "\n",
       "    .dataframe tbody tr th {\n",
       "        vertical-align: top;\n",
       "    }\n",
       "\n",
       "    .dataframe thead th {\n",
       "        text-align: right;\n",
       "    }\n",
       "</style>\n",
       "<table border=\"1\" class=\"dataframe\">\n",
       "  <thead>\n",
       "    <tr style=\"text-align: right;\">\n",
       "      <th></th>\n",
       "      <th>name</th>\n",
       "      <th>artists</th>\n",
       "      <th>lyrics</th>\n",
       "    </tr>\n",
       "  </thead>\n",
       "  <tbody>\n",
       "    <tr>\n",
       "      <th>0</th>\n",
       "      <td>Shape of You</td>\n",
       "      <td>Ed Sheeran</td>\n",
       "      <td>The club isn't the best place to find a lover\\...</td>\n",
       "    </tr>\n",
       "    <tr>\n",
       "      <th>1</th>\n",
       "      <td>Despacito - Remix</td>\n",
       "      <td>Luis Fonsi</td>\n",
       "      <td></td>\n",
       "    </tr>\n",
       "    <tr>\n",
       "      <th>2</th>\n",
       "      <td>Despacito (Featuring Daddy Yankee)</td>\n",
       "      <td>Luis Fonsi</td>\n",
       "      <td></td>\n",
       "    </tr>\n",
       "    <tr>\n",
       "      <th>3</th>\n",
       "      <td>Something Just Like This</td>\n",
       "      <td>The Chainsmokers</td>\n",
       "      <td>I've been reading books of old\\nThe legends an...</td>\n",
       "    </tr>\n",
       "    <tr>\n",
       "      <th>4</th>\n",
       "      <td>I'm the One</td>\n",
       "      <td>DJ Khaled</td>\n",
       "      <td>[DJ Khaled:]\\nWe The Best Music\\nAnother One!\\...</td>\n",
       "    </tr>\n",
       "  </tbody>\n",
       "</table>\n",
       "</div>"
      ],
      "text/plain": [
       "                                 name           artists  \\\n",
       "0                        Shape of You        Ed Sheeran   \n",
       "1                   Despacito - Remix        Luis Fonsi   \n",
       "2  Despacito (Featuring Daddy Yankee)        Luis Fonsi   \n",
       "3            Something Just Like This  The Chainsmokers   \n",
       "4                         I'm the One         DJ Khaled   \n",
       "\n",
       "                                              lyrics  \n",
       "0  The club isn't the best place to find a lover\\...  \n",
       "1                                                     \n",
       "2                                                     \n",
       "3  I've been reading books of old\\nThe legends an...  \n",
       "4  [DJ Khaled:]\\nWe The Best Music\\nAnother One!\\...  "
      ]
     },
     "execution_count": 16,
     "metadata": {},
     "output_type": "execute_result"
    }
   ],
   "source": [
    "tracks_df.head()"
   ]
  },
  {
   "cell_type": "code",
   "execution_count": 24,
   "id": "6454da2e-a74c-4742-bd5a-803005a2c150",
   "metadata": {},
   "outputs": [
    {
     "data": {
      "text/plain": [
       "'Shape of You'"
      ]
     },
     "execution_count": 24,
     "metadata": {},
     "output_type": "execute_result"
    }
   ],
   "source": [
    "tracks_df.loc[0,'name']"
   ]
  },
  {
   "cell_type": "markdown",
   "id": "045be227-2599-47ee-b85a-45489b2c5187",
   "metadata": {},
   "source": [
    "## SQL"
   ]
  },
  {
   "cell_type": "code",
   "execution_count": 26,
   "id": "e9eba9d9-201a-4b92-acf4-f133575cc8e1",
   "metadata": {},
   "outputs": [],
   "source": [
    "import pandas as pd\n",
    "import sqlite3\n",
    "conn = sqlite3.connect(\"data/soccer.sqlite\")"
   ]
  },
  {
   "cell_type": "code",
   "execution_count": 30,
   "id": "a7035be1-6e2c-452d-9703-e27ea8a49676",
   "metadata": {},
   "outputs": [
    {
     "name": "stdout",
     "output_type": "stream",
     "text": [
      "[(1, 'Belgium Jupiler League', 'Belgium'), (1729, 'England Premier League', 'England'), (4769, 'France Ligue 1', 'France'), (7809, 'Germany 1. Bundesliga', 'Germany'), (10257, 'Italy Serie A', 'Italy'), (13274, 'Netherlands Eredivisie', 'Netherlands'), (15722, 'Poland Ekstraklasa', 'Poland'), (17642, 'Portugal Liga ZON Sagres', 'Portugal'), (19694, 'Scotland Premier League', 'Scotland'), (21518, 'Spain LIGA BBVA', 'Spain'), (24558, 'Switzerland Super League', 'Switzerland')]\n"
     ]
    }
   ],
   "source": [
    "# OLD WAY\n",
    "cursor = conn.cursor()\n",
    "cursor.execute('''    SELECT l.id, l.name, c.name as country_name\n",
    "    FROM League l\n",
    "    JOIN Country c ON c.id = l.country_id''')\n",
    "print(cursor.fetchall())"
   ]
  },
  {
   "cell_type": "code",
   "execution_count": 28,
   "id": "bcbcd134-73dc-43a5-bb27-ce932c3ae91f",
   "metadata": {},
   "outputs": [],
   "source": [
    "# NEW WAY\n",
    "league_df = pd.read_sql(\n",
    "    '''\n",
    "    SELECT l.id, l.name, c.name as country_name\n",
    "    FROM League l\n",
    "    JOIN Country c ON c.id = l.country_id\n",
    "    ''', conn)"
   ]
  },
  {
   "cell_type": "code",
   "execution_count": 29,
   "id": "3a916068-1f6b-442d-b78c-a5b0de727419",
   "metadata": {},
   "outputs": [
    {
     "data": {
      "text/html": [
       "<div>\n",
       "<style scoped>\n",
       "    .dataframe tbody tr th:only-of-type {\n",
       "        vertical-align: middle;\n",
       "    }\n",
       "\n",
       "    .dataframe tbody tr th {\n",
       "        vertical-align: top;\n",
       "    }\n",
       "\n",
       "    .dataframe thead th {\n",
       "        text-align: right;\n",
       "    }\n",
       "</style>\n",
       "<table border=\"1\" class=\"dataframe\">\n",
       "  <thead>\n",
       "    <tr style=\"text-align: right;\">\n",
       "      <th></th>\n",
       "      <th>id</th>\n",
       "      <th>name</th>\n",
       "      <th>country_name</th>\n",
       "    </tr>\n",
       "  </thead>\n",
       "  <tbody>\n",
       "    <tr>\n",
       "      <th>0</th>\n",
       "      <td>1</td>\n",
       "      <td>Belgium Jupiler League</td>\n",
       "      <td>Belgium</td>\n",
       "    </tr>\n",
       "    <tr>\n",
       "      <th>1</th>\n",
       "      <td>1729</td>\n",
       "      <td>England Premier League</td>\n",
       "      <td>England</td>\n",
       "    </tr>\n",
       "    <tr>\n",
       "      <th>2</th>\n",
       "      <td>4769</td>\n",
       "      <td>France Ligue 1</td>\n",
       "      <td>France</td>\n",
       "    </tr>\n",
       "    <tr>\n",
       "      <th>3</th>\n",
       "      <td>7809</td>\n",
       "      <td>Germany 1. Bundesliga</td>\n",
       "      <td>Germany</td>\n",
       "    </tr>\n",
       "    <tr>\n",
       "      <th>4</th>\n",
       "      <td>10257</td>\n",
       "      <td>Italy Serie A</td>\n",
       "      <td>Italy</td>\n",
       "    </tr>\n",
       "    <tr>\n",
       "      <th>5</th>\n",
       "      <td>13274</td>\n",
       "      <td>Netherlands Eredivisie</td>\n",
       "      <td>Netherlands</td>\n",
       "    </tr>\n",
       "    <tr>\n",
       "      <th>6</th>\n",
       "      <td>15722</td>\n",
       "      <td>Poland Ekstraklasa</td>\n",
       "      <td>Poland</td>\n",
       "    </tr>\n",
       "    <tr>\n",
       "      <th>7</th>\n",
       "      <td>17642</td>\n",
       "      <td>Portugal Liga ZON Sagres</td>\n",
       "      <td>Portugal</td>\n",
       "    </tr>\n",
       "    <tr>\n",
       "      <th>8</th>\n",
       "      <td>19694</td>\n",
       "      <td>Scotland Premier League</td>\n",
       "      <td>Scotland</td>\n",
       "    </tr>\n",
       "    <tr>\n",
       "      <th>9</th>\n",
       "      <td>21518</td>\n",
       "      <td>Spain LIGA BBVA</td>\n",
       "      <td>Spain</td>\n",
       "    </tr>\n",
       "    <tr>\n",
       "      <th>10</th>\n",
       "      <td>24558</td>\n",
       "      <td>Switzerland Super League</td>\n",
       "      <td>Switzerland</td>\n",
       "    </tr>\n",
       "  </tbody>\n",
       "</table>\n",
       "</div>"
      ],
      "text/plain": [
       "       id                      name country_name\n",
       "0       1    Belgium Jupiler League      Belgium\n",
       "1    1729    England Premier League      England\n",
       "2    4769            France Ligue 1       France\n",
       "3    7809     Germany 1. Bundesliga      Germany\n",
       "4   10257             Italy Serie A        Italy\n",
       "5   13274    Netherlands Eredivisie  Netherlands\n",
       "6   15722        Poland Ekstraklasa       Poland\n",
       "7   17642  Portugal Liga ZON Sagres     Portugal\n",
       "8   19694   Scotland Premier League     Scotland\n",
       "9   21518           Spain LIGA BBVA        Spain\n",
       "10  24558  Switzerland Super League  Switzerland"
      ]
     },
     "execution_count": 29,
     "metadata": {},
     "output_type": "execute_result"
    }
   ],
   "source": [
    "league_df"
   ]
  },
  {
   "cell_type": "markdown",
   "id": "5a798d51-e7d7-4fb0-8eeb-df1e554cfccb",
   "metadata": {},
   "source": [
    "## Google Big Query"
   ]
  },
  {
   "cell_type": "code",
   "execution_count": 31,
   "id": "acf84441-0ef6-4060-9538-606852a1ee4a",
   "metadata": {},
   "outputs": [],
   "source": [
    "import pandas_gbq"
   ]
  },
  {
   "cell_type": "code",
   "execution_count": 32,
   "id": "7695e3b7-9786-4082-b364-404bf1b9ba10",
   "metadata": {},
   "outputs": [
    {
     "name": "stderr",
     "output_type": "stream",
     "text": [
      "Downloading: 100%|██████████████████████| 5368/5368 [00:01<00:00, 5004.10rows/s]\n"
     ]
    }
   ],
   "source": [
    "project_id = 'bootcamps-august' # TODO: replace with your own!\n",
    "\n",
    "sql = \"\"\"\n",
    "SELECT faa_identifier, name, longitude, latitude, airport_type, service_city, country\n",
    "FROM `bigquery-public-data.faa.us_airports`\n",
    "WHERE airport_use = 'Public'\n",
    "\"\"\"\n",
    "airports_df = pandas_gbq.read_gbq(sql, project_id=project_id)"
   ]
  },
  {
   "cell_type": "code",
   "execution_count": 33,
   "id": "1fc19518-cdf8-4243-92c2-2362e2942116",
   "metadata": {},
   "outputs": [
    {
     "data": {
      "text/html": [
       "<div>\n",
       "<style scoped>\n",
       "    .dataframe tbody tr th:only-of-type {\n",
       "        vertical-align: middle;\n",
       "    }\n",
       "\n",
       "    .dataframe tbody tr th {\n",
       "        vertical-align: top;\n",
       "    }\n",
       "\n",
       "    .dataframe thead th {\n",
       "        text-align: right;\n",
       "    }\n",
       "</style>\n",
       "<table border=\"1\" class=\"dataframe\">\n",
       "  <thead>\n",
       "    <tr style=\"text-align: right;\">\n",
       "      <th></th>\n",
       "      <th>faa_identifier</th>\n",
       "      <th>name</th>\n",
       "      <th>longitude</th>\n",
       "      <th>latitude</th>\n",
       "      <th>airport_type</th>\n",
       "      <th>service_city</th>\n",
       "      <th>country</th>\n",
       "    </tr>\n",
       "  </thead>\n",
       "  <tbody>\n",
       "    <tr>\n",
       "      <th>0</th>\n",
       "      <td>X01</td>\n",
       "      <td>Everglades Arpk</td>\n",
       "      <td>-81.390281</td>\n",
       "      <td>25.848866</td>\n",
       "      <td>Aerodome</td>\n",
       "      <td>Everglades</td>\n",
       "      <td>United States</td>\n",
       "    </tr>\n",
       "    <tr>\n",
       "      <th>1</th>\n",
       "      <td>0C8</td>\n",
       "      <td>Cushing Fld Ltd</td>\n",
       "      <td>-88.605635</td>\n",
       "      <td>41.519483</td>\n",
       "      <td>Aerodome</td>\n",
       "      <td>Newark</td>\n",
       "      <td>United States</td>\n",
       "    </tr>\n",
       "    <tr>\n",
       "      <th>2</th>\n",
       "      <td>7L8</td>\n",
       "      <td>Post-Air</td>\n",
       "      <td>-86.013876</td>\n",
       "      <td>39.750050</td>\n",
       "      <td>Aerodome</td>\n",
       "      <td>Indianapolis</td>\n",
       "      <td>United States</td>\n",
       "    </tr>\n",
       "    <tr>\n",
       "      <th>3</th>\n",
       "      <td>71K</td>\n",
       "      <td>Westport</td>\n",
       "      <td>-97.383702</td>\n",
       "      <td>37.647701</td>\n",
       "      <td>Aerodome</td>\n",
       "      <td>Wichita</td>\n",
       "      <td>United States</td>\n",
       "    </tr>\n",
       "    <tr>\n",
       "      <th>4</th>\n",
       "      <td>2M7</td>\n",
       "      <td>Hoffman's Black Mountain Aerodrome</td>\n",
       "      <td>-84.308061</td>\n",
       "      <td>45.531953</td>\n",
       "      <td>Aerodome</td>\n",
       "      <td>Cheboygan</td>\n",
       "      <td>United States</td>\n",
       "    </tr>\n",
       "  </tbody>\n",
       "</table>\n",
       "</div>"
      ],
      "text/plain": [
       "  faa_identifier                                name  longitude   latitude  \\\n",
       "0            X01                     Everglades Arpk -81.390281  25.848866   \n",
       "1            0C8                     Cushing Fld Ltd -88.605635  41.519483   \n",
       "2            7L8                            Post-Air -86.013876  39.750050   \n",
       "3            71K                            Westport -97.383702  37.647701   \n",
       "4            2M7  Hoffman's Black Mountain Aerodrome -84.308061  45.531953   \n",
       "\n",
       "  airport_type  service_city        country  \n",
       "0     Aerodome    Everglades  United States  \n",
       "1     Aerodome        Newark  United States  \n",
       "2     Aerodome  Indianapolis  United States  \n",
       "3     Aerodome       Wichita  United States  \n",
       "4     Aerodome     Cheboygan  United States  "
      ]
     },
     "execution_count": 33,
     "metadata": {},
     "output_type": "execute_result"
    }
   ],
   "source": [
    "airports_df.head()"
   ]
  },
  {
   "cell_type": "markdown",
   "id": "b37fee86-deb0-4dd5-9971-de91be080c94",
   "metadata": {},
   "source": [
    "## Scraping"
   ]
  },
  {
   "cell_type": "code",
   "execution_count": 34,
   "id": "7a798d2b-1731-48a4-908d-5946656e3394",
   "metadata": {},
   "outputs": [],
   "source": [
    "import requests\n",
    "from bs4 import BeautifulSoup\n",
    "import re"
   ]
  },
  {
   "cell_type": "code",
   "execution_count": 35,
   "id": "6f82ce9c-e2f9-4248-a846-b6836c3da3dd",
   "metadata": {},
   "outputs": [],
   "source": [
    "url = 'https://www.imdb.com/list/ls055386972/'\n",
    "response = requests.get(url)"
   ]
  },
  {
   "cell_type": "code",
   "execution_count": 41,
   "id": "f12c49ae-bc0a-49d1-a178-f03ed03cadfe",
   "metadata": {},
   "outputs": [],
   "source": [
    "soup = BeautifulSoup(response.content, 'html.parser')"
   ]
  },
  {
   "cell_type": "code",
   "execution_count": 43,
   "id": "56f47614-6174-4462-9154-4852b4456926",
   "metadata": {},
   "outputs": [],
   "source": [
    "movies_raw = soup.find_all('div', class_='lister-item-content')"
   ]
  },
  {
   "cell_type": "code",
   "execution_count": 59,
   "id": "007542b7-2f6e-48d4-b087-2c33febc7da4",
   "metadata": {},
   "outputs": [],
   "source": [
    "movies = []\n",
    "for movie in movies_raw:\n",
    "    title = movie.find('h3', class_='lister-item-header').find('a').string\n",
    "    runtime = int(movie.find('span', class_='runtime').string.strip(' min'))\n",
    "    year = int(re.search('\\d{4}', movie.find('span', class_='lister-item-year').string).group(0))\n",
    "    movies.append({'title': title, 'runtime': runtime, 'year':year})"
   ]
  },
  {
   "cell_type": "code",
   "execution_count": 61,
   "id": "7b9664c0-0671-4955-a0a5-9037603908f4",
   "metadata": {},
   "outputs": [],
   "source": [
    "movies_df = pd.DataFrame(movies)"
   ]
  },
  {
   "cell_type": "code",
   "execution_count": 62,
   "id": "fc3d4f22-891e-4c59-8b5f-eab01426240e",
   "metadata": {},
   "outputs": [
    {
     "data": {
      "text/html": [
       "<div>\n",
       "<style scoped>\n",
       "    .dataframe tbody tr th:only-of-type {\n",
       "        vertical-align: middle;\n",
       "    }\n",
       "\n",
       "    .dataframe tbody tr th {\n",
       "        vertical-align: top;\n",
       "    }\n",
       "\n",
       "    .dataframe thead th {\n",
       "        text-align: right;\n",
       "    }\n",
       "</style>\n",
       "<table border=\"1\" class=\"dataframe\">\n",
       "  <thead>\n",
       "    <tr style=\"text-align: right;\">\n",
       "      <th></th>\n",
       "      <th>title</th>\n",
       "      <th>runtime</th>\n",
       "      <th>year</th>\n",
       "    </tr>\n",
       "  </thead>\n",
       "  <tbody>\n",
       "    <tr>\n",
       "      <th>0</th>\n",
       "      <td>The Godfather</td>\n",
       "      <td>175</td>\n",
       "      <td>1972</td>\n",
       "    </tr>\n",
       "    <tr>\n",
       "      <th>1</th>\n",
       "      <td>Schindler's List</td>\n",
       "      <td>195</td>\n",
       "      <td>1993</td>\n",
       "    </tr>\n",
       "    <tr>\n",
       "      <th>2</th>\n",
       "      <td>12 Angry Men</td>\n",
       "      <td>96</td>\n",
       "      <td>1957</td>\n",
       "    </tr>\n",
       "    <tr>\n",
       "      <th>3</th>\n",
       "      <td>Life Is Beautiful</td>\n",
       "      <td>116</td>\n",
       "      <td>1997</td>\n",
       "    </tr>\n",
       "    <tr>\n",
       "      <th>4</th>\n",
       "      <td>The Good, the Bad and the Ugly</td>\n",
       "      <td>148</td>\n",
       "      <td>1966</td>\n",
       "    </tr>\n",
       "  </tbody>\n",
       "</table>\n",
       "</div>"
      ],
      "text/plain": [
       "                            title  runtime  year\n",
       "0                   The Godfather      175  1972\n",
       "1                Schindler's List      195  1993\n",
       "2                    12 Angry Men       96  1957\n",
       "3               Life Is Beautiful      116  1997\n",
       "4  The Good, the Bad and the Ugly      148  1966"
      ]
     },
     "execution_count": 62,
     "metadata": {},
     "output_type": "execute_result"
    }
   ],
   "source": [
    "movies_df.head()"
   ]
  },
  {
   "cell_type": "code",
   "execution_count": 63,
   "id": "4beca6a2-3579-45c1-bb8c-e5cdfcb7cd95",
   "metadata": {},
   "outputs": [],
   "source": [
    "def fetch_page(page):\n",
    "    response = requests.get(\n",
    "        \"https://www.imdb.com/search/title/\",\n",
    "        params={\"groups\":\"top_250\", \"sort\":\"user_rating\",\"start\": (1 + page * 50)})\n",
    "    soup = BeautifulSoup(response.content, \"html.parser\")\n",
    "    return soup"
   ]
  },
  {
   "cell_type": "code",
   "execution_count": 64,
   "id": "a5b28dc5-5a31-499f-9706-cf8d6b7e479e",
   "metadata": {},
   "outputs": [],
   "source": [
    "def parse_movies(soup):\n",
    "    movies = []\n",
    "    for movie in soup.find_all(\"div\", class_=\"lister-item-content\"):\n",
    "        title = movie.find(\"h3\").find(\"a\").string\n",
    "        duration = int(movie.find(class_=\"runtime\").string.strip(' min'))\n",
    "        year = int(re.search(r\"\\d{4}\", movie.find(class_=\"lister-item-year\").string).group(0))\n",
    "        movies.append({'title': title, 'duration': duration, 'year': year})\n",
    "    return movies"
   ]
  },
  {
   "cell_type": "code",
   "execution_count": 65,
   "id": "a238ed60-3c07-42b0-81dc-4200fdd0131d",
   "metadata": {},
   "outputs": [
    {
     "name": "stdout",
     "output_type": "stream",
     "text": [
      "Parsing page 1...\n",
      "Parsing page 2...\n",
      "Parsing page 3...\n",
      "Parsing page 4...\n",
      "Parsing page 5...\n",
      "Done\n"
     ]
    }
   ],
   "source": [
    "all_movies = []\n",
    "for page in range(5):\n",
    "    print(f\"Parsing page {page + 1}...\")\n",
    "    soup = fetch_page(page)\n",
    "    all_movies += parse_movies(soup)\n",
    "print(\"Done\")"
   ]
  },
  {
   "cell_type": "code",
   "execution_count": 69,
   "id": "3c84030a-3ed7-412b-ba6c-1e331af19f0a",
   "metadata": {},
   "outputs": [],
   "source": [
    "all_movies_df = pd.DataFrame(all_movies)"
   ]
  },
  {
   "cell_type": "code",
   "execution_count": 71,
   "id": "af79aaff-1781-4cd7-8349-afdc3429c7d7",
   "metadata": {},
   "outputs": [
    {
     "data": {
      "text/plain": [
       "array([[<AxesSubplot:title={'center':'duration'}>,\n",
       "        <AxesSubplot:title={'center':'year'}>]], dtype=object)"
      ]
     },
     "execution_count": 71,
     "metadata": {},
     "output_type": "execute_result"
    },
    {
     "data": {
      "image/png": "[encoded data removed]",
      "text/plain": [
       "<Figure size 864x288 with 2 Axes>"
      ]
     },
     "metadata": {
      "needs_background": "light"
     },
     "output_type": "display_data"
    }
   ],
   "source": [
    "all_movies_df.hist(grid=False, bins=12, figsize=(12, 4))\n"
   ]
  },
  {
   "cell_type": "code",
   "execution_count": null,
   "id": "af4b5451-eb3c-40d6-87fe-850d85728855",
   "metadata": {},
   "outputs": [],
   "source": []
  }
 ],
 "metadata": {
  "kernelspec": {
   "display_name": "lw3.8.12",
   "language": "python",
   "name": "lw3.8.12"
  },
  "language_info": {
   "codemirror_mode": {
    "name": "ipython",
    "version": 3
   },
   "file_extension": ".py",
   "mimetype": "text/x-python",
   "name": "python",
   "nbconvert_exporter": "python",
   "pygments_lexer": "ipython3",
   "version": "3.8.12"
  }
 },
 "nbformat": 4,
 "nbformat_minor": 5
}
